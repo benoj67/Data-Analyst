{
 "cells": [
  {
   "cell_type": "code",
   "execution_count": 1,
   "id": "2cd88ee3",
   "metadata": {},
   "outputs": [],
   "source": [
    "import pandas as pd"
   ]
  },
  {
   "cell_type": "code",
   "execution_count": 2,
   "id": "817fa6ed",
   "metadata": {},
   "outputs": [],
   "source": [
    "import os\n",
    "from os.path import curdir\n",
    "xl_path = os.path.join(curdir,'Data','banks.csv')"
   ]
  },
  {
   "cell_type": "code",
   "execution_count": 3,
   "id": "93064aa4",
   "metadata": {},
   "outputs": [
    {
     "data": {
      "text/html": [
       "<div>\n",
       "<style scoped>\n",
       "    .dataframe tbody tr th:only-of-type {\n",
       "        vertical-align: middle;\n",
       "    }\n",
       "\n",
       "    .dataframe tbody tr th {\n",
       "        vertical-align: top;\n",
       "    }\n",
       "\n",
       "    .dataframe thead th {\n",
       "        text-align: right;\n",
       "    }\n",
       "</style>\n",
       "<table border=\"1\" class=\"dataframe\">\n",
       "  <thead>\n",
       "    <tr style=\"text-align: right;\">\n",
       "      <th></th>\n",
       "      <th>Financial Condition</th>\n",
       "      <th>TotCap/Assets</th>\n",
       "      <th>TotExp/Assets</th>\n",
       "      <th>TotLns&amp;Lses/Assets</th>\n",
       "    </tr>\n",
       "    <tr>\n",
       "      <th>Obs</th>\n",
       "      <th></th>\n",
       "      <th></th>\n",
       "      <th></th>\n",
       "      <th></th>\n",
       "    </tr>\n",
       "  </thead>\n",
       "  <tbody>\n",
       "    <tr>\n",
       "      <th>1</th>\n",
       "      <td>1</td>\n",
       "      <td>9.7</td>\n",
       "      <td>0.12</td>\n",
       "      <td>0.65</td>\n",
       "    </tr>\n",
       "    <tr>\n",
       "      <th>2</th>\n",
       "      <td>1</td>\n",
       "      <td>1.0</td>\n",
       "      <td>0.11</td>\n",
       "      <td>0.62</td>\n",
       "    </tr>\n",
       "    <tr>\n",
       "      <th>3</th>\n",
       "      <td>1</td>\n",
       "      <td>6.9</td>\n",
       "      <td>0.09</td>\n",
       "      <td>1.02</td>\n",
       "    </tr>\n",
       "    <tr>\n",
       "      <th>4</th>\n",
       "      <td>1</td>\n",
       "      <td>5.8</td>\n",
       "      <td>0.10</td>\n",
       "      <td>0.67</td>\n",
       "    </tr>\n",
       "    <tr>\n",
       "      <th>5</th>\n",
       "      <td>1</td>\n",
       "      <td>4.3</td>\n",
       "      <td>0.11</td>\n",
       "      <td>0.69</td>\n",
       "    </tr>\n",
       "  </tbody>\n",
       "</table>\n",
       "</div>"
      ],
      "text/plain": [
       "     Financial Condition  TotCap/Assets  TotExp/Assets  TotLns&Lses/Assets\n",
       "Obs                                                                       \n",
       "1                      1            9.7           0.12                0.65\n",
       "2                      1            1.0           0.11                0.62\n",
       "3                      1            6.9           0.09                1.02\n",
       "4                      1            5.8           0.10                0.67\n",
       "5                      1            4.3           0.11                0.69"
      ]
     },
     "execution_count": 3,
     "metadata": {},
     "output_type": "execute_result"
    }
   ],
   "source": [
    "df = pd.read_csv(xl_path,header='infer',index_col='Obs')\n",
    "df.head()"
   ]
  },
  {
   "cell_type": "code",
   "execution_count": 4,
   "id": "f5cfb865",
   "metadata": {},
   "outputs": [
    {
     "data": {
      "text/html": [
       "<div>\n",
       "<style scoped>\n",
       "    .dataframe tbody tr th:only-of-type {\n",
       "        vertical-align: middle;\n",
       "    }\n",
       "\n",
       "    .dataframe tbody tr th {\n",
       "        vertical-align: top;\n",
       "    }\n",
       "\n",
       "    .dataframe thead th {\n",
       "        text-align: right;\n",
       "    }\n",
       "</style>\n",
       "<table border=\"1\" class=\"dataframe\">\n",
       "  <thead>\n",
       "    <tr style=\"text-align: right;\">\n",
       "      <th></th>\n",
       "      <th>Financial Condition</th>\n",
       "      <th>TotCap/Assets</th>\n",
       "      <th>TotExp/Assets</th>\n",
       "      <th>TotLns&amp;Lses/Assets</th>\n",
       "    </tr>\n",
       "  </thead>\n",
       "  <tbody>\n",
       "    <tr>\n",
       "      <th>count</th>\n",
       "      <td>20.000000</td>\n",
       "      <td>20.000000</td>\n",
       "      <td>20.000000</td>\n",
       "      <td>20.000000</td>\n",
       "    </tr>\n",
       "    <tr>\n",
       "      <th>mean</th>\n",
       "      <td>0.500000</td>\n",
       "      <td>9.320000</td>\n",
       "      <td>0.104500</td>\n",
       "      <td>0.628500</td>\n",
       "    </tr>\n",
       "    <tr>\n",
       "      <th>std</th>\n",
       "      <td>0.512989</td>\n",
       "      <td>4.797214</td>\n",
       "      <td>0.026052</td>\n",
       "      <td>0.159779</td>\n",
       "    </tr>\n",
       "    <tr>\n",
       "      <th>min</th>\n",
       "      <td>0.000000</td>\n",
       "      <td>1.000000</td>\n",
       "      <td>0.070000</td>\n",
       "      <td>0.300000</td>\n",
       "    </tr>\n",
       "    <tr>\n",
       "      <th>25%</th>\n",
       "      <td>0.000000</td>\n",
       "      <td>7.125000</td>\n",
       "      <td>0.080000</td>\n",
       "      <td>0.525000</td>\n",
       "    </tr>\n",
       "    <tr>\n",
       "      <th>50%</th>\n",
       "      <td>0.500000</td>\n",
       "      <td>9.200000</td>\n",
       "      <td>0.100000</td>\n",
       "      <td>0.640000</td>\n",
       "    </tr>\n",
       "    <tr>\n",
       "      <th>75%</th>\n",
       "      <td>1.000000</td>\n",
       "      <td>11.300000</td>\n",
       "      <td>0.120000</td>\n",
       "      <td>0.722500</td>\n",
       "    </tr>\n",
       "    <tr>\n",
       "      <th>max</th>\n",
       "      <td>1.000000</td>\n",
       "      <td>20.500000</td>\n",
       "      <td>0.160000</td>\n",
       "      <td>1.020000</td>\n",
       "    </tr>\n",
       "  </tbody>\n",
       "</table>\n",
       "</div>"
      ],
      "text/plain": [
       "       Financial Condition  TotCap/Assets  TotExp/Assets  TotLns&Lses/Assets\n",
       "count            20.000000      20.000000      20.000000           20.000000\n",
       "mean              0.500000       9.320000       0.104500            0.628500\n",
       "std               0.512989       4.797214       0.026052            0.159779\n",
       "min               0.000000       1.000000       0.070000            0.300000\n",
       "25%               0.000000       7.125000       0.080000            0.525000\n",
       "50%               0.500000       9.200000       0.100000            0.640000\n",
       "75%               1.000000      11.300000       0.120000            0.722500\n",
       "max               1.000000      20.500000       0.160000            1.020000"
      ]
     },
     "execution_count": 4,
     "metadata": {},
     "output_type": "execute_result"
    }
   ],
   "source": [
    "df.describe()"
   ]
  },
  {
   "cell_type": "code",
   "execution_count": 5,
   "id": "9b030eb5",
   "metadata": {},
   "outputs": [
    {
     "data": {
      "text/plain": [
       "Financial Condition    0\n",
       "TotCap/Assets          0\n",
       "TotExp/Assets          0\n",
       "TotLns&Lses/Assets     0\n",
       "dtype: int64"
      ]
     },
     "execution_count": 5,
     "metadata": {},
     "output_type": "execute_result"
    }
   ],
   "source": [
    "#Check if there is null data in the dataset\n",
    "df.isna().sum()"
   ]
  },
  {
   "cell_type": "code",
   "execution_count": 6,
   "id": "88eeee6f",
   "metadata": {},
   "outputs": [
    {
     "data": {
      "text/plain": [
       "Financial Condition      int64\n",
       "TotCap/Assets          float64\n",
       "TotExp/Assets          float64\n",
       "TotLns&Lses/Assets     float64\n",
       "dtype: object"
      ]
     },
     "execution_count": 6,
     "metadata": {},
     "output_type": "execute_result"
    }
   ],
   "source": [
    "df.dtypes"
   ]
  },
  {
   "cell_type": "code",
   "execution_count": 7,
   "id": "c2826122",
   "metadata": {},
   "outputs": [
    {
     "data": {
      "text/plain": [
       "Index(['Financial Condition', 'TotCap/Assets', 'TotExp/Assets',\n",
       "       'TotLns&Lses/Assets'],\n",
       "      dtype='object')"
      ]
     },
     "execution_count": 7,
     "metadata": {},
     "output_type": "execute_result"
    }
   ],
   "source": [
    "df.columns"
   ]
  },
  {
   "cell_type": "code",
   "execution_count": 8,
   "id": "9f78c994",
   "metadata": {},
   "outputs": [
    {
     "data": {
      "text/plain": [
       "array([1, 0], dtype=int64)"
      ]
     },
     "execution_count": 8,
     "metadata": {},
     "output_type": "execute_result"
    }
   ],
   "source": [
    "df['Financial Condition'].unique()"
   ]
  },
  {
   "cell_type": "code",
   "execution_count": 9,
   "id": "a8017674",
   "metadata": {},
   "outputs": [],
   "source": [
    "from sklearn.model_selection import train_test_split\n",
    "y=df['Financial Condition']\n",
    "X=df.drop(columns=['Financial Condition','TotCap/Assets'])\n",
    "X_train, X_test, y_train, y_test = train_test_split(X,y,test_size=0.3, random_state=0)"
   ]
  },
  {
   "cell_type": "code",
   "execution_count": 10,
   "id": "d4df33a6",
   "metadata": {},
   "outputs": [
    {
     "data": {
      "text/plain": [
       "LogisticRegression(C=1e+42, solver='liblinear')"
      ]
     },
     "execution_count": 10,
     "metadata": {},
     "output_type": "execute_result"
    }
   ],
   "source": [
    "from sklearn.linear_model import LogisticRegression\n",
    "\n",
    "logit_reg = LogisticRegression(penalty=\"l2\", C=1e42, solver='liblinear')\n",
    "logit_reg.fit(X_train, y_train)"
   ]
  },
  {
   "cell_type": "code",
   "execution_count": 11,
   "id": "6365dff4",
   "metadata": {},
   "outputs": [
    {
     "name": "stdout",
     "output_type": "stream",
     "text": [
      "intercept  -12.519508398826535\n",
      "       TotExp/Assets  TotLns&Lses/Assets\n",
      "coeff      84.005065              6.2125\n",
      "AIC 14.276705583087743\n"
     ]
    }
   ],
   "source": [
    "from dmba.metric import AIC_score\n",
    "print('intercept ', logit_reg.intercept_[0])\n",
    "print(pd.DataFrame({'coeff': logit_reg.coef_[0]}, index=X.columns).transpose())\n",
    "print('AIC', AIC_score(y_test, logit_reg.predict(X_test), df = len(X_train.columns)\n",
    "+ 1))"
   ]
  },
  {
   "cell_type": "code",
   "execution_count": 12,
   "id": "a3e61d0c",
   "metadata": {},
   "outputs": [
    {
     "name": "stdout",
     "output_type": "stream",
     "text": [
      "                             OLS Regression Results                            \n",
      "===============================================================================\n",
      "Dep. Variable:     Financial Condition   R-squared:                       0.500\n",
      "Model:                             OLS   Adj. R-squared:                  0.409\n",
      "Method:                  Least Squares   F-statistic:                     5.501\n",
      "Date:                 Mon, 22 May 2023   Prob (F-statistic):             0.0221\n",
      "Time:                         14:01:53   Log-Likelihood:                -5.1642\n",
      "No. Observations:                   14   AIC:                             16.33\n",
      "Df Residuals:                       11   BIC:                             18.25\n",
      "Df Model:                            2                                         \n",
      "Covariance Type:             nonrobust                                         \n",
      "======================================================================================\n",
      "                         coef    std err          t      P>|t|      [0.025      0.975]\n",
      "--------------------------------------------------------------------------------------\n",
      "const                 -1.4490      0.628     -2.307      0.041      -2.831      -0.067\n",
      "TotExp/Assets         12.1409      4.435      2.738      0.019       2.380      21.902\n",
      "TotLns&Lses/Assets     1.1225      0.656      1.712      0.115      -0.321       2.566\n",
      "==============================================================================\n",
      "Omnibus:                        6.035   Durbin-Watson:                   2.185\n",
      "Prob(Omnibus):                  0.049   Jarque-Bera (JB):                2.981\n",
      "Skew:                          -1.045   Prob(JB):                        0.225\n",
      "Kurtosis:                       3.862   Cond. No.                         51.0\n",
      "==============================================================================\n",
      "\n",
      "Notes:\n",
      "[1] Standard Errors assume that the covariance matrix of the errors is correctly specified.\n"
     ]
    },
    {
     "name": "stderr",
     "output_type": "stream",
     "text": [
      "C:\\Users\\simon\\anaconda3\\lib\\site-packages\\scipy\\stats\\_stats_py.py:1769: UserWarning: kurtosistest only valid for n>=20 ... continuing anyway, n=14\n",
      "  warnings.warn(\"kurtosistest only valid for n>=20 ... continuing \"\n"
     ]
    }
   ],
   "source": [
    "#linear model\n",
    "\n",
    "import statsmodels.api as sm\n",
    "from statsmodels.formula.api import ols\n",
    "\n",
    "X_train_1 = sm.add_constant(X_train)\n",
    "\n",
    "model = sm.OLS(y_train, X_train_1).fit()\n",
    "print(model.summary())"
   ]
  },
  {
   "cell_type": "code",
   "execution_count": 13,
   "id": "a8dcd14b",
   "metadata": {},
   "outputs": [
    {
     "name": "stdout",
     "output_type": "stream",
     "text": [
      "Confusion Matrix (Accuracy 0.9286)\n",
      "\n",
      "       Prediction\n",
      "Actual 0 1\n",
      "     0 5 1\n",
      "     1 0 8\n"
     ]
    }
   ],
   "source": [
    "import numpy as np\n",
    "from dmba import classificationSummary\n",
    "\n",
    "y_pred = model.predict(X_train_1)\n",
    "cutoff = 0.5                              \n",
    "y_pred_classes = np.zeros_like(y_pred)\n",
    "y_pred_classes[y_pred > cutoff] = 1\n",
    "\n",
    "\n",
    "classificationSummary(y_train, y_pred_classes)"
   ]
  },
  {
   "cell_type": "code",
   "execution_count": 14,
   "id": "c211e1df",
   "metadata": {},
   "outputs": [
    {
     "name": "stdout",
     "output_type": "stream",
     "text": [
      "Confusion Matrix (Accuracy 0.9286)\n",
      "\n",
      "       Prediction\n",
      "Actual 0 1\n",
      "     0 5 1\n",
      "     1 0 8\n",
      "Confusion Matrix (Accuracy 0.8333)\n",
      "\n",
      "       Prediction\n",
      "Actual 0 1\n",
      "     0 3 1\n",
      "     1 0 2\n"
     ]
    }
   ],
   "source": [
    "classificationSummary(y_train, logit_reg.predict(X_train))\n",
    "classificationSummary(y_test, logit_reg.predict(X_test))"
   ]
  },
  {
   "cell_type": "code",
   "execution_count": 15,
   "id": "46cde96f",
   "metadata": {},
   "outputs": [],
   "source": [
    "B0 = logit_reg.intercept_[0]\n",
    "B1 = logit_reg.coef_[0][0]\n",
    "B2 = logit_reg.coef_[0][1]"
   ]
  },
  {
   "cell_type": "code",
   "execution_count": 16,
   "id": "3384a9d2",
   "metadata": {},
   "outputs": [
    {
     "name": "stdout",
     "output_type": "stream",
     "text": [
      "Logit =  -12.519508398826535 + 84.00506521757427  * TotExp/Assets + 6.212500121412339 * TotLns&Lses/Assets\n",
      "Odds = exp( -12.519508398826535 + 84.00506521757427  * TotExp/Assets + 6.212500121412339 * TotLns&Lses/Assets\n",
      "Probability = 1/1 +exp(-( -12.519508398826535 + 84.00506521757427  * TotExp/Assets + 6.212500121412339 * TotLns&Lses/Assets ))\n"
     ]
    }
   ],
   "source": [
    "print('Logit = ',B0,'+',B1,' * TotExp/Assets +',B2,'* TotLns&Lses/Assets')\n",
    "print('Odds = exp(',B0,'+',B1,' * TotExp/Assets +',B2,'* TotLns&Lses/Assets')\n",
    "print('Probability = 1/1 +exp(-(',B0,'+',B1,' * TotExp/Assets +',B2,'* TotLns&Lses/Assets ))')"
   ]
  },
  {
   "cell_type": "code",
   "execution_count": 17,
   "id": "30136ad1",
   "metadata": {},
   "outputs": [],
   "source": [
    "Total_loans_and_Leases_Asstes = 0.6\n",
    "Total_expense_Assets = 0.11"
   ]
  },
  {
   "cell_type": "code",
   "execution_count": 18,
   "id": "f39b5e2f",
   "metadata": {},
   "outputs": [
    {
     "name": "stdout",
     "output_type": "stream",
     "text": [
      "Logit: 0.4485\n"
     ]
    }
   ],
   "source": [
    "Logit = B0 + B1 * Total_expense_Assets +B2 * Total_loans_and_Leases_Asstes\n",
    "print(f'Logit: {Logit:.4f}')"
   ]
  },
  {
   "cell_type": "code",
   "execution_count": 19,
   "id": "514ea9f4",
   "metadata": {},
   "outputs": [
    {
     "name": "stdout",
     "output_type": "stream",
     "text": [
      "Odds: 1.5660\n"
     ]
    }
   ],
   "source": [
    "odds = np.exp(Logit)\n",
    "print(f'Odds: {odds:.4f}')"
   ]
  },
  {
   "cell_type": "code",
   "execution_count": 20,
   "id": "9550075b",
   "metadata": {},
   "outputs": [
    {
     "name": "stdout",
     "output_type": "stream",
     "text": [
      "Probability: 0.6103\n"
     ]
    }
   ],
   "source": [
    "probability = 1 / (1 + np.exp(-Logit))\n",
    "print(f'Probability: {probability:.4f}')"
   ]
  },
  {
   "cell_type": "code",
   "execution_count": 21,
   "id": "6e97b1f2",
   "metadata": {},
   "outputs": [
    {
     "name": "stdout",
     "output_type": "stream",
     "text": [
      "The bank is financially weak\n"
     ]
    }
   ],
   "source": [
    "if(probability > 0.5):\n",
    "    print('The bank is financially weak')\n",
    "else:\n",
    "    print('The bank is financially strong')"
   ]
  },
  {
   "cell_type": "code",
   "execution_count": 22,
   "id": "5bd22f51",
   "metadata": {},
   "outputs": [
    {
     "name": "stdout",
     "output_type": "stream",
     "text": [
      "The corresponding odd cutoff is 1.0\n",
      "The corresponding logit cutoff is 0.0\n"
     ]
    }
   ],
   "source": [
    "#3.\tThe cutoff value of 0.5 is used in conjunction with the probability of being financially weak. Compute the threshold that should be used if we want to make a classification based on the odds of being financially weak, and the threshold for the corresponding logit.\n",
    "odds_cutoff = cutoff/(1-cutoff)\n",
    "print('The corresponding odd cutoff is', odds_cutoff)\n",
    "print('The corresponding logit cutoff is', np.log(odds_cutoff))"
   ]
  },
  {
   "cell_type": "code",
   "execution_count": 23,
   "id": "54b76b01",
   "metadata": {},
   "outputs": [
    {
     "name": "stdout",
     "output_type": "stream",
     "text": [
      "the coefficient for total loans & leases to total assets is 6.212500121412339\n",
      "the coefficient for total loans & leases to total assetes in terms of odds is 1.8265634109659805\n"
     ]
    }
   ],
   "source": [
    "#4.\tInterpret the estimated coefficient for the total loans & leases to total assets ratio (TotLns&Lses/Assets) in terms of the odds of being financially weak.\n",
    "print('the coefficient for total loans & leases to total assets is',B2)\n",
    "print('the coefficient for total loans & leases to total assetes in terms of odds is', np.log(B2))"
   ]
  },
  {
   "cell_type": "code",
   "execution_count": null,
   "id": "bd10ad12",
   "metadata": {},
   "outputs": [],
   "source": []
  }
 ],
 "metadata": {
  "kernelspec": {
   "display_name": "Python 3 (ipykernel)",
   "language": "python",
   "name": "python3"
  },
  "language_info": {
   "codemirror_mode": {
    "name": "ipython",
    "version": 3
   },
   "file_extension": ".py",
   "mimetype": "text/x-python",
   "name": "python",
   "nbconvert_exporter": "python",
   "pygments_lexer": "ipython3",
   "version": "3.9.13"
  }
 },
 "nbformat": 4,
 "nbformat_minor": 5
}
