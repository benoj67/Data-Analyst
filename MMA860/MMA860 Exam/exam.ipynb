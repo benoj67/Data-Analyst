{
 "cells": [
  {
   "cell_type": "code",
   "execution_count": 147,
   "metadata": {},
   "outputs": [],
   "source": [
    "#Import the required libraries\n",
    "import pandas as pd\n",
    "import os.path as osp\n",
    "\n",
    "#Build the path for the data file\n",
    "data_path = osp.join(\n",
    "    osp.curdir,'MMA860_Exam_Data_2024B.xlsx')\n",
    "\n",
    "#Use the read_excel function to pull data from the 'Sales Data' sheet\n",
    "data = pd.read_excel(\n",
    "    data_path,sheet_name='Bees')"
   ]
  },
  {
   "cell_type": "code",
   "execution_count": 148,
   "metadata": {},
   "outputs": [
    {
     "data": {
      "text/plain": [
       "Bee_Count                 int64\n",
       "Year                      int64\n",
       "Month                    object\n",
       "Avg_Temp                  int64\n",
       "Low_Temp                  int64\n",
       "High_Temp                 int64\n",
       "Total_Precip            float64\n",
       "Major_Storm               int64\n",
       "Avg_Wind_Speed          float64\n",
       "Avail_Flower_Species      int64\n",
       "dtype: object"
      ]
     },
     "execution_count": 148,
     "metadata": {},
     "output_type": "execute_result"
    }
   ],
   "source": [
    "data.dtypes"
   ]
  },
  {
   "cell_type": "code",
   "execution_count": 149,
   "metadata": {},
   "outputs": [
    {
     "data": {
      "text/html": [
       "<div>\n",
       "<style scoped>\n",
       "    .dataframe tbody tr th:only-of-type {\n",
       "        vertical-align: middle;\n",
       "    }\n",
       "\n",
       "    .dataframe tbody tr th {\n",
       "        vertical-align: top;\n",
       "    }\n",
       "\n",
       "    .dataframe thead th {\n",
       "        text-align: right;\n",
       "    }\n",
       "</style>\n",
       "<table border=\"1\" class=\"dataframe\">\n",
       "  <thead>\n",
       "    <tr style=\"text-align: right;\">\n",
       "      <th></th>\n",
       "      <th>Bee_Count</th>\n",
       "      <th>Year</th>\n",
       "      <th>Avg_Temp</th>\n",
       "      <th>Low_Temp</th>\n",
       "      <th>High_Temp</th>\n",
       "      <th>Total_Precip</th>\n",
       "      <th>Major_Storm</th>\n",
       "      <th>Avg_Wind_Speed</th>\n",
       "      <th>Avail_Flower_Species</th>\n",
       "    </tr>\n",
       "  </thead>\n",
       "  <tbody>\n",
       "    <tr>\n",
       "      <th>count</th>\n",
       "      <td>54.000000</td>\n",
       "      <td>54.000000</td>\n",
       "      <td>54.000000</td>\n",
       "      <td>54.000000</td>\n",
       "      <td>54.000000</td>\n",
       "      <td>54.000000</td>\n",
       "      <td>54.000000</td>\n",
       "      <td>54.000000</td>\n",
       "      <td>54.000000</td>\n",
       "    </tr>\n",
       "    <tr>\n",
       "      <th>mean</th>\n",
       "      <td>34789.388889</td>\n",
       "      <td>2019.777778</td>\n",
       "      <td>11.907407</td>\n",
       "      <td>1.703704</td>\n",
       "      <td>22.111111</td>\n",
       "      <td>30.251852</td>\n",
       "      <td>0.462963</td>\n",
       "      <td>10.688889</td>\n",
       "      <td>14.685185</td>\n",
       "    </tr>\n",
       "    <tr>\n",
       "      <th>std</th>\n",
       "      <td>25047.689838</td>\n",
       "      <td>1.327029</td>\n",
       "      <td>13.105189</td>\n",
       "      <td>13.539083</td>\n",
       "      <td>13.481877</td>\n",
       "      <td>8.173467</td>\n",
       "      <td>0.573403</td>\n",
       "      <td>2.753911</td>\n",
       "      <td>10.912731</td>\n",
       "    </tr>\n",
       "    <tr>\n",
       "      <th>min</th>\n",
       "      <td>972.000000</td>\n",
       "      <td>2018.000000</td>\n",
       "      <td>-10.000000</td>\n",
       "      <td>-21.000000</td>\n",
       "      <td>-3.000000</td>\n",
       "      <td>13.600000</td>\n",
       "      <td>-1.000000</td>\n",
       "      <td>5.100000</td>\n",
       "      <td>0.000000</td>\n",
       "    </tr>\n",
       "    <tr>\n",
       "      <th>25%</th>\n",
       "      <td>6932.250000</td>\n",
       "      <td>2019.000000</td>\n",
       "      <td>0.750000</td>\n",
       "      <td>-10.000000</td>\n",
       "      <td>11.000000</td>\n",
       "      <td>24.800000</td>\n",
       "      <td>0.000000</td>\n",
       "      <td>8.925000</td>\n",
       "      <td>0.000000</td>\n",
       "    </tr>\n",
       "    <tr>\n",
       "      <th>50%</th>\n",
       "      <td>36958.000000</td>\n",
       "      <td>2020.000000</td>\n",
       "      <td>9.000000</td>\n",
       "      <td>1.000000</td>\n",
       "      <td>20.500000</td>\n",
       "      <td>29.450000</td>\n",
       "      <td>0.500000</td>\n",
       "      <td>10.600000</td>\n",
       "      <td>19.000000</td>\n",
       "    </tr>\n",
       "    <tr>\n",
       "      <th>75%</th>\n",
       "      <td>55907.750000</td>\n",
       "      <td>2021.000000</td>\n",
       "      <td>24.000000</td>\n",
       "      <td>15.000000</td>\n",
       "      <td>33.000000</td>\n",
       "      <td>35.150000</td>\n",
       "      <td>1.000000</td>\n",
       "      <td>12.500000</td>\n",
       "      <td>23.000000</td>\n",
       "    </tr>\n",
       "    <tr>\n",
       "      <th>max</th>\n",
       "      <td>77895.000000</td>\n",
       "      <td>2022.000000</td>\n",
       "      <td>32.000000</td>\n",
       "      <td>25.000000</td>\n",
       "      <td>46.000000</td>\n",
       "      <td>54.400000</td>\n",
       "      <td>1.000000</td>\n",
       "      <td>19.200000</td>\n",
       "      <td>30.000000</td>\n",
       "    </tr>\n",
       "  </tbody>\n",
       "</table>\n",
       "</div>"
      ],
      "text/plain": [
       "          Bee_Count         Year   Avg_Temp   Low_Temp  High_Temp  \\\n",
       "count     54.000000    54.000000  54.000000  54.000000  54.000000   \n",
       "mean   34789.388889  2019.777778  11.907407   1.703704  22.111111   \n",
       "std    25047.689838     1.327029  13.105189  13.539083  13.481877   \n",
       "min      972.000000  2018.000000 -10.000000 -21.000000  -3.000000   \n",
       "25%     6932.250000  2019.000000   0.750000 -10.000000  11.000000   \n",
       "50%    36958.000000  2020.000000   9.000000   1.000000  20.500000   \n",
       "75%    55907.750000  2021.000000  24.000000  15.000000  33.000000   \n",
       "max    77895.000000  2022.000000  32.000000  25.000000  46.000000   \n",
       "\n",
       "       Total_Precip  Major_Storm  Avg_Wind_Speed  Avail_Flower_Species  \n",
       "count     54.000000    54.000000       54.000000             54.000000  \n",
       "mean      30.251852     0.462963       10.688889             14.685185  \n",
       "std        8.173467     0.573403        2.753911             10.912731  \n",
       "min       13.600000    -1.000000        5.100000              0.000000  \n",
       "25%       24.800000     0.000000        8.925000              0.000000  \n",
       "50%       29.450000     0.500000       10.600000             19.000000  \n",
       "75%       35.150000     1.000000       12.500000             23.000000  \n",
       "max       54.400000     1.000000       19.200000             30.000000  "
      ]
     },
     "execution_count": 149,
     "metadata": {},
     "output_type": "execute_result"
    }
   ],
   "source": [
    "data.describe()"
   ]
  },
  {
   "cell_type": "code",
   "execution_count": 150,
   "metadata": {},
   "outputs": [],
   "source": [
    "data[\"Year_Month\"] = data[\"Year\"].astype(str) + data[\"Month\"].astype(str)"
   ]
  },
  {
   "cell_type": "code",
   "execution_count": 151,
   "metadata": {},
   "outputs": [],
   "source": [
    "#Import the required package from sklearn\n",
    "from sklearn.linear_model import LinearRegression\n",
    "\n",
    "'''\n",
    "In order to input data from a pandas dataframe and into a sci-kit function,\n",
    "we need to convert the dataframe series into NumPy Arrays. This can be done\n",
    "with the values function.\n",
    "'''\n",
    "train_X = data[['Avg_Temp','Low_Temp','High_Temp', 'Total_Precip', 'Major_Storm', 'Avg_Wind_Speed', 'Avail_Flower_Species']].values\n",
    "train_y = data['Bee_Count'].values\n",
    "\n",
    "'''\n",
    "Fitting data to a regression model requires two arguments, the training X\n",
    "values (independent variables) and the training y values (dependent variables.\n",
    "In general, most fit functions for models follow this format.\n",
    "'''\n",
    "reg = LinearRegression().fit(train_X, train_y)"
   ]
  },
  {
   "cell_type": "code",
   "execution_count": 152,
   "metadata": {},
   "outputs": [
    {
     "name": "stdout",
     "output_type": "stream",
     "text": [
      "R-Squared: 0.9061070513052062\n"
     ]
    }
   ],
   "source": [
    "print(\"R-Squared:\", reg.score(train_X, train_y))"
   ]
  },
  {
   "cell_type": "code",
   "execution_count": 153,
   "metadata": {},
   "outputs": [
    {
     "name": "stdout",
     "output_type": "stream",
     "text": [
      "B_0 = 3396.596011047426\n",
      "B_1 = 283.2659107886089\n",
      "B_2 = 136.4110072492798\n"
     ]
    }
   ],
   "source": [
    "'''\n",
    "Computing intercept is trivial. The 'slope' coefficients are outputted as a\n",
    "tuple (consider this analogous to an array or list). We must index the tuple\n",
    "to get the numeric values. The values appear in the tuple in an order that \n",
    "corresponds to the position of the independent variable to which they are the\n",
    "slope of. For example, X_train has Ad_Budget values first then Distance values \n",
    "which results in the order presented below.\n",
    "'''\n",
    "\n",
    "print(\"B_0 =\",reg.intercept_)\n",
    "\n",
    "#Ad_Budget Coefficient\n",
    "print(\"B_1 =\",reg.coef_[0])\n",
    "\n",
    "#Distance Coefficient\n",
    "print(\"B_2 =\",reg.coef_[1])"
   ]
  },
  {
   "cell_type": "code",
   "execution_count": 154,
   "metadata": {},
   "outputs": [
    {
     "name": "stdout",
     "output_type": "stream",
     "text": [
      "                            OLS Regression Results                            \n",
      "==============================================================================\n",
      "Dep. Variable:              Bee_Count   R-squared:                       0.906\n",
      "Model:                            OLS   Adj. R-squared:                  0.892\n",
      "Method:                 Least Squares   F-statistic:                     63.42\n",
      "Date:                Sat, 15 Apr 2023   Prob (F-statistic):           1.70e-21\n",
      "Time:                        16:28:04   Log-Likelihood:                -559.19\n",
      "No. Observations:                  54   AIC:                             1134.\n",
      "Df Residuals:                      46   BIC:                             1150.\n",
      "Df Model:                           7                                         \n",
      "Covariance Type:            nonrobust                                         \n",
      "========================================================================================\n",
      "                           coef    std err          t      P>|t|      [0.025      0.975]\n",
      "----------------------------------------------------------------------------------------\n",
      "Intercept             3396.5960   9698.780      0.350      0.728   -1.61e+04    2.29e+04\n",
      "Avg_Temp               283.2659    263.165      1.076      0.287    -246.458     812.990\n",
      "Low_Temp               136.4110    293.761      0.464      0.645    -454.899     727.721\n",
      "High_Temp              901.9245    316.389      2.851      0.007     265.066    1538.783\n",
      "Total_Precip            -9.4881    158.389     -0.060      0.952    -328.310     309.333\n",
      "Major_Storm          -2407.0489   2169.100     -1.110      0.273   -6773.220    1959.122\n",
      "Avg_Wind_Speed        -128.4785    431.131     -0.298      0.767    -996.300     739.343\n",
      "Avail_Flower_Species   723.1487    167.062      4.329      0.000     386.870    1059.428\n",
      "==============================================================================\n",
      "Omnibus:                        0.520   Durbin-Watson:                   1.514\n",
      "Prob(Omnibus):                  0.771   Jarque-Bera (JB):                0.636\n",
      "Skew:                          -0.205   Prob(JB):                        0.728\n",
      "Kurtosis:                       2.661   Cond. No.                         397.\n",
      "==============================================================================\n",
      "\n",
      "Notes:\n",
      "[1] Standard Errors assume that the covariance matrix of the errors is correctly specified.\n"
     ]
    }
   ],
   "source": [
    "import statsmodels.api as sm\n",
    "from statsmodels.formula.api import ols\n",
    "\n",
    "'''\n",
    "Fitting a model involves passing two arguments to ols: the general formula as\n",
    "a string and the data set used. Remember that the formula's attributes must\n",
    "match the column names in the dataframe. Then the fit() function is run and\n",
    "then summary() can be applied to that model.\n",
    "'''\n",
    "model = ols('Bee_Count ~ Avg_Temp + Low_Temp + High_Temp + Total_Precip + Major_Storm + Avg_Wind_Speed + Avail_Flower_Species', data).fit()\n",
    "print(model.summary())"
   ]
  },
  {
   "cell_type": "code",
   "execution_count": 155,
   "metadata": {},
   "outputs": [
    {
     "name": "stdout",
     "output_type": "stream",
     "text": [
      "                            OLS Regression Results                            \n",
      "==============================================================================\n",
      "Dep. Variable:              Bee_Count   R-squared:                       0.857\n",
      "Model:                            OLS   Adj. R-squared:                  0.849\n",
      "Method:                 Least Squares   F-statistic:                     100.2\n",
      "Date:                Sat, 15 Apr 2023   Prob (F-statistic):           3.83e-21\n",
      "Time:                        16:28:04   Log-Likelihood:                -570.48\n",
      "No. Observations:                  54   AIC:                             1149.\n",
      "Df Residuals:                      50   BIC:                             1157.\n",
      "Df Model:                           3                                         \n",
      "Covariance Type:            nonrobust                                         \n",
      "==============================================================================\n",
      "                 coef    std err          t      P>|t|      [0.025      0.975]\n",
      "------------------------------------------------------------------------------\n",
      "Intercept   7328.1818   6386.822      1.147      0.257   -5500.128    2.02e+04\n",
      "Avg_Temp     432.9949    303.710      1.426      0.160    -177.024    1043.014\n",
      "Low_Temp     349.3117    325.599      1.073      0.288    -304.672    1003.296\n",
      "High_Temp    981.8700    345.079      2.845      0.006     288.759    1674.981\n",
      "==============================================================================\n",
      "Omnibus:                        0.995   Durbin-Watson:                   1.671\n",
      "Prob(Omnibus):                  0.608   Jarque-Bera (JB):                1.054\n",
      "Skew:                          -0.288   Prob(JB):                        0.590\n",
      "Kurtosis:                       2.629   Cond. No.                         156.\n",
      "==============================================================================\n",
      "\n",
      "Notes:\n",
      "[1] Standard Errors assume that the covariance matrix of the errors is correctly specified.\n"
     ]
    }
   ],
   "source": [
    "import statsmodels.api as sm\n",
    "from statsmodels.formula.api import ols\n",
    "\n",
    "'''\n",
    "Fitting a model involves passing two arguments to ols: the general formula as\n",
    "a string and the data set used. Remember that the formula's attributes must\n",
    "match the column names in the dataframe. Then the fit() function is run and\n",
    "then summary() can be applied to that model.\n",
    "'''\n",
    "model = ols('Bee_Count ~ Avg_Temp + Low_Temp + High_Temp', data).fit()\n",
    "print(model.summary())"
   ]
  },
  {
   "cell_type": "code",
   "execution_count": 156,
   "metadata": {},
   "outputs": [],
   "source": [
    "#Use the read_excel function to pull data from the 'Sales Data' sheet\n",
    "data2 = pd.read_excel(\n",
    "    data_path,sheet_name='Next_Season')"
   ]
  },
  {
   "cell_type": "code",
   "execution_count": 157,
   "metadata": {},
   "outputs": [
    {
     "ename": "PatsyError",
     "evalue": "numbers besides '0' and '1' are only allowed with **\n    95000 ~ Avg_Temp + Low_Temp + High_Temp + Total_Precip + Major_Storm + Avg_Wind_Speed + Avail_Flower_Species\n    ^^^^^",
     "output_type": "error",
     "traceback": [
      "\u001b[1;31m---------------------------------------------------------------------------\u001b[0m",
      "\u001b[1;31mPatsyError\u001b[0m                                Traceback (most recent call last)",
      "Cell \u001b[1;32mIn[157], line 10\u001b[0m\n\u001b[0;32m      2\u001b[0m \u001b[39mfrom\u001b[39;00m \u001b[39mstatsmodels\u001b[39;00m\u001b[39m.\u001b[39;00m\u001b[39mformula\u001b[39;00m\u001b[39m.\u001b[39;00m\u001b[39mapi\u001b[39;00m \u001b[39mimport\u001b[39;00m ols\n\u001b[0;32m      4\u001b[0m \u001b[39m'''\u001b[39;00m\n\u001b[0;32m      5\u001b[0m \u001b[39mFitting a model involves passing two arguments to ols: the general formula as\u001b[39;00m\n\u001b[0;32m      6\u001b[0m \u001b[39ma string and the data set used. Remember that the formula's attributes must\u001b[39;00m\n\u001b[0;32m      7\u001b[0m \u001b[39mmatch the column names in the dataframe. Then the fit() function is run and\u001b[39;00m\n\u001b[0;32m      8\u001b[0m \u001b[39mthen summary() can be applied to that model.\u001b[39;00m\n\u001b[0;32m      9\u001b[0m \u001b[39m'''\u001b[39;00m\n\u001b[1;32m---> 10\u001b[0m model \u001b[39m=\u001b[39m ols(\u001b[39m'\u001b[39;49m\u001b[39m 95000 ~ Avg_Temp + Low_Temp + High_Temp + Total_Precip + Major_Storm + Avg_Wind_Speed + Avail_Flower_Species\u001b[39;49m\u001b[39m'\u001b[39;49m, data2)\u001b[39m.\u001b[39mfit()\n\u001b[0;32m     11\u001b[0m \u001b[39mprint\u001b[39m(model\u001b[39m.\u001b[39msummary())\n",
      "File \u001b[1;32mc:\\Users\\Benoj\\AppData\\Local\\Programs\\Python\\Python311\\Lib\\site-packages\\statsmodels\\base\\model.py:200\u001b[0m, in \u001b[0;36mModel.from_formula\u001b[1;34m(cls, formula, data, subset, drop_cols, *args, **kwargs)\u001b[0m\n\u001b[0;32m    197\u001b[0m \u001b[39mif\u001b[39;00m missing \u001b[39m==\u001b[39m \u001b[39m'\u001b[39m\u001b[39mnone\u001b[39m\u001b[39m'\u001b[39m:  \u001b[39m# with patsy it's drop or raise. let's raise.\u001b[39;00m\n\u001b[0;32m    198\u001b[0m     missing \u001b[39m=\u001b[39m \u001b[39m'\u001b[39m\u001b[39mraise\u001b[39m\u001b[39m'\u001b[39m\n\u001b[1;32m--> 200\u001b[0m tmp \u001b[39m=\u001b[39m handle_formula_data(data, \u001b[39mNone\u001b[39;49;00m, formula, depth\u001b[39m=\u001b[39;49meval_env,\n\u001b[0;32m    201\u001b[0m                           missing\u001b[39m=\u001b[39;49mmissing)\n\u001b[0;32m    202\u001b[0m ((endog, exog), missing_idx, design_info) \u001b[39m=\u001b[39m tmp\n\u001b[0;32m    203\u001b[0m max_endog \u001b[39m=\u001b[39m \u001b[39mcls\u001b[39m\u001b[39m.\u001b[39m_formula_max_endog\n",
      "File \u001b[1;32mc:\\Users\\Benoj\\AppData\\Local\\Programs\\Python\\Python311\\Lib\\site-packages\\statsmodels\\formula\\formulatools.py:63\u001b[0m, in \u001b[0;36mhandle_formula_data\u001b[1;34m(Y, X, formula, depth, missing)\u001b[0m\n\u001b[0;32m     61\u001b[0m \u001b[39melse\u001b[39;00m:\n\u001b[0;32m     62\u001b[0m     \u001b[39mif\u001b[39;00m data_util\u001b[39m.\u001b[39m_is_using_pandas(Y, \u001b[39mNone\u001b[39;00m):\n\u001b[1;32m---> 63\u001b[0m         result \u001b[39m=\u001b[39m dmatrices(formula, Y, depth, return_type\u001b[39m=\u001b[39;49m\u001b[39m'\u001b[39;49m\u001b[39mdataframe\u001b[39;49m\u001b[39m'\u001b[39;49m,\n\u001b[0;32m     64\u001b[0m                            NA_action\u001b[39m=\u001b[39;49mna_action)\n\u001b[0;32m     65\u001b[0m     \u001b[39melse\u001b[39;00m:\n\u001b[0;32m     66\u001b[0m         result \u001b[39m=\u001b[39m dmatrices(formula, Y, depth, return_type\u001b[39m=\u001b[39m\u001b[39m'\u001b[39m\u001b[39mdataframe\u001b[39m\u001b[39m'\u001b[39m,\n\u001b[0;32m     67\u001b[0m                            NA_action\u001b[39m=\u001b[39mna_action)\n",
      "File \u001b[1;32mc:\\Users\\Benoj\\AppData\\Local\\Programs\\Python\\Python311\\Lib\\site-packages\\patsy\\highlevel.py:309\u001b[0m, in \u001b[0;36mdmatrices\u001b[1;34m(formula_like, data, eval_env, NA_action, return_type)\u001b[0m\n\u001b[0;32m    299\u001b[0m \u001b[39m\u001b[39m\u001b[39m\"\"\"Construct two design matrices given a formula_like and data.\u001b[39;00m\n\u001b[0;32m    300\u001b[0m \n\u001b[0;32m    301\u001b[0m \u001b[39mThis function is identical to :func:`dmatrix`, except that it requires\u001b[39;00m\n\u001b[1;32m   (...)\u001b[0m\n\u001b[0;32m    306\u001b[0m \u001b[39mSee :func:`dmatrix` for details.\u001b[39;00m\n\u001b[0;32m    307\u001b[0m \u001b[39m\"\"\"\u001b[39;00m\n\u001b[0;32m    308\u001b[0m eval_env \u001b[39m=\u001b[39m EvalEnvironment\u001b[39m.\u001b[39mcapture(eval_env, reference\u001b[39m=\u001b[39m\u001b[39m1\u001b[39m)\n\u001b[1;32m--> 309\u001b[0m (lhs, rhs) \u001b[39m=\u001b[39m _do_highlevel_design(formula_like, data, eval_env,\n\u001b[0;32m    310\u001b[0m                                   NA_action, return_type)\n\u001b[0;32m    311\u001b[0m \u001b[39mif\u001b[39;00m lhs\u001b[39m.\u001b[39mshape[\u001b[39m1\u001b[39m] \u001b[39m==\u001b[39m \u001b[39m0\u001b[39m:\n\u001b[0;32m    312\u001b[0m     \u001b[39mraise\u001b[39;00m PatsyError(\u001b[39m\"\u001b[39m\u001b[39mmodel is missing required outcome variables\u001b[39m\u001b[39m\"\u001b[39m)\n",
      "File \u001b[1;32mc:\\Users\\Benoj\\AppData\\Local\\Programs\\Python\\Python311\\Lib\\site-packages\\patsy\\highlevel.py:164\u001b[0m, in \u001b[0;36m_do_highlevel_design\u001b[1;34m(formula_like, data, eval_env, NA_action, return_type)\u001b[0m\n\u001b[0;32m    162\u001b[0m \u001b[39mdef\u001b[39;00m \u001b[39mdata_iter_maker\u001b[39m():\n\u001b[0;32m    163\u001b[0m     \u001b[39mreturn\u001b[39;00m \u001b[39miter\u001b[39m([data])\n\u001b[1;32m--> 164\u001b[0m design_infos \u001b[39m=\u001b[39m _try_incr_builders(formula_like, data_iter_maker, eval_env,\n\u001b[0;32m    165\u001b[0m                                   NA_action)\n\u001b[0;32m    166\u001b[0m \u001b[39mif\u001b[39;00m design_infos \u001b[39mis\u001b[39;00m \u001b[39mnot\u001b[39;00m \u001b[39mNone\u001b[39;00m:\n\u001b[0;32m    167\u001b[0m     \u001b[39mreturn\u001b[39;00m build_design_matrices(design_infos, data,\n\u001b[0;32m    168\u001b[0m                                  NA_action\u001b[39m=\u001b[39mNA_action,\n\u001b[0;32m    169\u001b[0m                                  return_type\u001b[39m=\u001b[39mreturn_type)\n",
      "File \u001b[1;32mc:\\Users\\Benoj\\AppData\\Local\\Programs\\Python\\Python311\\Lib\\site-packages\\patsy\\highlevel.py:62\u001b[0m, in \u001b[0;36m_try_incr_builders\u001b[1;34m(formula_like, data_iter_maker, eval_env, NA_action)\u001b[0m\n\u001b[0;32m     55\u001b[0m         \u001b[39mraise\u001b[39;00m PatsyError(\n\u001b[0;32m     56\u001b[0m             \u001b[39m\"\u001b[39m\u001b[39mOn Python 2, formula strings must be either \u001b[39m\u001b[39m'\u001b[39m\u001b[39mstr\u001b[39m\u001b[39m'\u001b[39m\u001b[39m objects, \u001b[39m\u001b[39m\"\u001b[39m\n\u001b[0;32m     57\u001b[0m             \u001b[39m\"\u001b[39m\u001b[39mor else \u001b[39m\u001b[39m'\u001b[39m\u001b[39municode\u001b[39m\u001b[39m'\u001b[39m\u001b[39m objects containing only ascii \u001b[39m\u001b[39m\"\u001b[39m\n\u001b[0;32m     58\u001b[0m             \u001b[39m\"\u001b[39m\u001b[39mcharacters. You passed a unicode string with non-ascii \u001b[39m\u001b[39m\"\u001b[39m\n\u001b[0;32m     59\u001b[0m             \u001b[39m\"\u001b[39m\u001b[39mcharacters. I\u001b[39m\u001b[39m'\u001b[39m\u001b[39mm afraid you\u001b[39m\u001b[39m'\u001b[39m\u001b[39mll have to either switch to \u001b[39m\u001b[39m\"\u001b[39m\n\u001b[0;32m     60\u001b[0m             \u001b[39m\"\u001b[39m\u001b[39mascii-only, or else upgrade to Python 3.\u001b[39m\u001b[39m\"\u001b[39m)\n\u001b[0;32m     61\u001b[0m \u001b[39mif\u001b[39;00m \u001b[39misinstance\u001b[39m(formula_like, \u001b[39mstr\u001b[39m):\n\u001b[1;32m---> 62\u001b[0m     formula_like \u001b[39m=\u001b[39m ModelDesc\u001b[39m.\u001b[39;49mfrom_formula(formula_like)\n\u001b[0;32m     63\u001b[0m     \u001b[39m# fallthrough\u001b[39;00m\n\u001b[0;32m     64\u001b[0m \u001b[39mif\u001b[39;00m \u001b[39misinstance\u001b[39m(formula_like, ModelDesc):\n",
      "File \u001b[1;32mc:\\Users\\Benoj\\AppData\\Local\\Programs\\Python\\Python311\\Lib\\site-packages\\patsy\\desc.py:165\u001b[0m, in \u001b[0;36mModelDesc.from_formula\u001b[1;34m(cls, tree_or_string)\u001b[0m\n\u001b[0;32m    163\u001b[0m \u001b[39melse\u001b[39;00m:\n\u001b[0;32m    164\u001b[0m     tree \u001b[39m=\u001b[39m parse_formula(tree_or_string)\n\u001b[1;32m--> 165\u001b[0m value \u001b[39m=\u001b[39m Evaluator()\u001b[39m.\u001b[39;49meval(tree, require_evalexpr\u001b[39m=\u001b[39;49m\u001b[39mFalse\u001b[39;49;00m)\n\u001b[0;32m    166\u001b[0m \u001b[39massert\u001b[39;00m \u001b[39misinstance\u001b[39m(value, \u001b[39mcls\u001b[39m)\n\u001b[0;32m    167\u001b[0m \u001b[39mreturn\u001b[39;00m value\n",
      "File \u001b[1;32mc:\\Users\\Benoj\\AppData\\Local\\Programs\\Python\\Python311\\Lib\\site-packages\\patsy\\desc.py:400\u001b[0m, in \u001b[0;36mEvaluator.eval\u001b[1;34m(self, tree, require_evalexpr)\u001b[0m\n\u001b[0;32m    396\u001b[0m \u001b[39mif\u001b[39;00m key \u001b[39mnot\u001b[39;00m \u001b[39min\u001b[39;00m \u001b[39mself\u001b[39m\u001b[39m.\u001b[39m_evaluators:\n\u001b[0;32m    397\u001b[0m     \u001b[39mraise\u001b[39;00m PatsyError(\u001b[39m\"\u001b[39m\u001b[39mI don\u001b[39m\u001b[39m'\u001b[39m\u001b[39mt know how to evaluate this \u001b[39m\u001b[39m\"\u001b[39m\n\u001b[0;32m    398\u001b[0m                         \u001b[39m\"\u001b[39m\u001b[39m'\u001b[39m\u001b[39m%s\u001b[39;00m\u001b[39m'\u001b[39m\u001b[39m operator\u001b[39m\u001b[39m\"\u001b[39m \u001b[39m%\u001b[39m (tree\u001b[39m.\u001b[39mtype,),\n\u001b[0;32m    399\u001b[0m                         tree\u001b[39m.\u001b[39mtoken)\n\u001b[1;32m--> 400\u001b[0m result \u001b[39m=\u001b[39m \u001b[39mself\u001b[39;49m\u001b[39m.\u001b[39;49m_evaluators[key](\u001b[39mself\u001b[39;49m, tree)\n\u001b[0;32m    401\u001b[0m \u001b[39mif\u001b[39;00m require_evalexpr \u001b[39mand\u001b[39;00m \u001b[39mnot\u001b[39;00m \u001b[39misinstance\u001b[39m(result, IntermediateExpr):\n\u001b[0;32m    402\u001b[0m     \u001b[39mif\u001b[39;00m \u001b[39misinstance\u001b[39m(result, ModelDesc):\n",
      "File \u001b[1;32mc:\\Users\\Benoj\\AppData\\Local\\Programs\\Python\\Python311\\Lib\\site-packages\\patsy\\desc.py:221\u001b[0m, in \u001b[0;36m_eval_any_tilde\u001b[1;34m(evaluator, tree)\u001b[0m\n\u001b[0;32m    220\u001b[0m \u001b[39mdef\u001b[39;00m \u001b[39m_eval_any_tilde\u001b[39m(evaluator, tree):\n\u001b[1;32m--> 221\u001b[0m     exprs \u001b[39m=\u001b[39m [evaluator\u001b[39m.\u001b[39;49meval(arg) \u001b[39mfor\u001b[39;49;00m arg \u001b[39min\u001b[39;49;00m tree\u001b[39m.\u001b[39;49margs]    \n\u001b[0;32m    222\u001b[0m     \u001b[39mif\u001b[39;00m \u001b[39mlen\u001b[39m(exprs) \u001b[39m==\u001b[39m \u001b[39m1\u001b[39m:\n\u001b[0;32m    223\u001b[0m         \u001b[39m# Formula was like: \"~ foo\"\u001b[39;00m\n\u001b[0;32m    224\u001b[0m         \u001b[39m# We pretend that instead it was like: \"0 ~ foo\"\u001b[39;00m\n\u001b[0;32m    225\u001b[0m         exprs\u001b[39m.\u001b[39minsert(\u001b[39m0\u001b[39m, IntermediateExpr(\u001b[39mFalse\u001b[39;00m, \u001b[39mNone\u001b[39;00m, \u001b[39mTrue\u001b[39;00m, []))\n",
      "File \u001b[1;32mc:\\Users\\Benoj\\AppData\\Local\\Programs\\Python\\Python311\\Lib\\site-packages\\patsy\\desc.py:221\u001b[0m, in \u001b[0;36m<listcomp>\u001b[1;34m(.0)\u001b[0m\n\u001b[0;32m    220\u001b[0m \u001b[39mdef\u001b[39;00m \u001b[39m_eval_any_tilde\u001b[39m(evaluator, tree):\n\u001b[1;32m--> 221\u001b[0m     exprs \u001b[39m=\u001b[39m [evaluator\u001b[39m.\u001b[39;49meval(arg) \u001b[39mfor\u001b[39;00m arg \u001b[39min\u001b[39;00m tree\u001b[39m.\u001b[39margs]    \n\u001b[0;32m    222\u001b[0m     \u001b[39mif\u001b[39;00m \u001b[39mlen\u001b[39m(exprs) \u001b[39m==\u001b[39m \u001b[39m1\u001b[39m:\n\u001b[0;32m    223\u001b[0m         \u001b[39m# Formula was like: \"~ foo\"\u001b[39;00m\n\u001b[0;32m    224\u001b[0m         \u001b[39m# We pretend that instead it was like: \"0 ~ foo\"\u001b[39;00m\n\u001b[0;32m    225\u001b[0m         exprs\u001b[39m.\u001b[39minsert(\u001b[39m0\u001b[39m, IntermediateExpr(\u001b[39mFalse\u001b[39;00m, \u001b[39mNone\u001b[39;00m, \u001b[39mTrue\u001b[39;00m, []))\n",
      "File \u001b[1;32mc:\\Users\\Benoj\\AppData\\Local\\Programs\\Python\\Python311\\Lib\\site-packages\\patsy\\desc.py:400\u001b[0m, in \u001b[0;36mEvaluator.eval\u001b[1;34m(self, tree, require_evalexpr)\u001b[0m\n\u001b[0;32m    396\u001b[0m \u001b[39mif\u001b[39;00m key \u001b[39mnot\u001b[39;00m \u001b[39min\u001b[39;00m \u001b[39mself\u001b[39m\u001b[39m.\u001b[39m_evaluators:\n\u001b[0;32m    397\u001b[0m     \u001b[39mraise\u001b[39;00m PatsyError(\u001b[39m\"\u001b[39m\u001b[39mI don\u001b[39m\u001b[39m'\u001b[39m\u001b[39mt know how to evaluate this \u001b[39m\u001b[39m\"\u001b[39m\n\u001b[0;32m    398\u001b[0m                         \u001b[39m\"\u001b[39m\u001b[39m'\u001b[39m\u001b[39m%s\u001b[39;00m\u001b[39m'\u001b[39m\u001b[39m operator\u001b[39m\u001b[39m\"\u001b[39m \u001b[39m%\u001b[39m (tree\u001b[39m.\u001b[39mtype,),\n\u001b[0;32m    399\u001b[0m                         tree\u001b[39m.\u001b[39mtoken)\n\u001b[1;32m--> 400\u001b[0m result \u001b[39m=\u001b[39m \u001b[39mself\u001b[39;49m\u001b[39m.\u001b[39;49m_evaluators[key](\u001b[39mself\u001b[39;49m, tree)\n\u001b[0;32m    401\u001b[0m \u001b[39mif\u001b[39;00m require_evalexpr \u001b[39mand\u001b[39;00m \u001b[39mnot\u001b[39;00m \u001b[39misinstance\u001b[39m(result, IntermediateExpr):\n\u001b[0;32m    402\u001b[0m     \u001b[39mif\u001b[39;00m \u001b[39misinstance\u001b[39m(result, ModelDesc):\n",
      "File \u001b[1;32mc:\\Users\\Benoj\\AppData\\Local\\Programs\\Python\\Python311\\Lib\\site-packages\\patsy\\desc.py:354\u001b[0m, in \u001b[0;36m_eval_number\u001b[1;34m(evaluator, tree)\u001b[0m\n\u001b[0;32m    353\u001b[0m \u001b[39mdef\u001b[39;00m \u001b[39m_eval_number\u001b[39m(evaluator, tree):\n\u001b[1;32m--> 354\u001b[0m     \u001b[39mraise\u001b[39;00m PatsyError(\u001b[39m\"\u001b[39m\u001b[39mnumbers besides \u001b[39m\u001b[39m'\u001b[39m\u001b[39m0\u001b[39m\u001b[39m'\u001b[39m\u001b[39m and \u001b[39m\u001b[39m'\u001b[39m\u001b[39m1\u001b[39m\u001b[39m'\u001b[39m\u001b[39m are \u001b[39m\u001b[39m\"\u001b[39m\n\u001b[0;32m    355\u001b[0m                         \u001b[39m\"\u001b[39m\u001b[39monly allowed with **\u001b[39m\u001b[39m\"\u001b[39m, tree)\n",
      "\u001b[1;31mPatsyError\u001b[0m: numbers besides '0' and '1' are only allowed with **\n    95000 ~ Avg_Temp + Low_Temp + High_Temp + Total_Precip + Major_Storm + Avg_Wind_Speed + Avail_Flower_Species\n    ^^^^^"
     ]
    }
   ],
   "source": [
    "import statsmodels.api as sm\n",
    "from statsmodels.formula.api import ols\n",
    "\n",
    "'''\n",
    "Fitting a model involves passing two arguments to ols: the general formula as\n",
    "a string and the data set used. Remember that the formula's attributes must\n",
    "match the column names in the dataframe. Then the fit() function is run and\n",
    "then summary() can be applied to that model.\n",
    "'''\n",
    "model = ols(' 95000 ~ Avg_Temp + Low_Temp + High_Temp + Total_Precip + Major_Storm + Avg_Wind_Speed + Avail_Flower_Species', data2).fit()\n",
    "print(model.summary())"
   ]
  }
 ],
 "metadata": {
  "kernelspec": {
   "display_name": "Python 3",
   "language": "python",
   "name": "python3"
  },
  "language_info": {
   "codemirror_mode": {
    "name": "ipython",
    "version": 3
   },
   "file_extension": ".py",
   "mimetype": "text/x-python",
   "name": "python",
   "nbconvert_exporter": "python",
   "pygments_lexer": "ipython3",
   "version": "3.11.2"
  },
  "orig_nbformat": 4
 },
 "nbformat": 4,
 "nbformat_minor": 2
}
