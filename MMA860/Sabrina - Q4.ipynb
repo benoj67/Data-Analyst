{
 "cells": [
  {
   "cell_type": "code",
   "execution_count": 9,
   "id": "16b5a81a",
   "metadata": {},
   "outputs": [],
   "source": [
    "import pandas as pd\n",
    "import os.path as osp\n",
    "import numpy as np"
   ]
  },
  {
   "cell_type": "code",
   "execution_count": 10,
   "id": "3c636407",
   "metadata": {},
   "outputs": [],
   "source": [
    "df =pd.read_excel('/Users/sabrinatammaro/Documents/Education/Queens University/Courses/860 - Acquisition & Management of Data/Assignment#1/MMA860_Assignment1_Data_vf.xlsx', sheet_name = \"Collinearity\")"
   ]
  },
  {
   "cell_type": "code",
   "execution_count": 11,
   "id": "6fafcc99",
   "metadata": {},
   "outputs": [
    {
     "data": {
      "text/html": [
       "<div>\n",
       "<style scoped>\n",
       "    .dataframe tbody tr th:only-of-type {\n",
       "        vertical-align: middle;\n",
       "    }\n",
       "\n",
       "    .dataframe tbody tr th {\n",
       "        vertical-align: top;\n",
       "    }\n",
       "\n",
       "    .dataframe thead th {\n",
       "        text-align: right;\n",
       "    }\n",
       "</style>\n",
       "<table border=\"1\" class=\"dataframe\">\n",
       "  <thead>\n",
       "    <tr style=\"text-align: right;\">\n",
       "      <th></th>\n",
       "      <th>Obs</th>\n",
       "      <th>Y</th>\n",
       "      <th>Experience</th>\n",
       "      <th>Height</th>\n",
       "      <th>Weight</th>\n",
       "    </tr>\n",
       "  </thead>\n",
       "  <tbody>\n",
       "    <tr>\n",
       "      <th>count</th>\n",
       "      <td>100.000000</td>\n",
       "      <td>100.000000</td>\n",
       "      <td>100.000000</td>\n",
       "      <td>100.000000</td>\n",
       "      <td>100.000000</td>\n",
       "    </tr>\n",
       "    <tr>\n",
       "      <th>mean</th>\n",
       "      <td>50.500000</td>\n",
       "      <td>343.490000</td>\n",
       "      <td>2.970000</td>\n",
       "      <td>44.420000</td>\n",
       "      <td>44.940000</td>\n",
       "    </tr>\n",
       "    <tr>\n",
       "      <th>std</th>\n",
       "      <td>29.011492</td>\n",
       "      <td>134.786512</td>\n",
       "      <td>1.258948</td>\n",
       "      <td>29.864062</td>\n",
       "      <td>20.695884</td>\n",
       "    </tr>\n",
       "    <tr>\n",
       "      <th>min</th>\n",
       "      <td>1.000000</td>\n",
       "      <td>8.000000</td>\n",
       "      <td>1.000000</td>\n",
       "      <td>3.000000</td>\n",
       "      <td>6.000000</td>\n",
       "    </tr>\n",
       "    <tr>\n",
       "      <th>25%</th>\n",
       "      <td>25.750000</td>\n",
       "      <td>238.250000</td>\n",
       "      <td>2.000000</td>\n",
       "      <td>17.000000</td>\n",
       "      <td>31.750000</td>\n",
       "    </tr>\n",
       "    <tr>\n",
       "      <th>50%</th>\n",
       "      <td>50.500000</td>\n",
       "      <td>352.000000</td>\n",
       "      <td>3.000000</td>\n",
       "      <td>40.500000</td>\n",
       "      <td>42.000000</td>\n",
       "    </tr>\n",
       "    <tr>\n",
       "      <th>75%</th>\n",
       "      <td>75.250000</td>\n",
       "      <td>438.500000</td>\n",
       "      <td>4.000000</td>\n",
       "      <td>70.500000</td>\n",
       "      <td>58.500000</td>\n",
       "    </tr>\n",
       "    <tr>\n",
       "      <th>max</th>\n",
       "      <td>100.000000</td>\n",
       "      <td>593.000000</td>\n",
       "      <td>5.000000</td>\n",
       "      <td>99.000000</td>\n",
       "      <td>93.000000</td>\n",
       "    </tr>\n",
       "  </tbody>\n",
       "</table>\n",
       "</div>"
      ],
      "text/plain": [
       "              Obs           Y  Experience      Height      Weight\n",
       "count  100.000000  100.000000  100.000000  100.000000  100.000000\n",
       "mean    50.500000  343.490000    2.970000   44.420000   44.940000\n",
       "std     29.011492  134.786512    1.258948   29.864062   20.695884\n",
       "min      1.000000    8.000000    1.000000    3.000000    6.000000\n",
       "25%     25.750000  238.250000    2.000000   17.000000   31.750000\n",
       "50%     50.500000  352.000000    3.000000   40.500000   42.000000\n",
       "75%     75.250000  438.500000    4.000000   70.500000   58.500000\n",
       "max    100.000000  593.000000    5.000000   99.000000   93.000000"
      ]
     },
     "execution_count": 11,
     "metadata": {},
     "output_type": "execute_result"
    }
   ],
   "source": [
    "df.describe()"
   ]
  },
  {
   "cell_type": "code",
   "execution_count": 12,
   "id": "e83ee2bf",
   "metadata": {},
   "outputs": [
    {
     "data": {
      "text/plain": [
       "Obs           int64\n",
       "Y             int64\n",
       "Experience    int64\n",
       "Height        int64\n",
       "Weight        int64\n",
       "dtype: object"
      ]
     },
     "execution_count": 12,
     "metadata": {},
     "output_type": "execute_result"
    }
   ],
   "source": [
    "df.dtypes"
   ]
  },
  {
   "cell_type": "markdown",
   "id": "bed0535a",
   "metadata": {},
   "source": [
    "# question a - 25 observations"
   ]
  },
  {
   "cell_type": "code",
   "execution_count": 13,
   "id": "090a95b2",
   "metadata": {},
   "outputs": [
    {
     "name": "stdout",
     "output_type": "stream",
     "text": [
      "    Obs    Y  Experience  Height  Weight\n",
      "0     1  450           3      52      58\n",
      "1     2  330           3      33      36\n",
      "2     3  505           5      37      52\n",
      "3     4  254           3      44      52\n",
      "4     5  186           2      14      27\n",
      "5     6  118           1      37      39\n",
      "6     7  475           4      65      39\n",
      "7     8  535           5      96      90\n",
      "8     9  415           3      35      40\n",
      "9    10  386           4      28      29\n",
      "10   11  123           1      47      62\n",
      "11   12  450           4       3      36\n",
      "12   13  593           5      91      83\n",
      "13   14  402           3      69      76\n",
      "14   15    8           1      21      19\n",
      "15   16  182           1      53      60\n",
      "16   17  572           4      59      36\n",
      "17   18   77           2       8      26\n",
      "18   19  484           4      78      80\n",
      "19   20  345           4      10      13\n",
      "20   21  185           2       6      25\n",
      "21   22  572           4      76      52\n",
      "22   23  112           2       8      36\n",
      "23   24  491           4      84      79\n",
      "24   25  159           1       3      31\n"
     ]
    }
   ],
   "source": [
    "# question a - 25 observations\n",
    "df_25 = df.iloc[:25]\n",
    "print(df_25)"
   ]
  },
  {
   "cell_type": "code",
   "execution_count": null,
   "id": "2605cfcb",
   "metadata": {},
   "outputs": [],
   "source": []
  },
  {
   "cell_type": "code",
   "execution_count": 14,
   "id": "a78303c1",
   "metadata": {},
   "outputs": [
    {
     "name": "stdout",
     "output_type": "stream",
     "text": [
      "LinearRegression()\n",
      "R-Squared: 0.8784437941387984\n"
     ]
    }
   ],
   "source": [
    "# i OLS Regression Results          \n",
    "from sklearn.linear_model import LinearRegression\n",
    "X = df_25[['Experience','Height']].values\n",
    "Y = df_25['Y'].values\n",
    "\n",
    "reg1 = LinearRegression().fit(X,Y)\n",
    "print(reg1)\n",
    "\n",
    "print(\"R-Squared:\", reg1.score(X,Y))"
   ]
  },
  {
   "cell_type": "code",
   "execution_count": 15,
   "id": "b5aeac19",
   "metadata": {},
   "outputs": [
    {
     "name": "stdout",
     "output_type": "stream",
     "text": [
      "                            OLS Regression Results                            \n",
      "==============================================================================\n",
      "Dep. Variable:                      Y   R-squared:                       0.878\n",
      "Model:                            OLS   Adj. R-squared:                  0.867\n",
      "Method:                 Least Squares   F-statistic:                     79.49\n",
      "Date:                Sat, 18 Mar 2023   Prob (F-statistic):           8.56e-11\n",
      "Time:                        11:36:10   Log-Likelihood:                -138.40\n",
      "No. Observations:                  25   AIC:                             282.8\n",
      "Df Residuals:                      22   BIC:                             286.5\n",
      "Df Model:                           2                                         \n",
      "Covariance Type:            nonrobust                                         \n",
      "==============================================================================\n",
      "                 coef    std err          t      P>|t|      [0.025      0.975]\n",
      "------------------------------------------------------------------------------\n",
      "Intercept    -39.5389     32.685     -1.210      0.239    -107.323      28.245\n",
      "Experience   101.7732     11.530      8.827      0.000      77.861     125.685\n",
      "Height         1.6693      0.533      3.133      0.005       0.564       2.774\n",
      "==============================================================================\n",
      "Omnibus:                        1.284   Durbin-Watson:                   2.380\n",
      "Prob(Omnibus):                  0.526   Jarque-Bera (JB):                0.951\n",
      "Skew:                           0.174   Prob(JB):                        0.621\n",
      "Kurtosis:                       2.110   Cond. No.                         132.\n",
      "==============================================================================\n",
      "\n",
      "Notes:\n",
      "[1] Standard Errors assume that the covariance matrix of the errors is correctly specified.\n"
     ]
    }
   ],
   "source": [
    "import statsmodels.api as sm\n",
    "from statsmodels.formula.api import ols\n",
    "\n",
    "model = ols('Y ~ Experience + Height',df_25).fit()\n",
    "print(model.summary())"
   ]
  },
  {
   "cell_type": "code",
   "execution_count": 16,
   "id": "24375868",
   "metadata": {},
   "outputs": [
    {
     "name": "stdout",
     "output_type": "stream",
     "text": [
      "LinearRegression()\n",
      "R-Squared: 0.8552910073103231\n"
     ]
    }
   ],
   "source": [
    "# ii\n",
    "from sklearn.linear_model import LinearRegression\n",
    "X = df_25[['Experience','Weight']].values\n",
    "Y = df_25['Y'].values\n",
    "\n",
    "reg2 = LinearRegression().fit(X,Y)\n",
    "print(reg2)\n",
    "\n",
    "print(\"R-Squared:\", reg2.score(X,Y))"
   ]
  },
  {
   "cell_type": "code",
   "execution_count": 17,
   "id": "ac4b24f0",
   "metadata": {},
   "outputs": [
    {
     "name": "stdout",
     "output_type": "stream",
     "text": [
      "                            OLS Regression Results                            \n",
      "==============================================================================\n",
      "Dep. Variable:                      Y   R-squared:                       0.855\n",
      "Model:                            OLS   Adj. R-squared:                  0.842\n",
      "Method:                 Least Squares   F-statistic:                     65.01\n",
      "Date:                Sat, 18 Mar 2023   Prob (F-statistic):           5.83e-10\n",
      "Time:                        11:36:15   Log-Likelihood:                -140.58\n",
      "No. Observations:                  25   AIC:                             287.2\n",
      "Df Residuals:                      22   BIC:                             290.8\n",
      "Df Model:                           2                                         \n",
      "Covariance Type:            nonrobust                                         \n",
      "==============================================================================\n",
      "                 coef    std err          t      P>|t|      [0.025      0.975]\n",
      "------------------------------------------------------------------------------\n",
      "Intercept    -69.9322     40.894     -1.710      0.101    -154.742      14.877\n",
      "Experience   110.3854     11.721      9.417      0.000      86.077     134.694\n",
      "Weight         1.5973      0.735      2.174      0.041       0.073       3.121\n",
      "==============================================================================\n",
      "Omnibus:                        0.590   Durbin-Watson:                   2.436\n",
      "Prob(Omnibus):                  0.744   Jarque-Bera (JB):                0.678\n",
      "Skew:                           0.283   Prob(JB):                        0.713\n",
      "Kurtosis:                       2.426   Cond. No.                         150.\n",
      "==============================================================================\n",
      "\n",
      "Notes:\n",
      "[1] Standard Errors assume that the covariance matrix of the errors is correctly specified.\n"
     ]
    }
   ],
   "source": [
    "import statsmodels.api as sm\n",
    "from statsmodels.formula.api import ols\n",
    "\n",
    "model = ols('Y ~ Experience + Weight',df_25).fit()\n",
    "print(model.summary())"
   ]
  },
  {
   "cell_type": "code",
   "execution_count": 18,
   "id": "a190207f",
   "metadata": {},
   "outputs": [
    {
     "name": "stdout",
     "output_type": "stream",
     "text": [
      "LinearRegression()\n",
      "R-Squared: 0.4607036917621956\n"
     ]
    }
   ],
   "source": [
    "# iii\n",
    "from sklearn.linear_model import LinearRegression\n",
    "X = df_25[['Height','Weight']].values\n",
    "Y = df_25['Y'].values\n",
    "\n",
    "reg3 = LinearRegression().fit(X,Y)\n",
    "print(reg3)\n",
    "\n",
    "print(\"R-Squared:\", reg3.score(X,Y))"
   ]
  },
  {
   "cell_type": "code",
   "execution_count": 19,
   "id": "78acc9ee",
   "metadata": {},
   "outputs": [
    {
     "name": "stdout",
     "output_type": "stream",
     "text": [
      "                            OLS Regression Results                            \n",
      "==============================================================================\n",
      "Dep. Variable:                      Y   R-squared:                       0.461\n",
      "Model:                            OLS   Adj. R-squared:                  0.412\n",
      "Method:                 Least Squares   F-statistic:                     9.397\n",
      "Date:                Sat, 18 Mar 2023   Prob (F-statistic):            0.00112\n",
      "Time:                        11:36:37   Log-Likelihood:                -157.02\n",
      "No. Observations:                  25   AIC:                             320.0\n",
      "Df Residuals:                      22   BIC:                             323.7\n",
      "Df Model:                           2                                         \n",
      "Covariance Type:            nonrobust                                         \n",
      "==============================================================================\n",
      "                 coef    std err          t      P>|t|      [0.025      0.975]\n",
      "------------------------------------------------------------------------------\n",
      "Intercept    200.3137     71.521      2.801      0.010      51.988     348.639\n",
      "Height         5.2920      1.907      2.775      0.011       1.337       9.247\n",
      "Weight        -1.8643      2.587     -0.721      0.479      -7.230       3.501\n",
      "==============================================================================\n",
      "Omnibus:                        0.359   Durbin-Watson:                   2.185\n",
      "Prob(Omnibus):                  0.836   Jarque-Bera (JB):                0.019\n",
      "Skew:                          -0.067   Prob(JB):                        0.990\n",
      "Kurtosis:                       3.018   Cond. No.                         186.\n",
      "==============================================================================\n",
      "\n",
      "Notes:\n",
      "[1] Standard Errors assume that the covariance matrix of the errors is correctly specified.\n"
     ]
    }
   ],
   "source": [
    "import statsmodels.api as sm\n",
    "from statsmodels.formula.api import ols\n",
    "\n",
    "model = ols('Y ~ Height + Weight',df_25).fit()\n",
    "print(model.summary())"
   ]
  },
  {
   "cell_type": "markdown",
   "id": "b1de687f",
   "metadata": {},
   "source": [
    "# question a - 100 observations"
   ]
  },
  {
   "cell_type": "code",
   "execution_count": 20,
   "id": "15fe57f2",
   "metadata": {},
   "outputs": [
    {
     "name": "stdout",
     "output_type": "stream",
     "text": [
      "    Obs    Y  Experience  Height  Weight\n",
      "0     1  450           3      52      58\n",
      "1     2  330           3      33      36\n",
      "2     3  505           5      37      52\n",
      "3     4  254           3      44      52\n",
      "4     5  186           2      14      27\n",
      "..  ...  ...         ...     ...     ...\n",
      "95   96  348           4      16      11\n",
      "96   97  383           3      18      46\n",
      "97   98  133           1      94      91\n",
      "98   99  338           3      35      44\n",
      "99  100  294           3      10      24\n",
      "\n",
      "[100 rows x 5 columns]\n"
     ]
    }
   ],
   "source": [
    "df_100 = df.iloc[:100]\n",
    "print(df_100)"
   ]
  },
  {
   "cell_type": "code",
   "execution_count": 21,
   "id": "8335de3f",
   "metadata": {},
   "outputs": [
    {
     "name": "stdout",
     "output_type": "stream",
     "text": [
      "LinearRegression()\n",
      "R-Squared: 0.8401997034725261\n"
     ]
    }
   ],
   "source": [
    "# i \n",
    "from sklearn.linear_model import LinearRegression\n",
    "X = df_100[['Experience','Height']].values\n",
    "Y = df_100['Y'].values\n",
    "\n",
    "reg4 = LinearRegression().fit(X,Y)\n",
    "print(reg1)\n",
    "\n",
    "print(\"R-Squared:\", reg4.score(X,Y))"
   ]
  },
  {
   "cell_type": "code",
   "execution_count": 22,
   "id": "a6c5875c",
   "metadata": {},
   "outputs": [
    {
     "name": "stdout",
     "output_type": "stream",
     "text": [
      "                            OLS Regression Results                            \n",
      "==============================================================================\n",
      "Dep. Variable:                      Y   R-squared:                       0.840\n",
      "Model:                            OLS   Adj. R-squared:                  0.837\n",
      "Method:                 Least Squares   F-statistic:                     255.0\n",
      "Date:                Sat, 18 Mar 2023   Prob (F-statistic):           2.36e-39\n",
      "Time:                        11:36:40   Log-Likelihood:                -540.07\n",
      "No. Observations:                 100   AIC:                             1086.\n",
      "Df Residuals:                      97   BIC:                             1094.\n",
      "Df Model:                           2                                         \n",
      "Covariance Type:            nonrobust                                         \n",
      "==============================================================================\n",
      "                 coef    std err          t      P>|t|      [0.025      0.975]\n",
      "------------------------------------------------------------------------------\n",
      "Intercept      0.9241     16.868      0.055      0.956     -32.555      34.403\n",
      "Experience    96.2549      4.365     22.051      0.000      87.592     104.918\n",
      "Height         1.2762      0.184      6.935      0.000       0.911       1.641\n",
      "==============================================================================\n",
      "Omnibus:                        0.048   Durbin-Watson:                   2.425\n",
      "Prob(Omnibus):                  0.977   Jarque-Bera (JB):                0.080\n",
      "Skew:                           0.046   Prob(JB):                        0.961\n",
      "Kurtosis:                       2.897   Cond. No.                         170.\n",
      "==============================================================================\n",
      "\n",
      "Notes:\n",
      "[1] Standard Errors assume that the covariance matrix of the errors is correctly specified.\n"
     ]
    }
   ],
   "source": [
    "import statsmodels.api as sm\n",
    "from statsmodels.formula.api import ols\n",
    "\n",
    "model = ols('Y ~ Experience + Height',df_100).fit()\n",
    "print(model.summary())"
   ]
  },
  {
   "cell_type": "code",
   "execution_count": 23,
   "id": "3bbeb4c5",
   "metadata": {},
   "outputs": [
    {
     "name": "stdout",
     "output_type": "stream",
     "text": [
      "LinearRegression()\n",
      "R-Squared: 0.817339866650548\n"
     ]
    }
   ],
   "source": [
    "# ii\n",
    "from sklearn.linear_model import LinearRegression\n",
    "X = df_100[['Experience','Weight']].values\n",
    "Y = df_100['Y'].values\n",
    "\n",
    "reg5 = LinearRegression().fit(X,Y)\n",
    "print(reg5)\n",
    "\n",
    "print(\"R-Squared:\", reg5.score(X,Y))"
   ]
  },
  {
   "cell_type": "code",
   "execution_count": 24,
   "id": "6085b16b",
   "metadata": {},
   "outputs": [
    {
     "name": "stdout",
     "output_type": "stream",
     "text": [
      "                            OLS Regression Results                            \n",
      "==============================================================================\n",
      "Dep. Variable:                      Y   R-squared:                       0.817\n",
      "Model:                            OLS   Adj. R-squared:                  0.814\n",
      "Method:                 Least Squares   F-statistic:                     217.0\n",
      "Date:                Sat, 18 Mar 2023   Prob (F-statistic):           1.55e-36\n",
      "Time:                        11:36:41   Log-Likelihood:                -546.75\n",
      "No. Observations:                 100   AIC:                             1100.\n",
      "Df Residuals:                      97   BIC:                             1107.\n",
      "Df Model:                           2                                         \n",
      "Covariance Type:            nonrobust                                         \n",
      "==============================================================================\n",
      "                 coef    std err          t      P>|t|      [0.025      0.975]\n",
      "------------------------------------------------------------------------------\n",
      "Intercept    -10.4614     20.496     -0.510      0.611     -51.141      30.218\n",
      "Experience    95.6817      4.665     20.512      0.000      86.424     104.940\n",
      "Weight         1.5527      0.284      5.472      0.000       0.989       2.116\n",
      "==============================================================================\n",
      "Omnibus:                        0.883   Durbin-Watson:                   2.311\n",
      "Prob(Omnibus):                  0.643   Jarque-Bera (JB):                0.589\n",
      "Skew:                           0.183   Prob(JB):                        0.745\n",
      "Kurtosis:                       3.090   Cond. No.                         177.\n",
      "==============================================================================\n",
      "\n",
      "Notes:\n",
      "[1] Standard Errors assume that the covariance matrix of the errors is correctly specified.\n"
     ]
    }
   ],
   "source": [
    "import statsmodels.api as sm\n",
    "from statsmodels.formula.api import ols\n",
    "\n",
    "model = ols('Y ~ Experience + Weight',df_100).fit()\n",
    "print(model.summary())"
   ]
  },
  {
   "cell_type": "code",
   "execution_count": 29,
   "id": "1b34fe1a",
   "metadata": {},
   "outputs": [
    {
     "name": "stdout",
     "output_type": "stream",
     "text": [
      "LinearRegression()\n",
      "R-Squared: 0.03947500035738194\n"
     ]
    }
   ],
   "source": [
    "# iii\n",
    "from sklearn.linear_model import LinearRegression\n",
    "X = df_100[['Height','Weight']].values\n",
    "Y = df_100['Y'].values\n",
    "\n",
    "reg6 = LinearRegression().fit(X,Y)\n",
    "print(reg6)\n",
    "\n",
    "print(\"R-Squared:\", reg6.score(X,Y))"
   ]
  },
  {
   "cell_type": "code",
   "execution_count": 26,
   "id": "85afb4bd",
   "metadata": {},
   "outputs": [
    {
     "name": "stdout",
     "output_type": "stream",
     "text": [
      "                            OLS Regression Results                            \n",
      "==============================================================================\n",
      "Dep. Variable:                      Y   R-squared:                       0.039\n",
      "Model:                            OLS   Adj. R-squared:                  0.020\n",
      "Method:                 Least Squares   F-statistic:                     1.993\n",
      "Date:                Sat, 18 Mar 2023   Prob (F-statistic):              0.142\n",
      "Time:                        11:36:42   Log-Likelihood:                -629.75\n",
      "No. Observations:                 100   AIC:                             1265.\n",
      "Df Residuals:                      97   BIC:                             1273.\n",
      "Df Model:                           2                                         \n",
      "Covariance Type:            nonrobust                                         \n",
      "==============================================================================\n",
      "                 coef    std err          t      P>|t|      [0.025      0.975]\n",
      "------------------------------------------------------------------------------\n",
      "Intercept    308.1738     33.313      9.251      0.000     242.057     374.291\n",
      "Height         1.0289      0.853      1.206      0.231      -0.664       2.722\n",
      "Weight        -0.2312      1.231     -0.188      0.851      -2.674       2.211\n",
      "==============================================================================\n",
      "Omnibus:                        7.221   Durbin-Watson:                   2.240\n",
      "Prob(Omnibus):                  0.027   Jarque-Bera (JB):                4.577\n",
      "Skew:                          -0.360   Prob(JB):                        0.101\n",
      "Kurtosis:                       2.238   Cond. No.                         180.\n",
      "==============================================================================\n",
      "\n",
      "Notes:\n",
      "[1] Standard Errors assume that the covariance matrix of the errors is correctly specified.\n"
     ]
    }
   ],
   "source": [
    "import statsmodels.api as sm\n",
    "from statsmodels.formula.api import ols\n",
    "\n",
    "model = ols('Y ~ Height + Weight',df_100).fit()\n",
    "print(model.summary())"
   ]
  },
  {
   "cell_type": "code",
   "execution_count": null,
   "id": "4a9006e8",
   "metadata": {},
   "outputs": [],
   "source": [
    "Interpret b. "
   ]
  },
  {
   "cell_type": "code",
   "execution_count": null,
   "id": "04a19ccd",
   "metadata": {},
   "outputs": [],
   "source": []
  }
 ],
 "metadata": {
  "kernelspec": {
   "display_name": "Python 3 (ipykernel)",
   "language": "python",
   "name": "python3"
  },
  "language_info": {
   "codemirror_mode": {
    "name": "ipython",
    "version": 3
   },
   "file_extension": ".py",
   "mimetype": "text/x-python",
   "name": "python",
   "nbconvert_exporter": "python",
   "pygments_lexer": "ipython3",
   "version": "3.9.13"
  }
 },
 "nbformat": 4,
 "nbformat_minor": 5
}
