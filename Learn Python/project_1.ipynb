{
 "metadata": {
  "language_info": {
   "codemirror_mode": {
    "name": "ipython",
    "version": 3
   },
   "file_extension": ".py",
   "mimetype": "text/x-python",
   "name": "python",
   "nbconvert_exporter": "python",
   "pygments_lexer": "ipython3",
   "version": "3.9.5"
  },
  "orig_nbformat": 4,
  "kernelspec": {
   "name": "python3",
   "display_name": "Python 3.9.5 64-bit"
  },
  "interpreter": {
   "hash": "ac59ebe37160ed0dfa835113d9b8498d9f09ceb179beaac4002f036b9467c963"
  }
 },
 "nbformat": 4,
 "nbformat_minor": 2,
 "cells": [
  {
   "source": [
    "Analyzing Mobile Data"
   ],
   "cell_type": "markdown",
   "metadata": {}
  },
  {
   "source": [
    "Our aim in this project is to find mobile app profiles that are profitable for the App Store and Google Play markets. We're working as data analysts for a company that builds Android and iOS mobile apps, and our job is to enable our team of developers to make data-driven decisions with respect to the kind of apps they build."
   ],
   "cell_type": "markdown",
   "metadata": {}
  },
  {
   "source": [
    "At our company, we only build apps that are free to download and install, and our main source of revenue consists of in-app ads. This means that our revenue for any given app is mostly influenced by the number of users that use our app. Our goal for this project is to analyze data to help our developers understand what kinds of apps are likely to attract more users."
   ],
   "cell_type": "markdown",
   "metadata": {}
  },
  {
   "cell_type": "code",
   "execution_count": 35,
   "metadata": {},
   "outputs": [],
   "source": [
    "def explore_data(dataset, start, end, rows_and_columns=False):\n",
    "    dataset_slice = dataset[start:end]    \n",
    "    for row in dataset_slice:\n",
    "        print(row)\n",
    "        print('\\n') # adds a new (empty) line after each row\n",
    "\n",
    "    if rows_and_columns:\n",
    "        print('Number of rows:', len(dataset))\n",
    "        print('Number of columns:', len(dataset[0]))"
   ]
  },
  {
   "cell_type": "code",
   "execution_count": 36,
   "metadata": {},
   "outputs": [],
   "source": [
    "from csv import reader\n",
    "opened_file = open(\"AppleStore.csv\", encoding=\"utf8\")\n",
    "opened_file_2 = open(\"googleplaystore.csv\", encoding=\"utf8\")\n",
    "read_file_2 = reader(opened_file_2)\n",
    "read_file = reader(opened_file)\n",
    "app_data = list(read_file)\n",
    "app_data_2 = list(read_file_2)"
   ]
  },
  {
   "cell_type": "code",
   "execution_count": 37,
   "metadata": {},
   "outputs": [
    {
     "output_type": "stream",
     "name": "stdout",
     "text": [
      "['284882215', 'Facebook', '389879808', 'USD', '0.0', '2974676', '212', '3.5', '3.5', '95.0', '4+', 'Social Networking', '37', '1', '29', '1']\n\n\n['389801252', 'Instagram', '113954816', 'USD', '0.0', '2161558', '1289', '4.5', '4.0', '10.23', '12+', 'Photo & Video', '37', '0', '29', '1']\n\n\n['529479190', 'Clash of Clans', '116476928', 'USD', '0.0', '2130805', '579', '4.5', '4.5', '9.24.12', '9+', 'Games', '38', '5', '18', '1']\n\n\n['284882215', 'Facebook', '389879808', 'USD', '0.0', '2974676', '212', '3.5', '3.5', '95.0', '4+', 'Social Networking', '37', '1', '29', '1']\n\n\n['389801252', 'Instagram', '113954816', 'USD', '0.0', '2161558', '1289', '4.5', '4.0', '10.23', '12+', 'Photo & Video', '37', '0', '29', '1']\n\n\n['529479190', 'Clash of Clans', '116476928', 'USD', '0.0', '2130805', '579', '4.5', '4.5', '9.24.12', '9+', 'Games', '38', '5', '18', '1']\n\n\n"
     ]
    }
   ],
   "source": [
    "explore_data(app_data, 1, 4)\n",
    "explore_data(app_data,1,4)"
   ]
  },
  {
   "cell_type": "code",
   "execution_count": 38,
   "metadata": {},
   "outputs": [
    {
     "output_type": "stream",
     "name": "stdout",
     "text": [
      "['284882215', 'Facebook', '389879808', 'USD', '0.0', '2974676', '212', '3.5', '3.5', '95.0', '4+', 'Social Networking', '37', '1', '29', '1']\n\n\nNumber of rows: 7198\nNumber of columns: 16\n['Photo Editor & Candy Camera & Grid & ScrapBook', 'ART_AND_DESIGN', '4.1', '159', '19M', '10,000+', 'Free', '0', 'Everyone', 'Art & Design', 'January 7, 2018', '1.0.0', '4.0.3 and up']\n\n\nNumber of rows: 10842\nNumber of columns: 13\n"
     ]
    }
   ],
   "source": [
    "explore_data(app_data,1,2,True)\n",
    "explore_data(app_data_2,1,2,True)"
   ]
  },
  {
   "cell_type": "code",
   "execution_count": 39,
   "metadata": {},
   "outputs": [
    {
     "output_type": "stream",
     "name": "stdout",
     "text": [
      "['id', 'track_name', 'size_bytes', 'currency', 'price', 'rating_count_tot', 'rating_count_ver', 'user_rating', 'user_rating_ver', 'ver', 'cont_rating', 'prime_genre', 'sup_devices.num', 'ipadSc_urls.num', 'lang.num', 'vpp_lic']\n['App', 'Category', 'Rating', 'Reviews', 'Size', 'Installs', 'Type', 'Price', 'Content Rating', 'Genres', 'Last Updated', 'Current Ver', 'Android Ver']\n"
     ]
    }
   ],
   "source": [
    "print(app_data[0])\n",
    "print(app_data_2[0])"
   ]
  },
  {
   "cell_type": "code",
   "execution_count": 40,
   "metadata": {},
   "outputs": [
    {
     "output_type": "stream",
     "name": "stdout",
     "text": [
      "rating_count_tot prime_genre\nInstalls Genres\n"
     ]
    }
   ],
   "source": [
    "print(app_data[0][5], app_data[0][11])\n",
    "print(app_data_2[0][5], app_data_2[0][9])"
   ]
  },
  {
   "cell_type": "code",
   "execution_count": 41,
   "metadata": {},
   "outputs": [
    {
     "output_type": "stream",
     "name": "stdout",
     "text": [
      "1.9\n"
     ]
    }
   ],
   "source": [
    "print(app_data_2[10473][1])"
   ]
  },
  {
   "cell_type": "code",
   "execution_count": 42,
   "metadata": {},
   "outputs": [],
   "source": [
    "del app_data_2[10473]"
   ]
  },
  {
   "source": [
    "Once we start to examine the Google play data we realize that there are duplicate rows "
   ],
   "cell_type": "markdown",
   "metadata": {}
  },
  {
   "cell_type": "code",
   "execution_count": 43,
   "metadata": {},
   "outputs": [
    {
     "output_type": "stream",
     "name": "stdout",
     "text": [
      "['Instagram', 'SOCIAL', '4.5', '66577313', 'Varies with device', '1,000,000,000+', 'Free', '0', 'Teen', 'Social', 'July 31, 2018', 'Varies with device', 'Varies with device']\n['Instagram', 'SOCIAL', '4.5', '66577446', 'Varies with device', '1,000,000,000+', 'Free', '0', 'Teen', 'Social', 'July 31, 2018', 'Varies with device', 'Varies with device']\n['Instagram', 'SOCIAL', '4.5', '66577313', 'Varies with device', '1,000,000,000+', 'Free', '0', 'Teen', 'Social', 'July 31, 2018', 'Varies with device', 'Varies with device']\n['Instagram', 'SOCIAL', '4.5', '66509917', 'Varies with device', '1,000,000,000+', 'Free', '0', 'Teen', 'Social', 'July 31, 2018', 'Varies with device', 'Varies with device']\n"
     ]
    }
   ],
   "source": [
    "for app in app_data_2:\n",
    "    name = app[0]\n",
    "    if name == \"Instagram\":\n",
    "        print(app)"
   ]
  },
  {
   "cell_type": "code",
   "execution_count": 44,
   "metadata": {},
   "outputs": [
    {
     "output_type": "stream",
     "name": "stdout",
     "text": [
      "Number of duplicate apps: 1181\n\n\nExamples of duplicate apps: ['Quick PDF Scanner + OCR FREE', 'Box', 'Google My Business', 'ZOOM Cloud Meetings', 'join.me - Simple Meetings', 'Box', 'Zenefits', 'Google Ads', 'Google My Business', 'Slack', 'FreshBooks Classic', 'Insightly CRM', 'QuickBooks Accounting: Invoicing & Expenses', 'HipChat - Chat Built for Teams', 'Xero Accounting Software']\n"
     ]
    }
   ],
   "source": [
    "duplicate_apps = []\n",
    "unique_apps = []\n",
    "\n",
    "for app in app_data_2:\n",
    "    name = app[0]\n",
    "    if name in unique_apps:\n",
    "        duplicate_apps.append(name)\n",
    "    else:\n",
    "        unique_apps.append(name)\n",
    "print(\"Number of duplicate apps:\", len(duplicate_apps))\n",
    "print(\"\\n\")\n",
    "print(\"Examples of duplicate apps:\", duplicate_apps[:15])"
   ]
  },
  {
   "source": [
    "We won't be removing the duplicates values randomly. When we encounter a duplicate we will keep the row with the higest amount of reviews. The reason we are doing this is because the higher the amount of reviews, the more recent the reviews should be."
   ],
   "cell_type": "markdown",
   "metadata": {}
  },
  {
   "cell_type": "code",
   "execution_count": 45,
   "metadata": {},
   "outputs": [
    {
     "output_type": "execute_result",
     "data": {
      "text/plain": [
       "9659"
      ]
     },
     "metadata": {},
     "execution_count": 45
    }
   ],
   "source": [
    "reviews_max = {}\n",
    "\n",
    "for app in app_data_2[1:]:\n",
    "    name = app[0]\n",
    "    n_reviews = float(app[3])\n",
    "    if name in reviews_max and reviews_max[name] < n_reviews:\n",
    "        reviews_max[name] = n_reviews\n",
    "    elif name not in reviews_max:\n",
    "        reviews_max[name] = n_reviews\n",
    "\n",
    "len(reviews_max)"
   ]
  },
  {
   "cell_type": "code",
   "execution_count": 46,
   "metadata": {},
   "outputs": [
    {
     "output_type": "execute_result",
     "data": {
      "text/plain": [
       "9659"
      ]
     },
     "metadata": {},
     "execution_count": 46
    }
   ],
   "source": [
    "android_clean = []\n",
    "already_added = []\n",
    "\n",
    "for app in app_data_2[1:]:\n",
    "    name = app[0]\n",
    "    n_reviews = float(app[3])\n",
    "    if n_reviews == reviews_max[name] and name not in already_added:\n",
    "        android_clean.append(app)\n",
    "        already_added.append(name)\n",
    "len(android_clean)"
   ]
  },
  {
   "source": [
    "We have just completed removing duplicate entries from the android data. To complete this it required two steps. The first step was to determine the highest reviews and store them in a list. The second step was to use the highest reviews to determine which rows to add to a newly created list that would store the android data that had the highest reviews. For the second step we also ensured that duplicates would not be added into the new list for android data as it is possible there would be multiple rows that had the same name and the highest review count."
   ],
   "cell_type": "markdown",
   "metadata": {}
  },
  {
   "cell_type": "code",
   "execution_count": 47,
   "metadata": {},
   "outputs": [
    {
     "output_type": "stream",
     "name": "stdout",
     "text": [
      "True\nFalse\nTrue\nTrue\n"
     ]
    }
   ],
   "source": [
    "def eng_char_check (word):\n",
    "    count = 0\n",
    "    for character in word:\n",
    "        if ord(character) > 127:\n",
    "            count += 1\n",
    "    if count > 3:\n",
    "        return False\n",
    "    else:\n",
    "        return True\n",
    "    \n",
    "print(eng_char_check('Instagram'))\n",
    "print(eng_char_check('爱奇艺PPS -《欢乐颂2》电视剧热播'))\n",
    "print(eng_char_check('Docs To Go™ Free Office Suite'))\n",
    "print(eng_char_check('Instachat 😜'))"
   ]
  },
  {
   "cell_type": "code",
   "execution_count": 48,
   "metadata": {
    "tags": []
   },
   "outputs": [],
   "source": [
    "android_english = []\n",
    "IOS_english = []\n",
    "\n",
    "for row in android_clean:\n",
    "    name = row[0]\n",
    "    if eng_char_check(name):\n",
    "        android_english.append(row)\n",
    "\n",
    "for row in app_data[1:]:\n",
    "    name = row[1]\n",
    "    if eng_char_check(name):\n",
    "        IOS_english.append(row)"
   ]
  },
  {
   "cell_type": "code",
   "execution_count": 49,
   "metadata": {},
   "outputs": [
    {
     "output_type": "stream",
     "name": "stdout",
     "text": [
      "9614\n6183\n"
     ]
    }
   ],
   "source": [
    "print(len(android_english))\n",
    "print(len(IOS_english))"
   ]
  },
  {
   "cell_type": "code",
   "execution_count": 50,
   "metadata": {},
   "outputs": [
    {
     "output_type": "stream",
     "name": "stdout",
     "text": [
      "8864\n3222\n"
     ]
    }
   ],
   "source": [
    "android_free = []\n",
    "IOS_free = []\n",
    "\n",
    "for row in android_english:\n",
    "    price = row[7]\n",
    "    if price == \"0\":\n",
    "        android_free.append(row)\n",
    "\n",
    "for row in IOS_english:\n",
    "    price = row[4]\n",
    "    if price == \"0.0\":\n",
    "        IOS_free.append(row)\n",
    "\n",
    "print(len(android_free))\n",
    "print(len(IOS_free))"
   ]
  },
  {
   "source": [
    "Our business plan is to launch an android and IOS app that attract the most amount of users as our revenue is largely dependent on the amount of users using our apps. We have a three step rollout plan:\n",
    "\n",
    "1. Build a minimal Android version of the app, and add it to the Google Play Store.\n",
    "2. If the app has a good response from users, we then develop it further.\n",
    "3. If the app is profitable after six months, we also build an IOS version of the app and add it to the IOS Store.\n"
   ],
   "cell_type": "markdown",
   "metadata": {}
  },
  {
   "cell_type": "code",
   "execution_count": 51,
   "metadata": {},
   "outputs": [
    {
     "output_type": "stream",
     "name": "stdout",
     "text": [
      "10,000+ 4.0.3 and up\n2974676 95.0\n"
     ]
    }
   ],
   "source": [
    "print(android_free[0][5], android_free[0][12])\n",
    "print(IOS_free[0][5], IOS_free[0][9])"
   ]
  },
  {
   "cell_type": "code",
   "execution_count": 52,
   "metadata": {},
   "outputs": [],
   "source": [
    "def freq_table(dataset, index):\n",
    "    freq = {}\n",
    "    total = 0\n",
    "    for row in dataset:\n",
    "        total += 1\n",
    "        key = row[index]\n",
    "        if key in freq:\n",
    "            freq[key] += 1\n",
    "        else:\n",
    "            freq[key] = 1\n",
    "    freq_percentages = {}\n",
    "    for key in freq:\n",
    "        percentage = (freq[key]/total) * 100\n",
    "        freq_percentages[key] = percentage\n",
    "    return freq_percentages\n",
    "\n",
    "def display_table(dataset, index):\n",
    "    table = freq_table(dataset, index)\n",
    "    table_display = []\n",
    "    for key in table:\n",
    "        key_val_as_tuple = (table[key], key)\n",
    "        table_display.append(key_val_as_tuple)\n",
    "\n",
    "    table_sorted = sorted(table_display, reverse = True)\n",
    "    for entry in table_sorted:\n",
    "        print(entry[1], ':', entry[0])\n"
   ]
  },
  {
   "cell_type": "code",
   "execution_count": 53,
   "metadata": {},
   "outputs": [
    {
     "output_type": "stream",
     "name": "stdout",
     "text": [
      "Tools : 8.449909747292418\nEntertainment : 6.069494584837545\nEducation : 5.347472924187725\nBusiness : 4.591606498194946\nProductivity : 3.892148014440433\nLifestyle : 3.892148014440433\nFinance : 3.7003610108303246\nMedical : 3.531137184115524\nSports : 3.463447653429603\nPersonalization : 3.3167870036101084\nCommunication : 3.2378158844765346\nAction : 3.1024368231046933\nHealth & Fitness : 3.0798736462093865\nPhotography : 2.944494584837545\nNews & Magazines : 2.7978339350180503\nSocial : 2.6624548736462095\nTravel & Local : 2.3240072202166067\nShopping : 2.2450361010830324\nBooks & Reference : 2.1435018050541514\nSimulation : 2.0419675090252705\nDating : 1.861462093862816\nArcade : 1.8501805054151623\nVideo Players & Editors : 1.7712093862815883\nCasual : 1.7599277978339352\nMaps & Navigation : 1.3989169675090252\nFood & Drink : 1.2409747292418771\nPuzzle : 1.128158844765343\nRacing : 0.9927797833935018\nRole Playing : 0.9363718411552346\nLibraries & Demo : 0.9363718411552346\nAuto & Vehicles : 0.9250902527075812\nStrategy : 0.9138086642599278\nHouse & Home : 0.8235559566787004\nWeather : 0.8009927797833934\nEvents : 0.7107400722021661\nAdventure : 0.6768953068592057\nComics : 0.6092057761732852\nBeauty : 0.5979241877256317\nArt & Design : 0.5979241877256317\nParenting : 0.4963898916967509\nCard : 0.45126353790613716\nCasino : 0.42870036101083037\nTrivia : 0.41741877256317694\nEducational;Education : 0.39485559566787\nBoard : 0.3835740072202166\nEducational : 0.3722924187725632\nEducation;Education : 0.33844765342960287\nWord : 0.2594765342960289\nCasual;Pretend Play : 0.236913357400722\nMusic : 0.2030685920577617\nRacing;Action & Adventure : 0.16922382671480143\nPuzzle;Brain Games : 0.16922382671480143\nEntertainment;Music & Video : 0.16922382671480143\nCasual;Brain Games : 0.13537906137184114\nCasual;Action & Adventure : 0.13537906137184114\nArcade;Action & Adventure : 0.12409747292418773\nAction;Action & Adventure : 0.10153429602888085\nEducational;Pretend Play : 0.09025270758122744\nSimulation;Action & Adventure : 0.078971119133574\nParenting;Education : 0.078971119133574\nEntertainment;Brain Games : 0.078971119133574\nBoard;Brain Games : 0.078971119133574\nParenting;Music & Video : 0.06768953068592057\nEducational;Brain Games : 0.06768953068592057\nCasual;Creativity : 0.06768953068592057\nArt & Design;Creativity : 0.06768953068592057\nEducation;Pretend Play : 0.056407942238267145\nRole Playing;Pretend Play : 0.04512635379061372\nEducation;Creativity : 0.04512635379061372\nRole Playing;Action & Adventure : 0.033844765342960284\nPuzzle;Action & Adventure : 0.033844765342960284\nEntertainment;Creativity : 0.033844765342960284\nEntertainment;Action & Adventure : 0.033844765342960284\nEducational;Creativity : 0.033844765342960284\nEducational;Action & Adventure : 0.033844765342960284\nEducation;Music & Video : 0.033844765342960284\nEducation;Brain Games : 0.033844765342960284\nEducation;Action & Adventure : 0.033844765342960284\nAdventure;Action & Adventure : 0.033844765342960284\nVideo Players & Editors;Music & Video : 0.02256317689530686\nSports;Action & Adventure : 0.02256317689530686\nSimulation;Pretend Play : 0.02256317689530686\nPuzzle;Creativity : 0.02256317689530686\nMusic;Music & Video : 0.02256317689530686\nEntertainment;Pretend Play : 0.02256317689530686\nCasual;Education : 0.02256317689530686\nBoard;Action & Adventure : 0.02256317689530686\nVideo Players & Editors;Creativity : 0.01128158844765343\nTrivia;Education : 0.01128158844765343\nTravel & Local;Action & Adventure : 0.01128158844765343\nTools;Education : 0.01128158844765343\nStrategy;Education : 0.01128158844765343\nStrategy;Creativity : 0.01128158844765343\nStrategy;Action & Adventure : 0.01128158844765343\nSimulation;Education : 0.01128158844765343\nRole Playing;Brain Games : 0.01128158844765343\nRacing;Pretend Play : 0.01128158844765343\nPuzzle;Education : 0.01128158844765343\nParenting;Brain Games : 0.01128158844765343\nMusic & Audio;Music & Video : 0.01128158844765343\nLifestyle;Pretend Play : 0.01128158844765343\nLifestyle;Education : 0.01128158844765343\nHealth & Fitness;Education : 0.01128158844765343\nHealth & Fitness;Action & Adventure : 0.01128158844765343\nEntertainment;Education : 0.01128158844765343\nCommunication;Creativity : 0.01128158844765343\nComics;Creativity : 0.01128158844765343\nCasual;Music & Video : 0.01128158844765343\nCard;Action & Adventure : 0.01128158844765343\nBooks & Reference;Education : 0.01128158844765343\nArt & Design;Pretend Play : 0.01128158844765343\nArt & Design;Action & Adventure : 0.01128158844765343\nArcade;Pretend Play : 0.01128158844765343\nAdventure;Education : 0.01128158844765343\n"
     ]
    }
   ],
   "source": [
    "#display_table(IOS_free,-5)\n",
    "#display_table(android_free,1)\n",
    "display_table(android_free,-4)"
   ]
  },
  {
   "cell_type": "code",
   "execution_count": 54,
   "metadata": {},
   "outputs": [
    {
     "output_type": "stream",
     "name": "stdout",
     "text": [
      "Social Networking : 71548.34905660378\n",
      "Photo & Video : 28441.54375\n",
      "Games : 22788.6696905016\n",
      "Music : 57326.530303030304\n",
      "Reference : 74942.11111111111\n",
      "Health & Fitness : 23298.015384615384\n",
      "Weather : 52279.892857142855\n",
      "Utilities : 18684.456790123455\n",
      "Travel : 28243.8\n",
      "Shopping : 26919.690476190477\n",
      "News : 21248.023255813954\n",
      "Navigation : 86090.33333333333\n",
      "Lifestyle : 16485.764705882353\n",
      "Entertainment : 14029.830708661417\n",
      "Food & Drink : 33333.92307692308\n",
      "Sports : 23008.898550724636\n",
      "Book : 39758.5\n",
      "Finance : 31467.944444444445\n",
      "Education : 7003.983050847458\n",
      "Productivity : 21028.410714285714\n",
      "Business : 7491.117647058823\n",
      "Catalogs : 4004.0\n",
      "Medical : 612.0\n"
     ]
    }
   ],
   "source": [
    "genres = {}\n",
    "\n",
    "for row in IOS_free:\n",
    "    genre = row[11]\n",
    "    if genre in genres:\n",
    "        genres[genre] += 1\n",
    "    else:\n",
    "        genres[genre] = 1\n",
    "    \n",
    "for value in genres:\n",
    "    total = 0\n",
    "    len_genre = 0\n",
    "    for row in IOS_free:\n",
    "        genre_app = row[11]\n",
    "        if genre_app == value:\n",
    "            total += float(row[5])\n",
    "            len_genre += 1\n",
    "    average_num_rating = total/len_genre\n",
    "    print(value,\":\",average_num_rating)\n",
    "\n",
    "\n"
   ]
  },
  {
   "cell_type": "code",
   "execution_count": 67,
   "metadata": {
    "tags": []
   },
   "outputs": [
    {
     "output_type": "stream",
     "name": "stdout",
     "text": [
      "ART_AND_DESIGN : 1986335.0877192982\nAUTO_AND_VEHICLES : 647317.8170731707\nBEAUTY : 513151.88679245283\nBOOKS_AND_REFERENCE : 8767811.894736841\nBUSINESS : 1712290.1474201474\nCOMICS : 817657.2727272727\nCOMMUNICATION : 38456119.167247385\nDATING : 854028.8303030303\nEDUCATION : 1833495.145631068\nENTERTAINMENT : 11640705.88235294\nEVENTS : 253542.22222222222\nFINANCE : 1387692.475609756\nFOOD_AND_DRINK : 1924897.7363636363\nHEALTH_AND_FITNESS : 4188821.9853479853\nHOUSE_AND_HOME : 1331540.5616438356\nLIBRARIES_AND_DEMO : 638503.734939759\nLIFESTYLE : 1437816.2687861272\nGAME : 15588015.603248259\nFAMILY : 3695641.8198090694\nMEDICAL : 120550.61980830671\nSOCIAL : 23253652.127118643\nSHOPPING : 7036877.311557789\nPHOTOGRAPHY : 17840110.40229885\nSPORTS : 3638640.1428571427\nTRAVEL_AND_LOCAL : 13984077.710144928\nTOOLS : 10801391.298666667\nPERSONALIZATION : 5201482.6122448975\nPRODUCTIVITY : 16787331.344927534\nPARENTING : 542603.6206896552\nWEATHER : 5074486.197183099\nVIDEO_PLAYERS : 24727872.452830188\nNEWS_AND_MAGAZINES : 9549178.467741935\nMAPS_AND_NAVIGATION : 4056941.7741935486\n"
     ]
    }
   ],
   "source": [
    "Categories = {}\r\n",
    "\r\n",
    "for row in android_free:\r\n",
    "    category = row[1]\r\n",
    "    if category in Categories:\r\n",
    "        Categories[category] += 1\r\n",
    "    else:\r\n",
    "        Categories[category] = 1\r\n",
    "\r\n",
    "for value in Categories:\r\n",
    "    total = 0\r\n",
    "    len_category = 0\r\n",
    "    for row in android_free:\r\n",
    "        category_app = row[1]\r\n",
    "        if category_app == value:\r\n",
    "            n_installs = row[5]\r\n",
    "            n_installs = n_installs.replace(',', '')\r\n",
    "            n_installs = n_installs.replace('+', '')\r\n",
    "            total += float(n_installs)\r\n",
    "            len_category += 1\r\n",
    "    average_n_rating = total/len_category\r\n",
    "    print(value,\":\",average_n_rating)\r\n"
   ]
  }
 ]
}