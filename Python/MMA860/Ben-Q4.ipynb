{
 "cells": [
  {
   "attachments": {},
   "cell_type": "markdown",
   "metadata": {},
   "source": [
    "# Question 4"
   ]
  },
  {
   "cell_type": "code",
   "execution_count": 1,
   "metadata": {},
   "outputs": [],
   "source": [
    "#Import the required libraries\n",
    "import pandas as pd\n",
    "import os.path as osp\n",
    "\n",
    "#Build the path for the data file\n",
    "data_path = osp.join(\n",
    "    osp.curdir,'MMA860_Assignment1_Data_vf.xlsx')\n",
    "\n",
    "#Use the read_excel function to pull data from the 'Sales Data' sheet\n",
    "data = pd.read_excel(\n",
    "    data_path,sheet_name='Collinearity',index_col='Obs')"
   ]
  },
  {
   "attachments": {},
   "cell_type": "markdown",
   "metadata": {},
   "source": [
    "## A. First 25 Observations"
   ]
  },
  {
   "cell_type": "code",
   "execution_count": 2,
   "metadata": {},
   "outputs": [
    {
     "data": {
      "text/plain": [
       "25"
      ]
     },
     "execution_count": 2,
     "metadata": {},
     "output_type": "execute_result"
    }
   ],
   "source": [
    "df1 = data.iloc[:25]\n",
    "df1.shape[0]"
   ]
  },
  {
   "attachments": {},
   "cell_type": "markdown",
   "metadata": {},
   "source": [
    "### i. Experience and Height 25 Observations"
   ]
  },
  {
   "cell_type": "code",
   "execution_count": 3,
   "metadata": {},
   "outputs": [],
   "source": [
    "#Import the required package from sklearn\n",
    "from sklearn.linear_model import LinearRegression\n",
    "\n",
    "'''\n",
    "In order to input data from a pandas dataframe and into a sci-kit function,\n",
    "we need to convert the dataframe series into NumPy Arrays. This can be done\n",
    "with the values function.\n",
    "'''\n",
    "train_X = df1[['Experience','Height']].values\n",
    "train_y = df1['Y'].values\n",
    "\n",
    "'''\n",
    "Fitting data to a regression model requires two arguments, the training X\n",
    "values (independent variables) and the training y values (dependent variables.\n",
    "In general, most fit functions for models follow this format.\n",
    "'''\n",
    "reg = LinearRegression().fit(train_X, train_y)"
   ]
  },
  {
   "cell_type": "code",
   "execution_count": 4,
   "metadata": {},
   "outputs": [
    {
     "name": "stdout",
     "output_type": "stream",
     "text": [
      "-39.53885343199147 [101.77317019   1.66933167] 0.8784437941387984\n"
     ]
    }
   ],
   "source": [
    "print(reg.intercept_, reg.coef_, reg.score(train_X, train_y))"
   ]
  },
  {
   "cell_type": "code",
   "execution_count": 5,
   "metadata": {},
   "outputs": [
    {
     "name": "stdout",
     "output_type": "stream",
     "text": [
      "R-Squared: 0.8784437941387984\n"
     ]
    }
   ],
   "source": [
    "print(\"R-Squared:\", reg.score(train_X, train_y))"
   ]
  },
  {
   "cell_type": "code",
   "execution_count": 6,
   "metadata": {},
   "outputs": [
    {
     "name": "stdout",
     "output_type": "stream",
     "text": [
      "                            OLS Regression Results                            \n",
      "==============================================================================\n",
      "Dep. Variable:                      Y   R-squared:                       0.878\n",
      "Model:                            OLS   Adj. R-squared:                  0.867\n",
      "Method:                 Least Squares   F-statistic:                     79.49\n",
      "Date:                Sun, 19 Mar 2023   Prob (F-statistic):           8.56e-11\n",
      "Time:                        21:30:15   Log-Likelihood:                -138.40\n",
      "No. Observations:                  25   AIC:                             282.8\n",
      "Df Residuals:                      22   BIC:                             286.5\n",
      "Df Model:                           2                                         \n",
      "Covariance Type:            nonrobust                                         \n",
      "==============================================================================\n",
      "                 coef    std err          t      P>|t|      [0.025      0.975]\n",
      "------------------------------------------------------------------------------\n",
      "Intercept    -39.5389     32.685     -1.210      0.239    -107.323      28.245\n",
      "Experience   101.7732     11.530      8.827      0.000      77.861     125.685\n",
      "Height         1.6693      0.533      3.133      0.005       0.564       2.774\n",
      "==============================================================================\n",
      "Omnibus:                        1.284   Durbin-Watson:                   2.380\n",
      "Prob(Omnibus):                  0.526   Jarque-Bera (JB):                0.951\n",
      "Skew:                           0.174   Prob(JB):                        0.621\n",
      "Kurtosis:                       2.110   Cond. No.                         132.\n",
      "==============================================================================\n",
      "\n",
      "Notes:\n",
      "[1] Standard Errors assume that the covariance matrix of the errors is correctly specified.\n"
     ]
    }
   ],
   "source": [
    "import statsmodels.api as sm\n",
    "from statsmodels.formula.api import ols\n",
    "\n",
    "'''\n",
    "Fitting a model involves passing two arguments to ols: the general formula as\n",
    "a string and the data set used. Remember that the formula's attributes must\n",
    "match the column names in the dataframe. Then the fit() function is run and\n",
    "then summary() can be applied to that model.\n",
    "'''\n",
    "model = ols('Y ~ Experience + Height ',df1).fit()\n",
    "print(model.summary())"
   ]
  },
  {
   "attachments": {},
   "cell_type": "markdown",
   "metadata": {},
   "source": [
    "R-Squared is quite close to 1 so our model fits well. Considering the F-statistic is quite high and the associated p-value is very small indicating that the model is statistically significant. We can conclude that there is a statistically significant difference between Experience and Height as the values are less than 0.05. "
   ]
  },
  {
   "attachments": {},
   "cell_type": "markdown",
   "metadata": {},
   "source": [
    "### ii. Experience and Weight 25 Observations"
   ]
  },
  {
   "cell_type": "code",
   "execution_count": 7,
   "metadata": {},
   "outputs": [],
   "source": [
    "\n",
    "train_X = df1[['Experience','Weight']].values\n",
    "train_y = df1['Y'].values\n",
    "\n",
    "reg = LinearRegression().fit(train_X, train_y)"
   ]
  },
  {
   "cell_type": "code",
   "execution_count": 8,
   "metadata": {},
   "outputs": [
    {
     "name": "stdout",
     "output_type": "stream",
     "text": [
      "-69.93221904546533 [110.38535242   1.59728235] 0.8552910073103231\n"
     ]
    }
   ],
   "source": [
    "print(reg.intercept_, reg.coef_, reg.score(train_X, train_y))"
   ]
  },
  {
   "cell_type": "code",
   "execution_count": 9,
   "metadata": {},
   "outputs": [
    {
     "name": "stdout",
     "output_type": "stream",
     "text": [
      "R-Squared: 0.8552910073103231\n"
     ]
    }
   ],
   "source": [
    "print(\"R-Squared:\", reg.score(train_X, train_y))"
   ]
  },
  {
   "cell_type": "code",
   "execution_count": 10,
   "metadata": {},
   "outputs": [
    {
     "name": "stdout",
     "output_type": "stream",
     "text": [
      "                            OLS Regression Results                            \n",
      "==============================================================================\n",
      "Dep. Variable:                      Y   R-squared:                       0.855\n",
      "Model:                            OLS   Adj. R-squared:                  0.842\n",
      "Method:                 Least Squares   F-statistic:                     65.01\n",
      "Date:                Sun, 19 Mar 2023   Prob (F-statistic):           5.83e-10\n",
      "Time:                        21:30:15   Log-Likelihood:                -140.58\n",
      "No. Observations:                  25   AIC:                             287.2\n",
      "Df Residuals:                      22   BIC:                             290.8\n",
      "Df Model:                           2                                         \n",
      "Covariance Type:            nonrobust                                         \n",
      "==============================================================================\n",
      "                 coef    std err          t      P>|t|      [0.025      0.975]\n",
      "------------------------------------------------------------------------------\n",
      "Intercept    -69.9322     40.894     -1.710      0.101    -154.742      14.877\n",
      "Experience   110.3854     11.721      9.417      0.000      86.077     134.694\n",
      "Weight         1.5973      0.735      2.174      0.041       0.073       3.121\n",
      "==============================================================================\n",
      "Omnibus:                        0.590   Durbin-Watson:                   2.436\n",
      "Prob(Omnibus):                  0.744   Jarque-Bera (JB):                0.678\n",
      "Skew:                           0.283   Prob(JB):                        0.713\n",
      "Kurtosis:                       2.426   Cond. No.                         150.\n",
      "==============================================================================\n",
      "\n",
      "Notes:\n",
      "[1] Standard Errors assume that the covariance matrix of the errors is correctly specified.\n"
     ]
    }
   ],
   "source": [
    "model = ols('Y ~ Experience + Weight ',df1).fit()\n",
    "print(model.summary())"
   ]
  },
  {
   "attachments": {},
   "cell_type": "markdown",
   "metadata": {},
   "source": [
    "R-Squared is quite close to 1 so our model fits well. Considering the F-statistic is quite high and the associated p-value is very small indicating that the model is statistically significant. We can conclude that there is a statistically significant difference between Experience and Weight as the values are less than 0.05."
   ]
  },
  {
   "attachments": {},
   "cell_type": "markdown",
   "metadata": {},
   "source": [
    "### iii. Experience, Height and Weight 25 Observations"
   ]
  },
  {
   "cell_type": "code",
   "execution_count": 11,
   "metadata": {},
   "outputs": [],
   "source": [
    "\n",
    "train_X = df1[['Experience','Height','Weight']].values\n",
    "train_y = df1['Y'].values\n",
    "\n",
    "reg = LinearRegression().fit(train_X, train_y)"
   ]
  },
  {
   "cell_type": "code",
   "execution_count": 12,
   "metadata": {},
   "outputs": [
    {
     "name": "stdout",
     "output_type": "stream",
     "text": [
      "-26.536231708071796 [101.12265302   2.05567934  -0.58218218] 0.8796675777527778\n"
     ]
    }
   ],
   "source": [
    "print(reg.intercept_, reg.coef_, reg.score(train_X, train_y))"
   ]
  },
  {
   "cell_type": "code",
   "execution_count": 13,
   "metadata": {},
   "outputs": [
    {
     "name": "stdout",
     "output_type": "stream",
     "text": [
      "R-Squared: 0.8796675777527778\n"
     ]
    }
   ],
   "source": [
    "print(\"R-Squared:\", reg.score(train_X, train_y))"
   ]
  },
  {
   "cell_type": "code",
   "execution_count": 14,
   "metadata": {},
   "outputs": [
    {
     "name": "stdout",
     "output_type": "stream",
     "text": [
      "                            OLS Regression Results                            \n",
      "==============================================================================\n",
      "Dep. Variable:                      Y   R-squared:                       0.880\n",
      "Model:                            OLS   Adj. R-squared:                  0.862\n",
      "Method:                 Least Squares   F-statistic:                     51.17\n",
      "Date:                Sun, 19 Mar 2023   Prob (F-statistic):           7.89e-10\n",
      "Time:                        21:30:15   Log-Likelihood:                -138.27\n",
      "No. Observations:                  25   AIC:                             284.5\n",
      "Df Residuals:                      21   BIC:                             289.4\n",
      "Df Model:                           3                                         \n",
      "Covariance Type:            nonrobust                                         \n",
      "==============================================================================\n",
      "                 coef    std err          t      P>|t|      [0.025      0.975]\n",
      "------------------------------------------------------------------------------\n",
      "Intercept    -26.5362     43.584     -0.609      0.549    -117.173      64.101\n",
      "Experience   101.1227     11.826      8.551      0.000      76.529     125.716\n",
      "Height         2.0557      0.997      2.063      0.052      -0.017       4.128\n",
      "Weight        -0.5822      1.260     -0.462      0.649      -3.202       2.038\n",
      "==============================================================================\n",
      "Omnibus:                        1.275   Durbin-Watson:                   2.351\n",
      "Prob(Omnibus):                  0.529   Jarque-Bera (JB):                0.932\n",
      "Skew:                           0.150   Prob(JB):                        0.628\n",
      "Kurtosis:                       2.103   Cond. No.                         238.\n",
      "==============================================================================\n",
      "\n",
      "Notes:\n",
      "[1] Standard Errors assume that the covariance matrix of the errors is correctly specified.\n"
     ]
    }
   ],
   "source": [
    "model = ols('Y ~ Experience + Height + Weight',df1).fit()\n",
    "print(model.summary())"
   ]
  },
  {
   "attachments": {},
   "cell_type": "markdown",
   "metadata": {},
   "source": [
    "R-Squared is quite close to 1 so our model fits well. Considering the F-statistic is quite high and the associated p-value is very small indicating that the model is statistically significant. We cannot conclude that there is a statistically significant difference between Experience, Height and Weight as the values are not less than 0.05."
   ]
  },
  {
   "attachments": {},
   "cell_type": "markdown",
   "metadata": {},
   "source": [
    "## A. First 100 Observations"
   ]
  },
  {
   "cell_type": "code",
   "execution_count": 15,
   "metadata": {},
   "outputs": [
    {
     "data": {
      "text/plain": [
       "100"
      ]
     },
     "execution_count": 15,
     "metadata": {},
     "output_type": "execute_result"
    }
   ],
   "source": [
    "df2 = data.iloc[:100]\n",
    "df2.shape[0]"
   ]
  },
  {
   "attachments": {},
   "cell_type": "markdown",
   "metadata": {},
   "source": [
    "### i. Experience and Height 100 Observations"
   ]
  },
  {
   "cell_type": "code",
   "execution_count": 16,
   "metadata": {},
   "outputs": [],
   "source": [
    "train_X = df2[['Experience','Height']].values\n",
    "train_y = df2['Y'].values\n",
    "\n",
    "reg = LinearRegression().fit(train_X, train_y)"
   ]
  },
  {
   "cell_type": "code",
   "execution_count": 17,
   "metadata": {},
   "outputs": [
    {
     "name": "stdout",
     "output_type": "stream",
     "text": [
      "0.9241413018725098 [96.25492351  1.27619847] 0.8401997034725263\n"
     ]
    }
   ],
   "source": [
    "print(reg.intercept_, reg.coef_, reg.score(train_X, train_y))"
   ]
  },
  {
   "cell_type": "code",
   "execution_count": 18,
   "metadata": {},
   "outputs": [
    {
     "name": "stdout",
     "output_type": "stream",
     "text": [
      "R-Squared: 0.8401997034725263\n"
     ]
    }
   ],
   "source": [
    "print(\"R-Squared:\", reg.score(train_X, train_y))"
   ]
  },
  {
   "cell_type": "code",
   "execution_count": 19,
   "metadata": {},
   "outputs": [
    {
     "name": "stdout",
     "output_type": "stream",
     "text": [
      "                            OLS Regression Results                            \n",
      "==============================================================================\n",
      "Dep. Variable:                      Y   R-squared:                       0.840\n",
      "Model:                            OLS   Adj. R-squared:                  0.837\n",
      "Method:                 Least Squares   F-statistic:                     255.0\n",
      "Date:                Sun, 19 Mar 2023   Prob (F-statistic):           2.36e-39\n",
      "Time:                        21:30:15   Log-Likelihood:                -540.07\n",
      "No. Observations:                 100   AIC:                             1086.\n",
      "Df Residuals:                      97   BIC:                             1094.\n",
      "Df Model:                           2                                         \n",
      "Covariance Type:            nonrobust                                         \n",
      "==============================================================================\n",
      "                 coef    std err          t      P>|t|      [0.025      0.975]\n",
      "------------------------------------------------------------------------------\n",
      "Intercept      0.9241     16.868      0.055      0.956     -32.555      34.403\n",
      "Experience    96.2549      4.365     22.051      0.000      87.592     104.918\n",
      "Height         1.2762      0.184      6.935      0.000       0.911       1.641\n",
      "==============================================================================\n",
      "Omnibus:                        0.048   Durbin-Watson:                   2.425\n",
      "Prob(Omnibus):                  0.977   Jarque-Bera (JB):                0.080\n",
      "Skew:                           0.046   Prob(JB):                        0.961\n",
      "Kurtosis:                       2.897   Cond. No.                         170.\n",
      "==============================================================================\n",
      "\n",
      "Notes:\n",
      "[1] Standard Errors assume that the covariance matrix of the errors is correctly specified.\n"
     ]
    }
   ],
   "source": [
    "import statsmodels.api as sm\n",
    "from statsmodels.formula.api import ols\n",
    "\n",
    "'''\n",
    "Fitting a model involves passing two arguments to ols: the general formula as\n",
    "a string and the data set used. Remember that the formula's attributes must\n",
    "match the column names in the dataframe. Then the fit() function is run and\n",
    "then summary() can be applied to that model.\n",
    "'''\n",
    "model = ols('Y ~ Experience + Height ',df2).fit()\n",
    "print(model.summary())"
   ]
  },
  {
   "attachments": {},
   "cell_type": "markdown",
   "metadata": {},
   "source": [
    "R-Squared is quite close to 1 so our model fits well. Considering the F-statistic is quite high and the associated p-value is very small indicating that the model is statistically significant. We can conclude that there is a statistically significant difference between Experience and Height as the values are less than 0.05."
   ]
  },
  {
   "attachments": {},
   "cell_type": "markdown",
   "metadata": {},
   "source": [
    "### ii. Experience and Weight 100 Observations"
   ]
  },
  {
   "cell_type": "code",
   "execution_count": 20,
   "metadata": {},
   "outputs": [],
   "source": [
    "\n",
    "train_X = df2[['Experience','Weight']].values\n",
    "train_y = df2['Y'].values\n",
    "\n",
    "reg = LinearRegression().fit(train_X, train_y)"
   ]
  },
  {
   "cell_type": "code",
   "execution_count": 21,
   "metadata": {},
   "outputs": [
    {
     "name": "stdout",
     "output_type": "stream",
     "text": [
      "-10.461390343049572 [95.68169666  1.55266469] 0.817339866650548\n"
     ]
    }
   ],
   "source": [
    "print(reg.intercept_, reg.coef_, reg.score(train_X, train_y))"
   ]
  },
  {
   "cell_type": "code",
   "execution_count": 22,
   "metadata": {},
   "outputs": [
    {
     "name": "stdout",
     "output_type": "stream",
     "text": [
      "R-Squared: 0.817339866650548\n"
     ]
    }
   ],
   "source": [
    "print(\"R-Squared:\", reg.score(train_X, train_y))"
   ]
  },
  {
   "cell_type": "code",
   "execution_count": 23,
   "metadata": {},
   "outputs": [
    {
     "name": "stdout",
     "output_type": "stream",
     "text": [
      "                            OLS Regression Results                            \n",
      "==============================================================================\n",
      "Dep. Variable:                      Y   R-squared:                       0.817\n",
      "Model:                            OLS   Adj. R-squared:                  0.814\n",
      "Method:                 Least Squares   F-statistic:                     217.0\n",
      "Date:                Sun, 19 Mar 2023   Prob (F-statistic):           1.55e-36\n",
      "Time:                        21:30:15   Log-Likelihood:                -546.75\n",
      "No. Observations:                 100   AIC:                             1100.\n",
      "Df Residuals:                      97   BIC:                             1107.\n",
      "Df Model:                           2                                         \n",
      "Covariance Type:            nonrobust                                         \n",
      "==============================================================================\n",
      "                 coef    std err          t      P>|t|      [0.025      0.975]\n",
      "------------------------------------------------------------------------------\n",
      "Intercept    -10.4614     20.496     -0.510      0.611     -51.141      30.218\n",
      "Experience    95.6817      4.665     20.512      0.000      86.424     104.940\n",
      "Weight         1.5527      0.284      5.472      0.000       0.989       2.116\n",
      "==============================================================================\n",
      "Omnibus:                        0.883   Durbin-Watson:                   2.311\n",
      "Prob(Omnibus):                  0.643   Jarque-Bera (JB):                0.589\n",
      "Skew:                           0.183   Prob(JB):                        0.745\n",
      "Kurtosis:                       3.090   Cond. No.                         177.\n",
      "==============================================================================\n",
      "\n",
      "Notes:\n",
      "[1] Standard Errors assume that the covariance matrix of the errors is correctly specified.\n"
     ]
    }
   ],
   "source": [
    "model = ols('Y ~ Experience + Weight ',df2).fit()\n",
    "print(model.summary())"
   ]
  },
  {
   "attachments": {},
   "cell_type": "markdown",
   "metadata": {},
   "source": [
    "R-Squared is quite close to 1 so our model fits well. Considering the F-statistic is quite high and the associated p-value is very small indicating that the model is statistically significant. We can conclude that there is a statistically significant difference between Experience and Weight as the values are less than 0.05."
   ]
  },
  {
   "attachments": {},
   "cell_type": "markdown",
   "metadata": {},
   "source": [
    "### iii. Experience, Height and Weight 100 Observations"
   ]
  },
  {
   "cell_type": "code",
   "execution_count": 24,
   "metadata": {},
   "outputs": [],
   "source": [
    "\n",
    "train_X = df2[['Experience','Height','Weight']].values\n",
    "train_y = df2['Y'].values\n",
    "\n",
    "reg = LinearRegression().fit(train_X, train_y)"
   ]
  },
  {
   "cell_type": "code",
   "execution_count": 25,
   "metadata": {},
   "outputs": [
    {
     "name": "stdout",
     "output_type": "stream",
     "text": [
      "1.5994112714794824 [ 9.62495202e+01  1.29683655e+00 -3.50682168e-02] 0.8402077414371102\n"
     ]
    }
   ],
   "source": [
    "print(reg.intercept_, reg.coef_, reg.score(train_X, train_y))"
   ]
  },
  {
   "cell_type": "code",
   "execution_count": 26,
   "metadata": {},
   "outputs": [
    {
     "name": "stdout",
     "output_type": "stream",
     "text": [
      "R-Squared: 0.8402077414371102\n"
     ]
    }
   ],
   "source": [
    "print(\"R-Squared:\", reg.score(train_X, train_y))"
   ]
  },
  {
   "cell_type": "code",
   "execution_count": 27,
   "metadata": {},
   "outputs": [
    {
     "name": "stdout",
     "output_type": "stream",
     "text": [
      "                            OLS Regression Results                            \n",
      "==============================================================================\n",
      "Dep. Variable:                      Y   R-squared:                       0.840\n",
      "Model:                            OLS   Adj. R-squared:                  0.835\n",
      "Method:                 Least Squares   F-statistic:                     168.3\n",
      "Date:                Sun, 19 Mar 2023   Prob (F-statistic):           4.27e-38\n",
      "Time:                        21:30:15   Log-Likelihood:                -540.07\n",
      "No. Observations:                 100   AIC:                             1088.\n",
      "Df Residuals:                      96   BIC:                             1099.\n",
      "Df Model:                           3                                         \n",
      "Covariance Type:            nonrobust                                         \n",
      "==============================================================================\n",
      "                 coef    std err          t      P>|t|      [0.025      0.975]\n",
      "------------------------------------------------------------------------------\n",
      "Intercept      1.5994     19.543      0.082      0.935     -37.193      40.391\n",
      "Experience    96.2495      4.388     21.933      0.000      87.539     104.960\n",
      "Height         1.2968      0.350      3.707      0.000       0.602       1.991\n",
      "Weight        -0.0351      0.505     -0.069      0.945      -1.037       0.967\n",
      "==============================================================================\n",
      "Omnibus:                        0.045   Durbin-Watson:                   2.427\n",
      "Prob(Omnibus):                  0.978   Jarque-Bera (JB):                0.076\n",
      "Skew:                           0.044   Prob(JB):                        0.963\n",
      "Kurtosis:                       2.899   Cond. No.                         261.\n",
      "==============================================================================\n",
      "\n",
      "Notes:\n",
      "[1] Standard Errors assume that the covariance matrix of the errors is correctly specified.\n"
     ]
    }
   ],
   "source": [
    "model = ols('Y ~ Experience + Height + Weight',df2).fit()\n",
    "print(model.summary())"
   ]
  },
  {
   "attachments": {},
   "cell_type": "markdown",
   "metadata": {},
   "source": [
    "R-Squared is quite close to 1 so our model fits well. Considering the F-statistic is quite high and the associated p-value is very small indicating that the model is statistically significant. We cannot conclude that there is a statistically significant difference between Experience, Weight and Height as the values are not less than 0.05."
   ]
  },
  {
   "attachments": {},
   "cell_type": "markdown",
   "metadata": {},
   "source": [
    "# B. Consider the results you have found from the work above"
   ]
  },
  {
   "attachments": {},
   "cell_type": "markdown",
   "metadata": {},
   "source": [
    "In conducting our analysis, we found that some of the explanatory variables exhibited significant t-statistics, while others did not. When taking a look at the first 25 observations we noticed a correlation between \"experience and height\" and \"experience and weight\". However when using all three variables we did not notice a correlation between \"experience, height and weight\". When taking a look at the first 100 observations we noticed a correlation between \"experience and height\" and \"experience and weight\". However when using all three variables we did not notice a correlation between \"experience, height and weight\". "
   ]
  }
 ],
 "metadata": {
  "kernelspec": {
   "display_name": "Python 3",
   "language": "python",
   "name": "python3"
  },
  "language_info": {
   "codemirror_mode": {
    "name": "ipython",
    "version": 3
   },
   "file_extension": ".py",
   "mimetype": "text/x-python",
   "name": "python",
   "nbconvert_exporter": "python",
   "pygments_lexer": "ipython3",
   "version": "3.11.2"
  },
  "orig_nbformat": 4
 },
 "nbformat": 4,
 "nbformat_minor": 2
}
