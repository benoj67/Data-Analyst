{
 "cells": [
  {
   "cell_type": "code",
   "execution_count": 66,
   "metadata": {},
   "outputs": [],
   "source": [
    "import seaborn\n",
    "import pandas as pd\n",
    "\n",
    "airfares = pd.read_csv(\"Airfares.csv\")"
   ]
  },
  {
   "cell_type": "code",
   "execution_count": 67,
   "metadata": {},
   "outputs": [
    {
     "data": {
      "text/plain": [
       "S_CODE       object\n",
       "S_CITY       object\n",
       "E_CODE       object\n",
       "E_CITY       object\n",
       "COUPON      float64\n",
       "NEW           int64\n",
       "VACATION     object\n",
       "SW           object\n",
       "HI          float64\n",
       "S_INCOME    float64\n",
       "E_INCOME    float64\n",
       "S_POP         int64\n",
       "E_POP         int64\n",
       "SLOT         object\n",
       "GATE         object\n",
       "DISTANCE      int64\n",
       "PAX           int64\n",
       "FARE        float64\n",
       "dtype: object"
      ]
     },
     "execution_count": 67,
     "metadata": {},
     "output_type": "execute_result"
    }
   ],
   "source": [
    "airfares.dtypes"
   ]
  },
  {
   "cell_type": "code",
   "execution_count": 68,
   "metadata": {},
   "outputs": [
    {
     "data": {
      "text/html": [
       "<div>\n",
       "<style scoped>\n",
       "    .dataframe tbody tr th:only-of-type {\n",
       "        vertical-align: middle;\n",
       "    }\n",
       "\n",
       "    .dataframe tbody tr th {\n",
       "        vertical-align: top;\n",
       "    }\n",
       "\n",
       "    .dataframe thead th {\n",
       "        text-align: right;\n",
       "    }\n",
       "</style>\n",
       "<table border=\"1\" class=\"dataframe\">\n",
       "  <thead>\n",
       "    <tr style=\"text-align: right;\">\n",
       "      <th></th>\n",
       "      <th>COUPON</th>\n",
       "      <th>NEW</th>\n",
       "      <th>HI</th>\n",
       "      <th>S_INCOME</th>\n",
       "      <th>E_INCOME</th>\n",
       "      <th>S_POP</th>\n",
       "      <th>E_POP</th>\n",
       "      <th>DISTANCE</th>\n",
       "      <th>PAX</th>\n",
       "      <th>FARE</th>\n",
       "    </tr>\n",
       "  </thead>\n",
       "  <tbody>\n",
       "    <tr>\n",
       "      <th>count</th>\n",
       "      <td>638.000000</td>\n",
       "      <td>638.000000</td>\n",
       "      <td>638.000000</td>\n",
       "      <td>638.000000</td>\n",
       "      <td>638.000000</td>\n",
       "      <td>6.380000e+02</td>\n",
       "      <td>6.380000e+02</td>\n",
       "      <td>638.000000</td>\n",
       "      <td>638.000000</td>\n",
       "      <td>638.000000</td>\n",
       "    </tr>\n",
       "    <tr>\n",
       "      <th>mean</th>\n",
       "      <td>1.202335</td>\n",
       "      <td>2.753918</td>\n",
       "      <td>4442.141129</td>\n",
       "      <td>27759.860502</td>\n",
       "      <td>27663.727273</td>\n",
       "      <td>4.557004e+06</td>\n",
       "      <td>3.194503e+06</td>\n",
       "      <td>975.653605</td>\n",
       "      <td>12782.214734</td>\n",
       "      <td>160.876677</td>\n",
       "    </tr>\n",
       "    <tr>\n",
       "      <th>std</th>\n",
       "      <td>0.203821</td>\n",
       "      <td>0.760448</td>\n",
       "      <td>1724.267051</td>\n",
       "      <td>3596.207837</td>\n",
       "      <td>4611.325018</td>\n",
       "      <td>3.010985e+06</td>\n",
       "      <td>2.735604e+06</td>\n",
       "      <td>646.242403</td>\n",
       "      <td>13202.228860</td>\n",
       "      <td>76.022436</td>\n",
       "    </tr>\n",
       "    <tr>\n",
       "      <th>min</th>\n",
       "      <td>1.000000</td>\n",
       "      <td>0.000000</td>\n",
       "      <td>1230.480000</td>\n",
       "      <td>14600.000000</td>\n",
       "      <td>14600.000000</td>\n",
       "      <td>2.983800e+04</td>\n",
       "      <td>1.117450e+05</td>\n",
       "      <td>114.000000</td>\n",
       "      <td>1504.000000</td>\n",
       "      <td>42.470000</td>\n",
       "    </tr>\n",
       "    <tr>\n",
       "      <th>25%</th>\n",
       "      <td>1.040000</td>\n",
       "      <td>3.000000</td>\n",
       "      <td>3090.137500</td>\n",
       "      <td>24706.000000</td>\n",
       "      <td>23903.000000</td>\n",
       "      <td>1.862106e+06</td>\n",
       "      <td>1.228816e+06</td>\n",
       "      <td>455.000000</td>\n",
       "      <td>5328.500000</td>\n",
       "      <td>106.290000</td>\n",
       "    </tr>\n",
       "    <tr>\n",
       "      <th>50%</th>\n",
       "      <td>1.150000</td>\n",
       "      <td>3.000000</td>\n",
       "      <td>4208.185000</td>\n",
       "      <td>28637.000000</td>\n",
       "      <td>26409.000000</td>\n",
       "      <td>3.532657e+06</td>\n",
       "      <td>2.195215e+06</td>\n",
       "      <td>850.000000</td>\n",
       "      <td>7792.000000</td>\n",
       "      <td>144.600000</td>\n",
       "    </tr>\n",
       "    <tr>\n",
       "      <th>75%</th>\n",
       "      <td>1.297500</td>\n",
       "      <td>3.000000</td>\n",
       "      <td>5480.575000</td>\n",
       "      <td>29693.500000</td>\n",
       "      <td>31981.000000</td>\n",
       "      <td>7.830332e+06</td>\n",
       "      <td>4.549784e+06</td>\n",
       "      <td>1306.250000</td>\n",
       "      <td>14090.500000</td>\n",
       "      <td>209.350000</td>\n",
       "    </tr>\n",
       "    <tr>\n",
       "      <th>max</th>\n",
       "      <td>1.940000</td>\n",
       "      <td>3.000000</td>\n",
       "      <td>10000.000000</td>\n",
       "      <td>38813.000000</td>\n",
       "      <td>38813.000000</td>\n",
       "      <td>9.056076e+06</td>\n",
       "      <td>9.056076e+06</td>\n",
       "      <td>2764.000000</td>\n",
       "      <td>73892.000000</td>\n",
       "      <td>402.020000</td>\n",
       "    </tr>\n",
       "  </tbody>\n",
       "</table>\n",
       "</div>"
      ],
      "text/plain": [
       "           COUPON         NEW            HI      S_INCOME      E_INCOME  \\\n",
       "count  638.000000  638.000000    638.000000    638.000000    638.000000   \n",
       "mean     1.202335    2.753918   4442.141129  27759.860502  27663.727273   \n",
       "std      0.203821    0.760448   1724.267051   3596.207837   4611.325018   \n",
       "min      1.000000    0.000000   1230.480000  14600.000000  14600.000000   \n",
       "25%      1.040000    3.000000   3090.137500  24706.000000  23903.000000   \n",
       "50%      1.150000    3.000000   4208.185000  28637.000000  26409.000000   \n",
       "75%      1.297500    3.000000   5480.575000  29693.500000  31981.000000   \n",
       "max      1.940000    3.000000  10000.000000  38813.000000  38813.000000   \n",
       "\n",
       "              S_POP         E_POP     DISTANCE           PAX        FARE  \n",
       "count  6.380000e+02  6.380000e+02   638.000000    638.000000  638.000000  \n",
       "mean   4.557004e+06  3.194503e+06   975.653605  12782.214734  160.876677  \n",
       "std    3.010985e+06  2.735604e+06   646.242403  13202.228860   76.022436  \n",
       "min    2.983800e+04  1.117450e+05   114.000000   1504.000000   42.470000  \n",
       "25%    1.862106e+06  1.228816e+06   455.000000   5328.500000  106.290000  \n",
       "50%    3.532657e+06  2.195215e+06   850.000000   7792.000000  144.600000  \n",
       "75%    7.830332e+06  4.549784e+06  1306.250000  14090.500000  209.350000  \n",
       "max    9.056076e+06  9.056076e+06  2764.000000  73892.000000  402.020000  "
      ]
     },
     "execution_count": 68,
     "metadata": {},
     "output_type": "execute_result"
    }
   ],
   "source": [
    "airfares.describe()"
   ]
  },
  {
   "cell_type": "code",
   "execution_count": 69,
   "metadata": {},
   "outputs": [
    {
     "data": {
      "text/plain": [
       "S_CODE      0\n",
       "S_CITY      0\n",
       "E_CODE      0\n",
       "E_CITY      0\n",
       "COUPON      0\n",
       "NEW         0\n",
       "VACATION    0\n",
       "SW          0\n",
       "HI          0\n",
       "S_INCOME    0\n",
       "E_INCOME    0\n",
       "S_POP       0\n",
       "E_POP       0\n",
       "SLOT        0\n",
       "GATE        0\n",
       "DISTANCE    0\n",
       "PAX         0\n",
       "FARE        0\n",
       "dtype: int64"
      ]
     },
     "execution_count": 69,
     "metadata": {},
     "output_type": "execute_result"
    }
   ],
   "source": [
    "airfares.isna().sum()"
   ]
  },
  {
   "cell_type": "code",
   "execution_count": 70,
   "metadata": {},
   "outputs": [],
   "source": [
    "target='FARE'\n",
    "predictors=['COUPON', 'NEW', 'HI', 'S_INCOME', 'E_INCOME', 'S_POP', 'E_POP', 'DISTANCE', 'PAX']"
   ]
  },
  {
   "cell_type": "code",
   "execution_count": 71,
   "metadata": {},
   "outputs": [],
   "source": [
    "from sklearn.model_selection import train_test_split\n",
    "X=pd.get_dummies(airfares[predictors])\n",
    "y=airfares[target]\n",
    "X_train, X_test, y_train, y_test = train_test_split(X,y,test_size=0.3, random_state=0) \n",
    "#we set random state so we all get the same answers!"
   ]
  },
  {
   "cell_type": "code",
   "execution_count": 72,
   "metadata": {},
   "outputs": [
    {
     "data": {
      "text/plain": [
       "233572.14690901214"
      ]
     },
     "execution_count": 72,
     "metadata": {},
     "output_type": "execute_result"
    }
   ],
   "source": [
    "#Ridge model first - make sure we optimize alpha!\n",
    "import numpy as np\n",
    "from sklearn import linear_model\n",
    "\n",
    "\n",
    "reg = linear_model.RidgeCV(alphas=np.logspace(-6, 6, 20))\n",
    "reg.fit(X_train, y_train)\n",
    "reg.alpha_"
   ]
  },
  {
   "cell_type": "code",
   "execution_count": 73,
   "metadata": {},
   "outputs": [
    {
     "name": "stdout",
     "output_type": "stream",
     "text": [
      "0.6921807443339782\n"
     ]
    }
   ],
   "source": [
    "from sklearn import metrics\n",
    "r2=metrics.r2_score(y_train, reg.predict(X_train))\n",
    "print(r2)\n"
   ]
  },
  {
   "cell_type": "code",
   "execution_count": 74,
   "metadata": {},
   "outputs": [
    {
     "name": "stdout",
     "output_type": "stream",
     "text": [
      "0.697542411525605\n"
     ]
    }
   ],
   "source": [
    "r2=metrics.r2_score(y_test, reg.predict(X_test))\n",
    "print(r2)"
   ]
  },
  {
   "cell_type": "code",
   "execution_count": 75,
   "metadata": {},
   "outputs": [
    {
     "data": {
      "text/plain": [
       "54410.31384783662"
      ]
     },
     "execution_count": 75,
     "metadata": {},
     "output_type": "execute_result"
    }
   ],
   "source": [
    "#let sklearn do it all for you \n",
    "reg2 = linear_model.LassoCV(cv=10)\n",
    "reg2.fit(X_train, y_train)\n",
    "reg2.alpha_"
   ]
  },
  {
   "cell_type": "code",
   "execution_count": 76,
   "metadata": {},
   "outputs": [
    {
     "name": "stdout",
     "output_type": "stream",
     "text": [
      "0.261986862176392\n"
     ]
    }
   ],
   "source": [
    "r2=metrics.r2_score(y_train, reg2.predict(X_train))\n",
    "print(r2)"
   ]
  },
  {
   "cell_type": "code",
   "execution_count": 77,
   "metadata": {},
   "outputs": [
    {
     "name": "stdout",
     "output_type": "stream",
     "text": [
      "0.24729843048655242\n"
     ]
    }
   ],
   "source": [
    "r2=metrics.r2_score(y_test, reg2.predict(X_test))\n",
    "print(r2)"
   ]
  },
  {
   "cell_type": "code",
   "execution_count": 78,
   "metadata": {},
   "outputs": [
    {
     "data": {
      "text/plain": [
       "54410.31384783662"
      ]
     },
     "execution_count": 78,
     "metadata": {},
     "output_type": "execute_result"
    }
   ],
   "source": [
    "#elastic net has two parameters: you could gridsearch and let sklearn do its thing\n",
    "reg3 = linear_model.ElasticNetCV(cv=10, l1_ratio = [.1, .5, .7, .9, .95, .99, 1])\n",
    "reg3.fit(X_train, y_train)\n",
    "reg3.alpha_"
   ]
  },
  {
   "cell_type": "code",
   "execution_count": 79,
   "metadata": {},
   "outputs": [
    {
     "name": "stdout",
     "output_type": "stream",
     "text": [
      "0.261986862176392\n"
     ]
    }
   ],
   "source": [
    "r2=metrics.r2_score(y_train, reg3.predict(X_train))\n",
    "print(r2)"
   ]
  },
  {
   "cell_type": "code",
   "execution_count": 80,
   "metadata": {},
   "outputs": [
    {
     "name": "stdout",
     "output_type": "stream",
     "text": [
      "0.24729843048655242\n"
     ]
    }
   ],
   "source": [
    "r2=metrics.r2_score(y_test, reg3.predict(X_test))\n",
    "print(r2)"
   ]
  }
 ],
 "metadata": {
  "kernelspec": {
   "display_name": "Python 3",
   "language": "python",
   "name": "python3"
  },
  "language_info": {
   "codemirror_mode": {
    "name": "ipython",
    "version": 3
   },
   "file_extension": ".py",
   "mimetype": "text/x-python",
   "name": "python",
   "nbconvert_exporter": "python",
   "pygments_lexer": "ipython3",
   "version": "3.11.2"
  },
  "orig_nbformat": 4
 },
 "nbformat": 4,
 "nbformat_minor": 2
}
