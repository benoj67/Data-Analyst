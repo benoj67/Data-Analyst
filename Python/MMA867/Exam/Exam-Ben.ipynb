{
 "cells": [
  {
   "cell_type": "code",
   "execution_count": 20,
   "metadata": {},
   "outputs": [
    {
     "name": "stdout",
     "output_type": "stream",
     "text": [
      "<class 'pandas.core.frame.DataFrame'>\n",
      "RangeIndex: 23758 entries, 0 to 23757\n",
      "Columns: 269 entries, VPUMFID to VF_65P\n",
      "dtypes: float64(1), int64(267), object(1)\n",
      "memory usage: 48.8+ MB\n"
     ]
    }
   ],
   "source": [
    "#First we import our data from the appropriate file\n",
    "#Import the required libraries\n",
    "import pandas as pd\n",
    "import os.path as osp\n",
    "import numpy as np\n",
    "\n",
    "#Build the path for the data file\n",
    "data_path = osp.join(\n",
    "    osp.curdir,'VTS_2018_PUMF_CSV.xlsx')\n",
    "\n",
    "#Use the read_excel function to pull data from the 'Sales Data' sheet\n",
    "data = pd.read_excel(\n",
    "    data_path,sheet_name='VTS_2018_PUMF')\n",
    "\n",
    "# Drop Obs column\n",
    "data.info()"
   ]
  },
  {
   "cell_type": "code",
   "execution_count": 21,
   "metadata": {},
   "outputs": [
    {
     "data": {
      "text/html": [
       "<div>\n",
       "<style scoped>\n",
       "    .dataframe tbody tr th:only-of-type {\n",
       "        vertical-align: middle;\n",
       "    }\n",
       "\n",
       "    .dataframe tbody tr th {\n",
       "        vertical-align: top;\n",
       "    }\n",
       "\n",
       "    .dataframe thead th {\n",
       "        text-align: right;\n",
       "    }\n",
       "</style>\n",
       "<table border=\"1\" class=\"dataframe\">\n",
       "  <thead>\n",
       "    <tr style=\"text-align: right;\">\n",
       "      <th></th>\n",
       "      <th>VPUMFID</th>\n",
       "      <th>VQUARTER</th>\n",
       "      <th>VPRVENTP</th>\n",
       "      <th>VTPSZE</th>\n",
       "      <th>VRSN3P</th>\n",
       "      <th>VMODENTP</th>\n",
       "      <th>VRTEN</th>\n",
       "      <th>VRTEX</th>\n",
       "      <th>VCFARE1</th>\n",
       "      <th>VCFARE2</th>\n",
       "      <th>...</th>\n",
       "      <th>VM45_54P</th>\n",
       "      <th>VM55_64P</th>\n",
       "      <th>VM_65P</th>\n",
       "      <th>VF0_17P</th>\n",
       "      <th>VF18_24P</th>\n",
       "      <th>VF25_34P</th>\n",
       "      <th>VF35_44P</th>\n",
       "      <th>VF45_54P</th>\n",
       "      <th>VF55_64P</th>\n",
       "      <th>VF_65P</th>\n",
       "    </tr>\n",
       "  </thead>\n",
       "  <tbody>\n",
       "    <tr>\n",
       "      <th>0</th>\n",
       "      <td>100000</td>\n",
       "      <td>3</td>\n",
       "      <td>35</td>\n",
       "      <td>5</td>\n",
       "      <td>1</td>\n",
       "      <td>2</td>\n",
       "      <td>1</td>\n",
       "      <td>1</td>\n",
       "      <td>6</td>\n",
       "      <td>6</td>\n",
       "      <td>...</td>\n",
       "      <td>0</td>\n",
       "      <td>0</td>\n",
       "      <td>0</td>\n",
       "      <td>1</td>\n",
       "      <td>0</td>\n",
       "      <td>1</td>\n",
       "      <td>0</td>\n",
       "      <td>0</td>\n",
       "      <td>0</td>\n",
       "      <td>0</td>\n",
       "    </tr>\n",
       "    <tr>\n",
       "      <th>1</th>\n",
       "      <td>100001</td>\n",
       "      <td>2</td>\n",
       "      <td>35</td>\n",
       "      <td>2</td>\n",
       "      <td>1</td>\n",
       "      <td>2</td>\n",
       "      <td>1</td>\n",
       "      <td>1</td>\n",
       "      <td>6</td>\n",
       "      <td>6</td>\n",
       "      <td>...</td>\n",
       "      <td>0</td>\n",
       "      <td>1</td>\n",
       "      <td>1</td>\n",
       "      <td>0</td>\n",
       "      <td>0</td>\n",
       "      <td>0</td>\n",
       "      <td>0</td>\n",
       "      <td>0</td>\n",
       "      <td>0</td>\n",
       "      <td>0</td>\n",
       "    </tr>\n",
       "    <tr>\n",
       "      <th>2</th>\n",
       "      <td>100002</td>\n",
       "      <td>4</td>\n",
       "      <td>35</td>\n",
       "      <td>1</td>\n",
       "      <td>10</td>\n",
       "      <td>1</td>\n",
       "      <td>2</td>\n",
       "      <td>2</td>\n",
       "      <td>2</td>\n",
       "      <td>2</td>\n",
       "      <td>...</td>\n",
       "      <td>0</td>\n",
       "      <td>0</td>\n",
       "      <td>0</td>\n",
       "      <td>0</td>\n",
       "      <td>0</td>\n",
       "      <td>0</td>\n",
       "      <td>0</td>\n",
       "      <td>0</td>\n",
       "      <td>0</td>\n",
       "      <td>0</td>\n",
       "    </tr>\n",
       "    <tr>\n",
       "      <th>3</th>\n",
       "      <td>100003</td>\n",
       "      <td>3</td>\n",
       "      <td>59</td>\n",
       "      <td>2</td>\n",
       "      <td>5</td>\n",
       "      <td>2</td>\n",
       "      <td>1</td>\n",
       "      <td>1</td>\n",
       "      <td>6</td>\n",
       "      <td>6</td>\n",
       "      <td>...</td>\n",
       "      <td>0</td>\n",
       "      <td>0</td>\n",
       "      <td>0</td>\n",
       "      <td>0</td>\n",
       "      <td>0</td>\n",
       "      <td>0</td>\n",
       "      <td>1</td>\n",
       "      <td>0</td>\n",
       "      <td>0</td>\n",
       "      <td>0</td>\n",
       "    </tr>\n",
       "    <tr>\n",
       "      <th>4</th>\n",
       "      <td>100004</td>\n",
       "      <td>2</td>\n",
       "      <td>24</td>\n",
       "      <td>1</td>\n",
       "      <td>2</td>\n",
       "      <td>1</td>\n",
       "      <td>2</td>\n",
       "      <td>2</td>\n",
       "      <td>2</td>\n",
       "      <td>2</td>\n",
       "      <td>...</td>\n",
       "      <td>1</td>\n",
       "      <td>0</td>\n",
       "      <td>0</td>\n",
       "      <td>0</td>\n",
       "      <td>0</td>\n",
       "      <td>0</td>\n",
       "      <td>0</td>\n",
       "      <td>0</td>\n",
       "      <td>0</td>\n",
       "      <td>0</td>\n",
       "    </tr>\n",
       "  </tbody>\n",
       "</table>\n",
       "<p>5 rows × 269 columns</p>\n",
       "</div>"
      ],
      "text/plain": [
       "   VPUMFID  VQUARTER  VPRVENTP  VTPSZE  VRSN3P  VMODENTP  VRTEN  VRTEX  \\\n",
       "0   100000         3        35       5       1         2      1      1   \n",
       "1   100001         2        35       2       1         2      1      1   \n",
       "2   100002         4        35       1      10         1      2      2   \n",
       "3   100003         3        59       2       5         2      1      1   \n",
       "4   100004         2        24       1       2         1      2      2   \n",
       "\n",
       "   VCFARE1  VCFARE2  ...  VM45_54P  VM55_64P  VM_65P  VF0_17P  VF18_24P  \\\n",
       "0        6        6  ...         0         0       0        1         0   \n",
       "1        6        6  ...         0         1       1        0         0   \n",
       "2        2        2  ...         0         0       0        0         0   \n",
       "3        6        6  ...         0         0       0        0         0   \n",
       "4        2        2  ...         1         0       0        0         0   \n",
       "\n",
       "   VF25_34P  VF35_44P  VF45_54P  VF55_64P  VF_65P  \n",
       "0         1         0         0         0       0  \n",
       "1         0         0         0         0       0  \n",
       "2         0         0         0         0       0  \n",
       "3         0         1         0         0       0  \n",
       "4         0         0         0         0       0  \n",
       "\n",
       "[5 rows x 269 columns]"
      ]
     },
     "execution_count": 21,
     "metadata": {},
     "output_type": "execute_result"
    }
   ],
   "source": [
    "data.head()"
   ]
  },
  {
   "cell_type": "code",
   "execution_count": 22,
   "metadata": {},
   "outputs": [],
   "source": [
    "from sklearn.model_selection import train_test_split\n",
    "y=data['VTRNIN02']\n",
    "X=data.drop(columns=['VTRNIN02','VPUMFID', 'VERDATE'])\n",
    "X_train, X_test, y_train, y_test = train_test_split(X,y,test_size=0.3, random_state=0)"
   ]
  },
  {
   "cell_type": "code",
   "execution_count": 23,
   "metadata": {},
   "outputs": [
    {
     "data": {
      "text/html": [
       "<style>#sk-container-id-3 {color: black;background-color: white;}#sk-container-id-3 pre{padding: 0;}#sk-container-id-3 div.sk-toggleable {background-color: white;}#sk-container-id-3 label.sk-toggleable__label {cursor: pointer;display: block;width: 100%;margin-bottom: 0;padding: 0.3em;box-sizing: border-box;text-align: center;}#sk-container-id-3 label.sk-toggleable__label-arrow:before {content: \"▸\";float: left;margin-right: 0.25em;color: #696969;}#sk-container-id-3 label.sk-toggleable__label-arrow:hover:before {color: black;}#sk-container-id-3 div.sk-estimator:hover label.sk-toggleable__label-arrow:before {color: black;}#sk-container-id-3 div.sk-toggleable__content {max-height: 0;max-width: 0;overflow: hidden;text-align: left;background-color: #f0f8ff;}#sk-container-id-3 div.sk-toggleable__content pre {margin: 0.2em;color: black;border-radius: 0.25em;background-color: #f0f8ff;}#sk-container-id-3 input.sk-toggleable__control:checked~div.sk-toggleable__content {max-height: 200px;max-width: 100%;overflow: auto;}#sk-container-id-3 input.sk-toggleable__control:checked~label.sk-toggleable__label-arrow:before {content: \"▾\";}#sk-container-id-3 div.sk-estimator input.sk-toggleable__control:checked~label.sk-toggleable__label {background-color: #d4ebff;}#sk-container-id-3 div.sk-label input.sk-toggleable__control:checked~label.sk-toggleable__label {background-color: #d4ebff;}#sk-container-id-3 input.sk-hidden--visually {border: 0;clip: rect(1px 1px 1px 1px);clip: rect(1px, 1px, 1px, 1px);height: 1px;margin: -1px;overflow: hidden;padding: 0;position: absolute;width: 1px;}#sk-container-id-3 div.sk-estimator {font-family: monospace;background-color: #f0f8ff;border: 1px dotted black;border-radius: 0.25em;box-sizing: border-box;margin-bottom: 0.5em;}#sk-container-id-3 div.sk-estimator:hover {background-color: #d4ebff;}#sk-container-id-3 div.sk-parallel-item::after {content: \"\";width: 100%;border-bottom: 1px solid gray;flex-grow: 1;}#sk-container-id-3 div.sk-label:hover label.sk-toggleable__label {background-color: #d4ebff;}#sk-container-id-3 div.sk-serial::before {content: \"\";position: absolute;border-left: 1px solid gray;box-sizing: border-box;top: 0;bottom: 0;left: 50%;z-index: 0;}#sk-container-id-3 div.sk-serial {display: flex;flex-direction: column;align-items: center;background-color: white;padding-right: 0.2em;padding-left: 0.2em;position: relative;}#sk-container-id-3 div.sk-item {position: relative;z-index: 1;}#sk-container-id-3 div.sk-parallel {display: flex;align-items: stretch;justify-content: center;background-color: white;position: relative;}#sk-container-id-3 div.sk-item::before, #sk-container-id-3 div.sk-parallel-item::before {content: \"\";position: absolute;border-left: 1px solid gray;box-sizing: border-box;top: 0;bottom: 0;left: 50%;z-index: -1;}#sk-container-id-3 div.sk-parallel-item {display: flex;flex-direction: column;z-index: 1;position: relative;background-color: white;}#sk-container-id-3 div.sk-parallel-item:first-child::after {align-self: flex-end;width: 50%;}#sk-container-id-3 div.sk-parallel-item:last-child::after {align-self: flex-start;width: 50%;}#sk-container-id-3 div.sk-parallel-item:only-child::after {width: 0;}#sk-container-id-3 div.sk-dashed-wrapped {border: 1px dashed gray;margin: 0 0.4em 0.5em 0.4em;box-sizing: border-box;padding-bottom: 0.4em;background-color: white;}#sk-container-id-3 div.sk-label label {font-family: monospace;font-weight: bold;display: inline-block;line-height: 1.2em;}#sk-container-id-3 div.sk-label-container {text-align: center;}#sk-container-id-3 div.sk-container {/* jupyter's `normalize.less` sets `[hidden] { display: none; }` but bootstrap.min.css set `[hidden] { display: none !important; }` so we also need the `!important` here to be able to override the default hidden behavior on the sphinx rendered scikit-learn.org. See: https://github.com/scikit-learn/scikit-learn/issues/21755 */display: inline-block !important;position: relative;}#sk-container-id-3 div.sk-text-repr-fallback {display: none;}</style><div id=\"sk-container-id-3\" class=\"sk-top-container\"><div class=\"sk-text-repr-fallback\"><pre>LogisticRegression(C=1e+42, solver=&#x27;liblinear&#x27;)</pre><b>In a Jupyter environment, please rerun this cell to show the HTML representation or trust the notebook. <br />On GitHub, the HTML representation is unable to render, please try loading this page with nbviewer.org.</b></div><div class=\"sk-container\" hidden><div class=\"sk-item\"><div class=\"sk-estimator sk-toggleable\"><input class=\"sk-toggleable__control sk-hidden--visually\" id=\"sk-estimator-id-3\" type=\"checkbox\" checked><label for=\"sk-estimator-id-3\" class=\"sk-toggleable__label sk-toggleable__label-arrow\">LogisticRegression</label><div class=\"sk-toggleable__content\"><pre>LogisticRegression(C=1e+42, solver=&#x27;liblinear&#x27;)</pre></div></div></div></div></div>"
      ],
      "text/plain": [
       "LogisticRegression(C=1e+42, solver='liblinear')"
      ]
     },
     "execution_count": 23,
     "metadata": {},
     "output_type": "execute_result"
    }
   ],
   "source": [
    "from sklearn.linear_model import LogisticRegression\n",
    "\n",
    "logit_reg = LogisticRegression(penalty=\"l2\", C=1e42, solver='liblinear')\n",
    "logit_reg.fit(X_train, y_train)"
   ]
  },
  {
   "cell_type": "code",
   "execution_count": 24,
   "metadata": {},
   "outputs": [
    {
     "name": "stdout",
     "output_type": "stream",
     "text": [
      "                            OLS Regression Results                            \n",
      "==============================================================================\n",
      "Dep. Variable:               VTRNIN02   R-squared:                       0.981\n",
      "Model:                            OLS   Adj. R-squared:                  0.981\n",
      "Method:                 Least Squares   F-statistic:                     3239.\n",
      "Date:                Sun, 04 Jun 2023   Prob (F-statistic):               0.00\n",
      "Time:                        16:36:32   Log-Likelihood:                -2331.2\n",
      "No. Observations:               16630   AIC:                             5184.\n",
      "Df Residuals:                   16369   BIC:                             7199.\n",
      "Df Model:                         260                                         \n",
      "Covariance Type:            nonrobust                                         \n",
      "==============================================================================\n",
      "                 coef    std err          t      P>|t|      [0.025      0.975]\n",
      "------------------------------------------------------------------------------\n",
      "const         -0.6494      0.113     -5.723      0.000      -0.872      -0.427\n",
      "VQUARTER       0.0037      0.002      1.683      0.092      -0.001       0.008\n",
      "VPRVENTP   -9.972e-05      0.001     -0.197      0.843      -0.001       0.001\n",
      "VTPSZE        -0.0008      0.038     -0.022      0.982      -0.075       0.073\n",
      "VRSN3P         0.0025      0.001      3.508      0.000       0.001       0.004\n",
      "VMODENTP       0.0558      0.007      8.282      0.000       0.043       0.069\n",
      "VRTEN         -0.0662      0.013     -5.292      0.000      -0.091      -0.042\n",
      "VRTEX         -0.0433      0.020     -2.184      0.029      -0.082      -0.004\n",
      "VCFARE1       -0.0474      0.021     -2.273      0.023      -0.088      -0.007\n",
      "VCFARE2        0.0105      0.015      0.722      0.471      -0.018       0.039\n",
      "VCFARE3        0.0522      0.011      4.946      0.000       0.032       0.073\n",
      "VCFARE4        0.0283      0.019      1.521      0.128      -0.008       0.065\n",
      "VCFARE5       -0.0280      0.020     -1.407      0.159      -0.067       0.011\n",
      "VTRNIN01      -0.0312      0.008     -4.014      0.000      -0.046      -0.016\n",
      "VTRNIN03      -0.1989      0.008    -25.726      0.000      -0.214      -0.184\n",
      "VTRNIN04       0.5191      0.022     23.999      0.000       0.477       0.562\n",
      "VTRNIN05       0.1861      0.012     16.099      0.000       0.163       0.209\n",
      "VTRNIN06       0.3429      0.022     15.865      0.000       0.301       0.385\n",
      "VTRNIN07      -0.3528      0.006    -57.002      0.000      -0.365      -0.341\n",
      "VTRNIN08       0.0753      0.012      6.445      0.000       0.052       0.098\n",
      "VTRNIN09       0.7651      0.024     31.988      0.000       0.718       0.812\n",
      "VTRNIN10      -0.2631      0.006    -46.370      0.000      -0.274      -0.252\n",
      "VSPRCD01      -0.0001      0.000     -0.219      0.827      -0.001       0.001\n",
      "VSCMA01P   -2.496e-06   2.36e-06     -1.055      0.291   -7.13e-06    2.14e-06\n",
      "VSTRC01     1.006e-06   1.48e-05      0.068      0.946    -2.8e-05       3e-05\n",
      "VNTSVS01      -0.0010      0.001     -1.908      0.056      -0.002    2.79e-05\n",
      "VACCV01A       0.0425      0.007      6.078      0.000       0.029       0.056\n",
      "VACCV01B      -0.0018      0.015     -0.118      0.906      -0.032       0.028\n",
      "VACCV01C      -0.0051      0.007     -0.693      0.489      -0.020       0.009\n",
      "VACCV01D      -0.0238      0.022     -1.099      0.272      -0.066       0.019\n",
      "VACCV01E      -0.0387      0.020     -1.939      0.053      -0.078       0.000\n",
      "VACCV01G       0.0297      0.008      3.600      0.000       0.014       0.046\n",
      "VSPRCD02      -0.0002      0.001     -0.205      0.837      -0.002       0.002\n",
      "VSCMA02P    5.441e-07   3.57e-06      0.152      0.879   -6.46e-06    7.55e-06\n",
      "VSTRC02        0.0001   7.32e-05      1.652      0.099   -2.26e-05       0.000\n",
      "VNTSVS02       0.0001      0.000      0.686      0.493      -0.000       0.000\n",
      "VACCV02A       0.0340      0.009      3.655      0.000       0.016       0.052\n",
      "VACCV02B       0.0305      0.020      1.515      0.130      -0.009       0.070\n",
      "VACCV02C      -0.0177      0.010     -1.826      0.068      -0.037       0.001\n",
      "VACCV02D      -0.0301      0.023     -1.289      0.197      -0.076       0.016\n",
      "VACCV02E      -0.0343      0.023     -1.514      0.130      -0.079       0.010\n",
      "VACCV02G       0.0174      0.012      1.465      0.143      -0.006       0.041\n",
      "VSPRCD03       0.0003      0.001      0.262      0.793      -0.002       0.003\n",
      "VSCMA03P    7.464e-06   4.68e-06      1.594      0.111   -1.72e-06    1.66e-05\n",
      "VSTRC03       -0.0001   7.61e-05     -1.483      0.138      -0.000    3.63e-05\n",
      "VNTSVS03       0.0011      0.000      2.639      0.008       0.000       0.002\n",
      "VACCV03A      -0.0039      0.013     -0.300      0.764      -0.030       0.022\n",
      "VACCV03B       0.0414      0.026      1.574      0.115      -0.010       0.093\n",
      "VACCV03C      -0.0720      0.014     -4.987      0.000      -0.100      -0.044\n",
      "VACCV03D      -0.0204      0.031     -0.664      0.507      -0.081       0.040\n",
      "VACCV03E       0.0853      0.032      2.662      0.008       0.022       0.148\n",
      "VACCV03G      -0.0085      0.016     -0.521      0.602      -0.040       0.023\n",
      "VSPRCD04      -0.0050      0.002     -2.209      0.027      -0.009      -0.001\n",
      "VSCMA04P   -3.742e-06   5.44e-06     -0.688      0.492   -1.44e-05    6.92e-06\n",
      "VSTRC04        0.0003      0.000      2.177      0.030    3.17e-05       0.001\n",
      "VNTSVS04      -0.0011      0.000     -2.461      0.014      -0.002      -0.000\n",
      "VACCV04A      -0.0329      0.017     -1.932      0.053      -0.066       0.000\n",
      "VACCV04B      -0.0977      0.033     -2.988      0.003      -0.162      -0.034\n",
      "VACCV04C       0.0170      0.021      0.818      0.414      -0.024       0.058\n",
      "VACCV04D       0.0680      0.038      1.769      0.077      -0.007       0.143\n",
      "VACCV04E       0.0313      0.041      0.757      0.449      -0.050       0.112\n",
      "VACCV04G       0.0005      0.021      0.024      0.981      -0.040       0.041\n",
      "VSPRCD05       0.0001      0.003      0.041      0.967      -0.006       0.006\n",
      "VSCMA05P    2.268e-05    6.8e-06      3.334      0.001    9.34e-06     3.6e-05\n",
      "VSTRC05        0.0001      0.000      0.508      0.611      -0.000       0.000\n",
      "VNTSVS05       0.0002      0.000      0.818      0.413      -0.000       0.001\n",
      "VACCV05A      -0.0006      0.021     -0.026      0.979      -0.042       0.040\n",
      "VACCV05B       0.0514      0.036      1.440      0.150      -0.019       0.121\n",
      "VACCV05C      -0.0882      0.030     -2.990      0.003      -0.146      -0.030\n",
      "VACCV05D      -0.0140      0.042     -0.329      0.742      -0.097       0.069\n",
      "VACCV05E       0.0285      0.053      0.538      0.590      -0.075       0.132\n",
      "VACCV05G       0.0399      0.028      1.447      0.148      -0.014       0.094\n",
      "VSPRCD06       0.0124      0.004      3.151      0.002       0.005       0.020\n",
      "VSCMA06P   -1.211e-05   8.25e-06     -1.469      0.142   -2.83e-05    4.05e-06\n",
      "VSTRC06       -0.0007      0.000     -2.732      0.006      -0.001      -0.000\n",
      "VNTSVS06      -0.0007      0.000     -2.184      0.029      -0.001   -7.14e-05\n",
      "VACCV06A      -0.0282      0.026     -1.079      0.281      -0.080       0.023\n",
      "VACCV06B       0.0151      0.044      0.342      0.733      -0.072       0.102\n",
      "VACCV06C      -0.0740      0.039     -1.881      0.060      -0.151       0.003\n",
      "VACCV06D       0.0274      0.049      0.562      0.574      -0.068       0.123\n",
      "VACCV06E       0.0945      0.055      1.708      0.088      -0.014       0.203\n",
      "VACCV06G      -0.0387      0.032     -1.221      0.222      -0.101       0.023\n",
      "VSPRCD07       0.0044      0.005      0.900      0.368      -0.005       0.014\n",
      "VSCMA07P    2.731e-06   1.01e-05      0.271      0.787    -1.7e-05    2.25e-05\n",
      "VSTRC07       -0.0003      0.000     -0.879      0.379      -0.001       0.000\n",
      "VNTSVS07       0.0091      0.003      3.240      0.001       0.004       0.015\n",
      "VACCV07A      -0.0401      0.034     -1.191      0.234      -0.106       0.026\n",
      "VACCV07B       0.1029      0.055      1.855      0.064      -0.006       0.212\n",
      "VACCV07C      -0.0391      0.056     -0.704      0.481      -0.148       0.070\n",
      "VACCV07D      -0.0641      0.057     -1.128      0.259      -0.175       0.047\n",
      "VACCV07E      -0.0273      0.085     -0.320      0.749      -0.195       0.140\n",
      "VACCV07G       0.1203      0.039      3.067      0.002       0.043       0.197\n",
      "VSPRCD08       0.0136      0.006      2.343      0.019       0.002       0.025\n",
      "VSCMA08P    -7.37e-08   1.33e-05     -0.006      0.996   -2.61e-05    2.59e-05\n",
      "VSTRC08       -0.0010      0.000     -2.552      0.011      -0.002      -0.000\n",
      "VNTSVS08       0.0147      0.006      2.310      0.021       0.002       0.027\n",
      "VACCV08A       0.2138      0.039      5.499      0.000       0.138       0.290\n",
      "VACCV08B      -0.0783      0.070     -1.124      0.261      -0.215       0.058\n",
      "VACCV08C       0.0120      0.073      0.165      0.869      -0.131       0.155\n",
      "VACCV08D      -0.2291      0.068     -3.383      0.001      -0.362      -0.096\n",
      "VACCV08E      -0.0201      0.077     -0.262      0.793      -0.171       0.130\n",
      "VACCV08G       0.0708      0.048      1.466      0.143      -0.024       0.165\n",
      "VSPRCD09      -0.0012      0.008     -0.152      0.879      -0.016       0.014\n",
      "VSCMA09P    1.065e-05   1.34e-05      0.793      0.428   -1.57e-05     3.7e-05\n",
      "VSTRC09     1.304e-05      0.001      0.025      0.980      -0.001       0.001\n",
      "VNTSVS09       0.0043      0.006      0.698      0.485      -0.008       0.016\n",
      "VACCV09A       0.0563      0.054      1.041      0.298      -0.050       0.162\n",
      "VACCV09B      -0.1504      0.096     -1.560      0.119      -0.339       0.039\n",
      "VACCV09C       0.1057      0.102      1.033      0.302      -0.095       0.306\n",
      "VACCV09D      -0.0431      0.076     -0.569      0.569      -0.191       0.105\n",
      "VACCV09E      -0.0054      0.164     -0.033      0.974      -0.327       0.316\n",
      "VACCV09G       0.0032      0.064      0.051      0.959      -0.121       0.128\n",
      "VSPRCD10      -0.0024      0.010     -0.249      0.803      -0.022       0.017\n",
      "VSCMA10P   -3.162e-05   2.14e-05     -1.480      0.139   -7.35e-05    1.02e-05\n",
      "VSTRC10        0.0002      0.001      0.381      0.703      -0.001       0.001\n",
      "VNTSVS10      -0.0276      0.008     -3.396      0.001      -0.044      -0.012\n",
      "VACCV10A      -0.0512      0.067     -0.768      0.443      -0.182       0.080\n",
      "VACCV10B       0.0969      0.113      0.856      0.392      -0.125       0.319\n",
      "VACCV10C      -0.2259      0.116     -1.952      0.051      -0.453       0.001\n",
      "VACCV10D       0.1224      0.081      1.511      0.131      -0.036       0.281\n",
      "VACCV10E       0.3928      0.237      1.659      0.097      -0.071       0.857\n",
      "VACCV10G      -0.2778      0.087     -3.176      0.001      -0.449      -0.106\n",
      "VOWNACC        0.0036      0.002      2.314      0.021       0.001       0.007\n",
      "VTRIPRG1       0.0208      0.013      1.653      0.098      -0.004       0.046\n",
      "VTRIPRG2      -0.0338      0.017     -1.981      0.048      -0.067      -0.000\n",
      "VTRIPRG3       0.0099      0.009      1.074      0.283      -0.008       0.028\n",
      "VVISIT        -0.0086      0.001     -5.862      0.000      -0.011      -0.006\n",
      "VACT01         0.0517      0.007      7.392      0.000       0.038       0.065\n",
      "VACT02         0.0191      0.006      3.165      0.002       0.007       0.031\n",
      "VACT03         0.0091      0.006      1.412      0.158      -0.004       0.022\n",
      "VACT04        -0.0139      0.007     -2.046      0.041      -0.027      -0.001\n",
      "VACT05         0.0031      0.007      0.453      0.651      -0.010       0.017\n",
      "VACT06         0.0165      0.009      1.925      0.054      -0.000       0.033\n",
      "VACT07         0.0415      0.009      4.406      0.000       0.023       0.060\n",
      "VACT08        -0.0116      0.009     -1.347      0.178      -0.028       0.005\n",
      "VACT09        -0.0004      0.009     -0.046      0.963      -0.018       0.018\n",
      "VACT10         0.0171      0.011      1.486      0.137      -0.005       0.040\n",
      "VACT11         0.0001      0.012      0.012      0.990      -0.023       0.023\n",
      "VACT12         0.0082      0.022      0.379      0.704      -0.034       0.051\n",
      "VACT13        -0.0262      0.009     -2.899      0.004      -0.044      -0.008\n",
      "VACT14         0.0030      0.008      0.393      0.695      -0.012       0.018\n",
      "VACT15         0.0197      0.009      2.314      0.021       0.003       0.036\n",
      "VACT16         0.0218      0.007      3.090      0.002       0.008       0.036\n",
      "VACT17        -0.0158      0.018     -0.896      0.370      -0.050       0.019\n",
      "VACT18         0.0169      0.009      1.806      0.071      -0.001       0.035\n",
      "VACT19        -0.0068      0.013     -0.532      0.595      -0.032       0.018\n",
      "VACT20         0.0057      0.024      0.236      0.813      -0.042       0.053\n",
      "VACT21        -0.0703      0.012     -5.778      0.000      -0.094      -0.046\n",
      "VACT22         0.0160      0.014      1.180      0.238      -0.011       0.043\n",
      "VACT23         0.0074      0.017      0.425      0.671      -0.027       0.041\n",
      "VACT24         0.0397      0.009      4.366      0.000       0.022       0.058\n",
      "VACT25        -0.0851      0.016     -5.422      0.000      -0.116      -0.054\n",
      "VACT26         0.0130      0.009      1.511      0.131      -0.004       0.030\n",
      "VACT27        -0.1092      0.036     -3.029      0.002      -0.180      -0.039\n",
      "VACT28         0.0082      0.021      0.381      0.703      -0.034       0.050\n",
      "VACT29         0.0134      0.012      1.091      0.275      -0.011       0.037\n",
      "VACT30        -0.0679      0.027     -2.483      0.013      -0.122      -0.014\n",
      "VACT31         0.0528      0.015      3.572      0.000       0.024       0.082\n",
      "VACT32         0.0292      0.026      1.109      0.268      -0.022       0.081\n",
      "VACT33        -0.0027      0.011     -0.247      0.805      -0.024       0.019\n",
      "VPFGRNO2       0.0003   3.92e-05      8.445      0.000       0.000       0.000\n",
      "VCDNFARE    8.719e-06   2.61e-06      3.345      0.001    3.61e-06    1.38e-05\n",
      "VUSFARE     2.577e-06   2.95e-06      0.873      0.383   -3.21e-06    8.36e-06\n",
      "VOTHFARE   -5.109e-06    2.7e-06     -1.895      0.058   -1.04e-05    1.75e-07\n",
      "VTOTDAYS      -0.4374      0.077     -5.712      0.000      -0.588      -0.287\n",
      "VSGRCODE       0.0002   2.34e-05      6.582      0.000       0.000       0.000\n",
      "VNIGHTSC       0.2119      0.037      5.743      0.000       0.140       0.284\n",
      "VNIGHTS        0.0019      0.001      1.561      0.119      -0.000       0.004\n",
      "VFARES     -6.191e-06   3.61e-06     -1.713      0.087   -1.33e-05    8.91e-07\n",
      "VNIGHTNF       0.0148      0.004      3.963      0.000       0.007       0.022\n",
      "VNIGHTPE       0.0114      0.004      2.973      0.003       0.004       0.019\n",
      "VNIGHTNS       0.0149      0.004      4.149      0.000       0.008       0.022\n",
      "VNIGHTNB       0.0161      0.004      4.159      0.000       0.008       0.024\n",
      "VNIGHTPQ       0.0129      0.004      3.684      0.000       0.006       0.020\n",
      "VNIGHTON       0.0134      0.003      3.850      0.000       0.007       0.020\n",
      "VNIGHTMA       0.0114      0.004      3.118      0.002       0.004       0.019\n",
      "VNIGHTSA       0.0118      0.004      3.073      0.002       0.004       0.019\n",
      "VNIGHTAT       0.0137      0.004      3.882      0.000       0.007       0.021\n",
      "VNIGHTBC       0.0135      0.004      3.835      0.000       0.007       0.020\n",
      "VNIGHTYU       0.0135      0.005      2.668      0.008       0.004       0.024\n",
      "VNIGHTNW       0.0192      0.011      1.810      0.070      -0.002       0.040\n",
      "VNIGHTNU       0.0453      0.023      1.996      0.046       0.001       0.090\n",
      "VTPROVNT       0.2119      0.037      5.743      0.000       0.140       0.284\n",
      "VPRPR01P       0.0133      0.018      0.729      0.466      -0.022       0.049\n",
      "VPRPR02P       0.0160      0.017      0.925      0.355      -0.018       0.050\n",
      "VPRPR03P       0.0209      0.016      1.283      0.199      -0.011       0.053\n",
      "VPRPR04P       0.0207      0.017      1.251      0.211      -0.012       0.053\n",
      "VPRPR05P       0.0092      0.015      0.615      0.539      -0.020       0.039\n",
      "VPRPR06P       0.0132      0.015      0.897      0.370      -0.016       0.042\n",
      "VPRPR07P       0.0154      0.016      0.948      0.343      -0.016       0.047\n",
      "VPRPR08P      -0.0172      0.017     -1.005      0.315      -0.051       0.016\n",
      "VPRPR09P      -0.0116      0.015     -0.756      0.450      -0.042       0.019\n",
      "VPRPR10P       0.0059      0.015      0.389      0.697      -0.024       0.035\n",
      "VPRPR11P       0.0644      0.017      3.684      0.000       0.030       0.099\n",
      "VPRPR12P       0.0550      0.030      1.837      0.066      -0.004       0.114\n",
      "VPRPR13P      -0.1899      0.186     -1.022      0.307      -0.554       0.174\n",
      "VTPRPRVP       0.0152      0.015      1.028      0.304      -0.014       0.044\n",
      "VTPRSNP       -0.0026      0.001     -1.887      0.059      -0.005       0.000\n",
      "VPRSV01P      -0.0542      0.038     -1.430      0.153      -0.129       0.020\n",
      "VPRSV02P      -0.0333      0.007     -4.447      0.000      -0.048      -0.019\n",
      "VPRSV03P      -0.0469      0.011     -4.255      0.000      -0.068      -0.025\n",
      "VPRSV04P      -0.0180      0.014     -1.271      0.204      -0.046       0.010\n",
      "VPRSV05P      -0.0398      0.018     -2.170      0.030      -0.076      -0.004\n",
      "VPRSV06P       0.0163      0.025      0.644      0.519      -0.033       0.066\n",
      "VPRSV07P      -0.0745      0.031     -2.423      0.015      -0.135      -0.014\n",
      "VPRSV08P      -0.0104      0.040     -0.262      0.794      -0.089       0.068\n",
      "VPRSV09P      -0.0102      0.059     -0.171      0.864      -0.127       0.106\n",
      "VPRSV10P      -0.0020      0.057     -0.035      0.972      -0.114       0.110\n",
      "VPRSN01P       0.0027      0.001      4.151      0.000       0.001       0.004\n",
      "VPRSN02P       0.0016      0.001      2.839      0.005       0.001       0.003\n",
      "VPRSN03P   -4.112e-05      0.001     -0.056      0.955      -0.001       0.001\n",
      "VPRSN04P       0.0028      0.001      3.321      0.001       0.001       0.004\n",
      "VPRSN05P       0.0022      0.001      2.997      0.003       0.001       0.004\n",
      "VPRSN06P       0.0030      0.001      2.478      0.013       0.001       0.005\n",
      "VPRSN07P      -0.0007      0.003     -0.231      0.817      -0.006       0.005\n",
      "VPRSN08P      -0.0159      0.003     -4.721      0.000      -0.022      -0.009\n",
      "VPRSN09P       0.0056      0.005      1.235      0.217      -0.003       0.015\n",
      "VPRSN10P      -0.0040      0.004     -0.959      0.337      -0.012       0.004\n",
      "VPRSNATP      -0.0006      0.001     -0.401      0.688      -0.003       0.002\n",
      "VPRSNBCP    3.099e-05      0.001      0.021      0.983      -0.003       0.003\n",
      "VPRSNMAP       0.0010      0.002      0.627      0.530      -0.002       0.004\n",
      "VPRSNNBP      -0.0026      0.002     -1.397      0.162      -0.006       0.001\n",
      "VPRSNNFP      -0.0011      0.002     -0.647      0.517      -0.005       0.002\n",
      "VPRSNNSP      -0.0014      0.002     -0.859      0.391      -0.004       0.002\n",
      "VPRSNNUP       0.0063      0.016      0.395      0.693      -0.025       0.038\n",
      "VPRSNNWP      -0.0081      0.008     -1.028      0.304      -0.024       0.007\n",
      "VPRSNONP    7.142e-05      0.001      0.050      0.960      -0.003       0.003\n",
      "VPRSNPEP       0.0017      0.002      0.801      0.423      -0.002       0.006\n",
      "VPRSNPQP   -4.182e-06      0.001     -0.003      0.998      -0.003       0.003\n",
      "VPRSNSAP       0.0012      0.002      0.617      0.537      -0.003       0.005\n",
      "VPRSNYUP       0.0009      0.003      0.294      0.769      -0.005       0.007\n",
      "VTPRSTSP       0.0246      0.003      8.263      0.000       0.019       0.030\n",
      "VGLTRASP      -0.0001   5.94e-06    -23.108      0.000      -0.000      -0.000\n",
      "VGLACCSP    3.071e-05   3.51e-06      8.737      0.000    2.38e-05    3.76e-05\n",
      "VGLFOOSP   -4.252e-06   4.53e-06     -0.939      0.348   -1.31e-05    4.62e-06\n",
      "VGLRECSP    5.143e-05   5.98e-06      8.606      0.000    3.97e-05    6.31e-05\n",
      "VGLOTHSP    2.731e-05   7.23e-06      3.775      0.000    1.31e-05    4.15e-05\n",
      "VGLCLOSP     3.21e-05   4.32e-06      7.434      0.000    2.36e-05    4.06e-05\n",
      "VGLTOTSP   -2.358e-06   5.43e-06     -0.434      0.664    -1.3e-05    8.29e-06\n",
      "VNONTOUR       0.0681      0.008      8.110      0.000       0.052       0.085\n",
      "VUSSTATE    4.661e-05   4.55e-05      1.024      0.306   -4.26e-05       0.000\n",
      "VGLSPV01   -2.213e-05   5.55e-06     -3.986      0.000    -3.3e-05   -1.13e-05\n",
      "VGLSPV02   -1.626e-05   5.79e-06     -2.806      0.005   -2.76e-05    -4.9e-06\n",
      "VGLSPV03    8.383e-07   7.35e-06      0.114      0.909   -1.36e-05    1.52e-05\n",
      "VGLSPV04   -2.776e-05   8.34e-06     -3.327      0.001   -4.41e-05   -1.14e-05\n",
      "VGLSPV05   -2.185e-05   7.37e-06     -2.965      0.003   -3.63e-05    -7.4e-06\n",
      "VGLSPV06   -2.958e-05   1.22e-05     -2.430      0.015   -5.34e-05   -5.72e-06\n",
      "VGLSPV07    6.751e-06   2.89e-05      0.234      0.815   -4.99e-05    6.34e-05\n",
      "VGLSPV08       0.0002   3.36e-05      4.713      0.000    9.25e-05       0.000\n",
      "VGLSPV09    -5.68e-05   4.58e-05     -1.240      0.215      -0.000     3.3e-05\n",
      "VGLSPV10    4.283e-05   4.22e-05      1.015      0.310   -3.98e-05       0.000\n",
      "VPRVEXTP       0.0006      0.000      1.537      0.124      -0.000       0.001\n",
      "VWEIGHTP    1.858e-05   7.27e-06      2.555      0.011    4.33e-06    3.28e-05\n",
      "VM0_17P       -0.0021      0.008     -0.248      0.804      -0.019       0.015\n",
      "VM18_24P       0.0222      0.008      2.608      0.009       0.006       0.039\n",
      "VM25_34P      -0.0309      0.007     -4.623      0.000      -0.044      -0.018\n",
      "VM35_44P      -0.0201      0.007     -2.886      0.004      -0.034      -0.006\n",
      "VM45_54P      -0.0267      0.006     -4.130      0.000      -0.039      -0.014\n",
      "VM55_64P      -0.0299      0.006     -4.704      0.000      -0.042      -0.017\n",
      "VM_65P         0.0113      0.006      1.861      0.063      -0.001       0.023\n",
      "VF0_17P        0.0075      0.009      0.872      0.383      -0.009       0.024\n",
      "VF18_24P       0.0327      0.008      4.025      0.000       0.017       0.049\n",
      "VF25_34P       0.0007      0.007      0.109      0.913      -0.012       0.014\n",
      "VF35_44P       0.0015      0.008      0.193      0.847      -0.014       0.017\n",
      "VF45_54P      -0.0014      0.007     -0.194      0.846      -0.015       0.012\n",
      "VF55_64P       0.0087      0.006      1.399      0.162      -0.003       0.021\n",
      "VF_65P         0.0260      0.006      4.380      0.000       0.014       0.038\n",
      "==============================================================================\n",
      "Omnibus:                     1152.913   Durbin-Watson:                   2.025\n",
      "Prob(Omnibus):                  0.000   Jarque-Bera (JB):             3451.331\n",
      "Skew:                          -0.356   Prob(JB):                         0.00\n",
      "Kurtosis:                       5.115   Cond. No.                     1.02e+16\n",
      "==============================================================================\n",
      "\n",
      "Notes:\n",
      "[1] Standard Errors assume that the covariance matrix of the errors is correctly specified.\n",
      "[2] The smallest eigenvalue is 1.28e-13. This might indicate that there are\n",
      "strong multicollinearity problems or that the design matrix is singular.\n"
     ]
    }
   ],
   "source": [
    "#linear model\n",
    "\n",
    "import statsmodels.api as sm\n",
    "from statsmodels.formula.api import ols\n",
    "\n",
    "X_train_1 = sm.add_constant(X_train)\n",
    "\n",
    "model = sm.OLS(y_train, X_train_1).fit()\n",
    "print(model.summary())"
   ]
  },
  {
   "cell_type": "code",
   "execution_count": 25,
   "metadata": {},
   "outputs": [
    {
     "data": {
      "text/plain": [
       "37.92690190732246"
      ]
     },
     "execution_count": 25,
     "metadata": {},
     "output_type": "execute_result"
    }
   ],
   "source": [
    "#Ridge model first - make sure we optimize alpha!\n",
    "import numpy as np\n",
    "from sklearn import linear_model\n",
    "\n",
    "\n",
    "reg = linear_model.RidgeCV(alphas=np.logspace(-6, 6, 20))\n",
    "reg.fit(X_train, y_train)\n",
    "reg.alpha_"
   ]
  },
  {
   "cell_type": "code",
   "execution_count": 26,
   "metadata": {},
   "outputs": [
    {
     "name": "stdout",
     "output_type": "stream",
     "text": [
      "-3625.513340221923\n"
     ]
    }
   ],
   "source": [
    "from sklearn import metrics\n",
    "r2=metrics.r2_score(y_train, reg.predict(X_train))\n",
    "print(r2)"
   ]
  },
  {
   "cell_type": "code",
   "execution_count": 27,
   "metadata": {},
   "outputs": [
    {
     "name": "stdout",
     "output_type": "stream",
     "text": [
      "-3692.879681358876\n"
     ]
    }
   ],
   "source": [
    "r2=metrics.r2_score(y_test, reg.predict(X_test))\n",
    "print(r2)"
   ]
  },
  {
   "cell_type": "code",
   "execution_count": 28,
   "metadata": {},
   "outputs": [
    {
     "data": {
      "text/plain": [
       "5003.970097133376"
      ]
     },
     "execution_count": 28,
     "metadata": {},
     "output_type": "execute_result"
    }
   ],
   "source": [
    "#let sklearn do it all for you \n",
    "reg2 = linear_model.LassoCV(cv=10)\n",
    "reg2.fit(X_train, y_train)\n",
    "reg2.alpha_"
   ]
  },
  {
   "cell_type": "code",
   "execution_count": 29,
   "metadata": {},
   "outputs": [
    {
     "name": "stdout",
     "output_type": "stream",
     "text": [
      "0.5596499206651775\n"
     ]
    }
   ],
   "source": [
    "r2=metrics.r2_score(y_train, reg2.predict(X_train))\n",
    "print(r2)"
   ]
  },
  {
   "cell_type": "code",
   "execution_count": 30,
   "metadata": {},
   "outputs": [
    {
     "name": "stdout",
     "output_type": "stream",
     "text": [
      "0.5787360927370391\n"
     ]
    }
   ],
   "source": [
    "r2=metrics.r2_score(y_test, reg2.predict(X_test))\n",
    "print(r2)"
   ]
  },
  {
   "cell_type": "code",
   "execution_count": 31,
   "metadata": {},
   "outputs": [
    {
     "data": {
      "text/plain": [
       "50039.70097133376"
      ]
     },
     "execution_count": 31,
     "metadata": {},
     "output_type": "execute_result"
    }
   ],
   "source": [
    "#elastic net has two parameters: you could gridsearch and let sklearn do its thing\n",
    "reg3 = linear_model.ElasticNetCV(cv=10, l1_ratio = [.1, .5, .7, .9, .95, .99, 1])\n",
    "reg3.fit(X_train, y_train)\n",
    "reg3.alpha_"
   ]
  },
  {
   "cell_type": "code",
   "execution_count": 32,
   "metadata": {},
   "outputs": [
    {
     "name": "stdout",
     "output_type": "stream",
     "text": [
      "0.5596499206662792\n"
     ]
    }
   ],
   "source": [
    "r2=metrics.r2_score(y_train, reg3.predict(X_train))\n",
    "print(r2)"
   ]
  },
  {
   "cell_type": "code",
   "execution_count": 33,
   "metadata": {},
   "outputs": [
    {
     "name": "stdout",
     "output_type": "stream",
     "text": [
      "0.578736092749587\n"
     ]
    }
   ],
   "source": [
    "r2=metrics.r2_score(y_test, reg3.predict(X_test))\n",
    "print(r2)"
   ]
  }
 ],
 "metadata": {
  "kernelspec": {
   "display_name": "Python 3",
   "language": "python",
   "name": "python3"
  },
  "language_info": {
   "codemirror_mode": {
    "name": "ipython",
    "version": 3
   },
   "file_extension": ".py",
   "mimetype": "text/x-python",
   "name": "python",
   "nbconvert_exporter": "python",
   "pygments_lexer": "ipython3",
   "version": "3.11.2"
  },
  "orig_nbformat": 4
 },
 "nbformat": 4,
 "nbformat_minor": 2
}
