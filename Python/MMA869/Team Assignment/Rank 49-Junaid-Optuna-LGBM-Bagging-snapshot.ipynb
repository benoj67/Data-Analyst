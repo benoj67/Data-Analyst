{
 "cells": [
  {
   "cell_type": "markdown",
   "id": "8851023a",
   "metadata": {
    "id": "8851023a"
   },
   "source": [
    "**Importing libraries**"
   ]
  },
  {
   "cell_type": "code",
   "execution_count": 43,
   "id": "020eb572",
   "metadata": {
    "id": "020eb572"
   },
   "outputs": [],
   "source": [
    "# dataframe and plotting\n",
    "import pandas as pd\n",
    "import numpy as np\n",
    "import seaborn as sns\n",
    "import matplotlib.pyplot as plt\n",
    "\n",
    "# machine learning\n",
    "from lightgbm import LGBMClassifier\n",
    "from sklearn.model_selection import train_test_split\n",
    "from sklearn.metrics import accuracy_score\n",
    "\n",
    "#optuna and LGBM library \n",
    "import optuna\n",
    "import sklearn.datasets\n",
    "from lightgbm import LGBMClassifier\n",
    "from sklearn.model_selection import cross_val_score\n",
    "from sklearn.model_selection import RepeatedStratifiedKFold\n",
    "\n",
    "# Split train_data\n",
    "import sklearn.model_selection\n",
    "from sklearn.model_selection import train_test_split\n",
    "\n",
    "##from google.colab import files\n",
    "import warnings\n",
    "warnings.filterwarnings('ignore')\n",
    "\n",
    "import preprocessing module\n",
    "from sklearn.preprocessing import LabelEncoder\n",
    "from sklearn.preprocessing import MinMaxScaler\n",
    "\n",
    "from sklearn.model_selection import cross_validate"
   ]
  },
  {
   "cell_type": "code",
   "execution_count": null,
   "id": "d05e05f7",
   "metadata": {},
   "outputs": [],
   "source": [
    "pip install optuna\n",
    "pip install lightgbm"
   ]
  },
  {
   "cell_type": "markdown",
   "id": "f44fbfd7",
   "metadata": {
    "id": "f44fbfd7"
   },
   "source": [
    "**Load the dataset**"
   ]
  },
  {
   "cell_type": "code",
   "execution_count": 72,
   "id": "550e2c06",
   "metadata": {
    "id": "550e2c06"
   },
   "outputs": [
    {
     "name": "stdout",
     "output_type": "stream",
     "text": [
      "train data shape : (23524, 13)\n",
      "test data shape : (10086, 12)\n"
     ]
    },
    {
     "data": {
      "text/html": [
       "<div>\n",
       "<style scoped>\n",
       "    .dataframe tbody tr th:only-of-type {\n",
       "        vertical-align: middle;\n",
       "    }\n",
       "\n",
       "    .dataframe tbody tr th {\n",
       "        vertical-align: top;\n",
       "    }\n",
       "\n",
       "    .dataframe thead th {\n",
       "        text-align: right;\n",
       "    }\n",
       "</style>\n",
       "<table border=\"1\" class=\"dataframe\">\n",
       "  <thead>\n",
       "    <tr style=\"text-align: right;\">\n",
       "      <th></th>\n",
       "      <th>country</th>\n",
       "      <th>year</th>\n",
       "      <th>uniqueid</th>\n",
       "      <th>bank_account</th>\n",
       "      <th>location_type</th>\n",
       "      <th>cellphone_access</th>\n",
       "      <th>household_size</th>\n",
       "      <th>age_of_respondent</th>\n",
       "      <th>gender_of_respondent</th>\n",
       "      <th>relationship_with_head</th>\n",
       "      <th>marital_status</th>\n",
       "      <th>education_level</th>\n",
       "      <th>job_type</th>\n",
       "    </tr>\n",
       "  </thead>\n",
       "  <tbody>\n",
       "    <tr>\n",
       "      <th>0</th>\n",
       "      <td>Kenya</td>\n",
       "      <td>2018</td>\n",
       "      <td>uniqueid_1</td>\n",
       "      <td>Yes</td>\n",
       "      <td>Rural</td>\n",
       "      <td>Yes</td>\n",
       "      <td>3</td>\n",
       "      <td>24</td>\n",
       "      <td>Female</td>\n",
       "      <td>Spouse</td>\n",
       "      <td>Married/Living together</td>\n",
       "      <td>Secondary education</td>\n",
       "      <td>Self employed</td>\n",
       "    </tr>\n",
       "    <tr>\n",
       "      <th>1</th>\n",
       "      <td>Kenya</td>\n",
       "      <td>2018</td>\n",
       "      <td>uniqueid_2</td>\n",
       "      <td>No</td>\n",
       "      <td>Rural</td>\n",
       "      <td>No</td>\n",
       "      <td>5</td>\n",
       "      <td>70</td>\n",
       "      <td>Female</td>\n",
       "      <td>Head of Household</td>\n",
       "      <td>Widowed</td>\n",
       "      <td>No formal education</td>\n",
       "      <td>Government Dependent</td>\n",
       "    </tr>\n",
       "    <tr>\n",
       "      <th>2</th>\n",
       "      <td>Kenya</td>\n",
       "      <td>2018</td>\n",
       "      <td>uniqueid_3</td>\n",
       "      <td>Yes</td>\n",
       "      <td>Urban</td>\n",
       "      <td>Yes</td>\n",
       "      <td>5</td>\n",
       "      <td>26</td>\n",
       "      <td>Male</td>\n",
       "      <td>Other relative</td>\n",
       "      <td>Single/Never Married</td>\n",
       "      <td>Vocational/Specialised training</td>\n",
       "      <td>Self employed</td>\n",
       "    </tr>\n",
       "    <tr>\n",
       "      <th>3</th>\n",
       "      <td>Kenya</td>\n",
       "      <td>2018</td>\n",
       "      <td>uniqueid_4</td>\n",
       "      <td>No</td>\n",
       "      <td>Rural</td>\n",
       "      <td>Yes</td>\n",
       "      <td>5</td>\n",
       "      <td>34</td>\n",
       "      <td>Female</td>\n",
       "      <td>Head of Household</td>\n",
       "      <td>Married/Living together</td>\n",
       "      <td>Primary education</td>\n",
       "      <td>Formally employed Private</td>\n",
       "    </tr>\n",
       "    <tr>\n",
       "      <th>4</th>\n",
       "      <td>Kenya</td>\n",
       "      <td>2018</td>\n",
       "      <td>uniqueid_5</td>\n",
       "      <td>No</td>\n",
       "      <td>Urban</td>\n",
       "      <td>No</td>\n",
       "      <td>8</td>\n",
       "      <td>26</td>\n",
       "      <td>Male</td>\n",
       "      <td>Child</td>\n",
       "      <td>Single/Never Married</td>\n",
       "      <td>Primary education</td>\n",
       "      <td>Informally employed</td>\n",
       "    </tr>\n",
       "  </tbody>\n",
       "</table>\n",
       "</div>"
      ],
      "text/plain": [
       "  country  year    uniqueid bank_account location_type cellphone_access  \\\n",
       "0   Kenya  2018  uniqueid_1          Yes         Rural              Yes   \n",
       "1   Kenya  2018  uniqueid_2           No         Rural               No   \n",
       "2   Kenya  2018  uniqueid_3          Yes         Urban              Yes   \n",
       "3   Kenya  2018  uniqueid_4           No         Rural              Yes   \n",
       "4   Kenya  2018  uniqueid_5           No         Urban               No   \n",
       "\n",
       "   household_size  age_of_respondent gender_of_respondent  \\\n",
       "0               3                 24               Female   \n",
       "1               5                 70               Female   \n",
       "2               5                 26                 Male   \n",
       "3               5                 34               Female   \n",
       "4               8                 26                 Male   \n",
       "\n",
       "  relationship_with_head           marital_status  \\\n",
       "0                 Spouse  Married/Living together   \n",
       "1      Head of Household                  Widowed   \n",
       "2         Other relative     Single/Never Married   \n",
       "3      Head of Household  Married/Living together   \n",
       "4                  Child     Single/Never Married   \n",
       "\n",
       "                   education_level                   job_type  \n",
       "0              Secondary education              Self employed  \n",
       "1              No formal education       Government Dependent  \n",
       "2  Vocational/Specialised training              Self employed  \n",
       "3                Primary education  Formally employed Private  \n",
       "4                Primary education        Informally employed  "
      ]
     },
     "execution_count": 72,
     "metadata": {},
     "output_type": "execute_result"
    }
   ],
   "source": [
    "# Load files into a pandas dataframe\n",
    "train = pd.read_csv('Train.csv')\n",
    "test = pd.read_csv('Test.csv')\n",
    "ss = pd.read_csv('SampleSubmission.csv')\n",
    "variables = pd.read_csv('VariableDefinitions.csv')\n",
    "\n",
    "# Let’s observe the shape of our datasets.\n",
    "print('train data shape :', train.shape)\n",
    "print('test data shape :', test.shape)\n",
    "\n",
    "# inspect train data\n",
    "train.head()"
   ]
  },
  {
   "cell_type": "code",
   "execution_count": 73,
   "id": "03a2288f",
   "metadata": {
    "colab": {
     "base_uri": "https://localhost:8080/"
    },
    "id": "03a2288f",
    "outputId": "aea591b3-e716-44f1-b327-96a31b3eabed"
   },
   "outputs": [
    {
     "name": "stdout",
     "output_type": "stream",
     "text": [
      "missing values: country                   0\n",
      "year                      0\n",
      "uniqueid                  0\n",
      "bank_account              0\n",
      "location_type             0\n",
      "cellphone_access          0\n",
      "household_size            0\n",
      "age_of_respondent         0\n",
      "gender_of_respondent      0\n",
      "relationship_with_head    0\n",
      "marital_status            0\n",
      "education_level           0\n",
      "job_type                  0\n",
      "dtype: int64\n"
     ]
    }
   ],
   "source": [
    "# Check for missing values\n",
    "print('missing values:', train.isnull().sum())"
   ]
  },
  {
   "cell_type": "code",
   "execution_count": 97,
   "id": "0576a807",
   "metadata": {
    "colab": {
     "base_uri": "https://localhost:8080/"
    },
    "id": "0576a807",
    "outputId": "2ff9ef4e-42cf-4b01-e62c-81927e36427c"
   },
   "outputs": [
    {
     "name": "stdout",
     "output_type": "stream",
     "text": [
      "0        1\n",
      "1        0\n",
      "2        1\n",
      "3        0\n",
      "4        0\n",
      "        ..\n",
      "23519    0\n",
      "23520    0\n",
      "23521    0\n",
      "23522    0\n",
      "23523    0\n",
      "Name: bank_account, Length: 23524, dtype: int32\n"
     ]
    }
   ],
   "source": [
    "# Convert target label to numerical Data\n",
    "le = LabelEncoder()\n",
    "train['bank_account'] = le.fit_transform(train['bank_account'])\n",
    "\n",
    "#Separate training features from target\n",
    "x_train = train.drop(['bank_account'], axis=1)\n",
    "y_train = train['bank_account']\n",
    "\n",
    "print(y_train)"
   ]
  },
  {
   "cell_type": "code",
   "execution_count": 215,
   "id": "af410cd9",
   "metadata": {
    "id": "af410cd9"
   },
   "outputs": [],
   "source": [
    "# function to preprocess our data from train models\n",
    "def preprocessing_data(data):\n",
    "\n",
    "    # Convert the following numerical labels from interger to float\n",
    "    #float_array = data[[\"household_size\", \"age_of_respondent\", \"year\"]].values.astype(float)\n",
    "    \n",
    "    # categorical features to be onverted to One Hot Encoding\n",
    "    categ = [\"relationship_with_head\",\n",
    "             \"marital_status\",\n",
    "             \"education_level\",\n",
    "             \"job_type\",\n",
    "             \"country\",\n",
    "             \"location_type\",\n",
    "             \"cellphone_access\",\n",
    "             \"gender_of_respondent\"]\n",
    "    \n",
    "    # One Hot Encoding conversion\n",
    "    data = pd.get_dummies(data, prefix_sep=\"_\", columns=categ)\n",
    "    \n",
    "    # Label Encoder conversion\n",
    "   # data[\"location_type\"] = le.fit_transform(data[\"location_type\"])\n",
    "   # data[\"cellphone_access\"] = le.fit_transform(data[\"cellphone_access\"])\n",
    "   # data[\"gender_of_respondent\"] = le.fit_transform(data[\"gender_of_respondent\"])\n",
    "    \n",
    "    # drop uniquid column\n",
    "    data = data.drop([\"uniqueid\"], axis=1)\n",
    "    \n",
    "    # scale our data into range of 0 and 1\n",
    "    #scaler = MinMaxScaler(feature_range=(0, 1))\n",
    "    #data = scaler.fit_transform(data)\n",
    "    \n",
    "    return data                  "
   ]
  },
  {
   "cell_type": "raw",
   "id": "9d817eea",
   "metadata": {
    "id": "6a675bff"
   },
   "source": [
    "# preprocess the train data\n",
    "processed_train = preprocessing_data(X_train)\n",
    "processed_test = preprocessing_data(test)\n",
    "\n",
    "#Lets see how many rows and features we have\n",
    "print(processed_train.shape)\n",
    "print(y_train.shape)"
   ]
  },
  {
   "cell_type": "code",
   "execution_count": null,
   "id": "d0bad0a2",
   "metadata": {},
   "outputs": [],
   "source": []
  },
  {
   "cell_type": "code",
   "execution_count": 282,
   "id": "11ef0249",
   "metadata": {},
   "outputs": [
    {
     "name": "stderr",
     "output_type": "stream",
     "text": [
      "[I 2023-07-11 14:02:25,119] A new study created in memory with name: no-name-788c8f44-ab08-4f0e-af05-9412b9fd71ea\n",
      "[I 2023-07-11 14:02:56,678] Trial 0 finished with value: 0.8628034145799468 and parameters: {'random_state': 100, 'learning_rate': 0.046900000000000004, 'n_estimators': 649, 'max_depth': 15, 'num_leaves': 45300, 'max_bin': 170, 'bagging_fraction': 0.5, 'feature_fraction ': 0.30000000000000004, 'lambda_l1 ': 5.01, 'lambda_l2 ': 1.7}. Best is trial 0 with value: 0.8628034145799468.\n",
      "[I 2023-07-11 14:03:47,053] Trial 1 finished with value: 0.8626620811304562 and parameters: {'random_state': None, 'learning_rate': 0.0345, 'n_estimators': 680, 'max_depth': 21, 'num_leaves': 49400, 'max_bin': 160, 'bagging_fraction': 0.9, 'feature_fraction ': 0.4, 'lambda_l1 ': 5.22, 'lambda_l2 ': 4.36}. Best is trial 0 with value: 0.8628034145799468.\n",
      "[I 2023-07-11 14:04:19,855] Trial 2 finished with value: 0.8617556706477808 and parameters: {'random_state': 25, 'learning_rate': 0.0171, 'n_estimators': 682, 'max_depth': 14, 'num_leaves': 69400, 'max_bin': 180, 'bagging_fraction': 0.30000000000000004, 'feature_fraction ': 0.8, 'lambda_l1 ': 5.58, 'lambda_l2 ': 8.03}. Best is trial 0 with value: 0.8628034145799468.\n",
      "[I 2023-07-11 14:05:22,919] Trial 3 finished with value: 0.8614508188426966 and parameters: {'random_state': None, 'learning_rate': 0.0198, 'n_estimators': 671, 'max_depth': 28, 'num_leaves': 68100, 'max_bin': 230, 'bagging_fraction': 0.5, 'feature_fraction ': 0.30000000000000004, 'lambda_l1 ': 8.99, 'lambda_l2 ': 4.62}. Best is trial 0 with value: 0.8628034145799468.\n",
      "[I 2023-07-11 14:05:53,522] Trial 4 finished with value: 0.8626559982622586 and parameters: {'random_state': 25, 'learning_rate': 0.0434, 'n_estimators': 648, 'max_depth': 15, 'num_leaves': 62600, 'max_bin': 240, 'bagging_fraction': 0.2, 'feature_fraction ': 0.30000000000000004, 'lambda_l1 ': 7.24, 'lambda_l2 ': 1.78}. Best is trial 0 with value: 0.8628034145799468.\n",
      "[I 2023-07-11 14:06:17,128] Trial 5 finished with value: 0.8620289071884505 and parameters: {'random_state': 25, 'learning_rate': 0.0826, 'n_estimators': 618, 'max_depth': 20, 'num_leaves': 40600, 'max_bin': 200, 'bagging_fraction': 0.2, 'feature_fraction ': 0.30000000000000004, 'lambda_l1 ': 5.37, 'lambda_l2 ': 5.29}. Best is trial 0 with value: 0.8628034145799468.\n",
      "[I 2023-07-11 14:06:55,735] Trial 6 finished with value: 0.8606343224641227 and parameters: {'random_state': 100, 'learning_rate': 0.0279, 'n_estimators': 691, 'max_depth': 25, 'num_leaves': 55700, 'max_bin': 250, 'bagging_fraction': 1.0, 'feature_fraction ': 0.2, 'lambda_l1 ': 9.21, 'lambda_l2 ': 2.49}. Best is trial 0 with value: 0.8628034145799468.\n",
      "[I 2023-07-11 14:10:52,414] Trial 7 finished with value: 0.8593327619747256 and parameters: {'random_state': None, 'learning_rate': 0.04, 'n_estimators': 674, 'max_depth': 20, 'num_leaves': 59300, 'max_bin': 230, 'bagging_fraction': 0.7000000000000001, 'feature_fraction ': 0.9, 'lambda_l1 ': 1.37, 'lambda_l2 ': 4.22}. Best is trial 0 with value: 0.8628034145799468.\n",
      "[I 2023-07-11 14:11:15,131] Trial 8 finished with value: 0.862046528188684 and parameters: {'random_state': None, 'learning_rate': 0.027700000000000002, 'n_estimators': 660, 'max_depth': 20, 'num_leaves': 25300, 'max_bin': 170, 'bagging_fraction': 0.6, 'feature_fraction ': 0.6, 'lambda_l1 ': 9.81, 'lambda_l2 ': 0.06}. Best is trial 0 with value: 0.8628034145799468.\n",
      "[I 2023-07-11 14:11:25,377] Trial 9 finished with value: 0.8605483170563557 and parameters: {'random_state': 25, 'learning_rate': 0.050800000000000005, 'n_estimators': 617, 'max_depth': 11, 'num_leaves': 25800, 'max_bin': 240, 'bagging_fraction': 1.0, 'feature_fraction ': 1.0, 'lambda_l1 ': 3.12, 'lambda_l2 ': 1.9000000000000001}. Best is trial 0 with value: 0.8628034145799468.\n",
      "[I 2023-07-11 14:11:28,492] Trial 10 finished with value: 0.8603139216665914 and parameters: {'random_state': 100, 'learning_rate': 0.07050000000000001, 'n_estimators': 640, 'max_depth': 5, 'num_leaves': 13300, 'max_bin': 300, 'bagging_fraction': 0.4, 'feature_fraction ': 0.1, 'lambda_l1 ': 2.87, 'lambda_l2 ': 9.950000000000001}. Best is trial 0 with value: 0.8628034145799468.\n",
      "[I 2023-07-11 14:11:33,010] Trial 11 finished with value: 0.8630741519722227 and parameters: {'random_state': 0, 'learning_rate': 0.062400000000000004, 'n_estimators': 636, 'max_depth': 9, 'num_leaves': 47700, 'max_bin': 160, 'bagging_fraction': 0.7000000000000001, 'feature_fraction ': 0.5, 'lambda_l1 ': 4.16, 'lambda_l2 ': 6.74}. Best is trial 11 with value: 0.8630741519722227.\n",
      "[I 2023-07-11 14:11:37,237] Trial 12 finished with value: 0.8628264382593578 and parameters: {'random_state': 0, 'learning_rate': 0.0625, 'n_estimators': 635, 'max_depth': 7, 'num_leaves': 43200, 'max_bin': 200, 'bagging_fraction': 0.7000000000000001, 'feature_fraction ': 0.6, 'lambda_l1 ': 3.41, 'lambda_l2 ': 7.24}. Best is trial 11 with value: 0.8630741519722227.\n",
      "[I 2023-07-11 14:11:42,555] Trial 13 finished with value: 0.8615093396962171 and parameters: {'random_state': 0, 'learning_rate': 0.06480000000000001, 'n_estimators': 633, 'max_depth': 5, 'num_leaves': 33800, 'max_bin': 200, 'bagging_fraction': 0.8, 'feature_fraction ': 0.6, 'lambda_l1 ': 2.7800000000000002, 'lambda_l2 ': 6.97}. Best is trial 11 with value: 0.8630741519722227.\n",
      "[I 2023-07-11 14:11:51,824] Trial 14 finished with value: 0.8584555973239493 and parameters: {'random_state': 0, 'learning_rate': 0.0993, 'n_estimators': 602, 'max_depth': 9, 'num_leaves': 34100, 'max_bin': 200, 'bagging_fraction': 0.7000000000000001, 'feature_fraction ': 0.7000000000000001, 'lambda_l1 ': 0.41000000000000003, 'lambda_l2 ': 7.0600000000000005}. Best is trial 11 with value: 0.8630741519722227.\n",
      "[I 2023-07-11 14:11:57,170] Trial 15 finished with value: 0.8633010888607797 and parameters: {'random_state': 0, 'learning_rate': 0.063, 'n_estimators': 627, 'max_depth': 9, 'num_leaves': 51100, 'max_bin': 190, 'bagging_fraction': 0.8, 'feature_fraction ': 0.5, 'lambda_l1 ': 4.0, 'lambda_l2 ': 9.02}. Best is trial 15 with value: 0.8633010888607797.\n",
      "[I 2023-07-11 14:12:01,157] Trial 16 finished with value: 0.8621227503683409 and parameters: {'random_state': 0, 'learning_rate': 0.0823, 'n_estimators': 622, 'max_depth': 11, 'num_leaves': 53400, 'max_bin': 180, 'bagging_fraction': 0.8, 'feature_fraction ': 0.5, 'lambda_l1 ': 7.08, 'lambda_l2 ': 10.0}. Best is trial 15 with value: 0.8633010888607797.\n",
      "[I 2023-07-11 14:12:10,042] Trial 17 finished with value: 0.8568691225407015 and parameters: {'random_state': 0, 'learning_rate': 0.0045000000000000005, 'n_estimators': 602, 'max_depth': 11, 'num_leaves': 50600, 'max_bin': 270, 'bagging_fraction': 0.9, 'feature_fraction ': 0.5, 'lambda_l1 ': 4.0600000000000005, 'lambda_l2 ': 8.74}. Best is trial 15 with value: 0.8633010888607797.\n",
      "[I 2023-07-11 14:12:16,072] Trial 18 finished with value: 0.8615239356546521 and parameters: {'random_state': 0, 'learning_rate': 0.057300000000000004, 'n_estimators': 661, 'max_depth': 8, 'num_leaves': 35100, 'max_bin': 160, 'bagging_fraction': 0.6, 'feature_fraction ': 0.7000000000000001, 'lambda_l1 ': 1.94, 'lambda_l2 ': 6.13}. Best is trial 15 with value: 0.8633010888607797.\n",
      "[I 2023-07-11 14:12:45,934] Trial 19 finished with value: 0.8622680987169226 and parameters: {'random_state': 0, 'learning_rate': 0.0767, 'n_estimators': 624, 'max_depth': 17, 'num_leaves': 61000, 'max_bin': 210, 'bagging_fraction': 0.8, 'feature_fraction ': 0.4, 'lambda_l1 ': 7.2, 'lambda_l2 ': 8.36}. Best is trial 15 with value: 0.8633010888607797.\n",
      "[I 2023-07-11 14:12:56,305] Trial 20 finished with value: 0.8631053169586307 and parameters: {'random_state': 0, 'learning_rate': 0.0947, 'n_estimators': 609, 'max_depth': 13, 'num_leaves': 47000, 'max_bin': 180, 'bagging_fraction': 0.4, 'feature_fraction ': 0.8, 'lambda_l1 ': 4.25, 'lambda_l2 ': 9.21}. Best is trial 15 with value: 0.8633010888607797.\n",
      "[I 2023-07-11 14:13:06,332] Trial 21 finished with value: 0.8621131126035644 and parameters: {'random_state': 0, 'learning_rate': 0.0969, 'n_estimators': 610, 'max_depth': 13, 'num_leaves': 46800, 'max_bin': 180, 'bagging_fraction': 0.4, 'feature_fraction ': 0.8, 'lambda_l1 ': 3.98, 'lambda_l2 ': 8.98}. Best is trial 15 with value: 0.8633010888607797.\n"
     ]
    },
    {
     "name": "stderr",
     "output_type": "stream",
     "text": [
      "[I 2023-07-11 14:13:09,905] Trial 22 finished with value: 0.8615764080029109 and parameters: {'random_state': 0, 'learning_rate': 0.0883, 'n_estimators': 628, 'max_depth': 9, 'num_leaves': 38900, 'max_bin': 190, 'bagging_fraction': 0.1, 'feature_fraction ': 0.7000000000000001, 'lambda_l1 ': 5.95, 'lambda_l2 ': 9.28}. Best is trial 15 with value: 0.8633010888607797.\n",
      "[I 2023-07-11 14:13:15,131] Trial 23 finished with value: 0.8626817053518548 and parameters: {'random_state': 0, 'learning_rate': 0.0723, 'n_estimators': 610, 'max_depth': 12, 'num_leaves': 55700, 'max_bin': 160, 'bagging_fraction': 0.4, 'feature_fraction ': 0.5, 'lambda_l1 ': 4.25, 'lambda_l2 ': 7.79}. Best is trial 15 with value: 0.8633010888607797.\n",
      "[I 2023-07-11 14:13:53,144] Trial 24 finished with value: 0.8607434618777257 and parameters: {'random_state': 0, 'learning_rate': 0.0548, 'n_estimators': 640, 'max_depth': 17, 'num_leaves': 49800, 'max_bin': 210, 'bagging_fraction': 0.6, 'feature_fraction ': 1.0, 'lambda_l1 ': 6.4, 'lambda_l2 ': 6.17}. Best is trial 15 with value: 0.8633010888607797.\n",
      "[I 2023-07-11 14:13:57,112] Trial 25 finished with value: 0.8624410028259243 and parameters: {'random_state': 0, 'learning_rate': 0.0896, 'n_estimators': 612, 'max_depth': 7, 'num_leaves': 39300, 'max_bin': 170, 'bagging_fraction': 0.9, 'feature_fraction ': 0.4, 'lambda_l1 ': 2.04, 'lambda_l2 ': 5.87}. Best is trial 15 with value: 0.8633010888607797.\n",
      "[I 2023-07-11 14:14:01,936] Trial 26 finished with value: 0.8613527607565328 and parameters: {'random_state': 0, 'learning_rate': 0.0616, 'n_estimators': 628, 'max_depth': 10, 'num_leaves': 29600, 'max_bin': 220, 'bagging_fraction': 0.5, 'feature_fraction ': 0.8, 'lambda_l1 ': 4.51, 'lambda_l2 ': 7.87}. Best is trial 15 with value: 0.8633010888607797.\n",
      "[I 2023-07-11 14:14:12,508] Trial 27 finished with value: 0.8611380902634318 and parameters: {'random_state': 0, 'learning_rate': 0.06820000000000001, 'n_estimators': 643, 'max_depth': 13, 'num_leaves': 43700, 'max_bin': 190, 'bagging_fraction': 0.7000000000000001, 'feature_fraction ': 0.9, 'lambda_l1 ': 3.5300000000000002, 'lambda_l2 ': 9.43}. Best is trial 15 with value: 0.8633010888607797.\n",
      "[I 2023-07-11 14:14:19,324] Trial 28 finished with value: 0.861976350857533 and parameters: {'random_state': 100, 'learning_rate': 0.0781, 'n_estimators': 657, 'max_depth': 7, 'num_leaves': 54200, 'max_bin': 190, 'bagging_fraction': 0.30000000000000004, 'feature_fraction ': 0.5, 'lambda_l1 ': 2.2600000000000002, 'lambda_l2 ': 3.2800000000000002}. Best is trial 15 with value: 0.8633010888607797.\n",
      "[I 2023-07-11 14:14:47,097] Trial 29 finished with value: 0.8629754235060826 and parameters: {'random_state': 100, 'learning_rate': 0.0487, 'n_estimators': 651, 'max_depth': 15, 'num_leaves': 65000, 'max_bin': 170, 'bagging_fraction': 0.6, 'feature_fraction ': 0.4, 'lambda_l1 ': 4.72, 'lambda_l2 ': 8.64}. Best is trial 15 with value: 0.8633010888607797.\n",
      "[I 2023-07-11 14:16:02,042] Trial 30 finished with value: 0.8606628440037725 and parameters: {'random_state': 0, 'learning_rate': 0.09390000000000001, 'n_estimators': 631, 'max_depth': 16, 'num_leaves': 47000, 'max_bin': 180, 'bagging_fraction': 0.8, 'feature_fraction ': 0.7000000000000001, 'lambda_l1 ': 1.27, 'lambda_l2 ': 6.68}. Best is trial 15 with value: 0.8633010888607797.\n",
      "[I 2023-07-11 14:16:16,819] Trial 31 finished with value: 0.8629334709636783 and parameters: {'random_state': 100, 'learning_rate': 0.0482, 'n_estimators': 650, 'max_depth': 14, 'num_leaves': 65600, 'max_bin': 170, 'bagging_fraction': 0.6, 'feature_fraction ': 0.4, 'lambda_l1 ': 4.74, 'lambda_l2 ': 8.56}. Best is trial 15 with value: 0.8633010888607797.\n",
      "[I 2023-07-11 14:16:40,239] Trial 32 finished with value: 0.8619785597068603 and parameters: {'random_state': 100, 'learning_rate': 0.0364, 'n_estimators': 654, 'max_depth': 15, 'num_leaves': 57300, 'max_bin': 160, 'bagging_fraction': 0.5, 'feature_fraction ': 0.2, 'lambda_l1 ': 5.08, 'lambda_l2 ': 7.7}. Best is trial 15 with value: 0.8633010888607797.\n",
      "[I 2023-07-11 14:17:18,119] Trial 33 finished with value: 0.8627441675011364 and parameters: {'random_state': 100, 'learning_rate': 0.0522, 'n_estimators': 637, 'max_depth': 23, 'num_leaves': 51000, 'max_bin': 160, 'bagging_fraction': 0.7000000000000001, 'feature_fraction ': 0.4, 'lambda_l1 ': 6.0600000000000005, 'lambda_l2 ': 9.38}. Best is trial 15 with value: 0.8633010888607797.\n",
      "[I 2023-07-11 14:17:28,958] Trial 34 finished with value: 0.8620923645650149 and parameters: {'random_state': 100, 'learning_rate': 0.058800000000000005, 'n_estimators': 646, 'max_depth': 13, 'num_leaves': 63400, 'max_bin': 170, 'bagging_fraction': 0.9, 'feature_fraction ': 0.6, 'lambda_l1 ': 5.07, 'lambda_l2 ': 8.24}. Best is trial 15 with value: 0.8633010888607797.\n",
      "[I 2023-07-11 14:18:47,739] Trial 35 finished with value: 0.8629402665703632 and parameters: {'random_state': None, 'learning_rate': 0.045500000000000006, 'n_estimators': 617, 'max_depth': 18, 'num_leaves': 69700, 'max_bin': 180, 'bagging_fraction': 0.30000000000000004, 'feature_fraction ': 0.5, 'lambda_l1 ': 3.8200000000000003, 'lambda_l2 ': 8.97}. Best is trial 15 with value: 0.8633010888607797.\n",
      "[I 2023-07-11 14:18:53,558] Trial 36 finished with value: 0.8623728055288457 and parameters: {'random_state': 25, 'learning_rate': 0.0302, 'n_estimators': 623, 'max_depth': 9, 'num_leaves': 45900, 'max_bin': 170, 'bagging_fraction': 0.4, 'feature_fraction ': 0.30000000000000004, 'lambda_l1 ': 6.58, 'lambda_l2 ': 7.47}. Best is trial 15 with value: 0.8633010888607797.\n",
      "[I 2023-07-11 14:19:25,203] Trial 37 finished with value: 0.861917258203108 and parameters: {'random_state': 100, 'learning_rate': 0.020900000000000002, 'n_estimators': 667, 'max_depth': 15, 'num_leaves': 66000, 'max_bin': 190, 'bagging_fraction': 0.5, 'feature_fraction ': 0.4, 'lambda_l1 ': 8.22, 'lambda_l2 ': 5.55}. Best is trial 15 with value: 0.8633010888607797.\n",
      "[I 2023-07-11 14:20:09,777] Trial 38 finished with value: 0.8617214389503001 and parameters: {'random_state': None, 'learning_rate': 0.043000000000000003, 'n_estimators': 700, 'max_depth': 28, 'num_leaves': 59300, 'max_bin': 210, 'bagging_fraction': 0.6, 'feature_fraction ': 0.2, 'lambda_l1 ': 5.53, 'lambda_l2 ': 6.51}. Best is trial 15 with value: 0.8633010888607797.\n",
      "[I 2023-07-11 14:20:37,889] Trial 39 finished with value: 0.86216020199393 and parameters: {'random_state': 25, 'learning_rate': 0.0756, 'n_estimators': 653, 'max_depth': 18, 'num_leaves': 41500, 'max_bin': 180, 'bagging_fraction': 0.8, 'feature_fraction ': 0.30000000000000004, 'lambda_l1 ': 4.64, 'lambda_l2 ': 4.55}. Best is trial 15 with value: 0.8633010888607797.\n",
      "[I 2023-07-11 14:20:49,354] Trial 40 finished with value: 0.8609184932512098 and parameters: {'random_state': 0, 'learning_rate': 0.0659, 'n_estimators': 645, 'max_depth': 12, 'num_leaves': 52800, 'max_bin': 260, 'bagging_fraction': 0.2, 'feature_fraction ': 0.8, 'lambda_l1 ': 2.5500000000000003, 'lambda_l2 ': 9.66}. Best is trial 15 with value: 0.8633010888607797.\n",
      "[I 2023-07-11 14:22:06,682] Trial 41 finished with value: 0.8628575284673176 and parameters: {'random_state': None, 'learning_rate': 0.0459, 'n_estimators': 616, 'max_depth': 19, 'num_leaves': 68200, 'max_bin': 160, 'bagging_fraction': 0.30000000000000004, 'feature_fraction ': 0.5, 'lambda_l1 ': 3.7600000000000002, 'lambda_l2 ': 8.97}. Best is trial 15 with value: 0.8633010888607797.\n",
      "[I 2023-07-11 14:23:37,051] Trial 42 finished with value: 0.8625086139197645 and parameters: {'random_state': None, 'learning_rate': 0.0388, 'n_estimators': 604, 'max_depth': 30, 'num_leaves': 69000, 'max_bin': 180, 'bagging_fraction': 0.30000000000000004, 'feature_fraction ': 0.5, 'lambda_l1 ': 3.2800000000000002, 'lambda_l2 ': 8.28}. Best is trial 15 with value: 0.8633010888607797.\n",
      "[I 2023-07-11 14:24:41,852] Trial 43 finished with value: 0.8623148103150472 and parameters: {'random_state': None, 'learning_rate': 0.0495, 'n_estimators': 614, 'max_depth': 22, 'num_leaves': 65500, 'max_bin': 190, 'bagging_fraction': 0.2, 'feature_fraction ': 0.6, 'lambda_l1 ': 4.34, 'lambda_l2 ': 8.78}. Best is trial 15 with value: 0.8633010888607797.\n",
      "[I 2023-07-11 14:25:54,191] Trial 44 finished with value: 0.8622768174523412 and parameters: {'random_state': None, 'learning_rate': 0.0337, 'n_estimators': 619, 'max_depth': 16, 'num_leaves': 58900, 'max_bin': 170, 'bagging_fraction': 0.30000000000000004, 'feature_fraction ': 0.4, 'lambda_l1 ': 3.64, 'lambda_l2 ': 9.18}. Best is trial 15 with value: 0.8633010888607797.\n"
     ]
    },
    {
     "name": "stderr",
     "output_type": "stream",
     "text": [
      "[I 2023-07-11 14:26:49,697] Trial 45 finished with value: 0.8618463587167081 and parameters: {'random_state': None, 'learning_rate': 0.043000000000000003, 'n_estimators': 606, 'max_depth': 18, 'num_leaves': 62300, 'max_bin': 180, 'bagging_fraction': 0.4, 'feature_fraction ': 0.6, 'lambda_l1 ': 5.53, 'lambda_l2 ': 8.02}. Best is trial 15 with value: 0.8633010888607797.\n",
      "[I 2023-07-11 14:27:21,440] Trial 46 finished with value: 0.8613780705594511 and parameters: {'random_state': 25, 'learning_rate': 0.055600000000000004, 'n_estimators': 628, 'max_depth': 14, 'num_leaves': 69500, 'max_bin': 290, 'bagging_fraction': 0.5, 'feature_fraction ': 0.9, 'lambda_l1 ': 2.97, 'lambda_l2 ': 9.77}. Best is trial 15 with value: 0.8633010888607797.\n",
      "[I 2023-07-11 14:27:25,726] Trial 47 finished with value: 0.8620921589071363 and parameters: {'random_state': 100, 'learning_rate': 0.0599, 'n_estimators': 638, 'max_depth': 6, 'num_leaves': 18500, 'max_bin': 200, 'bagging_fraction': 0.1, 'feature_fraction ': 0.30000000000000004, 'lambda_l1 ': 4.69, 'lambda_l2 ': 4.96}. Best is trial 15 with value: 0.8633010888607797.\n",
      "[I 2023-07-11 14:27:33,974] Trial 48 finished with value: 0.856742337031753 and parameters: {'random_state': None, 'learning_rate': 0.004, 'n_estimators': 608, 'max_depth': 10, 'num_leaves': 48300, 'max_bin': 220, 'bagging_fraction': 1.0, 'feature_fraction ': 0.5, 'lambda_l1 ': 3.85, 'lambda_l2 ': 7.21}. Best is trial 15 with value: 0.8633010888607797.\n",
      "[I 2023-07-11 14:27:53,869] Trial 49 finished with value: 0.8618203361772393 and parameters: {'random_state': 0, 'learning_rate': 0.08270000000000001, 'n_estimators': 621, 'max_depth': 19, 'num_leaves': 36500, 'max_bin': 160, 'bagging_fraction': 0.7000000000000001, 'feature_fraction ': 0.6, 'lambda_l1 ': 5.19, 'lambda_l2 ': 0.02}. Best is trial 15 with value: 0.8633010888607797.\n",
      "[I 2023-07-11 14:28:05,876] Trial 50 finished with value: 0.8631082519735214 and parameters: {'random_state': 0, 'learning_rate': 0.020100000000000003, 'n_estimators': 628, 'max_depth': 12, 'num_leaves': 43600, 'max_bin': 180, 'bagging_fraction': 0.6, 'feature_fraction ': 0.7000000000000001, 'lambda_l1 ': 3.18, 'lambda_l2 ': 8.73}. Best is trial 15 with value: 0.8633010888607797.\n",
      "[I 2023-07-11 14:28:19,056] Trial 51 finished with value: 0.8623045936863104 and parameters: {'random_state': 0, 'learning_rate': 0.012799999999999999, 'n_estimators': 633, 'max_depth': 12, 'num_leaves': 43500, 'max_bin': 180, 'bagging_fraction': 0.6, 'feature_fraction ': 0.7000000000000001, 'lambda_l1 ': 3.19, 'lambda_l2 ': 8.72}. Best is trial 15 with value: 0.8633010888607797.\n",
      "[I 2023-07-11 14:28:26,682] Trial 52 finished with value: 0.8630034752843789 and parameters: {'random_state': 0, 'learning_rate': 0.0182, 'n_estimators': 627, 'max_depth': 10, 'num_leaves': 51800, 'max_bin': 170, 'bagging_fraction': 0.7000000000000001, 'feature_fraction ': 0.4, 'lambda_l1 ': 2.48, 'lambda_l2 ': 9.51}. Best is trial 15 with value: 0.8633010888607797.\n",
      "[I 2023-07-11 14:28:34,327] Trial 53 finished with value: 0.8623631539257144 and parameters: {'random_state': 0, 'learning_rate': 0.013500000000000002, 'n_estimators': 630, 'max_depth': 10, 'num_leaves': 51800, 'max_bin': 170, 'bagging_fraction': 0.7000000000000001, 'feature_fraction ': 0.4, 'lambda_l1 ': 2.48, 'lambda_l2 ': 9.53}. Best is trial 15 with value: 0.8633010888607797.\n",
      "[I 2023-07-11 14:28:41,860] Trial 54 finished with value: 0.8619357998661201 and parameters: {'random_state': 0, 'learning_rate': 0.0239, 'n_estimators': 626, 'max_depth': 8, 'num_leaves': 48600, 'max_bin': 190, 'bagging_fraction': 0.7000000000000001, 'feature_fraction ': 0.7000000000000001, 'lambda_l1 ': 1.62, 'lambda_l2 ': 0.74}. Best is trial 15 with value: 0.8633010888607797.\n",
      "[I 2023-07-11 14:28:56,575] Trial 55 finished with value: 0.8600665885808485 and parameters: {'random_state': 0, 'learning_rate': 0.009600000000000001, 'n_estimators': 640, 'max_depth': 11, 'num_leaves': 44800, 'max_bin': 170, 'bagging_fraction': 0.6, 'feature_fraction ': 0.9, 'lambda_l1 ': 0.38, 'lambda_l2 ': 4.0}. Best is trial 15 with value: 0.8633010888607797.\n",
      "[I 2023-07-11 14:29:04,288] Trial 56 finished with value: 0.8626453930075382 and parameters: {'random_state': 0, 'learning_rate': 0.023500000000000004, 'n_estimators': 633, 'max_depth': 8, 'num_leaves': 40900, 'max_bin': 160, 'bagging_fraction': 0.8, 'feature_fraction ': 0.8, 'lambda_l1 ': 1.11, 'lambda_l2 ': 9.99}. Best is trial 15 with value: 0.8633010888607797.\n",
      "[I 2023-07-11 14:29:10,394] Trial 57 finished with value: 0.8620239958793092 and parameters: {'random_state': 0, 'learning_rate': 0.030100000000000002, 'n_estimators': 600, 'max_depth': 12, 'num_leaves': 56600, 'max_bin': 170, 'bagging_fraction': 0.7000000000000001, 'feature_fraction ': 0.2, 'lambda_l1 ': 2.75, 'lambda_l2 ': 7.640000000000001}. Best is trial 15 with value: 0.8633010888607797.\n",
      "[I 2023-07-11 14:29:13,541] Trial 58 finished with value: 0.8620096516058225 and parameters: {'random_state': 0, 'learning_rate': 0.0717, 'n_estimators': 625, 'max_depth': 9, 'num_leaves': 37100, 'max_bin': 200, 'bagging_fraction': 0.9, 'feature_fraction ': 0.1, 'lambda_l1 ': 4.3100000000000005, 'lambda_l2 ': 8.42}. Best is trial 15 with value: 0.8633010888607797.\n",
      "[I 2023-07-11 14:29:19,936] Trial 59 finished with value: 0.8623611373485728 and parameters: {'random_state': 0, 'learning_rate': 0.016, 'n_estimators': 665, 'max_depth': 6, 'num_leaves': 32000, 'max_bin': 160, 'bagging_fraction': 0.8, 'feature_fraction ': 0.6, 'lambda_l1 ': 3.2600000000000002, 'lambda_l2 ': 8.040000000000001}. Best is trial 15 with value: 0.8633010888607797.\n",
      "[I 2023-07-11 14:29:44,647] Trial 60 finished with value: 0.8601416349617692 and parameters: {'random_state': 0, 'learning_rate': 0.0073, 'n_estimators': 644, 'max_depth': 14, 'num_leaves': 54100, 'max_bin': 240, 'bagging_fraction': 0.6, 'feature_fraction ': 0.4, 'lambda_l1 ': 4.1, 'lambda_l2 ': 9.14}. Best is trial 15 with value: 0.8633010888607797.\n",
      "[I 2023-07-11 14:30:30,505] Trial 61 finished with value: 0.862491796420233 and parameters: {'random_state': 0, 'learning_rate': 0.052700000000000004, 'n_estimators': 618, 'max_depth': 16, 'num_leaves': 48400, 'max_bin': 180, 'bagging_fraction': 0.5, 'feature_fraction ': 0.5, 'lambda_l1 ': 4.04, 'lambda_l2 ': 8.92}. Best is trial 15 with value: 0.8633010888607797.\n",
      "[I 2023-07-11 14:30:45,952] Trial 62 finished with value: 0.863115604431977 and parameters: {'random_state': 0, 'learning_rate': 0.0463, 'n_estimators': 621, 'max_depth': 13, 'num_leaves': 42000, 'max_bin': 190, 'bagging_fraction': 0.2, 'feature_fraction ': 0.5, 'lambda_l1 ': 3.49, 'lambda_l2 ': 9.57}. Best is trial 15 with value: 0.8633010888607797.\n",
      "[I 2023-07-11 14:30:50,703] Trial 63 finished with value: 0.8630363234292057 and parameters: {'random_state': 0, 'learning_rate': 0.0645, 'n_estimators': 613, 'max_depth': 10, 'num_leaves': 45400, 'max_bin': 190, 'bagging_fraction': 0.6, 'feature_fraction ': 0.5, 'lambda_l1 ': 3.5300000000000002, 'lambda_l2 ': 9.58}. Best is trial 15 with value: 0.8633010888607797.\n",
      "[I 2023-07-11 14:30:57,476] Trial 64 finished with value: 0.8625433386652533 and parameters: {'random_state': 0, 'learning_rate': 0.0633, 'n_estimators': 621, 'max_depth': 11, 'num_leaves': 41800, 'max_bin': 200, 'bagging_fraction': 0.2, 'feature_fraction ': 0.5, 'lambda_l1 ': 1.96, 'lambda_l2 ': 9.66}. Best is trial 15 with value: 0.8633010888607797.\n",
      "[I 2023-07-11 14:31:02,118] Trial 65 finished with value: 0.8625367372589027 and parameters: {'random_state': 0, 'learning_rate': 0.06810000000000001, 'n_estimators': 613, 'max_depth': 10, 'num_leaves': 46300, 'max_bin': 190, 'bagging_fraction': 0.7000000000000001, 'feature_fraction ': 0.6, 'lambda_l1 ': 3.39, 'lambda_l2 ': 9.4}. Best is trial 15 with value: 0.8633010888607797.\n",
      "[I 2023-07-11 14:31:05,944] Trial 66 finished with value: 0.8625662724210679 and parameters: {'random_state': 0, 'learning_rate': 0.08460000000000001, 'n_estimators': 610, 'max_depth': 8, 'num_leaves': 50200, 'max_bin': 220, 'bagging_fraction': 0.4, 'feature_fraction ': 0.5, 'lambda_l1 ': 2.88, 'lambda_l2 ': 9.92}. Best is trial 15 with value: 0.8633010888607797.\n",
      "[I 2023-07-11 14:31:11,219] Trial 67 finished with value: 0.8616640990446163 and parameters: {'random_state': 0, 'learning_rate': 0.07880000000000001, 'n_estimators': 635, 'max_depth': 9, 'num_leaves': 38500, 'max_bin': 210, 'bagging_fraction': 0.8, 'feature_fraction ': 0.8, 'lambda_l1 ': 2.36, 'lambda_l2 ': 9.5}. Best is trial 15 with value: 0.8633010888607797.\n"
     ]
    },
    {
     "name": "stderr",
     "output_type": "stream",
     "text": [
      "[I 2023-07-11 14:31:30,921] Trial 68 finished with value: 0.8594591827077682 and parameters: {'random_state': 0, 'learning_rate': 0.0751, 'n_estimators': 626, 'max_depth': 13, 'num_leaves': 44800, 'max_bin': 200, 'bagging_fraction': 0.1, 'feature_fraction ': 0.6, 'lambda_l1 ': 0.76, 'lambda_l2 ': 8.42}. Best is trial 15 with value: 0.8633010888607797.\n",
      "[I 2023-07-11 14:31:36,300] Trial 69 finished with value: 0.861982412765798 and parameters: {'random_state': 0, 'learning_rate': 0.0665, 'n_estimators': 614, 'max_depth': 11, 'num_leaves': 42600, 'max_bin': 190, 'bagging_fraction': 0.6, 'feature_fraction ': 0.7000000000000001, 'lambda_l1 ': 3.58, 'lambda_l2 ': 9.26}. Best is trial 15 with value: 0.8633010888607797.\n",
      "[I 2023-07-11 14:31:41,097] Trial 70 finished with value: 0.8629346064904364 and parameters: {'random_state': 0, 'learning_rate': 0.09190000000000001, 'n_estimators': 677, 'max_depth': 7, 'num_leaves': 47400, 'max_bin': 180, 'bagging_fraction': 0.5, 'feature_fraction ': 0.5, 'lambda_l1 ': 1.7, 'lambda_l2 ': 6.72}. Best is trial 15 with value: 0.8633010888607797.\n",
      "[I 2023-07-11 14:31:46,583] Trial 71 finished with value: 0.8624299914917319 and parameters: {'random_state': 100, 'learning_rate': 0.055600000000000004, 'n_estimators': 621, 'max_depth': 12, 'num_leaves': 40100, 'max_bin': 170, 'bagging_fraction': 0.6, 'feature_fraction ': 0.4, 'lambda_l1 ': 4.96, 'lambda_l2 ': 9.09}. Best is trial 15 with value: 0.8633010888607797.\n",
      "[I 2023-07-11 14:31:58,541] Trial 72 finished with value: 0.8627666665925006 and parameters: {'random_state': 0, 'learning_rate': 0.0188, 'n_estimators': 630, 'max_depth': 13, 'num_leaves': 52200, 'max_bin': 180, 'bagging_fraction': 0.7000000000000001, 'feature_fraction ': 0.4, 'lambda_l1 ': 4.49, 'lambda_l2 ': 8.61}. Best is trial 15 with value: 0.8633010888607797.\n",
      "[I 2023-07-11 14:32:02,608] Trial 73 finished with value: 0.8623149968118543 and parameters: {'random_state': 0, 'learning_rate': 0.1, 'n_estimators': 649, 'max_depth': 10, 'num_leaves': 54800, 'max_bin': 190, 'bagging_fraction': 0.6, 'feature_fraction ': 0.4, 'lambda_l1 ': 2.7, 'lambda_l2 ': 8.71}. Best is trial 15 with value: 0.8633010888607797.\n",
      "[I 2023-07-11 14:32:18,230] Trial 74 finished with value: 0.862636132771533 and parameters: {'random_state': 25, 'learning_rate': 0.060500000000000005, 'n_estimators': 606, 'max_depth': 14, 'num_leaves': 45000, 'max_bin': 170, 'bagging_fraction': 0.7000000000000001, 'feature_fraction ': 0.30000000000000004, 'lambda_l1 ': 3.08, 'lambda_l2 ': 8.120000000000001}. Best is trial 15 with value: 0.8633010888607797.\n",
      "[I 2023-07-11 14:32:50,299] Trial 75 finished with value: 0.8623664354742552 and parameters: {'random_state': 100, 'learning_rate': 0.039400000000000004, 'n_estimators': 623, 'max_depth': 15, 'num_leaves': 49800, 'max_bin': 170, 'bagging_fraction': 0.5, 'feature_fraction ': 0.5, 'lambda_l1 ': 4.87, 'lambda_l2 ': 7.4}. Best is trial 15 with value: 0.8633010888607797.\n",
      "[I 2023-07-11 14:33:02,285] Trial 76 finished with value: 0.8629512498989496 and parameters: {'random_state': 0, 'learning_rate': 0.0521, 'n_estimators': 640, 'max_depth': 13, 'num_leaves': 46500, 'max_bin': 160, 'bagging_fraction': 0.8, 'feature_fraction ': 0.5, 'lambda_l1 ': 4.18, 'lambda_l2 ': 9.72}. Best is trial 15 with value: 0.8633010888607797.\n",
      "[I 2023-07-11 14:33:12,372] Trial 77 finished with value: 0.8631834313573206 and parameters: {'random_state': 0, 'learning_rate': 0.033800000000000004, 'n_estimators': 685, 'max_depth': 11, 'num_leaves': 43500, 'max_bin': 180, 'bagging_fraction': 0.9, 'feature_fraction ': 0.30000000000000004, 'lambda_l1 ': 2.19, 'lambda_l2 ': 9.22}. Best is trial 15 with value: 0.8633010888607797.\n",
      "[I 2023-07-11 14:33:19,665] Trial 78 finished with value: 0.8629128722991641 and parameters: {'random_state': 0, 'learning_rate': 0.034800000000000005, 'n_estimators': 615, 'max_depth': 11, 'num_leaves': 42700, 'max_bin': 200, 'bagging_fraction': 1.0, 'feature_fraction ': 0.30000000000000004, 'lambda_l1 ': 2.19, 'lambda_l2 ': 9.28}. Best is trial 15 with value: 0.8633010888607797.\n",
      "[I 2023-07-11 14:33:29,062] Trial 79 finished with value: 0.8612118194006779 and parameters: {'random_state': 0, 'learning_rate': 0.0238, 'n_estimators': 700, 'max_depth': 10, 'num_leaves': 38100, 'max_bin': 190, 'bagging_fraction': 0.9, 'feature_fraction ': 0.9, 'lambda_l1 ': 3.66, 'lambda_l2 ': 9.99}. Best is trial 15 with value: 0.8633010888607797.\n",
      "[I 2023-07-11 14:33:34,970] Trial 80 finished with value: 0.8597634925681448 and parameters: {'random_state': 0, 'learning_rate': 0.0633, 'n_estimators': 685, 'max_depth': 6, 'num_leaves': 50900, 'max_bin': 210, 'bagging_fraction': 0.9, 'feature_fraction ': 1.0, 'lambda_l1 ': 1.72, 'lambda_l2 ': 8.870000000000001}. Best is trial 15 with value: 0.8633010888607797.\n",
      "[I 2023-07-11 14:33:46,269] Trial 81 finished with value: 0.8626165384444183 and parameters: {'random_state': 0, 'learning_rate': 0.027200000000000002, 'n_estimators': 693, 'max_depth': 12, 'num_leaves': 44200, 'max_bin': 180, 'bagging_fraction': 0.6, 'feature_fraction ': 0.4, 'lambda_l1 ': 5.83, 'lambda_l2 ': 9.58}. Best is trial 15 with value: 0.8633010888607797.\n",
      "[I 2023-07-11 14:34:18,373] Trial 82 finished with value: 0.863387037438397 and parameters: {'random_state': 0, 'learning_rate': 0.0475, 'n_estimators': 611, 'max_depth': 15, 'num_leaves': 39900, 'max_bin': 180, 'bagging_fraction': 0.8, 'feature_fraction ': 0.30000000000000004, 'lambda_l1 ': 3.42, 'lambda_l2 ': 8.5}. Best is trial 82 with value: 0.863387037438397.\n",
      "[I 2023-07-11 14:34:25,947] Trial 83 finished with value: 0.8618404979007812 and parameters: {'random_state': 0, 'learning_rate': 0.0415, 'n_estimators': 618, 'max_depth': 9, 'num_leaves': 35400, 'max_bin': 180, 'bagging_fraction': 0.8, 'feature_fraction ': 0.2, 'lambda_l1 ': 3.46, 'lambda_l2 ': 8.44}. Best is trial 82 with value: 0.863387037438397.\n",
      "[I 2023-07-11 14:34:33,411] Trial 84 finished with value: 0.8628358432425116 and parameters: {'random_state': 0, 'learning_rate': 0.0313, 'n_estimators': 610, 'max_depth': 12, 'num_leaves': 40300, 'max_bin': 190, 'bagging_fraction': 0.8, 'feature_fraction ': 0.30000000000000004, 'lambda_l1 ': 3.0700000000000003, 'lambda_l2 ': 9.14}. Best is trial 82 with value: 0.863387037438397.\n",
      "[I 2023-07-11 14:34:38,581] Trial 85 finished with value: 0.8631181941704664 and parameters: {'random_state': 0, 'learning_rate': 0.05790000000000001, 'n_estimators': 612, 'max_depth': 10, 'num_leaves': 47500, 'max_bin': 180, 'bagging_fraction': 0.7000000000000001, 'feature_fraction ': 0.30000000000000004, 'lambda_l1 ': 3.85, 'lambda_l2 ': 7.96}. Best is trial 82 with value: 0.863387037438397.\n",
      "[I 2023-07-11 14:34:49,737] Trial 86 finished with value: 0.862434863880142 and parameters: {'random_state': 0, 'learning_rate': 0.0575, 'n_estimators': 607, 'max_depth': 14, 'num_leaves': 32300, 'max_bin': 180, 'bagging_fraction': 0.9, 'feature_fraction ': 0.2, 'lambda_l1 ': 3.9, 'lambda_l2 ': 7.8100000000000005}. Best is trial 82 with value: 0.863387037438397.\n",
      "[I 2023-07-11 14:34:55,820] Trial 87 finished with value: 0.8634045498526653 and parameters: {'random_state': 0, 'learning_rate': 0.047200000000000006, 'n_estimators': 612, 'max_depth': 11, 'num_leaves': 47900, 'max_bin': 190, 'bagging_fraction': 1.0, 'feature_fraction ': 0.30000000000000004, 'lambda_l1 ': 4.48, 'lambda_l2 ': 7.01}. Best is trial 87 with value: 0.8634045498526653.\n",
      "[I 2023-07-11 14:35:02,039] Trial 88 finished with value: 0.8633276177578578 and parameters: {'random_state': 0, 'learning_rate': 0.0437, 'n_estimators': 603, 'max_depth': 11, 'num_leaves': 47800, 'max_bin': 200, 'bagging_fraction': 1.0, 'feature_fraction ': 0.30000000000000004, 'lambda_l1 ': 4.46, 'lambda_l2 ': 6.28}. Best is trial 87 with value: 0.8634045498526653.\n",
      "[I 2023-07-11 14:35:07,700] Trial 89 finished with value: 0.8617796770685606 and parameters: {'random_state': 25, 'learning_rate': 0.0463, 'n_estimators': 603, 'max_depth': 11, 'num_leaves': 48600, 'max_bin': 200, 'bagging_fraction': 1.0, 'feature_fraction ': 0.2, 'lambda_l1 ': 3.88, 'lambda_l2 ': 7.41}. Best is trial 87 with value: 0.8634045498526653.\n",
      "[I 2023-07-11 14:35:23,327] Trial 90 finished with value: 0.8626726365103092 and parameters: {'random_state': 0, 'learning_rate': 0.037500000000000006, 'n_estimators': 600, 'max_depth': 14, 'num_leaves': 42600, 'max_bin': 190, 'bagging_fraction': 1.0, 'feature_fraction ': 0.30000000000000004, 'lambda_l1 ': 4.48, 'lambda_l2 ': 6.95}. Best is trial 87 with value: 0.8634045498526653.\n"
     ]
    },
    {
     "name": "stderr",
     "output_type": "stream",
     "text": [
      "[I 2023-07-11 14:35:32,210] Trial 91 finished with value: 0.8633981435108508 and parameters: {'random_state': 0, 'learning_rate': 0.044000000000000004, 'n_estimators': 604, 'max_depth': 9, 'num_leaves': 47700, 'max_bin': 180, 'bagging_fraction': 1.0, 'feature_fraction ': 0.30000000000000004, 'lambda_l1 ': 4.3, 'lambda_l2 ': 6.13}. Best is trial 87 with value: 0.8634045498526653.\n",
      "[I 2023-07-11 14:35:36,473] Trial 92 finished with value: 0.863429694704909 and parameters: {'random_state': 0, 'learning_rate': 0.049, 'n_estimators': 604, 'max_depth': 8, 'num_leaves': 47300, 'max_bin': 180, 'bagging_fraction': 1.0, 'feature_fraction ': 0.30000000000000004, 'lambda_l1 ': 5.32, 'lambda_l2 ': 6.25}. Best is trial 92 with value: 0.863429694704909.\n",
      "[I 2023-07-11 14:35:41,155] Trial 93 finished with value: 0.8623307286629798 and parameters: {'random_state': 0, 'learning_rate': 0.044000000000000004, 'n_estimators': 605, 'max_depth': 8, 'num_leaves': 49400, 'max_bin': 180, 'bagging_fraction': 1.0, 'feature_fraction ': 0.30000000000000004, 'lambda_l1 ': 5.3100000000000005, 'lambda_l2 ': 6.24}. Best is trial 92 with value: 0.863429694704909.\n",
      "[I 2023-07-11 14:35:45,644] Trial 94 finished with value: 0.8633183512125921 and parameters: {'random_state': 0, 'learning_rate': 0.0483, 'n_estimators': 611, 'max_depth': 9, 'num_leaves': 47400, 'max_bin': 190, 'bagging_fraction': 1.0, 'feature_fraction ': 0.30000000000000004, 'lambda_l1 ': 4.8, 'lambda_l2 ': 5.39}. Best is trial 92 with value: 0.863429694704909.\n",
      "[I 2023-07-11 14:35:49,797] Trial 95 finished with value: 0.86314569869994 and parameters: {'random_state': 0, 'learning_rate': 0.0483, 'n_estimators': 611, 'max_depth': 7, 'num_leaves': 47700, 'max_bin': 200, 'bagging_fraction': 1.0, 'feature_fraction ': 0.30000000000000004, 'lambda_l1 ': 4.82, 'lambda_l2 ': 5.75}. Best is trial 92 with value: 0.863429694704909.\n",
      "[I 2023-07-11 14:35:53,535] Trial 96 finished with value: 0.8627486297418929 and parameters: {'random_state': 0, 'learning_rate': 0.049600000000000005, 'n_estimators': 602, 'max_depth': 5, 'num_leaves': 53000, 'max_bin': 210, 'bagging_fraction': 1.0, 'feature_fraction ': 0.30000000000000004, 'lambda_l1 ': 5.65, 'lambda_l2 ': 5.61}. Best is trial 92 with value: 0.863429694704909.\n",
      "[I 2023-07-11 14:35:57,752] Trial 97 finished with value: 0.8627104617364013 and parameters: {'random_state': 0, 'learning_rate': 0.053700000000000005, 'n_estimators': 611, 'max_depth': 7, 'num_leaves': 47200, 'max_bin': 200, 'bagging_fraction': 1.0, 'feature_fraction ': 0.30000000000000004, 'lambda_l1 ': 6.23, 'lambda_l2 ': 5.19}. Best is trial 92 with value: 0.863429694704909.\n",
      "[I 2023-07-11 14:36:01,806] Trial 98 finished with value: 0.8615383300425755 and parameters: {'random_state': 0, 'learning_rate': 0.0507, 'n_estimators': 608, 'max_depth': 9, 'num_leaves': 50700, 'max_bin': 190, 'bagging_fraction': 0.9, 'feature_fraction ': 0.2, 'lambda_l1 ': 4.89, 'lambda_l2 ': 5.87}. Best is trial 92 with value: 0.863429694704909.\n",
      "[I 2023-07-11 14:36:05,806] Trial 99 finished with value: 0.8625600141468984 and parameters: {'random_state': 0, 'learning_rate': 0.048, 'n_estimators': 603, 'max_depth': 6, 'num_leaves': 49500, 'max_bin': 200, 'bagging_fraction': 1.0, 'feature_fraction ': 0.30000000000000004, 'lambda_l1 ': 5.34, 'lambda_l2 ': 6.390000000000001}. Best is trial 92 with value: 0.863429694704909.\n"
     ]
    }
   ],
   "source": [
    "def objective(trial):\n",
    "    iris = sklearn.datasets.load_iris()\n",
    "    x, y = iris.data, iris.target\n",
    "\n",
    "    random_state = trial.suggest_categorical(\"random_state\", [0, 25, 100, None])\n",
    "    learning_rate = trial.suggest_float(\"learning_rate\",0.001,0.1, step = 0.0001)\n",
    "    n_estimators = trial.suggest_int(\"n_estimators\", 600,700)    \n",
    "    max_depth = trial.suggest_int(\"max_depth\", 5,30)    \n",
    "    num_leaves = trial.suggest_int(\"num_leaves\", 2,131072)        \n",
    "    max_bin = trial.suggest_int(\"max_bin\", 160,300, step = 10)         \n",
    "    bagging_fraction = trial.suggest_float(\"bagging_fraction\",0.1,1.0, step=0.1)\n",
    "    feature_fraction  = trial.suggest_float(\"feature_fraction \",0.1,1.0, step=0.1)    \n",
    "    lambda_l1  = trial.suggest_float(\"lambda_l1 \",0.0,10, step=0.01)\n",
    "    lambda_l2  = trial.suggest_float(\"lambda_l2 \",0.0,10, step=0.01)       \n",
    "    \n",
    "    clf = LGBMClassifier(\n",
    "        objective=\"binary\",\n",
    "        random_state=random_state,        \n",
    "        learning_rate=learning_rate,\n",
    "        n_estimators=n_estimators,\n",
    "        max_depth=max_depth,\n",
    "        num_leaves=num_leaves,\n",
    "        max_bin=max_bin,        \n",
    "        lambda_l1=lambda_l1, #same as reg_alpha and lambda\n",
    "        lambda_l2=lambda_l2,\n",
    "        bagging_fraction =bagging_fraction,\n",
    "        feature_fraction =feature_fraction\n",
    "        #colsample_bytree=colsample_bytree, #same as feature_fraction        \n",
    "        #min_samples_leaf=min_samples_leaf,        \n",
    "        #min_child_samples=min_child_samples,        \n",
    "        #reg_alpha=reg_alpha,\n",
    "        #reg_lambda=reg_lambda,\n",
    "        #subsample=subsample, #same as bagging_fraction        \n",
    "        )      \n",
    "       \n",
    "    f1_weigth_score = cross_val_score(clf, processed_train, y_train, n_jobs=-1, cv=10, scoring = 'f1_weighted')\n",
    "    return f1_weigth_score.mean()\n",
    "\n",
    "study = optuna.create_study(direction = 'maximize')\n",
    "study.optimize(objective, n_trials=100)"
   ]
  },
  {
   "cell_type": "code",
   "execution_count": 283,
   "id": "3c093e6a",
   "metadata": {},
   "outputs": [
    {
     "name": "stdout",
     "output_type": "stream",
     "text": [
      "Metrics: 0.863429694704909\n",
      "Best hyperparameters: {'random_state': 25, 'learning_rate': 0.022000000000000002, 'n_estimators': 419, 'max_depth': 19}\n"
     ]
    }
   ],
   "source": [
    "trial = study.best_trial\n",
    "print('Metrics: {}'.format(trial.value))\n",
    "print(\"Best hyperparameters: {}\".format(trials.params))"
   ]
  },
  {
   "cell_type": "code",
   "execution_count": 304,
   "id": "V_J2e8qdjeWg",
   "metadata": {
    "colab": {
     "base_uri": "https://localhost:8080/",
     "height": 542
    },
    "id": "V_J2e8qdjeWg",
    "outputId": "3da211e7-8d4e-4522-8985-c136a588fcad"
   },
   "outputs": [
    {
     "data": {
      "application/vnd.plotly.v1+json": {
       "config": {
        "plotlyServerURL": "https://plot.ly"
       },
       "data": [
        {
         "marker": {
          "color": [
           0,
           1,
           2,
           3,
           4,
           5,
           6,
           7,
           8,
           9,
           10,
           11,
           12,
           13,
           14,
           15,
           16,
           17,
           18,
           19,
           20,
           21,
           22,
           23,
           24,
           25,
           26,
           27,
           28,
           29,
           30,
           31,
           32,
           33,
           34,
           35,
           36,
           37,
           38,
           39,
           40,
           41,
           42,
           43,
           44,
           45,
           46,
           47,
           48,
           49,
           50,
           51,
           52,
           53,
           54,
           55,
           56,
           57,
           58,
           59,
           60,
           61,
           62,
           63,
           64,
           65,
           66,
           67,
           68,
           69,
           70,
           71,
           72,
           73,
           74,
           75,
           76,
           77,
           78,
           79,
           80,
           81,
           82,
           83,
           84,
           85,
           86,
           87,
           88,
           89,
           90,
           91,
           92,
           93,
           94,
           95,
           96,
           97,
           98,
           99
          ],
          "colorbar": {
           "title": {
            "text": "Trial"
           },
           "x": 1,
           "xpad": 40
          },
          "colorscale": [
           [
            0,
            "rgb(247,251,255)"
           ],
           [
            0.125,
            "rgb(222,235,247)"
           ],
           [
            0.25,
            "rgb(198,219,239)"
           ],
           [
            0.375,
            "rgb(158,202,225)"
           ],
           [
            0.5,
            "rgb(107,174,214)"
           ],
           [
            0.625,
            "rgb(66,146,198)"
           ],
           [
            0.75,
            "rgb(33,113,181)"
           ],
           [
            0.875,
            "rgb(8,81,156)"
           ],
           [
            1,
            "rgb(8,48,107)"
           ]
          ],
          "line": {
           "color": "Grey",
           "width": 0.5
          },
          "showscale": true
         },
         "mode": "markers",
         "showlegend": false,
         "type": "scatter",
         "x": [
          0.5,
          0.9,
          0.30000000000000004,
          0.5,
          0.2,
          0.2,
          1,
          0.7000000000000001,
          0.6,
          1,
          0.4,
          0.7000000000000001,
          0.7000000000000001,
          0.8,
          0.7000000000000001,
          0.8,
          0.8,
          0.9,
          0.6,
          0.8,
          0.4,
          0.4,
          0.1,
          0.4,
          0.6,
          0.9,
          0.5,
          0.7000000000000001,
          0.30000000000000004,
          0.6,
          0.8,
          0.6,
          0.5,
          0.7000000000000001,
          0.9,
          0.30000000000000004,
          0.4,
          0.5,
          0.6,
          0.8,
          0.2,
          0.30000000000000004,
          0.30000000000000004,
          0.2,
          0.30000000000000004,
          0.4,
          0.5,
          0.1,
          1,
          0.7000000000000001,
          0.6,
          0.6,
          0.7000000000000001,
          0.7000000000000001,
          0.7000000000000001,
          0.6,
          0.8,
          0.7000000000000001,
          0.9,
          0.8,
          0.6,
          0.5,
          0.2,
          0.6,
          0.2,
          0.7000000000000001,
          0.4,
          0.8,
          0.1,
          0.6,
          0.5,
          0.6,
          0.7000000000000001,
          0.6,
          0.7000000000000001,
          0.5,
          0.8,
          0.9,
          1,
          0.9,
          0.9,
          0.6,
          0.8,
          0.8,
          0.8,
          0.7000000000000001,
          0.9,
          1,
          1,
          1,
          1,
          1,
          1,
          1,
          1,
          1,
          1,
          1,
          0.9,
          1
         ],
         "xaxis": "x",
         "y": [
          0.8628034145799468,
          0.8626620811304562,
          0.8617556706477808,
          0.8614508188426966,
          0.8626559982622586,
          0.8620289071884505,
          0.8606343224641227,
          0.8593327619747256,
          0.862046528188684,
          0.8605483170563557,
          0.8603139216665914,
          0.8630741519722227,
          0.8628264382593578,
          0.8615093396962171,
          0.8584555973239493,
          0.8633010888607797,
          0.8621227503683409,
          0.8568691225407015,
          0.8615239356546521,
          0.8622680987169226,
          0.8631053169586307,
          0.8621131126035644,
          0.8615764080029109,
          0.8626817053518548,
          0.8607434618777257,
          0.8624410028259243,
          0.8613527607565328,
          0.8611380902634318,
          0.861976350857533,
          0.8629754235060826,
          0.8606628440037725,
          0.8629334709636783,
          0.8619785597068603,
          0.8627441675011364,
          0.8620923645650149,
          0.8629402665703632,
          0.8623728055288457,
          0.861917258203108,
          0.8617214389503001,
          0.86216020199393,
          0.8609184932512098,
          0.8628575284673176,
          0.8625086139197645,
          0.8623148103150472,
          0.8622768174523412,
          0.8618463587167081,
          0.8613780705594511,
          0.8620921589071363,
          0.856742337031753,
          0.8618203361772393,
          0.8631082519735214,
          0.8623045936863104,
          0.8630034752843789,
          0.8623631539257144,
          0.8619357998661201,
          0.8600665885808485,
          0.8626453930075382,
          0.8620239958793092,
          0.8620096516058225,
          0.8623611373485728,
          0.8601416349617692,
          0.862491796420233,
          0.863115604431977,
          0.8630363234292057,
          0.8625433386652533,
          0.8625367372589027,
          0.8625662724210679,
          0.8616640990446163,
          0.8594591827077682,
          0.861982412765798,
          0.8629346064904364,
          0.8624299914917319,
          0.8627666665925006,
          0.8623149968118543,
          0.862636132771533,
          0.8623664354742552,
          0.8629512498989496,
          0.8631834313573206,
          0.8629128722991641,
          0.8612118194006779,
          0.8597634925681448,
          0.8626165384444183,
          0.863387037438397,
          0.8618404979007812,
          0.8628358432425116,
          0.8631181941704664,
          0.862434863880142,
          0.8634045498526653,
          0.8633276177578578,
          0.8617796770685606,
          0.8626726365103092,
          0.8633981435108508,
          0.863429694704909,
          0.8623307286629798,
          0.8633183512125921,
          0.86314569869994,
          0.8627486297418929,
          0.8627104617364013,
          0.8615383300425755,
          0.8625600141468984
         ],
         "yaxis": "y"
        },
        {
         "marker": {
          "color": [
           0,
           1,
           2,
           3,
           4,
           5,
           6,
           7,
           8,
           9,
           10,
           11,
           12,
           13,
           14,
           15,
           16,
           17,
           18,
           19,
           20,
           21,
           22,
           23,
           24,
           25,
           26,
           27,
           28,
           29,
           30,
           31,
           32,
           33,
           34,
           35,
           36,
           37,
           38,
           39,
           40,
           41,
           42,
           43,
           44,
           45,
           46,
           47,
           48,
           49,
           50,
           51,
           52,
           53,
           54,
           55,
           56,
           57,
           58,
           59,
           60,
           61,
           62,
           63,
           64,
           65,
           66,
           67,
           68,
           69,
           70,
           71,
           72,
           73,
           74,
           75,
           76,
           77,
           78,
           79,
           80,
           81,
           82,
           83,
           84,
           85,
           86,
           87,
           88,
           89,
           90,
           91,
           92,
           93,
           94,
           95,
           96,
           97,
           98,
           99
          ],
          "colorbar": {
           "title": {
            "text": "Trial"
           },
           "x": 1,
           "xpad": 40
          },
          "colorscale": [
           [
            0,
            "rgb(247,251,255)"
           ],
           [
            0.125,
            "rgb(222,235,247)"
           ],
           [
            0.25,
            "rgb(198,219,239)"
           ],
           [
            0.375,
            "rgb(158,202,225)"
           ],
           [
            0.5,
            "rgb(107,174,214)"
           ],
           [
            0.625,
            "rgb(66,146,198)"
           ],
           [
            0.75,
            "rgb(33,113,181)"
           ],
           [
            0.875,
            "rgb(8,81,156)"
           ],
           [
            1,
            "rgb(8,48,107)"
           ]
          ],
          "line": {
           "color": "Grey",
           "width": 0.5
          },
          "showscale": false
         },
         "mode": "markers",
         "showlegend": false,
         "type": "scatter",
         "x": [
          0.30000000000000004,
          0.4,
          0.8,
          0.30000000000000004,
          0.30000000000000004,
          0.30000000000000004,
          0.2,
          0.9,
          0.6,
          1,
          0.1,
          0.5,
          0.6,
          0.6,
          0.7000000000000001,
          0.5,
          0.5,
          0.5,
          0.7000000000000001,
          0.4,
          0.8,
          0.8,
          0.7000000000000001,
          0.5,
          1,
          0.4,
          0.8,
          0.9,
          0.5,
          0.4,
          0.7000000000000001,
          0.4,
          0.2,
          0.4,
          0.6,
          0.5,
          0.30000000000000004,
          0.4,
          0.2,
          0.30000000000000004,
          0.8,
          0.5,
          0.5,
          0.6,
          0.4,
          0.6,
          0.9,
          0.30000000000000004,
          0.5,
          0.6,
          0.7000000000000001,
          0.7000000000000001,
          0.4,
          0.4,
          0.7000000000000001,
          0.9,
          0.8,
          0.2,
          0.1,
          0.6,
          0.4,
          0.5,
          0.5,
          0.5,
          0.5,
          0.6,
          0.5,
          0.8,
          0.6,
          0.7000000000000001,
          0.5,
          0.4,
          0.4,
          0.4,
          0.30000000000000004,
          0.5,
          0.5,
          0.30000000000000004,
          0.30000000000000004,
          0.9,
          1,
          0.4,
          0.30000000000000004,
          0.2,
          0.30000000000000004,
          0.30000000000000004,
          0.2,
          0.30000000000000004,
          0.30000000000000004,
          0.2,
          0.30000000000000004,
          0.30000000000000004,
          0.30000000000000004,
          0.30000000000000004,
          0.30000000000000004,
          0.30000000000000004,
          0.30000000000000004,
          0.30000000000000004,
          0.2,
          0.30000000000000004
         ],
         "xaxis": "x2",
         "y": [
          0.8628034145799468,
          0.8626620811304562,
          0.8617556706477808,
          0.8614508188426966,
          0.8626559982622586,
          0.8620289071884505,
          0.8606343224641227,
          0.8593327619747256,
          0.862046528188684,
          0.8605483170563557,
          0.8603139216665914,
          0.8630741519722227,
          0.8628264382593578,
          0.8615093396962171,
          0.8584555973239493,
          0.8633010888607797,
          0.8621227503683409,
          0.8568691225407015,
          0.8615239356546521,
          0.8622680987169226,
          0.8631053169586307,
          0.8621131126035644,
          0.8615764080029109,
          0.8626817053518548,
          0.8607434618777257,
          0.8624410028259243,
          0.8613527607565328,
          0.8611380902634318,
          0.861976350857533,
          0.8629754235060826,
          0.8606628440037725,
          0.8629334709636783,
          0.8619785597068603,
          0.8627441675011364,
          0.8620923645650149,
          0.8629402665703632,
          0.8623728055288457,
          0.861917258203108,
          0.8617214389503001,
          0.86216020199393,
          0.8609184932512098,
          0.8628575284673176,
          0.8625086139197645,
          0.8623148103150472,
          0.8622768174523412,
          0.8618463587167081,
          0.8613780705594511,
          0.8620921589071363,
          0.856742337031753,
          0.8618203361772393,
          0.8631082519735214,
          0.8623045936863104,
          0.8630034752843789,
          0.8623631539257144,
          0.8619357998661201,
          0.8600665885808485,
          0.8626453930075382,
          0.8620239958793092,
          0.8620096516058225,
          0.8623611373485728,
          0.8601416349617692,
          0.862491796420233,
          0.863115604431977,
          0.8630363234292057,
          0.8625433386652533,
          0.8625367372589027,
          0.8625662724210679,
          0.8616640990446163,
          0.8594591827077682,
          0.861982412765798,
          0.8629346064904364,
          0.8624299914917319,
          0.8627666665925006,
          0.8623149968118543,
          0.862636132771533,
          0.8623664354742552,
          0.8629512498989496,
          0.8631834313573206,
          0.8629128722991641,
          0.8612118194006779,
          0.8597634925681448,
          0.8626165384444183,
          0.863387037438397,
          0.8618404979007812,
          0.8628358432425116,
          0.8631181941704664,
          0.862434863880142,
          0.8634045498526653,
          0.8633276177578578,
          0.8617796770685606,
          0.8626726365103092,
          0.8633981435108508,
          0.863429694704909,
          0.8623307286629798,
          0.8633183512125921,
          0.86314569869994,
          0.8627486297418929,
          0.8627104617364013,
          0.8615383300425755,
          0.8625600141468984
         ],
         "yaxis": "y2"
        },
        {
         "marker": {
          "color": [
           0,
           1,
           2,
           3,
           4,
           5,
           6,
           7,
           8,
           9,
           10,
           11,
           12,
           13,
           14,
           15,
           16,
           17,
           18,
           19,
           20,
           21,
           22,
           23,
           24,
           25,
           26,
           27,
           28,
           29,
           30,
           31,
           32,
           33,
           34,
           35,
           36,
           37,
           38,
           39,
           40,
           41,
           42,
           43,
           44,
           45,
           46,
           47,
           48,
           49,
           50,
           51,
           52,
           53,
           54,
           55,
           56,
           57,
           58,
           59,
           60,
           61,
           62,
           63,
           64,
           65,
           66,
           67,
           68,
           69,
           70,
           71,
           72,
           73,
           74,
           75,
           76,
           77,
           78,
           79,
           80,
           81,
           82,
           83,
           84,
           85,
           86,
           87,
           88,
           89,
           90,
           91,
           92,
           93,
           94,
           95,
           96,
           97,
           98,
           99
          ],
          "colorbar": {
           "title": {
            "text": "Trial"
           },
           "x": 1,
           "xpad": 40
          },
          "colorscale": [
           [
            0,
            "rgb(247,251,255)"
           ],
           [
            0.125,
            "rgb(222,235,247)"
           ],
           [
            0.25,
            "rgb(198,219,239)"
           ],
           [
            0.375,
            "rgb(158,202,225)"
           ],
           [
            0.5,
            "rgb(107,174,214)"
           ],
           [
            0.625,
            "rgb(66,146,198)"
           ],
           [
            0.75,
            "rgb(33,113,181)"
           ],
           [
            0.875,
            "rgb(8,81,156)"
           ],
           [
            1,
            "rgb(8,48,107)"
           ]
          ],
          "line": {
           "color": "Grey",
           "width": 0.5
          },
          "showscale": false
         },
         "mode": "markers",
         "showlegend": false,
         "type": "scatter",
         "x": [
          5.01,
          5.22,
          5.58,
          8.99,
          7.24,
          5.37,
          9.21,
          1.37,
          9.81,
          3.12,
          2.87,
          4.16,
          3.41,
          2.7800000000000002,
          0.41000000000000003,
          4,
          7.08,
          4.0600000000000005,
          1.94,
          7.2,
          4.25,
          3.98,
          5.95,
          4.25,
          6.4,
          2.04,
          4.51,
          3.5300000000000002,
          2.2600000000000002,
          4.72,
          1.27,
          4.74,
          5.08,
          6.0600000000000005,
          5.07,
          3.8200000000000003,
          6.58,
          8.22,
          5.53,
          4.64,
          2.5500000000000003,
          3.7600000000000002,
          3.2800000000000002,
          4.34,
          3.64,
          5.53,
          2.97,
          4.69,
          3.85,
          5.19,
          3.18,
          3.19,
          2.48,
          2.48,
          1.62,
          0.38,
          1.11,
          2.75,
          4.3100000000000005,
          3.2600000000000002,
          4.1,
          4.04,
          3.49,
          3.5300000000000002,
          1.96,
          3.39,
          2.88,
          2.36,
          0.76,
          3.58,
          1.7,
          4.96,
          4.49,
          2.7,
          3.08,
          4.87,
          4.18,
          2.19,
          2.19,
          3.66,
          1.72,
          5.83,
          3.42,
          3.46,
          3.0700000000000003,
          3.85,
          3.9,
          4.48,
          4.46,
          3.88,
          4.48,
          4.3,
          5.32,
          5.3100000000000005,
          4.8,
          4.82,
          5.65,
          6.23,
          4.89,
          5.34
         ],
         "xaxis": "x3",
         "y": [
          0.8628034145799468,
          0.8626620811304562,
          0.8617556706477808,
          0.8614508188426966,
          0.8626559982622586,
          0.8620289071884505,
          0.8606343224641227,
          0.8593327619747256,
          0.862046528188684,
          0.8605483170563557,
          0.8603139216665914,
          0.8630741519722227,
          0.8628264382593578,
          0.8615093396962171,
          0.8584555973239493,
          0.8633010888607797,
          0.8621227503683409,
          0.8568691225407015,
          0.8615239356546521,
          0.8622680987169226,
          0.8631053169586307,
          0.8621131126035644,
          0.8615764080029109,
          0.8626817053518548,
          0.8607434618777257,
          0.8624410028259243,
          0.8613527607565328,
          0.8611380902634318,
          0.861976350857533,
          0.8629754235060826,
          0.8606628440037725,
          0.8629334709636783,
          0.8619785597068603,
          0.8627441675011364,
          0.8620923645650149,
          0.8629402665703632,
          0.8623728055288457,
          0.861917258203108,
          0.8617214389503001,
          0.86216020199393,
          0.8609184932512098,
          0.8628575284673176,
          0.8625086139197645,
          0.8623148103150472,
          0.8622768174523412,
          0.8618463587167081,
          0.8613780705594511,
          0.8620921589071363,
          0.856742337031753,
          0.8618203361772393,
          0.8631082519735214,
          0.8623045936863104,
          0.8630034752843789,
          0.8623631539257144,
          0.8619357998661201,
          0.8600665885808485,
          0.8626453930075382,
          0.8620239958793092,
          0.8620096516058225,
          0.8623611373485728,
          0.8601416349617692,
          0.862491796420233,
          0.863115604431977,
          0.8630363234292057,
          0.8625433386652533,
          0.8625367372589027,
          0.8625662724210679,
          0.8616640990446163,
          0.8594591827077682,
          0.861982412765798,
          0.8629346064904364,
          0.8624299914917319,
          0.8627666665925006,
          0.8623149968118543,
          0.862636132771533,
          0.8623664354742552,
          0.8629512498989496,
          0.8631834313573206,
          0.8629128722991641,
          0.8612118194006779,
          0.8597634925681448,
          0.8626165384444183,
          0.863387037438397,
          0.8618404979007812,
          0.8628358432425116,
          0.8631181941704664,
          0.862434863880142,
          0.8634045498526653,
          0.8633276177578578,
          0.8617796770685606,
          0.8626726365103092,
          0.8633981435108508,
          0.863429694704909,
          0.8623307286629798,
          0.8633183512125921,
          0.86314569869994,
          0.8627486297418929,
          0.8627104617364013,
          0.8615383300425755,
          0.8625600141468984
         ],
         "yaxis": "y3"
        },
        {
         "marker": {
          "color": [
           0,
           1,
           2,
           3,
           4,
           5,
           6,
           7,
           8,
           9,
           10,
           11,
           12,
           13,
           14,
           15,
           16,
           17,
           18,
           19,
           20,
           21,
           22,
           23,
           24,
           25,
           26,
           27,
           28,
           29,
           30,
           31,
           32,
           33,
           34,
           35,
           36,
           37,
           38,
           39,
           40,
           41,
           42,
           43,
           44,
           45,
           46,
           47,
           48,
           49,
           50,
           51,
           52,
           53,
           54,
           55,
           56,
           57,
           58,
           59,
           60,
           61,
           62,
           63,
           64,
           65,
           66,
           67,
           68,
           69,
           70,
           71,
           72,
           73,
           74,
           75,
           76,
           77,
           78,
           79,
           80,
           81,
           82,
           83,
           84,
           85,
           86,
           87,
           88,
           89,
           90,
           91,
           92,
           93,
           94,
           95,
           96,
           97,
           98,
           99
          ],
          "colorbar": {
           "title": {
            "text": "Trial"
           },
           "x": 1,
           "xpad": 40
          },
          "colorscale": [
           [
            0,
            "rgb(247,251,255)"
           ],
           [
            0.125,
            "rgb(222,235,247)"
           ],
           [
            0.25,
            "rgb(198,219,239)"
           ],
           [
            0.375,
            "rgb(158,202,225)"
           ],
           [
            0.5,
            "rgb(107,174,214)"
           ],
           [
            0.625,
            "rgb(66,146,198)"
           ],
           [
            0.75,
            "rgb(33,113,181)"
           ],
           [
            0.875,
            "rgb(8,81,156)"
           ],
           [
            1,
            "rgb(8,48,107)"
           ]
          ],
          "line": {
           "color": "Grey",
           "width": 0.5
          },
          "showscale": false
         },
         "mode": "markers",
         "showlegend": false,
         "type": "scatter",
         "x": [
          1.7,
          4.36,
          8.03,
          4.62,
          1.78,
          5.29,
          2.49,
          4.22,
          0.06,
          1.9000000000000001,
          9.950000000000001,
          6.74,
          7.24,
          6.97,
          7.0600000000000005,
          9.02,
          10,
          8.74,
          6.13,
          8.36,
          9.21,
          8.98,
          9.28,
          7.79,
          6.17,
          5.87,
          7.87,
          9.43,
          3.2800000000000002,
          8.64,
          6.68,
          8.56,
          7.7,
          9.38,
          8.24,
          8.97,
          7.47,
          5.55,
          6.51,
          4.55,
          9.66,
          8.97,
          8.28,
          8.78,
          9.18,
          8.02,
          9.77,
          4.96,
          7.21,
          0.02,
          8.73,
          8.72,
          9.51,
          9.53,
          0.74,
          4,
          9.99,
          7.640000000000001,
          8.42,
          8.040000000000001,
          9.14,
          8.92,
          9.57,
          9.58,
          9.66,
          9.4,
          9.92,
          9.5,
          8.42,
          9.26,
          6.72,
          9.09,
          8.61,
          8.71,
          8.120000000000001,
          7.4,
          9.72,
          9.22,
          9.28,
          9.99,
          8.870000000000001,
          9.58,
          8.5,
          8.44,
          9.14,
          7.96,
          7.8100000000000005,
          7.01,
          6.28,
          7.41,
          6.95,
          6.13,
          6.25,
          6.24,
          5.39,
          5.75,
          5.61,
          5.19,
          5.87,
          6.390000000000001
         ],
         "xaxis": "x4",
         "y": [
          0.8628034145799468,
          0.8626620811304562,
          0.8617556706477808,
          0.8614508188426966,
          0.8626559982622586,
          0.8620289071884505,
          0.8606343224641227,
          0.8593327619747256,
          0.862046528188684,
          0.8605483170563557,
          0.8603139216665914,
          0.8630741519722227,
          0.8628264382593578,
          0.8615093396962171,
          0.8584555973239493,
          0.8633010888607797,
          0.8621227503683409,
          0.8568691225407015,
          0.8615239356546521,
          0.8622680987169226,
          0.8631053169586307,
          0.8621131126035644,
          0.8615764080029109,
          0.8626817053518548,
          0.8607434618777257,
          0.8624410028259243,
          0.8613527607565328,
          0.8611380902634318,
          0.861976350857533,
          0.8629754235060826,
          0.8606628440037725,
          0.8629334709636783,
          0.8619785597068603,
          0.8627441675011364,
          0.8620923645650149,
          0.8629402665703632,
          0.8623728055288457,
          0.861917258203108,
          0.8617214389503001,
          0.86216020199393,
          0.8609184932512098,
          0.8628575284673176,
          0.8625086139197645,
          0.8623148103150472,
          0.8622768174523412,
          0.8618463587167081,
          0.8613780705594511,
          0.8620921589071363,
          0.856742337031753,
          0.8618203361772393,
          0.8631082519735214,
          0.8623045936863104,
          0.8630034752843789,
          0.8623631539257144,
          0.8619357998661201,
          0.8600665885808485,
          0.8626453930075382,
          0.8620239958793092,
          0.8620096516058225,
          0.8623611373485728,
          0.8601416349617692,
          0.862491796420233,
          0.863115604431977,
          0.8630363234292057,
          0.8625433386652533,
          0.8625367372589027,
          0.8625662724210679,
          0.8616640990446163,
          0.8594591827077682,
          0.861982412765798,
          0.8629346064904364,
          0.8624299914917319,
          0.8627666665925006,
          0.8623149968118543,
          0.862636132771533,
          0.8623664354742552,
          0.8629512498989496,
          0.8631834313573206,
          0.8629128722991641,
          0.8612118194006779,
          0.8597634925681448,
          0.8626165384444183,
          0.863387037438397,
          0.8618404979007812,
          0.8628358432425116,
          0.8631181941704664,
          0.862434863880142,
          0.8634045498526653,
          0.8633276177578578,
          0.8617796770685606,
          0.8626726365103092,
          0.8633981435108508,
          0.863429694704909,
          0.8623307286629798,
          0.8633183512125921,
          0.86314569869994,
          0.8627486297418929,
          0.8627104617364013,
          0.8615383300425755,
          0.8625600141468984
         ],
         "yaxis": "y4"
        },
        {
         "marker": {
          "color": [
           0,
           1,
           2,
           3,
           4,
           5,
           6,
           7,
           8,
           9,
           10,
           11,
           12,
           13,
           14,
           15,
           16,
           17,
           18,
           19,
           20,
           21,
           22,
           23,
           24,
           25,
           26,
           27,
           28,
           29,
           30,
           31,
           32,
           33,
           34,
           35,
           36,
           37,
           38,
           39,
           40,
           41,
           42,
           43,
           44,
           45,
           46,
           47,
           48,
           49,
           50,
           51,
           52,
           53,
           54,
           55,
           56,
           57,
           58,
           59,
           60,
           61,
           62,
           63,
           64,
           65,
           66,
           67,
           68,
           69,
           70,
           71,
           72,
           73,
           74,
           75,
           76,
           77,
           78,
           79,
           80,
           81,
           82,
           83,
           84,
           85,
           86,
           87,
           88,
           89,
           90,
           91,
           92,
           93,
           94,
           95,
           96,
           97,
           98,
           99
          ],
          "colorbar": {
           "title": {
            "text": "Trial"
           },
           "x": 1,
           "xpad": 40
          },
          "colorscale": [
           [
            0,
            "rgb(247,251,255)"
           ],
           [
            0.125,
            "rgb(222,235,247)"
           ],
           [
            0.25,
            "rgb(198,219,239)"
           ],
           [
            0.375,
            "rgb(158,202,225)"
           ],
           [
            0.5,
            "rgb(107,174,214)"
           ],
           [
            0.625,
            "rgb(66,146,198)"
           ],
           [
            0.75,
            "rgb(33,113,181)"
           ],
           [
            0.875,
            "rgb(8,81,156)"
           ],
           [
            1,
            "rgb(8,48,107)"
           ]
          ],
          "line": {
           "color": "Grey",
           "width": 0.5
          },
          "showscale": false
         },
         "mode": "markers",
         "showlegend": false,
         "type": "scatter",
         "x": [
          0.046900000000000004,
          0.0345,
          0.0171,
          0.0198,
          0.0434,
          0.0826,
          0.0279,
          0.04,
          0.027700000000000002,
          0.050800000000000005,
          0.07050000000000001,
          0.062400000000000004,
          0.0625,
          0.06480000000000001,
          0.0993,
          0.063,
          0.0823,
          0.0045000000000000005,
          0.057300000000000004,
          0.0767,
          0.0947,
          0.0969,
          0.0883,
          0.0723,
          0.0548,
          0.0896,
          0.0616,
          0.06820000000000001,
          0.0781,
          0.0487,
          0.09390000000000001,
          0.0482,
          0.0364,
          0.0522,
          0.058800000000000005,
          0.045500000000000006,
          0.0302,
          0.020900000000000002,
          0.043000000000000003,
          0.0756,
          0.0659,
          0.0459,
          0.0388,
          0.0495,
          0.0337,
          0.043000000000000003,
          0.055600000000000004,
          0.0599,
          0.004,
          0.08270000000000001,
          0.020100000000000003,
          0.012799999999999999,
          0.0182,
          0.013500000000000002,
          0.0239,
          0.009600000000000001,
          0.023500000000000004,
          0.030100000000000002,
          0.0717,
          0.016,
          0.0073,
          0.052700000000000004,
          0.0463,
          0.0645,
          0.0633,
          0.06810000000000001,
          0.08460000000000001,
          0.07880000000000001,
          0.0751,
          0.0665,
          0.09190000000000001,
          0.055600000000000004,
          0.0188,
          0.1,
          0.060500000000000005,
          0.039400000000000004,
          0.0521,
          0.033800000000000004,
          0.034800000000000005,
          0.0238,
          0.0633,
          0.027200000000000002,
          0.0475,
          0.0415,
          0.0313,
          0.05790000000000001,
          0.0575,
          0.047200000000000006,
          0.0437,
          0.0463,
          0.037500000000000006,
          0.044000000000000004,
          0.049,
          0.044000000000000004,
          0.0483,
          0.0483,
          0.049600000000000005,
          0.053700000000000005,
          0.0507,
          0.048
         ],
         "xaxis": "x5",
         "y": [
          0.8628034145799468,
          0.8626620811304562,
          0.8617556706477808,
          0.8614508188426966,
          0.8626559982622586,
          0.8620289071884505,
          0.8606343224641227,
          0.8593327619747256,
          0.862046528188684,
          0.8605483170563557,
          0.8603139216665914,
          0.8630741519722227,
          0.8628264382593578,
          0.8615093396962171,
          0.8584555973239493,
          0.8633010888607797,
          0.8621227503683409,
          0.8568691225407015,
          0.8615239356546521,
          0.8622680987169226,
          0.8631053169586307,
          0.8621131126035644,
          0.8615764080029109,
          0.8626817053518548,
          0.8607434618777257,
          0.8624410028259243,
          0.8613527607565328,
          0.8611380902634318,
          0.861976350857533,
          0.8629754235060826,
          0.8606628440037725,
          0.8629334709636783,
          0.8619785597068603,
          0.8627441675011364,
          0.8620923645650149,
          0.8629402665703632,
          0.8623728055288457,
          0.861917258203108,
          0.8617214389503001,
          0.86216020199393,
          0.8609184932512098,
          0.8628575284673176,
          0.8625086139197645,
          0.8623148103150472,
          0.8622768174523412,
          0.8618463587167081,
          0.8613780705594511,
          0.8620921589071363,
          0.856742337031753,
          0.8618203361772393,
          0.8631082519735214,
          0.8623045936863104,
          0.8630034752843789,
          0.8623631539257144,
          0.8619357998661201,
          0.8600665885808485,
          0.8626453930075382,
          0.8620239958793092,
          0.8620096516058225,
          0.8623611373485728,
          0.8601416349617692,
          0.862491796420233,
          0.863115604431977,
          0.8630363234292057,
          0.8625433386652533,
          0.8625367372589027,
          0.8625662724210679,
          0.8616640990446163,
          0.8594591827077682,
          0.861982412765798,
          0.8629346064904364,
          0.8624299914917319,
          0.8627666665925006,
          0.8623149968118543,
          0.862636132771533,
          0.8623664354742552,
          0.8629512498989496,
          0.8631834313573206,
          0.8629128722991641,
          0.8612118194006779,
          0.8597634925681448,
          0.8626165384444183,
          0.863387037438397,
          0.8618404979007812,
          0.8628358432425116,
          0.8631181941704664,
          0.862434863880142,
          0.8634045498526653,
          0.8633276177578578,
          0.8617796770685606,
          0.8626726365103092,
          0.8633981435108508,
          0.863429694704909,
          0.8623307286629798,
          0.8633183512125921,
          0.86314569869994,
          0.8627486297418929,
          0.8627104617364013,
          0.8615383300425755,
          0.8625600141468984
         ],
         "yaxis": "y5"
        },
        {
         "marker": {
          "color": [
           0,
           1,
           2,
           3,
           4,
           5,
           6,
           7,
           8,
           9,
           10,
           11,
           12,
           13,
           14,
           15,
           16,
           17,
           18,
           19,
           20,
           21,
           22,
           23,
           24,
           25,
           26,
           27,
           28,
           29,
           30,
           31,
           32,
           33,
           34,
           35,
           36,
           37,
           38,
           39,
           40,
           41,
           42,
           43,
           44,
           45,
           46,
           47,
           48,
           49,
           50,
           51,
           52,
           53,
           54,
           55,
           56,
           57,
           58,
           59,
           60,
           61,
           62,
           63,
           64,
           65,
           66,
           67,
           68,
           69,
           70,
           71,
           72,
           73,
           74,
           75,
           76,
           77,
           78,
           79,
           80,
           81,
           82,
           83,
           84,
           85,
           86,
           87,
           88,
           89,
           90,
           91,
           92,
           93,
           94,
           95,
           96,
           97,
           98,
           99
          ],
          "colorbar": {
           "title": {
            "text": "Trial"
           },
           "x": 1,
           "xpad": 40
          },
          "colorscale": [
           [
            0,
            "rgb(247,251,255)"
           ],
           [
            0.125,
            "rgb(222,235,247)"
           ],
           [
            0.25,
            "rgb(198,219,239)"
           ],
           [
            0.375,
            "rgb(158,202,225)"
           ],
           [
            0.5,
            "rgb(107,174,214)"
           ],
           [
            0.625,
            "rgb(66,146,198)"
           ],
           [
            0.75,
            "rgb(33,113,181)"
           ],
           [
            0.875,
            "rgb(8,81,156)"
           ],
           [
            1,
            "rgb(8,48,107)"
           ]
          ],
          "line": {
           "color": "Grey",
           "width": 0.5
          },
          "showscale": false
         },
         "mode": "markers",
         "showlegend": false,
         "type": "scatter",
         "x": [
          170,
          160,
          180,
          230,
          240,
          200,
          250,
          230,
          170,
          240,
          300,
          160,
          200,
          200,
          200,
          190,
          180,
          270,
          160,
          210,
          180,
          180,
          190,
          160,
          210,
          170,
          220,
          190,
          190,
          170,
          180,
          170,
          160,
          160,
          170,
          180,
          170,
          190,
          210,
          180,
          260,
          160,
          180,
          190,
          170,
          180,
          290,
          200,
          220,
          160,
          180,
          180,
          170,
          170,
          190,
          170,
          160,
          170,
          200,
          160,
          240,
          180,
          190,
          190,
          200,
          190,
          220,
          210,
          200,
          190,
          180,
          170,
          180,
          190,
          170,
          170,
          160,
          180,
          200,
          190,
          210,
          180,
          180,
          180,
          190,
          180,
          180,
          190,
          200,
          200,
          190,
          180,
          180,
          180,
          190,
          200,
          210,
          200,
          190,
          200
         ],
         "xaxis": "x6",
         "y": [
          0.8628034145799468,
          0.8626620811304562,
          0.8617556706477808,
          0.8614508188426966,
          0.8626559982622586,
          0.8620289071884505,
          0.8606343224641227,
          0.8593327619747256,
          0.862046528188684,
          0.8605483170563557,
          0.8603139216665914,
          0.8630741519722227,
          0.8628264382593578,
          0.8615093396962171,
          0.8584555973239493,
          0.8633010888607797,
          0.8621227503683409,
          0.8568691225407015,
          0.8615239356546521,
          0.8622680987169226,
          0.8631053169586307,
          0.8621131126035644,
          0.8615764080029109,
          0.8626817053518548,
          0.8607434618777257,
          0.8624410028259243,
          0.8613527607565328,
          0.8611380902634318,
          0.861976350857533,
          0.8629754235060826,
          0.8606628440037725,
          0.8629334709636783,
          0.8619785597068603,
          0.8627441675011364,
          0.8620923645650149,
          0.8629402665703632,
          0.8623728055288457,
          0.861917258203108,
          0.8617214389503001,
          0.86216020199393,
          0.8609184932512098,
          0.8628575284673176,
          0.8625086139197645,
          0.8623148103150472,
          0.8622768174523412,
          0.8618463587167081,
          0.8613780705594511,
          0.8620921589071363,
          0.856742337031753,
          0.8618203361772393,
          0.8631082519735214,
          0.8623045936863104,
          0.8630034752843789,
          0.8623631539257144,
          0.8619357998661201,
          0.8600665885808485,
          0.8626453930075382,
          0.8620239958793092,
          0.8620096516058225,
          0.8623611373485728,
          0.8601416349617692,
          0.862491796420233,
          0.863115604431977,
          0.8630363234292057,
          0.8625433386652533,
          0.8625367372589027,
          0.8625662724210679,
          0.8616640990446163,
          0.8594591827077682,
          0.861982412765798,
          0.8629346064904364,
          0.8624299914917319,
          0.8627666665925006,
          0.8623149968118543,
          0.862636132771533,
          0.8623664354742552,
          0.8629512498989496,
          0.8631834313573206,
          0.8629128722991641,
          0.8612118194006779,
          0.8597634925681448,
          0.8626165384444183,
          0.863387037438397,
          0.8618404979007812,
          0.8628358432425116,
          0.8631181941704664,
          0.862434863880142,
          0.8634045498526653,
          0.8633276177578578,
          0.8617796770685606,
          0.8626726365103092,
          0.8633981435108508,
          0.863429694704909,
          0.8623307286629798,
          0.8633183512125921,
          0.86314569869994,
          0.8627486297418929,
          0.8627104617364013,
          0.8615383300425755,
          0.8625600141468984
         ],
         "yaxis": "y6"
        },
        {
         "marker": {
          "color": [
           0,
           1,
           2,
           3,
           4,
           5,
           6,
           7,
           8,
           9,
           10,
           11,
           12,
           13,
           14,
           15,
           16,
           17,
           18,
           19,
           20,
           21,
           22,
           23,
           24,
           25,
           26,
           27,
           28,
           29,
           30,
           31,
           32,
           33,
           34,
           35,
           36,
           37,
           38,
           39,
           40,
           41,
           42,
           43,
           44,
           45,
           46,
           47,
           48,
           49,
           50,
           51,
           52,
           53,
           54,
           55,
           56,
           57,
           58,
           59,
           60,
           61,
           62,
           63,
           64,
           65,
           66,
           67,
           68,
           69,
           70,
           71,
           72,
           73,
           74,
           75,
           76,
           77,
           78,
           79,
           80,
           81,
           82,
           83,
           84,
           85,
           86,
           87,
           88,
           89,
           90,
           91,
           92,
           93,
           94,
           95,
           96,
           97,
           98,
           99
          ],
          "colorbar": {
           "title": {
            "text": "Trial"
           },
           "x": 1,
           "xpad": 40
          },
          "colorscale": [
           [
            0,
            "rgb(247,251,255)"
           ],
           [
            0.125,
            "rgb(222,235,247)"
           ],
           [
            0.25,
            "rgb(198,219,239)"
           ],
           [
            0.375,
            "rgb(158,202,225)"
           ],
           [
            0.5,
            "rgb(107,174,214)"
           ],
           [
            0.625,
            "rgb(66,146,198)"
           ],
           [
            0.75,
            "rgb(33,113,181)"
           ],
           [
            0.875,
            "rgb(8,81,156)"
           ],
           [
            1,
            "rgb(8,48,107)"
           ]
          ],
          "line": {
           "color": "Grey",
           "width": 0.5
          },
          "showscale": false
         },
         "mode": "markers",
         "showlegend": false,
         "type": "scatter",
         "x": [
          15,
          21,
          14,
          28,
          15,
          20,
          25,
          20,
          20,
          11,
          5,
          9,
          7,
          5,
          9,
          9,
          11,
          11,
          8,
          17,
          13,
          13,
          9,
          12,
          17,
          7,
          10,
          13,
          7,
          15,
          16,
          14,
          15,
          23,
          13,
          18,
          9,
          15,
          28,
          18,
          12,
          19,
          30,
          22,
          16,
          18,
          14,
          6,
          10,
          19,
          12,
          12,
          10,
          10,
          8,
          11,
          8,
          12,
          9,
          6,
          14,
          16,
          13,
          10,
          11,
          10,
          8,
          9,
          13,
          11,
          7,
          12,
          13,
          10,
          14,
          15,
          13,
          11,
          11,
          10,
          6,
          12,
          15,
          9,
          12,
          10,
          14,
          11,
          11,
          11,
          14,
          9,
          8,
          8,
          9,
          7,
          5,
          7,
          9,
          6
         ],
         "xaxis": "x7",
         "y": [
          0.8628034145799468,
          0.8626620811304562,
          0.8617556706477808,
          0.8614508188426966,
          0.8626559982622586,
          0.8620289071884505,
          0.8606343224641227,
          0.8593327619747256,
          0.862046528188684,
          0.8605483170563557,
          0.8603139216665914,
          0.8630741519722227,
          0.8628264382593578,
          0.8615093396962171,
          0.8584555973239493,
          0.8633010888607797,
          0.8621227503683409,
          0.8568691225407015,
          0.8615239356546521,
          0.8622680987169226,
          0.8631053169586307,
          0.8621131126035644,
          0.8615764080029109,
          0.8626817053518548,
          0.8607434618777257,
          0.8624410028259243,
          0.8613527607565328,
          0.8611380902634318,
          0.861976350857533,
          0.8629754235060826,
          0.8606628440037725,
          0.8629334709636783,
          0.8619785597068603,
          0.8627441675011364,
          0.8620923645650149,
          0.8629402665703632,
          0.8623728055288457,
          0.861917258203108,
          0.8617214389503001,
          0.86216020199393,
          0.8609184932512098,
          0.8628575284673176,
          0.8625086139197645,
          0.8623148103150472,
          0.8622768174523412,
          0.8618463587167081,
          0.8613780705594511,
          0.8620921589071363,
          0.856742337031753,
          0.8618203361772393,
          0.8631082519735214,
          0.8623045936863104,
          0.8630034752843789,
          0.8623631539257144,
          0.8619357998661201,
          0.8600665885808485,
          0.8626453930075382,
          0.8620239958793092,
          0.8620096516058225,
          0.8623611373485728,
          0.8601416349617692,
          0.862491796420233,
          0.863115604431977,
          0.8630363234292057,
          0.8625433386652533,
          0.8625367372589027,
          0.8625662724210679,
          0.8616640990446163,
          0.8594591827077682,
          0.861982412765798,
          0.8629346064904364,
          0.8624299914917319,
          0.8627666665925006,
          0.8623149968118543,
          0.862636132771533,
          0.8623664354742552,
          0.8629512498989496,
          0.8631834313573206,
          0.8629128722991641,
          0.8612118194006779,
          0.8597634925681448,
          0.8626165384444183,
          0.863387037438397,
          0.8618404979007812,
          0.8628358432425116,
          0.8631181941704664,
          0.862434863880142,
          0.8634045498526653,
          0.8633276177578578,
          0.8617796770685606,
          0.8626726365103092,
          0.8633981435108508,
          0.863429694704909,
          0.8623307286629798,
          0.8633183512125921,
          0.86314569869994,
          0.8627486297418929,
          0.8627104617364013,
          0.8615383300425755,
          0.8625600141468984
         ],
         "yaxis": "y7"
        },
        {
         "marker": {
          "color": [
           0,
           1,
           2,
           3,
           4,
           5,
           6,
           7,
           8,
           9,
           10,
           11,
           12,
           13,
           14,
           15,
           16,
           17,
           18,
           19,
           20,
           21,
           22,
           23,
           24,
           25,
           26,
           27,
           28,
           29,
           30,
           31,
           32,
           33,
           34,
           35,
           36,
           37,
           38,
           39,
           40,
           41,
           42,
           43,
           44,
           45,
           46,
           47,
           48,
           49,
           50,
           51,
           52,
           53,
           54,
           55,
           56,
           57,
           58,
           59,
           60,
           61,
           62,
           63,
           64,
           65,
           66,
           67,
           68,
           69,
           70,
           71,
           72,
           73,
           74,
           75,
           76,
           77,
           78,
           79,
           80,
           81,
           82,
           83,
           84,
           85,
           86,
           87,
           88,
           89,
           90,
           91,
           92,
           93,
           94,
           95,
           96,
           97,
           98,
           99
          ],
          "colorbar": {
           "title": {
            "text": "Trial"
           },
           "x": 1,
           "xpad": 40
          },
          "colorscale": [
           [
            0,
            "rgb(247,251,255)"
           ],
           [
            0.125,
            "rgb(222,235,247)"
           ],
           [
            0.25,
            "rgb(198,219,239)"
           ],
           [
            0.375,
            "rgb(158,202,225)"
           ],
           [
            0.5,
            "rgb(107,174,214)"
           ],
           [
            0.625,
            "rgb(66,146,198)"
           ],
           [
            0.75,
            "rgb(33,113,181)"
           ],
           [
            0.875,
            "rgb(8,81,156)"
           ],
           [
            1,
            "rgb(8,48,107)"
           ]
          ],
          "line": {
           "color": "Grey",
           "width": 0.5
          },
          "showscale": false
         },
         "mode": "markers",
         "showlegend": false,
         "type": "scatter",
         "x": [
          649,
          680,
          682,
          671,
          648,
          618,
          691,
          674,
          660,
          617,
          640,
          636,
          635,
          633,
          602,
          627,
          622,
          602,
          661,
          624,
          609,
          610,
          628,
          610,
          640,
          612,
          628,
          643,
          657,
          651,
          631,
          650,
          654,
          637,
          646,
          617,
          623,
          667,
          700,
          653,
          645,
          616,
          604,
          614,
          619,
          606,
          628,
          638,
          608,
          621,
          628,
          633,
          627,
          630,
          626,
          640,
          633,
          600,
          625,
          665,
          644,
          618,
          621,
          613,
          621,
          613,
          610,
          635,
          626,
          614,
          677,
          621,
          630,
          649,
          606,
          623,
          640,
          685,
          615,
          700,
          685,
          693,
          611,
          618,
          610,
          612,
          607,
          612,
          603,
          603,
          600,
          604,
          604,
          605,
          611,
          611,
          602,
          611,
          608,
          603
         ],
         "xaxis": "x8",
         "y": [
          0.8628034145799468,
          0.8626620811304562,
          0.8617556706477808,
          0.8614508188426966,
          0.8626559982622586,
          0.8620289071884505,
          0.8606343224641227,
          0.8593327619747256,
          0.862046528188684,
          0.8605483170563557,
          0.8603139216665914,
          0.8630741519722227,
          0.8628264382593578,
          0.8615093396962171,
          0.8584555973239493,
          0.8633010888607797,
          0.8621227503683409,
          0.8568691225407015,
          0.8615239356546521,
          0.8622680987169226,
          0.8631053169586307,
          0.8621131126035644,
          0.8615764080029109,
          0.8626817053518548,
          0.8607434618777257,
          0.8624410028259243,
          0.8613527607565328,
          0.8611380902634318,
          0.861976350857533,
          0.8629754235060826,
          0.8606628440037725,
          0.8629334709636783,
          0.8619785597068603,
          0.8627441675011364,
          0.8620923645650149,
          0.8629402665703632,
          0.8623728055288457,
          0.861917258203108,
          0.8617214389503001,
          0.86216020199393,
          0.8609184932512098,
          0.8628575284673176,
          0.8625086139197645,
          0.8623148103150472,
          0.8622768174523412,
          0.8618463587167081,
          0.8613780705594511,
          0.8620921589071363,
          0.856742337031753,
          0.8618203361772393,
          0.8631082519735214,
          0.8623045936863104,
          0.8630034752843789,
          0.8623631539257144,
          0.8619357998661201,
          0.8600665885808485,
          0.8626453930075382,
          0.8620239958793092,
          0.8620096516058225,
          0.8623611373485728,
          0.8601416349617692,
          0.862491796420233,
          0.863115604431977,
          0.8630363234292057,
          0.8625433386652533,
          0.8625367372589027,
          0.8625662724210679,
          0.8616640990446163,
          0.8594591827077682,
          0.861982412765798,
          0.8629346064904364,
          0.8624299914917319,
          0.8627666665925006,
          0.8623149968118543,
          0.862636132771533,
          0.8623664354742552,
          0.8629512498989496,
          0.8631834313573206,
          0.8629128722991641,
          0.8612118194006779,
          0.8597634925681448,
          0.8626165384444183,
          0.863387037438397,
          0.8618404979007812,
          0.8628358432425116,
          0.8631181941704664,
          0.862434863880142,
          0.8634045498526653,
          0.8633276177578578,
          0.8617796770685606,
          0.8626726365103092,
          0.8633981435108508,
          0.863429694704909,
          0.8623307286629798,
          0.8633183512125921,
          0.86314569869994,
          0.8627486297418929,
          0.8627104617364013,
          0.8615383300425755,
          0.8625600141468984
         ],
         "yaxis": "y8"
        },
        {
         "marker": {
          "color": [
           0,
           1,
           2,
           3,
           4,
           5,
           6,
           7,
           8,
           9,
           10,
           11,
           12,
           13,
           14,
           15,
           16,
           17,
           18,
           19,
           20,
           21,
           22,
           23,
           24,
           25,
           26,
           27,
           28,
           29,
           30,
           31,
           32,
           33,
           34,
           35,
           36,
           37,
           38,
           39,
           40,
           41,
           42,
           43,
           44,
           45,
           46,
           47,
           48,
           49,
           50,
           51,
           52,
           53,
           54,
           55,
           56,
           57,
           58,
           59,
           60,
           61,
           62,
           63,
           64,
           65,
           66,
           67,
           68,
           69,
           70,
           71,
           72,
           73,
           74,
           75,
           76,
           77,
           78,
           79,
           80,
           81,
           82,
           83,
           84,
           85,
           86,
           87,
           88,
           89,
           90,
           91,
           92,
           93,
           94,
           95,
           96,
           97,
           98,
           99
          ],
          "colorbar": {
           "title": {
            "text": "Trial"
           },
           "x": 1,
           "xpad": 40
          },
          "colorscale": [
           [
            0,
            "rgb(247,251,255)"
           ],
           [
            0.125,
            "rgb(222,235,247)"
           ],
           [
            0.25,
            "rgb(198,219,239)"
           ],
           [
            0.375,
            "rgb(158,202,225)"
           ],
           [
            0.5,
            "rgb(107,174,214)"
           ],
           [
            0.625,
            "rgb(66,146,198)"
           ],
           [
            0.75,
            "rgb(33,113,181)"
           ],
           [
            0.875,
            "rgb(8,81,156)"
           ],
           [
            1,
            "rgb(8,48,107)"
           ]
          ],
          "line": {
           "color": "Grey",
           "width": 0.5
          },
          "showscale": false
         },
         "mode": "markers",
         "showlegend": false,
         "type": "scatter",
         "x": [
          45300,
          49400,
          69400,
          68100,
          62600,
          40600,
          55700,
          59300,
          25300,
          25800,
          13300,
          47700,
          43200,
          33800,
          34100,
          51100,
          53400,
          50600,
          35100,
          61000,
          47000,
          46800,
          38900,
          55700,
          49800,
          39300,
          29600,
          43700,
          54200,
          65000,
          47000,
          65600,
          57300,
          51000,
          63400,
          69700,
          45900,
          66000,
          59300,
          41500,
          52800,
          68200,
          69000,
          65500,
          58900,
          62300,
          69500,
          18500,
          48300,
          36500,
          43600,
          43500,
          51800,
          51800,
          48600,
          44800,
          40900,
          56600,
          37100,
          32000,
          54100,
          48400,
          42000,
          45400,
          41800,
          46300,
          50200,
          38500,
          44800,
          42600,
          47400,
          40100,
          52200,
          54800,
          45000,
          49800,
          46500,
          43500,
          42700,
          38100,
          50900,
          44200,
          39900,
          35400,
          40300,
          47500,
          32300,
          47900,
          47800,
          48600,
          42600,
          47700,
          47300,
          49400,
          47400,
          47700,
          53000,
          47200,
          50700,
          49500
         ],
         "xaxis": "x9",
         "y": [
          0.8628034145799468,
          0.8626620811304562,
          0.8617556706477808,
          0.8614508188426966,
          0.8626559982622586,
          0.8620289071884505,
          0.8606343224641227,
          0.8593327619747256,
          0.862046528188684,
          0.8605483170563557,
          0.8603139216665914,
          0.8630741519722227,
          0.8628264382593578,
          0.8615093396962171,
          0.8584555973239493,
          0.8633010888607797,
          0.8621227503683409,
          0.8568691225407015,
          0.8615239356546521,
          0.8622680987169226,
          0.8631053169586307,
          0.8621131126035644,
          0.8615764080029109,
          0.8626817053518548,
          0.8607434618777257,
          0.8624410028259243,
          0.8613527607565328,
          0.8611380902634318,
          0.861976350857533,
          0.8629754235060826,
          0.8606628440037725,
          0.8629334709636783,
          0.8619785597068603,
          0.8627441675011364,
          0.8620923645650149,
          0.8629402665703632,
          0.8623728055288457,
          0.861917258203108,
          0.8617214389503001,
          0.86216020199393,
          0.8609184932512098,
          0.8628575284673176,
          0.8625086139197645,
          0.8623148103150472,
          0.8622768174523412,
          0.8618463587167081,
          0.8613780705594511,
          0.8620921589071363,
          0.856742337031753,
          0.8618203361772393,
          0.8631082519735214,
          0.8623045936863104,
          0.8630034752843789,
          0.8623631539257144,
          0.8619357998661201,
          0.8600665885808485,
          0.8626453930075382,
          0.8620239958793092,
          0.8620096516058225,
          0.8623611373485728,
          0.8601416349617692,
          0.862491796420233,
          0.863115604431977,
          0.8630363234292057,
          0.8625433386652533,
          0.8625367372589027,
          0.8625662724210679,
          0.8616640990446163,
          0.8594591827077682,
          0.861982412765798,
          0.8629346064904364,
          0.8624299914917319,
          0.8627666665925006,
          0.8623149968118543,
          0.862636132771533,
          0.8623664354742552,
          0.8629512498989496,
          0.8631834313573206,
          0.8629128722991641,
          0.8612118194006779,
          0.8597634925681448,
          0.8626165384444183,
          0.863387037438397,
          0.8618404979007812,
          0.8628358432425116,
          0.8631181941704664,
          0.862434863880142,
          0.8634045498526653,
          0.8633276177578578,
          0.8617796770685606,
          0.8626726365103092,
          0.8633981435108508,
          0.863429694704909,
          0.8623307286629798,
          0.8633183512125921,
          0.86314569869994,
          0.8627486297418929,
          0.8627104617364013,
          0.8615383300425755,
          0.8625600141468984
         ],
         "yaxis": "y9"
        },
        {
         "marker": {
          "color": [
           0,
           1,
           2,
           3,
           4,
           5,
           6,
           7,
           8,
           9,
           10,
           11,
           12,
           13,
           14,
           15,
           16,
           17,
           18,
           19,
           20,
           21,
           22,
           23,
           24,
           25,
           26,
           27,
           28,
           29,
           30,
           31,
           32,
           33,
           34,
           35,
           36,
           37,
           38,
           39,
           40,
           41,
           42,
           43,
           44,
           45,
           46,
           47,
           48,
           49,
           50,
           51,
           52,
           53,
           54,
           55,
           56,
           57,
           58,
           59,
           60,
           61,
           62,
           63,
           64,
           65,
           66,
           67,
           68,
           69,
           70,
           71,
           72,
           73,
           74,
           75,
           76,
           77,
           78,
           79,
           80,
           81,
           82,
           83,
           84,
           85,
           86,
           87,
           88,
           89,
           90,
           91,
           92,
           93,
           94,
           95,
           96,
           97,
           98,
           99
          ],
          "colorbar": {
           "title": {
            "text": "Trial"
           },
           "x": 1,
           "xpad": 40
          },
          "colorscale": [
           [
            0,
            "rgb(247,251,255)"
           ],
           [
            0.125,
            "rgb(222,235,247)"
           ],
           [
            0.25,
            "rgb(198,219,239)"
           ],
           [
            0.375,
            "rgb(158,202,225)"
           ],
           [
            0.5,
            "rgb(107,174,214)"
           ],
           [
            0.625,
            "rgb(66,146,198)"
           ],
           [
            0.75,
            "rgb(33,113,181)"
           ],
           [
            0.875,
            "rgb(8,81,156)"
           ],
           [
            1,
            "rgb(8,48,107)"
           ]
          ],
          "line": {
           "color": "Grey",
           "width": 0.5
          },
          "showscale": false
         },
         "mode": "markers",
         "showlegend": false,
         "type": "scatter",
         "x": [
          100,
          "None",
          25,
          "None",
          25,
          25,
          100,
          "None",
          "None",
          25,
          100,
          0,
          0,
          0,
          0,
          0,
          0,
          0,
          0,
          0,
          0,
          0,
          0,
          0,
          0,
          0,
          0,
          0,
          100,
          100,
          0,
          100,
          100,
          100,
          100,
          "None",
          25,
          100,
          "None",
          25,
          0,
          "None",
          "None",
          "None",
          "None",
          "None",
          25,
          100,
          "None",
          0,
          0,
          0,
          0,
          0,
          0,
          0,
          0,
          0,
          0,
          0,
          0,
          0,
          0,
          0,
          0,
          0,
          0,
          0,
          0,
          0,
          0,
          100,
          0,
          0,
          25,
          100,
          0,
          0,
          0,
          0,
          0,
          0,
          0,
          0,
          0,
          0,
          0,
          0,
          0,
          25,
          0,
          0,
          0,
          0,
          0,
          0,
          0,
          0,
          0,
          0
         ],
         "xaxis": "x10",
         "y": [
          0.8628034145799468,
          0.8626620811304562,
          0.8617556706477808,
          0.8614508188426966,
          0.8626559982622586,
          0.8620289071884505,
          0.8606343224641227,
          0.8593327619747256,
          0.862046528188684,
          0.8605483170563557,
          0.8603139216665914,
          0.8630741519722227,
          0.8628264382593578,
          0.8615093396962171,
          0.8584555973239493,
          0.8633010888607797,
          0.8621227503683409,
          0.8568691225407015,
          0.8615239356546521,
          0.8622680987169226,
          0.8631053169586307,
          0.8621131126035644,
          0.8615764080029109,
          0.8626817053518548,
          0.8607434618777257,
          0.8624410028259243,
          0.8613527607565328,
          0.8611380902634318,
          0.861976350857533,
          0.8629754235060826,
          0.8606628440037725,
          0.8629334709636783,
          0.8619785597068603,
          0.8627441675011364,
          0.8620923645650149,
          0.8629402665703632,
          0.8623728055288457,
          0.861917258203108,
          0.8617214389503001,
          0.86216020199393,
          0.8609184932512098,
          0.8628575284673176,
          0.8625086139197645,
          0.8623148103150472,
          0.8622768174523412,
          0.8618463587167081,
          0.8613780705594511,
          0.8620921589071363,
          0.856742337031753,
          0.8618203361772393,
          0.8631082519735214,
          0.8623045936863104,
          0.8630034752843789,
          0.8623631539257144,
          0.8619357998661201,
          0.8600665885808485,
          0.8626453930075382,
          0.8620239958793092,
          0.8620096516058225,
          0.8623611373485728,
          0.8601416349617692,
          0.862491796420233,
          0.863115604431977,
          0.8630363234292057,
          0.8625433386652533,
          0.8625367372589027,
          0.8625662724210679,
          0.8616640990446163,
          0.8594591827077682,
          0.861982412765798,
          0.8629346064904364,
          0.8624299914917319,
          0.8627666665925006,
          0.8623149968118543,
          0.862636132771533,
          0.8623664354742552,
          0.8629512498989496,
          0.8631834313573206,
          0.8629128722991641,
          0.8612118194006779,
          0.8597634925681448,
          0.8626165384444183,
          0.863387037438397,
          0.8618404979007812,
          0.8628358432425116,
          0.8631181941704664,
          0.862434863880142,
          0.8634045498526653,
          0.8633276177578578,
          0.8617796770685606,
          0.8626726365103092,
          0.8633981435108508,
          0.863429694704909,
          0.8623307286629798,
          0.8633183512125921,
          0.86314569869994,
          0.8627486297418929,
          0.8627104617364013,
          0.8615383300425755,
          0.8625600141468984
         ],
         "yaxis": "y10"
        }
       ],
       "layout": {
        "template": {
         "data": {
          "bar": [
           {
            "error_x": {
             "color": "#2a3f5f"
            },
            "error_y": {
             "color": "#2a3f5f"
            },
            "marker": {
             "line": {
              "color": "#E5ECF6",
              "width": 0.5
             },
             "pattern": {
              "fillmode": "overlay",
              "size": 10,
              "solidity": 0.2
             }
            },
            "type": "bar"
           }
          ],
          "barpolar": [
           {
            "marker": {
             "line": {
              "color": "#E5ECF6",
              "width": 0.5
             },
             "pattern": {
              "fillmode": "overlay",
              "size": 10,
              "solidity": 0.2
             }
            },
            "type": "barpolar"
           }
          ],
          "carpet": [
           {
            "aaxis": {
             "endlinecolor": "#2a3f5f",
             "gridcolor": "white",
             "linecolor": "white",
             "minorgridcolor": "white",
             "startlinecolor": "#2a3f5f"
            },
            "baxis": {
             "endlinecolor": "#2a3f5f",
             "gridcolor": "white",
             "linecolor": "white",
             "minorgridcolor": "white",
             "startlinecolor": "#2a3f5f"
            },
            "type": "carpet"
           }
          ],
          "choropleth": [
           {
            "colorbar": {
             "outlinewidth": 0,
             "ticks": ""
            },
            "type": "choropleth"
           }
          ],
          "contour": [
           {
            "colorbar": {
             "outlinewidth": 0,
             "ticks": ""
            },
            "colorscale": [
             [
              0,
              "#0d0887"
             ],
             [
              0.1111111111111111,
              "#46039f"
             ],
             [
              0.2222222222222222,
              "#7201a8"
             ],
             [
              0.3333333333333333,
              "#9c179e"
             ],
             [
              0.4444444444444444,
              "#bd3786"
             ],
             [
              0.5555555555555556,
              "#d8576b"
             ],
             [
              0.6666666666666666,
              "#ed7953"
             ],
             [
              0.7777777777777778,
              "#fb9f3a"
             ],
             [
              0.8888888888888888,
              "#fdca26"
             ],
             [
              1,
              "#f0f921"
             ]
            ],
            "type": "contour"
           }
          ],
          "contourcarpet": [
           {
            "colorbar": {
             "outlinewidth": 0,
             "ticks": ""
            },
            "type": "contourcarpet"
           }
          ],
          "heatmap": [
           {
            "colorbar": {
             "outlinewidth": 0,
             "ticks": ""
            },
            "colorscale": [
             [
              0,
              "#0d0887"
             ],
             [
              0.1111111111111111,
              "#46039f"
             ],
             [
              0.2222222222222222,
              "#7201a8"
             ],
             [
              0.3333333333333333,
              "#9c179e"
             ],
             [
              0.4444444444444444,
              "#bd3786"
             ],
             [
              0.5555555555555556,
              "#d8576b"
             ],
             [
              0.6666666666666666,
              "#ed7953"
             ],
             [
              0.7777777777777778,
              "#fb9f3a"
             ],
             [
              0.8888888888888888,
              "#fdca26"
             ],
             [
              1,
              "#f0f921"
             ]
            ],
            "type": "heatmap"
           }
          ],
          "heatmapgl": [
           {
            "colorbar": {
             "outlinewidth": 0,
             "ticks": ""
            },
            "colorscale": [
             [
              0,
              "#0d0887"
             ],
             [
              0.1111111111111111,
              "#46039f"
             ],
             [
              0.2222222222222222,
              "#7201a8"
             ],
             [
              0.3333333333333333,
              "#9c179e"
             ],
             [
              0.4444444444444444,
              "#bd3786"
             ],
             [
              0.5555555555555556,
              "#d8576b"
             ],
             [
              0.6666666666666666,
              "#ed7953"
             ],
             [
              0.7777777777777778,
              "#fb9f3a"
             ],
             [
              0.8888888888888888,
              "#fdca26"
             ],
             [
              1,
              "#f0f921"
             ]
            ],
            "type": "heatmapgl"
           }
          ],
          "histogram": [
           {
            "marker": {
             "pattern": {
              "fillmode": "overlay",
              "size": 10,
              "solidity": 0.2
             }
            },
            "type": "histogram"
           }
          ],
          "histogram2d": [
           {
            "colorbar": {
             "outlinewidth": 0,
             "ticks": ""
            },
            "colorscale": [
             [
              0,
              "#0d0887"
             ],
             [
              0.1111111111111111,
              "#46039f"
             ],
             [
              0.2222222222222222,
              "#7201a8"
             ],
             [
              0.3333333333333333,
              "#9c179e"
             ],
             [
              0.4444444444444444,
              "#bd3786"
             ],
             [
              0.5555555555555556,
              "#d8576b"
             ],
             [
              0.6666666666666666,
              "#ed7953"
             ],
             [
              0.7777777777777778,
              "#fb9f3a"
             ],
             [
              0.8888888888888888,
              "#fdca26"
             ],
             [
              1,
              "#f0f921"
             ]
            ],
            "type": "histogram2d"
           }
          ],
          "histogram2dcontour": [
           {
            "colorbar": {
             "outlinewidth": 0,
             "ticks": ""
            },
            "colorscale": [
             [
              0,
              "#0d0887"
             ],
             [
              0.1111111111111111,
              "#46039f"
             ],
             [
              0.2222222222222222,
              "#7201a8"
             ],
             [
              0.3333333333333333,
              "#9c179e"
             ],
             [
              0.4444444444444444,
              "#bd3786"
             ],
             [
              0.5555555555555556,
              "#d8576b"
             ],
             [
              0.6666666666666666,
              "#ed7953"
             ],
             [
              0.7777777777777778,
              "#fb9f3a"
             ],
             [
              0.8888888888888888,
              "#fdca26"
             ],
             [
              1,
              "#f0f921"
             ]
            ],
            "type": "histogram2dcontour"
           }
          ],
          "mesh3d": [
           {
            "colorbar": {
             "outlinewidth": 0,
             "ticks": ""
            },
            "type": "mesh3d"
           }
          ],
          "parcoords": [
           {
            "line": {
             "colorbar": {
              "outlinewidth": 0,
              "ticks": ""
             }
            },
            "type": "parcoords"
           }
          ],
          "pie": [
           {
            "automargin": true,
            "type": "pie"
           }
          ],
          "scatter": [
           {
            "fillpattern": {
             "fillmode": "overlay",
             "size": 10,
             "solidity": 0.2
            },
            "type": "scatter"
           }
          ],
          "scatter3d": [
           {
            "line": {
             "colorbar": {
              "outlinewidth": 0,
              "ticks": ""
             }
            },
            "marker": {
             "colorbar": {
              "outlinewidth": 0,
              "ticks": ""
             }
            },
            "type": "scatter3d"
           }
          ],
          "scattercarpet": [
           {
            "marker": {
             "colorbar": {
              "outlinewidth": 0,
              "ticks": ""
             }
            },
            "type": "scattercarpet"
           }
          ],
          "scattergeo": [
           {
            "marker": {
             "colorbar": {
              "outlinewidth": 0,
              "ticks": ""
             }
            },
            "type": "scattergeo"
           }
          ],
          "scattergl": [
           {
            "marker": {
             "colorbar": {
              "outlinewidth": 0,
              "ticks": ""
             }
            },
            "type": "scattergl"
           }
          ],
          "scattermapbox": [
           {
            "marker": {
             "colorbar": {
              "outlinewidth": 0,
              "ticks": ""
             }
            },
            "type": "scattermapbox"
           }
          ],
          "scatterpolar": [
           {
            "marker": {
             "colorbar": {
              "outlinewidth": 0,
              "ticks": ""
             }
            },
            "type": "scatterpolar"
           }
          ],
          "scatterpolargl": [
           {
            "marker": {
             "colorbar": {
              "outlinewidth": 0,
              "ticks": ""
             }
            },
            "type": "scatterpolargl"
           }
          ],
          "scatterternary": [
           {
            "marker": {
             "colorbar": {
              "outlinewidth": 0,
              "ticks": ""
             }
            },
            "type": "scatterternary"
           }
          ],
          "surface": [
           {
            "colorbar": {
             "outlinewidth": 0,
             "ticks": ""
            },
            "colorscale": [
             [
              0,
              "#0d0887"
             ],
             [
              0.1111111111111111,
              "#46039f"
             ],
             [
              0.2222222222222222,
              "#7201a8"
             ],
             [
              0.3333333333333333,
              "#9c179e"
             ],
             [
              0.4444444444444444,
              "#bd3786"
             ],
             [
              0.5555555555555556,
              "#d8576b"
             ],
             [
              0.6666666666666666,
              "#ed7953"
             ],
             [
              0.7777777777777778,
              "#fb9f3a"
             ],
             [
              0.8888888888888888,
              "#fdca26"
             ],
             [
              1,
              "#f0f921"
             ]
            ],
            "type": "surface"
           }
          ],
          "table": [
           {
            "cells": {
             "fill": {
              "color": "#EBF0F8"
             },
             "line": {
              "color": "white"
             }
            },
            "header": {
             "fill": {
              "color": "#C8D4E3"
             },
             "line": {
              "color": "white"
             }
            },
            "type": "table"
           }
          ]
         },
         "layout": {
          "annotationdefaults": {
           "arrowcolor": "#2a3f5f",
           "arrowhead": 0,
           "arrowwidth": 1
          },
          "autotypenumbers": "strict",
          "coloraxis": {
           "colorbar": {
            "outlinewidth": 0,
            "ticks": ""
           }
          },
          "colorscale": {
           "diverging": [
            [
             0,
             "#8e0152"
            ],
            [
             0.1,
             "#c51b7d"
            ],
            [
             0.2,
             "#de77ae"
            ],
            [
             0.3,
             "#f1b6da"
            ],
            [
             0.4,
             "#fde0ef"
            ],
            [
             0.5,
             "#f7f7f7"
            ],
            [
             0.6,
             "#e6f5d0"
            ],
            [
             0.7,
             "#b8e186"
            ],
            [
             0.8,
             "#7fbc41"
            ],
            [
             0.9,
             "#4d9221"
            ],
            [
             1,
             "#276419"
            ]
           ],
           "sequential": [
            [
             0,
             "#0d0887"
            ],
            [
             0.1111111111111111,
             "#46039f"
            ],
            [
             0.2222222222222222,
             "#7201a8"
            ],
            [
             0.3333333333333333,
             "#9c179e"
            ],
            [
             0.4444444444444444,
             "#bd3786"
            ],
            [
             0.5555555555555556,
             "#d8576b"
            ],
            [
             0.6666666666666666,
             "#ed7953"
            ],
            [
             0.7777777777777778,
             "#fb9f3a"
            ],
            [
             0.8888888888888888,
             "#fdca26"
            ],
            [
             1,
             "#f0f921"
            ]
           ],
           "sequentialminus": [
            [
             0,
             "#0d0887"
            ],
            [
             0.1111111111111111,
             "#46039f"
            ],
            [
             0.2222222222222222,
             "#7201a8"
            ],
            [
             0.3333333333333333,
             "#9c179e"
            ],
            [
             0.4444444444444444,
             "#bd3786"
            ],
            [
             0.5555555555555556,
             "#d8576b"
            ],
            [
             0.6666666666666666,
             "#ed7953"
            ],
            [
             0.7777777777777778,
             "#fb9f3a"
            ],
            [
             0.8888888888888888,
             "#fdca26"
            ],
            [
             1,
             "#f0f921"
            ]
           ]
          },
          "colorway": [
           "#636efa",
           "#EF553B",
           "#00cc96",
           "#ab63fa",
           "#FFA15A",
           "#19d3f3",
           "#FF6692",
           "#B6E880",
           "#FF97FF",
           "#FECB52"
          ],
          "font": {
           "color": "#2a3f5f"
          },
          "geo": {
           "bgcolor": "white",
           "lakecolor": "white",
           "landcolor": "#E5ECF6",
           "showlakes": true,
           "showland": true,
           "subunitcolor": "white"
          },
          "hoverlabel": {
           "align": "left"
          },
          "hovermode": "closest",
          "mapbox": {
           "style": "light"
          },
          "paper_bgcolor": "white",
          "plot_bgcolor": "#E5ECF6",
          "polar": {
           "angularaxis": {
            "gridcolor": "white",
            "linecolor": "white",
            "ticks": ""
           },
           "bgcolor": "#E5ECF6",
           "radialaxis": {
            "gridcolor": "white",
            "linecolor": "white",
            "ticks": ""
           }
          },
          "scene": {
           "xaxis": {
            "backgroundcolor": "#E5ECF6",
            "gridcolor": "white",
            "gridwidth": 2,
            "linecolor": "white",
            "showbackground": true,
            "ticks": "",
            "zerolinecolor": "white"
           },
           "yaxis": {
            "backgroundcolor": "#E5ECF6",
            "gridcolor": "white",
            "gridwidth": 2,
            "linecolor": "white",
            "showbackground": true,
            "ticks": "",
            "zerolinecolor": "white"
           },
           "zaxis": {
            "backgroundcolor": "#E5ECF6",
            "gridcolor": "white",
            "gridwidth": 2,
            "linecolor": "white",
            "showbackground": true,
            "ticks": "",
            "zerolinecolor": "white"
           }
          },
          "shapedefaults": {
           "line": {
            "color": "#2a3f5f"
           }
          },
          "ternary": {
           "aaxis": {
            "gridcolor": "white",
            "linecolor": "white",
            "ticks": ""
           },
           "baxis": {
            "gridcolor": "white",
            "linecolor": "white",
            "ticks": ""
           },
           "bgcolor": "#E5ECF6",
           "caxis": {
            "gridcolor": "white",
            "linecolor": "white",
            "ticks": ""
           }
          },
          "title": {
           "x": 0.05
          },
          "xaxis": {
           "automargin": true,
           "gridcolor": "white",
           "linecolor": "white",
           "ticks": "",
           "title": {
            "standoff": 15
           },
           "zerolinecolor": "white",
           "zerolinewidth": 2
          },
          "yaxis": {
           "automargin": true,
           "gridcolor": "white",
           "linecolor": "white",
           "ticks": "",
           "title": {
            "standoff": 15
           },
           "zerolinecolor": "white",
           "zerolinewidth": 2
          }
         }
        },
        "title": {
         "text": "Slice Plot"
        },
        "width": 3000,
        "xaxis": {
         "anchor": "y",
         "domain": [
          0,
          0.082
         ],
         "title": {
          "text": "bagging_fraction"
         }
        },
        "xaxis10": {
         "anchor": "y10",
         "domain": [
          0.9179999999999999,
          0.9999999999999999
         ],
         "title": {
          "text": "random_state"
         }
        },
        "xaxis2": {
         "anchor": "y2",
         "domain": [
          0.10200000000000001,
          0.184
         ],
         "title": {
          "text": "feature_fraction "
         }
        },
        "xaxis3": {
         "anchor": "y3",
         "domain": [
          0.20400000000000001,
          0.28600000000000003
         ],
         "title": {
          "text": "lambda_l1 "
         }
        },
        "xaxis4": {
         "anchor": "y4",
         "domain": [
          0.306,
          0.388
         ],
         "title": {
          "text": "lambda_l2 "
         }
        },
        "xaxis5": {
         "anchor": "y5",
         "domain": [
          0.40800000000000003,
          0.49000000000000005
         ],
         "title": {
          "text": "learning_rate"
         }
        },
        "xaxis6": {
         "anchor": "y6",
         "domain": [
          0.51,
          0.592
         ],
         "title": {
          "text": "max_bin"
         }
        },
        "xaxis7": {
         "anchor": "y7",
         "domain": [
          0.6120000000000001,
          0.6940000000000001
         ],
         "title": {
          "text": "max_depth"
         }
        },
        "xaxis8": {
         "anchor": "y8",
         "domain": [
          0.7140000000000001,
          0.796
         ],
         "title": {
          "text": "n_estimators"
         }
        },
        "xaxis9": {
         "anchor": "y9",
         "domain": [
          0.8160000000000001,
          0.898
         ],
         "title": {
          "text": "num_leaves"
         }
        },
        "yaxis": {
         "anchor": "x",
         "domain": [
          0,
          1
         ],
         "title": {
          "text": "Objective Value"
         }
        },
        "yaxis10": {
         "anchor": "x10",
         "domain": [
          0,
          1
         ],
         "matches": "y",
         "showticklabels": false
        },
        "yaxis2": {
         "anchor": "x2",
         "domain": [
          0,
          1
         ],
         "matches": "y",
         "showticklabels": false
        },
        "yaxis3": {
         "anchor": "x3",
         "domain": [
          0,
          1
         ],
         "matches": "y",
         "showticklabels": false
        },
        "yaxis4": {
         "anchor": "x4",
         "domain": [
          0,
          1
         ],
         "matches": "y",
         "showticklabels": false
        },
        "yaxis5": {
         "anchor": "x5",
         "domain": [
          0,
          1
         ],
         "matches": "y",
         "showticklabels": false
        },
        "yaxis6": {
         "anchor": "x6",
         "domain": [
          0,
          1
         ],
         "matches": "y",
         "showticklabels": false
        },
        "yaxis7": {
         "anchor": "x7",
         "domain": [
          0,
          1
         ],
         "matches": "y",
         "showticklabels": false
        },
        "yaxis8": {
         "anchor": "x8",
         "domain": [
          0,
          1
         ],
         "matches": "y",
         "showticklabels": false
        },
        "yaxis9": {
         "anchor": "x9",
         "domain": [
          0,
          1
         ],
         "matches": "y",
         "showticklabels": false
        }
       }
      },
      "text/html": [
       "<div>                            <div id=\"3289fe2e-f9a0-4407-b2a8-1685c49b6b16\" class=\"plotly-graph-div\" style=\"height:525px; width:3000px;\"></div>            <script type=\"text/javascript\">                require([\"plotly\"], function(Plotly) {                    window.PLOTLYENV=window.PLOTLYENV || {};                                    if (document.getElementById(\"3289fe2e-f9a0-4407-b2a8-1685c49b6b16\")) {                    Plotly.newPlot(                        \"3289fe2e-f9a0-4407-b2a8-1685c49b6b16\",                        [{\"marker\":{\"color\":[0,1,2,3,4,5,6,7,8,9,10,11,12,13,14,15,16,17,18,19,20,21,22,23,24,25,26,27,28,29,30,31,32,33,34,35,36,37,38,39,40,41,42,43,44,45,46,47,48,49,50,51,52,53,54,55,56,57,58,59,60,61,62,63,64,65,66,67,68,69,70,71,72,73,74,75,76,77,78,79,80,81,82,83,84,85,86,87,88,89,90,91,92,93,94,95,96,97,98,99],\"colorbar\":{\"title\":{\"text\":\"Trial\"},\"x\":1.0,\"xpad\":40},\"colorscale\":[[0.0,\"rgb(247,251,255)\"],[0.125,\"rgb(222,235,247)\"],[0.25,\"rgb(198,219,239)\"],[0.375,\"rgb(158,202,225)\"],[0.5,\"rgb(107,174,214)\"],[0.625,\"rgb(66,146,198)\"],[0.75,\"rgb(33,113,181)\"],[0.875,\"rgb(8,81,156)\"],[1.0,\"rgb(8,48,107)\"]],\"line\":{\"color\":\"Grey\",\"width\":0.5},\"showscale\":true},\"mode\":\"markers\",\"showlegend\":false,\"x\":[0.5,0.9,0.30000000000000004,0.5,0.2,0.2,1.0,0.7000000000000001,0.6,1.0,0.4,0.7000000000000001,0.7000000000000001,0.8,0.7000000000000001,0.8,0.8,0.9,0.6,0.8,0.4,0.4,0.1,0.4,0.6,0.9,0.5,0.7000000000000001,0.30000000000000004,0.6,0.8,0.6,0.5,0.7000000000000001,0.9,0.30000000000000004,0.4,0.5,0.6,0.8,0.2,0.30000000000000004,0.30000000000000004,0.2,0.30000000000000004,0.4,0.5,0.1,1.0,0.7000000000000001,0.6,0.6,0.7000000000000001,0.7000000000000001,0.7000000000000001,0.6,0.8,0.7000000000000001,0.9,0.8,0.6,0.5,0.2,0.6,0.2,0.7000000000000001,0.4,0.8,0.1,0.6,0.5,0.6,0.7000000000000001,0.6,0.7000000000000001,0.5,0.8,0.9,1.0,0.9,0.9,0.6,0.8,0.8,0.8,0.7000000000000001,0.9,1.0,1.0,1.0,1.0,1.0,1.0,1.0,1.0,1.0,1.0,1.0,0.9,1.0],\"y\":[0.8628034145799468,0.8626620811304562,0.8617556706477808,0.8614508188426966,0.8626559982622586,0.8620289071884505,0.8606343224641227,0.8593327619747256,0.862046528188684,0.8605483170563557,0.8603139216665914,0.8630741519722227,0.8628264382593578,0.8615093396962171,0.8584555973239493,0.8633010888607797,0.8621227503683409,0.8568691225407015,0.8615239356546521,0.8622680987169226,0.8631053169586307,0.8621131126035644,0.8615764080029109,0.8626817053518548,0.8607434618777257,0.8624410028259243,0.8613527607565328,0.8611380902634318,0.861976350857533,0.8629754235060826,0.8606628440037725,0.8629334709636783,0.8619785597068603,0.8627441675011364,0.8620923645650149,0.8629402665703632,0.8623728055288457,0.861917258203108,0.8617214389503001,0.86216020199393,0.8609184932512098,0.8628575284673176,0.8625086139197645,0.8623148103150472,0.8622768174523412,0.8618463587167081,0.8613780705594511,0.8620921589071363,0.856742337031753,0.8618203361772393,0.8631082519735214,0.8623045936863104,0.8630034752843789,0.8623631539257144,0.8619357998661201,0.8600665885808485,0.8626453930075382,0.8620239958793092,0.8620096516058225,0.8623611373485728,0.8601416349617692,0.862491796420233,0.863115604431977,0.8630363234292057,0.8625433386652533,0.8625367372589027,0.8625662724210679,0.8616640990446163,0.8594591827077682,0.861982412765798,0.8629346064904364,0.8624299914917319,0.8627666665925006,0.8623149968118543,0.862636132771533,0.8623664354742552,0.8629512498989496,0.8631834313573206,0.8629128722991641,0.8612118194006779,0.8597634925681448,0.8626165384444183,0.863387037438397,0.8618404979007812,0.8628358432425116,0.8631181941704664,0.862434863880142,0.8634045498526653,0.8633276177578578,0.8617796770685606,0.8626726365103092,0.8633981435108508,0.863429694704909,0.8623307286629798,0.8633183512125921,0.86314569869994,0.8627486297418929,0.8627104617364013,0.8615383300425755,0.8625600141468984],\"type\":\"scatter\",\"xaxis\":\"x\",\"yaxis\":\"y\"},{\"marker\":{\"color\":[0,1,2,3,4,5,6,7,8,9,10,11,12,13,14,15,16,17,18,19,20,21,22,23,24,25,26,27,28,29,30,31,32,33,34,35,36,37,38,39,40,41,42,43,44,45,46,47,48,49,50,51,52,53,54,55,56,57,58,59,60,61,62,63,64,65,66,67,68,69,70,71,72,73,74,75,76,77,78,79,80,81,82,83,84,85,86,87,88,89,90,91,92,93,94,95,96,97,98,99],\"colorbar\":{\"title\":{\"text\":\"Trial\"},\"x\":1.0,\"xpad\":40},\"colorscale\":[[0.0,\"rgb(247,251,255)\"],[0.125,\"rgb(222,235,247)\"],[0.25,\"rgb(198,219,239)\"],[0.375,\"rgb(158,202,225)\"],[0.5,\"rgb(107,174,214)\"],[0.625,\"rgb(66,146,198)\"],[0.75,\"rgb(33,113,181)\"],[0.875,\"rgb(8,81,156)\"],[1.0,\"rgb(8,48,107)\"]],\"line\":{\"color\":\"Grey\",\"width\":0.5},\"showscale\":false},\"mode\":\"markers\",\"showlegend\":false,\"x\":[0.30000000000000004,0.4,0.8,0.30000000000000004,0.30000000000000004,0.30000000000000004,0.2,0.9,0.6,1.0,0.1,0.5,0.6,0.6,0.7000000000000001,0.5,0.5,0.5,0.7000000000000001,0.4,0.8,0.8,0.7000000000000001,0.5,1.0,0.4,0.8,0.9,0.5,0.4,0.7000000000000001,0.4,0.2,0.4,0.6,0.5,0.30000000000000004,0.4,0.2,0.30000000000000004,0.8,0.5,0.5,0.6,0.4,0.6,0.9,0.30000000000000004,0.5,0.6,0.7000000000000001,0.7000000000000001,0.4,0.4,0.7000000000000001,0.9,0.8,0.2,0.1,0.6,0.4,0.5,0.5,0.5,0.5,0.6,0.5,0.8,0.6,0.7000000000000001,0.5,0.4,0.4,0.4,0.30000000000000004,0.5,0.5,0.30000000000000004,0.30000000000000004,0.9,1.0,0.4,0.30000000000000004,0.2,0.30000000000000004,0.30000000000000004,0.2,0.30000000000000004,0.30000000000000004,0.2,0.30000000000000004,0.30000000000000004,0.30000000000000004,0.30000000000000004,0.30000000000000004,0.30000000000000004,0.30000000000000004,0.30000000000000004,0.2,0.30000000000000004],\"y\":[0.8628034145799468,0.8626620811304562,0.8617556706477808,0.8614508188426966,0.8626559982622586,0.8620289071884505,0.8606343224641227,0.8593327619747256,0.862046528188684,0.8605483170563557,0.8603139216665914,0.8630741519722227,0.8628264382593578,0.8615093396962171,0.8584555973239493,0.8633010888607797,0.8621227503683409,0.8568691225407015,0.8615239356546521,0.8622680987169226,0.8631053169586307,0.8621131126035644,0.8615764080029109,0.8626817053518548,0.8607434618777257,0.8624410028259243,0.8613527607565328,0.8611380902634318,0.861976350857533,0.8629754235060826,0.8606628440037725,0.8629334709636783,0.8619785597068603,0.8627441675011364,0.8620923645650149,0.8629402665703632,0.8623728055288457,0.861917258203108,0.8617214389503001,0.86216020199393,0.8609184932512098,0.8628575284673176,0.8625086139197645,0.8623148103150472,0.8622768174523412,0.8618463587167081,0.8613780705594511,0.8620921589071363,0.856742337031753,0.8618203361772393,0.8631082519735214,0.8623045936863104,0.8630034752843789,0.8623631539257144,0.8619357998661201,0.8600665885808485,0.8626453930075382,0.8620239958793092,0.8620096516058225,0.8623611373485728,0.8601416349617692,0.862491796420233,0.863115604431977,0.8630363234292057,0.8625433386652533,0.8625367372589027,0.8625662724210679,0.8616640990446163,0.8594591827077682,0.861982412765798,0.8629346064904364,0.8624299914917319,0.8627666665925006,0.8623149968118543,0.862636132771533,0.8623664354742552,0.8629512498989496,0.8631834313573206,0.8629128722991641,0.8612118194006779,0.8597634925681448,0.8626165384444183,0.863387037438397,0.8618404979007812,0.8628358432425116,0.8631181941704664,0.862434863880142,0.8634045498526653,0.8633276177578578,0.8617796770685606,0.8626726365103092,0.8633981435108508,0.863429694704909,0.8623307286629798,0.8633183512125921,0.86314569869994,0.8627486297418929,0.8627104617364013,0.8615383300425755,0.8625600141468984],\"type\":\"scatter\",\"xaxis\":\"x2\",\"yaxis\":\"y2\"},{\"marker\":{\"color\":[0,1,2,3,4,5,6,7,8,9,10,11,12,13,14,15,16,17,18,19,20,21,22,23,24,25,26,27,28,29,30,31,32,33,34,35,36,37,38,39,40,41,42,43,44,45,46,47,48,49,50,51,52,53,54,55,56,57,58,59,60,61,62,63,64,65,66,67,68,69,70,71,72,73,74,75,76,77,78,79,80,81,82,83,84,85,86,87,88,89,90,91,92,93,94,95,96,97,98,99],\"colorbar\":{\"title\":{\"text\":\"Trial\"},\"x\":1.0,\"xpad\":40},\"colorscale\":[[0.0,\"rgb(247,251,255)\"],[0.125,\"rgb(222,235,247)\"],[0.25,\"rgb(198,219,239)\"],[0.375,\"rgb(158,202,225)\"],[0.5,\"rgb(107,174,214)\"],[0.625,\"rgb(66,146,198)\"],[0.75,\"rgb(33,113,181)\"],[0.875,\"rgb(8,81,156)\"],[1.0,\"rgb(8,48,107)\"]],\"line\":{\"color\":\"Grey\",\"width\":0.5},\"showscale\":false},\"mode\":\"markers\",\"showlegend\":false,\"x\":[5.01,5.22,5.58,8.99,7.24,5.37,9.21,1.37,9.81,3.12,2.87,4.16,3.41,2.7800000000000002,0.41000000000000003,4.0,7.08,4.0600000000000005,1.94,7.2,4.25,3.98,5.95,4.25,6.4,2.04,4.51,3.5300000000000002,2.2600000000000002,4.72,1.27,4.74,5.08,6.0600000000000005,5.07,3.8200000000000003,6.58,8.22,5.53,4.64,2.5500000000000003,3.7600000000000002,3.2800000000000002,4.34,3.64,5.53,2.97,4.69,3.85,5.19,3.18,3.19,2.48,2.48,1.62,0.38,1.11,2.75,4.3100000000000005,3.2600000000000002,4.1,4.04,3.49,3.5300000000000002,1.96,3.39,2.88,2.36,0.76,3.58,1.7,4.96,4.49,2.7,3.08,4.87,4.18,2.19,2.19,3.66,1.72,5.83,3.42,3.46,3.0700000000000003,3.85,3.9,4.48,4.46,3.88,4.48,4.3,5.32,5.3100000000000005,4.8,4.82,5.65,6.23,4.89,5.34],\"y\":[0.8628034145799468,0.8626620811304562,0.8617556706477808,0.8614508188426966,0.8626559982622586,0.8620289071884505,0.8606343224641227,0.8593327619747256,0.862046528188684,0.8605483170563557,0.8603139216665914,0.8630741519722227,0.8628264382593578,0.8615093396962171,0.8584555973239493,0.8633010888607797,0.8621227503683409,0.8568691225407015,0.8615239356546521,0.8622680987169226,0.8631053169586307,0.8621131126035644,0.8615764080029109,0.8626817053518548,0.8607434618777257,0.8624410028259243,0.8613527607565328,0.8611380902634318,0.861976350857533,0.8629754235060826,0.8606628440037725,0.8629334709636783,0.8619785597068603,0.8627441675011364,0.8620923645650149,0.8629402665703632,0.8623728055288457,0.861917258203108,0.8617214389503001,0.86216020199393,0.8609184932512098,0.8628575284673176,0.8625086139197645,0.8623148103150472,0.8622768174523412,0.8618463587167081,0.8613780705594511,0.8620921589071363,0.856742337031753,0.8618203361772393,0.8631082519735214,0.8623045936863104,0.8630034752843789,0.8623631539257144,0.8619357998661201,0.8600665885808485,0.8626453930075382,0.8620239958793092,0.8620096516058225,0.8623611373485728,0.8601416349617692,0.862491796420233,0.863115604431977,0.8630363234292057,0.8625433386652533,0.8625367372589027,0.8625662724210679,0.8616640990446163,0.8594591827077682,0.861982412765798,0.8629346064904364,0.8624299914917319,0.8627666665925006,0.8623149968118543,0.862636132771533,0.8623664354742552,0.8629512498989496,0.8631834313573206,0.8629128722991641,0.8612118194006779,0.8597634925681448,0.8626165384444183,0.863387037438397,0.8618404979007812,0.8628358432425116,0.8631181941704664,0.862434863880142,0.8634045498526653,0.8633276177578578,0.8617796770685606,0.8626726365103092,0.8633981435108508,0.863429694704909,0.8623307286629798,0.8633183512125921,0.86314569869994,0.8627486297418929,0.8627104617364013,0.8615383300425755,0.8625600141468984],\"type\":\"scatter\",\"xaxis\":\"x3\",\"yaxis\":\"y3\"},{\"marker\":{\"color\":[0,1,2,3,4,5,6,7,8,9,10,11,12,13,14,15,16,17,18,19,20,21,22,23,24,25,26,27,28,29,30,31,32,33,34,35,36,37,38,39,40,41,42,43,44,45,46,47,48,49,50,51,52,53,54,55,56,57,58,59,60,61,62,63,64,65,66,67,68,69,70,71,72,73,74,75,76,77,78,79,80,81,82,83,84,85,86,87,88,89,90,91,92,93,94,95,96,97,98,99],\"colorbar\":{\"title\":{\"text\":\"Trial\"},\"x\":1.0,\"xpad\":40},\"colorscale\":[[0.0,\"rgb(247,251,255)\"],[0.125,\"rgb(222,235,247)\"],[0.25,\"rgb(198,219,239)\"],[0.375,\"rgb(158,202,225)\"],[0.5,\"rgb(107,174,214)\"],[0.625,\"rgb(66,146,198)\"],[0.75,\"rgb(33,113,181)\"],[0.875,\"rgb(8,81,156)\"],[1.0,\"rgb(8,48,107)\"]],\"line\":{\"color\":\"Grey\",\"width\":0.5},\"showscale\":false},\"mode\":\"markers\",\"showlegend\":false,\"x\":[1.7,4.36,8.03,4.62,1.78,5.29,2.49,4.22,0.06,1.9000000000000001,9.950000000000001,6.74,7.24,6.97,7.0600000000000005,9.02,10.0,8.74,6.13,8.36,9.21,8.98,9.28,7.79,6.17,5.87,7.87,9.43,3.2800000000000002,8.64,6.68,8.56,7.7,9.38,8.24,8.97,7.47,5.55,6.51,4.55,9.66,8.97,8.28,8.78,9.18,8.02,9.77,4.96,7.21,0.02,8.73,8.72,9.51,9.53,0.74,4.0,9.99,7.640000000000001,8.42,8.040000000000001,9.14,8.92,9.57,9.58,9.66,9.4,9.92,9.5,8.42,9.26,6.72,9.09,8.61,8.71,8.120000000000001,7.4,9.72,9.22,9.28,9.99,8.870000000000001,9.58,8.5,8.44,9.14,7.96,7.8100000000000005,7.01,6.28,7.41,6.95,6.13,6.25,6.24,5.39,5.75,5.61,5.19,5.87,6.390000000000001],\"y\":[0.8628034145799468,0.8626620811304562,0.8617556706477808,0.8614508188426966,0.8626559982622586,0.8620289071884505,0.8606343224641227,0.8593327619747256,0.862046528188684,0.8605483170563557,0.8603139216665914,0.8630741519722227,0.8628264382593578,0.8615093396962171,0.8584555973239493,0.8633010888607797,0.8621227503683409,0.8568691225407015,0.8615239356546521,0.8622680987169226,0.8631053169586307,0.8621131126035644,0.8615764080029109,0.8626817053518548,0.8607434618777257,0.8624410028259243,0.8613527607565328,0.8611380902634318,0.861976350857533,0.8629754235060826,0.8606628440037725,0.8629334709636783,0.8619785597068603,0.8627441675011364,0.8620923645650149,0.8629402665703632,0.8623728055288457,0.861917258203108,0.8617214389503001,0.86216020199393,0.8609184932512098,0.8628575284673176,0.8625086139197645,0.8623148103150472,0.8622768174523412,0.8618463587167081,0.8613780705594511,0.8620921589071363,0.856742337031753,0.8618203361772393,0.8631082519735214,0.8623045936863104,0.8630034752843789,0.8623631539257144,0.8619357998661201,0.8600665885808485,0.8626453930075382,0.8620239958793092,0.8620096516058225,0.8623611373485728,0.8601416349617692,0.862491796420233,0.863115604431977,0.8630363234292057,0.8625433386652533,0.8625367372589027,0.8625662724210679,0.8616640990446163,0.8594591827077682,0.861982412765798,0.8629346064904364,0.8624299914917319,0.8627666665925006,0.8623149968118543,0.862636132771533,0.8623664354742552,0.8629512498989496,0.8631834313573206,0.8629128722991641,0.8612118194006779,0.8597634925681448,0.8626165384444183,0.863387037438397,0.8618404979007812,0.8628358432425116,0.8631181941704664,0.862434863880142,0.8634045498526653,0.8633276177578578,0.8617796770685606,0.8626726365103092,0.8633981435108508,0.863429694704909,0.8623307286629798,0.8633183512125921,0.86314569869994,0.8627486297418929,0.8627104617364013,0.8615383300425755,0.8625600141468984],\"type\":\"scatter\",\"xaxis\":\"x4\",\"yaxis\":\"y4\"},{\"marker\":{\"color\":[0,1,2,3,4,5,6,7,8,9,10,11,12,13,14,15,16,17,18,19,20,21,22,23,24,25,26,27,28,29,30,31,32,33,34,35,36,37,38,39,40,41,42,43,44,45,46,47,48,49,50,51,52,53,54,55,56,57,58,59,60,61,62,63,64,65,66,67,68,69,70,71,72,73,74,75,76,77,78,79,80,81,82,83,84,85,86,87,88,89,90,91,92,93,94,95,96,97,98,99],\"colorbar\":{\"title\":{\"text\":\"Trial\"},\"x\":1.0,\"xpad\":40},\"colorscale\":[[0.0,\"rgb(247,251,255)\"],[0.125,\"rgb(222,235,247)\"],[0.25,\"rgb(198,219,239)\"],[0.375,\"rgb(158,202,225)\"],[0.5,\"rgb(107,174,214)\"],[0.625,\"rgb(66,146,198)\"],[0.75,\"rgb(33,113,181)\"],[0.875,\"rgb(8,81,156)\"],[1.0,\"rgb(8,48,107)\"]],\"line\":{\"color\":\"Grey\",\"width\":0.5},\"showscale\":false},\"mode\":\"markers\",\"showlegend\":false,\"x\":[0.046900000000000004,0.0345,0.0171,0.0198,0.0434,0.0826,0.0279,0.04,0.027700000000000002,0.050800000000000005,0.07050000000000001,0.062400000000000004,0.0625,0.06480000000000001,0.0993,0.063,0.0823,0.0045000000000000005,0.057300000000000004,0.0767,0.0947,0.0969,0.0883,0.0723,0.0548,0.0896,0.0616,0.06820000000000001,0.0781,0.0487,0.09390000000000001,0.0482,0.0364,0.0522,0.058800000000000005,0.045500000000000006,0.0302,0.020900000000000002,0.043000000000000003,0.0756,0.0659,0.0459,0.0388,0.0495,0.0337,0.043000000000000003,0.055600000000000004,0.0599,0.004,0.08270000000000001,0.020100000000000003,0.012799999999999999,0.0182,0.013500000000000002,0.0239,0.009600000000000001,0.023500000000000004,0.030100000000000002,0.0717,0.016,0.0073,0.052700000000000004,0.0463,0.0645,0.0633,0.06810000000000001,0.08460000000000001,0.07880000000000001,0.0751,0.0665,0.09190000000000001,0.055600000000000004,0.0188,0.1,0.060500000000000005,0.039400000000000004,0.0521,0.033800000000000004,0.034800000000000005,0.0238,0.0633,0.027200000000000002,0.0475,0.0415,0.0313,0.05790000000000001,0.0575,0.047200000000000006,0.0437,0.0463,0.037500000000000006,0.044000000000000004,0.049,0.044000000000000004,0.0483,0.0483,0.049600000000000005,0.053700000000000005,0.0507,0.048],\"y\":[0.8628034145799468,0.8626620811304562,0.8617556706477808,0.8614508188426966,0.8626559982622586,0.8620289071884505,0.8606343224641227,0.8593327619747256,0.862046528188684,0.8605483170563557,0.8603139216665914,0.8630741519722227,0.8628264382593578,0.8615093396962171,0.8584555973239493,0.8633010888607797,0.8621227503683409,0.8568691225407015,0.8615239356546521,0.8622680987169226,0.8631053169586307,0.8621131126035644,0.8615764080029109,0.8626817053518548,0.8607434618777257,0.8624410028259243,0.8613527607565328,0.8611380902634318,0.861976350857533,0.8629754235060826,0.8606628440037725,0.8629334709636783,0.8619785597068603,0.8627441675011364,0.8620923645650149,0.8629402665703632,0.8623728055288457,0.861917258203108,0.8617214389503001,0.86216020199393,0.8609184932512098,0.8628575284673176,0.8625086139197645,0.8623148103150472,0.8622768174523412,0.8618463587167081,0.8613780705594511,0.8620921589071363,0.856742337031753,0.8618203361772393,0.8631082519735214,0.8623045936863104,0.8630034752843789,0.8623631539257144,0.8619357998661201,0.8600665885808485,0.8626453930075382,0.8620239958793092,0.8620096516058225,0.8623611373485728,0.8601416349617692,0.862491796420233,0.863115604431977,0.8630363234292057,0.8625433386652533,0.8625367372589027,0.8625662724210679,0.8616640990446163,0.8594591827077682,0.861982412765798,0.8629346064904364,0.8624299914917319,0.8627666665925006,0.8623149968118543,0.862636132771533,0.8623664354742552,0.8629512498989496,0.8631834313573206,0.8629128722991641,0.8612118194006779,0.8597634925681448,0.8626165384444183,0.863387037438397,0.8618404979007812,0.8628358432425116,0.8631181941704664,0.862434863880142,0.8634045498526653,0.8633276177578578,0.8617796770685606,0.8626726365103092,0.8633981435108508,0.863429694704909,0.8623307286629798,0.8633183512125921,0.86314569869994,0.8627486297418929,0.8627104617364013,0.8615383300425755,0.8625600141468984],\"type\":\"scatter\",\"xaxis\":\"x5\",\"yaxis\":\"y5\"},{\"marker\":{\"color\":[0,1,2,3,4,5,6,7,8,9,10,11,12,13,14,15,16,17,18,19,20,21,22,23,24,25,26,27,28,29,30,31,32,33,34,35,36,37,38,39,40,41,42,43,44,45,46,47,48,49,50,51,52,53,54,55,56,57,58,59,60,61,62,63,64,65,66,67,68,69,70,71,72,73,74,75,76,77,78,79,80,81,82,83,84,85,86,87,88,89,90,91,92,93,94,95,96,97,98,99],\"colorbar\":{\"title\":{\"text\":\"Trial\"},\"x\":1.0,\"xpad\":40},\"colorscale\":[[0.0,\"rgb(247,251,255)\"],[0.125,\"rgb(222,235,247)\"],[0.25,\"rgb(198,219,239)\"],[0.375,\"rgb(158,202,225)\"],[0.5,\"rgb(107,174,214)\"],[0.625,\"rgb(66,146,198)\"],[0.75,\"rgb(33,113,181)\"],[0.875,\"rgb(8,81,156)\"],[1.0,\"rgb(8,48,107)\"]],\"line\":{\"color\":\"Grey\",\"width\":0.5},\"showscale\":false},\"mode\":\"markers\",\"showlegend\":false,\"x\":[170,160,180,230,240,200,250,230,170,240,300,160,200,200,200,190,180,270,160,210,180,180,190,160,210,170,220,190,190,170,180,170,160,160,170,180,170,190,210,180,260,160,180,190,170,180,290,200,220,160,180,180,170,170,190,170,160,170,200,160,240,180,190,190,200,190,220,210,200,190,180,170,180,190,170,170,160,180,200,190,210,180,180,180,190,180,180,190,200,200,190,180,180,180,190,200,210,200,190,200],\"y\":[0.8628034145799468,0.8626620811304562,0.8617556706477808,0.8614508188426966,0.8626559982622586,0.8620289071884505,0.8606343224641227,0.8593327619747256,0.862046528188684,0.8605483170563557,0.8603139216665914,0.8630741519722227,0.8628264382593578,0.8615093396962171,0.8584555973239493,0.8633010888607797,0.8621227503683409,0.8568691225407015,0.8615239356546521,0.8622680987169226,0.8631053169586307,0.8621131126035644,0.8615764080029109,0.8626817053518548,0.8607434618777257,0.8624410028259243,0.8613527607565328,0.8611380902634318,0.861976350857533,0.8629754235060826,0.8606628440037725,0.8629334709636783,0.8619785597068603,0.8627441675011364,0.8620923645650149,0.8629402665703632,0.8623728055288457,0.861917258203108,0.8617214389503001,0.86216020199393,0.8609184932512098,0.8628575284673176,0.8625086139197645,0.8623148103150472,0.8622768174523412,0.8618463587167081,0.8613780705594511,0.8620921589071363,0.856742337031753,0.8618203361772393,0.8631082519735214,0.8623045936863104,0.8630034752843789,0.8623631539257144,0.8619357998661201,0.8600665885808485,0.8626453930075382,0.8620239958793092,0.8620096516058225,0.8623611373485728,0.8601416349617692,0.862491796420233,0.863115604431977,0.8630363234292057,0.8625433386652533,0.8625367372589027,0.8625662724210679,0.8616640990446163,0.8594591827077682,0.861982412765798,0.8629346064904364,0.8624299914917319,0.8627666665925006,0.8623149968118543,0.862636132771533,0.8623664354742552,0.8629512498989496,0.8631834313573206,0.8629128722991641,0.8612118194006779,0.8597634925681448,0.8626165384444183,0.863387037438397,0.8618404979007812,0.8628358432425116,0.8631181941704664,0.862434863880142,0.8634045498526653,0.8633276177578578,0.8617796770685606,0.8626726365103092,0.8633981435108508,0.863429694704909,0.8623307286629798,0.8633183512125921,0.86314569869994,0.8627486297418929,0.8627104617364013,0.8615383300425755,0.8625600141468984],\"type\":\"scatter\",\"xaxis\":\"x6\",\"yaxis\":\"y6\"},{\"marker\":{\"color\":[0,1,2,3,4,5,6,7,8,9,10,11,12,13,14,15,16,17,18,19,20,21,22,23,24,25,26,27,28,29,30,31,32,33,34,35,36,37,38,39,40,41,42,43,44,45,46,47,48,49,50,51,52,53,54,55,56,57,58,59,60,61,62,63,64,65,66,67,68,69,70,71,72,73,74,75,76,77,78,79,80,81,82,83,84,85,86,87,88,89,90,91,92,93,94,95,96,97,98,99],\"colorbar\":{\"title\":{\"text\":\"Trial\"},\"x\":1.0,\"xpad\":40},\"colorscale\":[[0.0,\"rgb(247,251,255)\"],[0.125,\"rgb(222,235,247)\"],[0.25,\"rgb(198,219,239)\"],[0.375,\"rgb(158,202,225)\"],[0.5,\"rgb(107,174,214)\"],[0.625,\"rgb(66,146,198)\"],[0.75,\"rgb(33,113,181)\"],[0.875,\"rgb(8,81,156)\"],[1.0,\"rgb(8,48,107)\"]],\"line\":{\"color\":\"Grey\",\"width\":0.5},\"showscale\":false},\"mode\":\"markers\",\"showlegend\":false,\"x\":[15,21,14,28,15,20,25,20,20,11,5,9,7,5,9,9,11,11,8,17,13,13,9,12,17,7,10,13,7,15,16,14,15,23,13,18,9,15,28,18,12,19,30,22,16,18,14,6,10,19,12,12,10,10,8,11,8,12,9,6,14,16,13,10,11,10,8,9,13,11,7,12,13,10,14,15,13,11,11,10,6,12,15,9,12,10,14,11,11,11,14,9,8,8,9,7,5,7,9,6],\"y\":[0.8628034145799468,0.8626620811304562,0.8617556706477808,0.8614508188426966,0.8626559982622586,0.8620289071884505,0.8606343224641227,0.8593327619747256,0.862046528188684,0.8605483170563557,0.8603139216665914,0.8630741519722227,0.8628264382593578,0.8615093396962171,0.8584555973239493,0.8633010888607797,0.8621227503683409,0.8568691225407015,0.8615239356546521,0.8622680987169226,0.8631053169586307,0.8621131126035644,0.8615764080029109,0.8626817053518548,0.8607434618777257,0.8624410028259243,0.8613527607565328,0.8611380902634318,0.861976350857533,0.8629754235060826,0.8606628440037725,0.8629334709636783,0.8619785597068603,0.8627441675011364,0.8620923645650149,0.8629402665703632,0.8623728055288457,0.861917258203108,0.8617214389503001,0.86216020199393,0.8609184932512098,0.8628575284673176,0.8625086139197645,0.8623148103150472,0.8622768174523412,0.8618463587167081,0.8613780705594511,0.8620921589071363,0.856742337031753,0.8618203361772393,0.8631082519735214,0.8623045936863104,0.8630034752843789,0.8623631539257144,0.8619357998661201,0.8600665885808485,0.8626453930075382,0.8620239958793092,0.8620096516058225,0.8623611373485728,0.8601416349617692,0.862491796420233,0.863115604431977,0.8630363234292057,0.8625433386652533,0.8625367372589027,0.8625662724210679,0.8616640990446163,0.8594591827077682,0.861982412765798,0.8629346064904364,0.8624299914917319,0.8627666665925006,0.8623149968118543,0.862636132771533,0.8623664354742552,0.8629512498989496,0.8631834313573206,0.8629128722991641,0.8612118194006779,0.8597634925681448,0.8626165384444183,0.863387037438397,0.8618404979007812,0.8628358432425116,0.8631181941704664,0.862434863880142,0.8634045498526653,0.8633276177578578,0.8617796770685606,0.8626726365103092,0.8633981435108508,0.863429694704909,0.8623307286629798,0.8633183512125921,0.86314569869994,0.8627486297418929,0.8627104617364013,0.8615383300425755,0.8625600141468984],\"type\":\"scatter\",\"xaxis\":\"x7\",\"yaxis\":\"y7\"},{\"marker\":{\"color\":[0,1,2,3,4,5,6,7,8,9,10,11,12,13,14,15,16,17,18,19,20,21,22,23,24,25,26,27,28,29,30,31,32,33,34,35,36,37,38,39,40,41,42,43,44,45,46,47,48,49,50,51,52,53,54,55,56,57,58,59,60,61,62,63,64,65,66,67,68,69,70,71,72,73,74,75,76,77,78,79,80,81,82,83,84,85,86,87,88,89,90,91,92,93,94,95,96,97,98,99],\"colorbar\":{\"title\":{\"text\":\"Trial\"},\"x\":1.0,\"xpad\":40},\"colorscale\":[[0.0,\"rgb(247,251,255)\"],[0.125,\"rgb(222,235,247)\"],[0.25,\"rgb(198,219,239)\"],[0.375,\"rgb(158,202,225)\"],[0.5,\"rgb(107,174,214)\"],[0.625,\"rgb(66,146,198)\"],[0.75,\"rgb(33,113,181)\"],[0.875,\"rgb(8,81,156)\"],[1.0,\"rgb(8,48,107)\"]],\"line\":{\"color\":\"Grey\",\"width\":0.5},\"showscale\":false},\"mode\":\"markers\",\"showlegend\":false,\"x\":[649,680,682,671,648,618,691,674,660,617,640,636,635,633,602,627,622,602,661,624,609,610,628,610,640,612,628,643,657,651,631,650,654,637,646,617,623,667,700,653,645,616,604,614,619,606,628,638,608,621,628,633,627,630,626,640,633,600,625,665,644,618,621,613,621,613,610,635,626,614,677,621,630,649,606,623,640,685,615,700,685,693,611,618,610,612,607,612,603,603,600,604,604,605,611,611,602,611,608,603],\"y\":[0.8628034145799468,0.8626620811304562,0.8617556706477808,0.8614508188426966,0.8626559982622586,0.8620289071884505,0.8606343224641227,0.8593327619747256,0.862046528188684,0.8605483170563557,0.8603139216665914,0.8630741519722227,0.8628264382593578,0.8615093396962171,0.8584555973239493,0.8633010888607797,0.8621227503683409,0.8568691225407015,0.8615239356546521,0.8622680987169226,0.8631053169586307,0.8621131126035644,0.8615764080029109,0.8626817053518548,0.8607434618777257,0.8624410028259243,0.8613527607565328,0.8611380902634318,0.861976350857533,0.8629754235060826,0.8606628440037725,0.8629334709636783,0.8619785597068603,0.8627441675011364,0.8620923645650149,0.8629402665703632,0.8623728055288457,0.861917258203108,0.8617214389503001,0.86216020199393,0.8609184932512098,0.8628575284673176,0.8625086139197645,0.8623148103150472,0.8622768174523412,0.8618463587167081,0.8613780705594511,0.8620921589071363,0.856742337031753,0.8618203361772393,0.8631082519735214,0.8623045936863104,0.8630034752843789,0.8623631539257144,0.8619357998661201,0.8600665885808485,0.8626453930075382,0.8620239958793092,0.8620096516058225,0.8623611373485728,0.8601416349617692,0.862491796420233,0.863115604431977,0.8630363234292057,0.8625433386652533,0.8625367372589027,0.8625662724210679,0.8616640990446163,0.8594591827077682,0.861982412765798,0.8629346064904364,0.8624299914917319,0.8627666665925006,0.8623149968118543,0.862636132771533,0.8623664354742552,0.8629512498989496,0.8631834313573206,0.8629128722991641,0.8612118194006779,0.8597634925681448,0.8626165384444183,0.863387037438397,0.8618404979007812,0.8628358432425116,0.8631181941704664,0.862434863880142,0.8634045498526653,0.8633276177578578,0.8617796770685606,0.8626726365103092,0.8633981435108508,0.863429694704909,0.8623307286629798,0.8633183512125921,0.86314569869994,0.8627486297418929,0.8627104617364013,0.8615383300425755,0.8625600141468984],\"type\":\"scatter\",\"xaxis\":\"x8\",\"yaxis\":\"y8\"},{\"marker\":{\"color\":[0,1,2,3,4,5,6,7,8,9,10,11,12,13,14,15,16,17,18,19,20,21,22,23,24,25,26,27,28,29,30,31,32,33,34,35,36,37,38,39,40,41,42,43,44,45,46,47,48,49,50,51,52,53,54,55,56,57,58,59,60,61,62,63,64,65,66,67,68,69,70,71,72,73,74,75,76,77,78,79,80,81,82,83,84,85,86,87,88,89,90,91,92,93,94,95,96,97,98,99],\"colorbar\":{\"title\":{\"text\":\"Trial\"},\"x\":1.0,\"xpad\":40},\"colorscale\":[[0.0,\"rgb(247,251,255)\"],[0.125,\"rgb(222,235,247)\"],[0.25,\"rgb(198,219,239)\"],[0.375,\"rgb(158,202,225)\"],[0.5,\"rgb(107,174,214)\"],[0.625,\"rgb(66,146,198)\"],[0.75,\"rgb(33,113,181)\"],[0.875,\"rgb(8,81,156)\"],[1.0,\"rgb(8,48,107)\"]],\"line\":{\"color\":\"Grey\",\"width\":0.5},\"showscale\":false},\"mode\":\"markers\",\"showlegend\":false,\"x\":[45300,49400,69400,68100,62600,40600,55700,59300,25300,25800,13300,47700,43200,33800,34100,51100,53400,50600,35100,61000,47000,46800,38900,55700,49800,39300,29600,43700,54200,65000,47000,65600,57300,51000,63400,69700,45900,66000,59300,41500,52800,68200,69000,65500,58900,62300,69500,18500,48300,36500,43600,43500,51800,51800,48600,44800,40900,56600,37100,32000,54100,48400,42000,45400,41800,46300,50200,38500,44800,42600,47400,40100,52200,54800,45000,49800,46500,43500,42700,38100,50900,44200,39900,35400,40300,47500,32300,47900,47800,48600,42600,47700,47300,49400,47400,47700,53000,47200,50700,49500],\"y\":[0.8628034145799468,0.8626620811304562,0.8617556706477808,0.8614508188426966,0.8626559982622586,0.8620289071884505,0.8606343224641227,0.8593327619747256,0.862046528188684,0.8605483170563557,0.8603139216665914,0.8630741519722227,0.8628264382593578,0.8615093396962171,0.8584555973239493,0.8633010888607797,0.8621227503683409,0.8568691225407015,0.8615239356546521,0.8622680987169226,0.8631053169586307,0.8621131126035644,0.8615764080029109,0.8626817053518548,0.8607434618777257,0.8624410028259243,0.8613527607565328,0.8611380902634318,0.861976350857533,0.8629754235060826,0.8606628440037725,0.8629334709636783,0.8619785597068603,0.8627441675011364,0.8620923645650149,0.8629402665703632,0.8623728055288457,0.861917258203108,0.8617214389503001,0.86216020199393,0.8609184932512098,0.8628575284673176,0.8625086139197645,0.8623148103150472,0.8622768174523412,0.8618463587167081,0.8613780705594511,0.8620921589071363,0.856742337031753,0.8618203361772393,0.8631082519735214,0.8623045936863104,0.8630034752843789,0.8623631539257144,0.8619357998661201,0.8600665885808485,0.8626453930075382,0.8620239958793092,0.8620096516058225,0.8623611373485728,0.8601416349617692,0.862491796420233,0.863115604431977,0.8630363234292057,0.8625433386652533,0.8625367372589027,0.8625662724210679,0.8616640990446163,0.8594591827077682,0.861982412765798,0.8629346064904364,0.8624299914917319,0.8627666665925006,0.8623149968118543,0.862636132771533,0.8623664354742552,0.8629512498989496,0.8631834313573206,0.8629128722991641,0.8612118194006779,0.8597634925681448,0.8626165384444183,0.863387037438397,0.8618404979007812,0.8628358432425116,0.8631181941704664,0.862434863880142,0.8634045498526653,0.8633276177578578,0.8617796770685606,0.8626726365103092,0.8633981435108508,0.863429694704909,0.8623307286629798,0.8633183512125921,0.86314569869994,0.8627486297418929,0.8627104617364013,0.8615383300425755,0.8625600141468984],\"type\":\"scatter\",\"xaxis\":\"x9\",\"yaxis\":\"y9\"},{\"marker\":{\"color\":[0,1,2,3,4,5,6,7,8,9,10,11,12,13,14,15,16,17,18,19,20,21,22,23,24,25,26,27,28,29,30,31,32,33,34,35,36,37,38,39,40,41,42,43,44,45,46,47,48,49,50,51,52,53,54,55,56,57,58,59,60,61,62,63,64,65,66,67,68,69,70,71,72,73,74,75,76,77,78,79,80,81,82,83,84,85,86,87,88,89,90,91,92,93,94,95,96,97,98,99],\"colorbar\":{\"title\":{\"text\":\"Trial\"},\"x\":1.0,\"xpad\":40},\"colorscale\":[[0.0,\"rgb(247,251,255)\"],[0.125,\"rgb(222,235,247)\"],[0.25,\"rgb(198,219,239)\"],[0.375,\"rgb(158,202,225)\"],[0.5,\"rgb(107,174,214)\"],[0.625,\"rgb(66,146,198)\"],[0.75,\"rgb(33,113,181)\"],[0.875,\"rgb(8,81,156)\"],[1.0,\"rgb(8,48,107)\"]],\"line\":{\"color\":\"Grey\",\"width\":0.5},\"showscale\":false},\"mode\":\"markers\",\"showlegend\":false,\"x\":[100,\"None\",25,\"None\",25,25,100,\"None\",\"None\",25,100,0,0,0,0,0,0,0,0,0,0,0,0,0,0,0,0,0,100,100,0,100,100,100,100,\"None\",25,100,\"None\",25,0,\"None\",\"None\",\"None\",\"None\",\"None\",25,100,\"None\",0,0,0,0,0,0,0,0,0,0,0,0,0,0,0,0,0,0,0,0,0,0,100,0,0,25,100,0,0,0,0,0,0,0,0,0,0,0,0,0,25,0,0,0,0,0,0,0,0,0,0],\"y\":[0.8628034145799468,0.8626620811304562,0.8617556706477808,0.8614508188426966,0.8626559982622586,0.8620289071884505,0.8606343224641227,0.8593327619747256,0.862046528188684,0.8605483170563557,0.8603139216665914,0.8630741519722227,0.8628264382593578,0.8615093396962171,0.8584555973239493,0.8633010888607797,0.8621227503683409,0.8568691225407015,0.8615239356546521,0.8622680987169226,0.8631053169586307,0.8621131126035644,0.8615764080029109,0.8626817053518548,0.8607434618777257,0.8624410028259243,0.8613527607565328,0.8611380902634318,0.861976350857533,0.8629754235060826,0.8606628440037725,0.8629334709636783,0.8619785597068603,0.8627441675011364,0.8620923645650149,0.8629402665703632,0.8623728055288457,0.861917258203108,0.8617214389503001,0.86216020199393,0.8609184932512098,0.8628575284673176,0.8625086139197645,0.8623148103150472,0.8622768174523412,0.8618463587167081,0.8613780705594511,0.8620921589071363,0.856742337031753,0.8618203361772393,0.8631082519735214,0.8623045936863104,0.8630034752843789,0.8623631539257144,0.8619357998661201,0.8600665885808485,0.8626453930075382,0.8620239958793092,0.8620096516058225,0.8623611373485728,0.8601416349617692,0.862491796420233,0.863115604431977,0.8630363234292057,0.8625433386652533,0.8625367372589027,0.8625662724210679,0.8616640990446163,0.8594591827077682,0.861982412765798,0.8629346064904364,0.8624299914917319,0.8627666665925006,0.8623149968118543,0.862636132771533,0.8623664354742552,0.8629512498989496,0.8631834313573206,0.8629128722991641,0.8612118194006779,0.8597634925681448,0.8626165384444183,0.863387037438397,0.8618404979007812,0.8628358432425116,0.8631181941704664,0.862434863880142,0.8634045498526653,0.8633276177578578,0.8617796770685606,0.8626726365103092,0.8633981435108508,0.863429694704909,0.8623307286629798,0.8633183512125921,0.86314569869994,0.8627486297418929,0.8627104617364013,0.8615383300425755,0.8625600141468984],\"type\":\"scatter\",\"xaxis\":\"x10\",\"yaxis\":\"y10\"}],                        {\"template\":{\"data\":{\"histogram2dcontour\":[{\"type\":\"histogram2dcontour\",\"colorbar\":{\"outlinewidth\":0,\"ticks\":\"\"},\"colorscale\":[[0.0,\"#0d0887\"],[0.1111111111111111,\"#46039f\"],[0.2222222222222222,\"#7201a8\"],[0.3333333333333333,\"#9c179e\"],[0.4444444444444444,\"#bd3786\"],[0.5555555555555556,\"#d8576b\"],[0.6666666666666666,\"#ed7953\"],[0.7777777777777778,\"#fb9f3a\"],[0.8888888888888888,\"#fdca26\"],[1.0,\"#f0f921\"]]}],\"choropleth\":[{\"type\":\"choropleth\",\"colorbar\":{\"outlinewidth\":0,\"ticks\":\"\"}}],\"histogram2d\":[{\"type\":\"histogram2d\",\"colorbar\":{\"outlinewidth\":0,\"ticks\":\"\"},\"colorscale\":[[0.0,\"#0d0887\"],[0.1111111111111111,\"#46039f\"],[0.2222222222222222,\"#7201a8\"],[0.3333333333333333,\"#9c179e\"],[0.4444444444444444,\"#bd3786\"],[0.5555555555555556,\"#d8576b\"],[0.6666666666666666,\"#ed7953\"],[0.7777777777777778,\"#fb9f3a\"],[0.8888888888888888,\"#fdca26\"],[1.0,\"#f0f921\"]]}],\"heatmap\":[{\"type\":\"heatmap\",\"colorbar\":{\"outlinewidth\":0,\"ticks\":\"\"},\"colorscale\":[[0.0,\"#0d0887\"],[0.1111111111111111,\"#46039f\"],[0.2222222222222222,\"#7201a8\"],[0.3333333333333333,\"#9c179e\"],[0.4444444444444444,\"#bd3786\"],[0.5555555555555556,\"#d8576b\"],[0.6666666666666666,\"#ed7953\"],[0.7777777777777778,\"#fb9f3a\"],[0.8888888888888888,\"#fdca26\"],[1.0,\"#f0f921\"]]}],\"heatmapgl\":[{\"type\":\"heatmapgl\",\"colorbar\":{\"outlinewidth\":0,\"ticks\":\"\"},\"colorscale\":[[0.0,\"#0d0887\"],[0.1111111111111111,\"#46039f\"],[0.2222222222222222,\"#7201a8\"],[0.3333333333333333,\"#9c179e\"],[0.4444444444444444,\"#bd3786\"],[0.5555555555555556,\"#d8576b\"],[0.6666666666666666,\"#ed7953\"],[0.7777777777777778,\"#fb9f3a\"],[0.8888888888888888,\"#fdca26\"],[1.0,\"#f0f921\"]]}],\"contourcarpet\":[{\"type\":\"contourcarpet\",\"colorbar\":{\"outlinewidth\":0,\"ticks\":\"\"}}],\"contour\":[{\"type\":\"contour\",\"colorbar\":{\"outlinewidth\":0,\"ticks\":\"\"},\"colorscale\":[[0.0,\"#0d0887\"],[0.1111111111111111,\"#46039f\"],[0.2222222222222222,\"#7201a8\"],[0.3333333333333333,\"#9c179e\"],[0.4444444444444444,\"#bd3786\"],[0.5555555555555556,\"#d8576b\"],[0.6666666666666666,\"#ed7953\"],[0.7777777777777778,\"#fb9f3a\"],[0.8888888888888888,\"#fdca26\"],[1.0,\"#f0f921\"]]}],\"surface\":[{\"type\":\"surface\",\"colorbar\":{\"outlinewidth\":0,\"ticks\":\"\"},\"colorscale\":[[0.0,\"#0d0887\"],[0.1111111111111111,\"#46039f\"],[0.2222222222222222,\"#7201a8\"],[0.3333333333333333,\"#9c179e\"],[0.4444444444444444,\"#bd3786\"],[0.5555555555555556,\"#d8576b\"],[0.6666666666666666,\"#ed7953\"],[0.7777777777777778,\"#fb9f3a\"],[0.8888888888888888,\"#fdca26\"],[1.0,\"#f0f921\"]]}],\"mesh3d\":[{\"type\":\"mesh3d\",\"colorbar\":{\"outlinewidth\":0,\"ticks\":\"\"}}],\"scatter\":[{\"fillpattern\":{\"fillmode\":\"overlay\",\"size\":10,\"solidity\":0.2},\"type\":\"scatter\"}],\"parcoords\":[{\"type\":\"parcoords\",\"line\":{\"colorbar\":{\"outlinewidth\":0,\"ticks\":\"\"}}}],\"scatterpolargl\":[{\"type\":\"scatterpolargl\",\"marker\":{\"colorbar\":{\"outlinewidth\":0,\"ticks\":\"\"}}}],\"bar\":[{\"error_x\":{\"color\":\"#2a3f5f\"},\"error_y\":{\"color\":\"#2a3f5f\"},\"marker\":{\"line\":{\"color\":\"#E5ECF6\",\"width\":0.5},\"pattern\":{\"fillmode\":\"overlay\",\"size\":10,\"solidity\":0.2}},\"type\":\"bar\"}],\"scattergeo\":[{\"type\":\"scattergeo\",\"marker\":{\"colorbar\":{\"outlinewidth\":0,\"ticks\":\"\"}}}],\"scatterpolar\":[{\"type\":\"scatterpolar\",\"marker\":{\"colorbar\":{\"outlinewidth\":0,\"ticks\":\"\"}}}],\"histogram\":[{\"marker\":{\"pattern\":{\"fillmode\":\"overlay\",\"size\":10,\"solidity\":0.2}},\"type\":\"histogram\"}],\"scattergl\":[{\"type\":\"scattergl\",\"marker\":{\"colorbar\":{\"outlinewidth\":0,\"ticks\":\"\"}}}],\"scatter3d\":[{\"type\":\"scatter3d\",\"line\":{\"colorbar\":{\"outlinewidth\":0,\"ticks\":\"\"}},\"marker\":{\"colorbar\":{\"outlinewidth\":0,\"ticks\":\"\"}}}],\"scattermapbox\":[{\"type\":\"scattermapbox\",\"marker\":{\"colorbar\":{\"outlinewidth\":0,\"ticks\":\"\"}}}],\"scatterternary\":[{\"type\":\"scatterternary\",\"marker\":{\"colorbar\":{\"outlinewidth\":0,\"ticks\":\"\"}}}],\"scattercarpet\":[{\"type\":\"scattercarpet\",\"marker\":{\"colorbar\":{\"outlinewidth\":0,\"ticks\":\"\"}}}],\"carpet\":[{\"aaxis\":{\"endlinecolor\":\"#2a3f5f\",\"gridcolor\":\"white\",\"linecolor\":\"white\",\"minorgridcolor\":\"white\",\"startlinecolor\":\"#2a3f5f\"},\"baxis\":{\"endlinecolor\":\"#2a3f5f\",\"gridcolor\":\"white\",\"linecolor\":\"white\",\"minorgridcolor\":\"white\",\"startlinecolor\":\"#2a3f5f\"},\"type\":\"carpet\"}],\"table\":[{\"cells\":{\"fill\":{\"color\":\"#EBF0F8\"},\"line\":{\"color\":\"white\"}},\"header\":{\"fill\":{\"color\":\"#C8D4E3\"},\"line\":{\"color\":\"white\"}},\"type\":\"table\"}],\"barpolar\":[{\"marker\":{\"line\":{\"color\":\"#E5ECF6\",\"width\":0.5},\"pattern\":{\"fillmode\":\"overlay\",\"size\":10,\"solidity\":0.2}},\"type\":\"barpolar\"}],\"pie\":[{\"automargin\":true,\"type\":\"pie\"}]},\"layout\":{\"autotypenumbers\":\"strict\",\"colorway\":[\"#636efa\",\"#EF553B\",\"#00cc96\",\"#ab63fa\",\"#FFA15A\",\"#19d3f3\",\"#FF6692\",\"#B6E880\",\"#FF97FF\",\"#FECB52\"],\"font\":{\"color\":\"#2a3f5f\"},\"hovermode\":\"closest\",\"hoverlabel\":{\"align\":\"left\"},\"paper_bgcolor\":\"white\",\"plot_bgcolor\":\"#E5ECF6\",\"polar\":{\"bgcolor\":\"#E5ECF6\",\"angularaxis\":{\"gridcolor\":\"white\",\"linecolor\":\"white\",\"ticks\":\"\"},\"radialaxis\":{\"gridcolor\":\"white\",\"linecolor\":\"white\",\"ticks\":\"\"}},\"ternary\":{\"bgcolor\":\"#E5ECF6\",\"aaxis\":{\"gridcolor\":\"white\",\"linecolor\":\"white\",\"ticks\":\"\"},\"baxis\":{\"gridcolor\":\"white\",\"linecolor\":\"white\",\"ticks\":\"\"},\"caxis\":{\"gridcolor\":\"white\",\"linecolor\":\"white\",\"ticks\":\"\"}},\"coloraxis\":{\"colorbar\":{\"outlinewidth\":0,\"ticks\":\"\"}},\"colorscale\":{\"sequential\":[[0.0,\"#0d0887\"],[0.1111111111111111,\"#46039f\"],[0.2222222222222222,\"#7201a8\"],[0.3333333333333333,\"#9c179e\"],[0.4444444444444444,\"#bd3786\"],[0.5555555555555556,\"#d8576b\"],[0.6666666666666666,\"#ed7953\"],[0.7777777777777778,\"#fb9f3a\"],[0.8888888888888888,\"#fdca26\"],[1.0,\"#f0f921\"]],\"sequentialminus\":[[0.0,\"#0d0887\"],[0.1111111111111111,\"#46039f\"],[0.2222222222222222,\"#7201a8\"],[0.3333333333333333,\"#9c179e\"],[0.4444444444444444,\"#bd3786\"],[0.5555555555555556,\"#d8576b\"],[0.6666666666666666,\"#ed7953\"],[0.7777777777777778,\"#fb9f3a\"],[0.8888888888888888,\"#fdca26\"],[1.0,\"#f0f921\"]],\"diverging\":[[0,\"#8e0152\"],[0.1,\"#c51b7d\"],[0.2,\"#de77ae\"],[0.3,\"#f1b6da\"],[0.4,\"#fde0ef\"],[0.5,\"#f7f7f7\"],[0.6,\"#e6f5d0\"],[0.7,\"#b8e186\"],[0.8,\"#7fbc41\"],[0.9,\"#4d9221\"],[1,\"#276419\"]]},\"xaxis\":{\"gridcolor\":\"white\",\"linecolor\":\"white\",\"ticks\":\"\",\"title\":{\"standoff\":15},\"zerolinecolor\":\"white\",\"automargin\":true,\"zerolinewidth\":2},\"yaxis\":{\"gridcolor\":\"white\",\"linecolor\":\"white\",\"ticks\":\"\",\"title\":{\"standoff\":15},\"zerolinecolor\":\"white\",\"automargin\":true,\"zerolinewidth\":2},\"scene\":{\"xaxis\":{\"backgroundcolor\":\"#E5ECF6\",\"gridcolor\":\"white\",\"linecolor\":\"white\",\"showbackground\":true,\"ticks\":\"\",\"zerolinecolor\":\"white\",\"gridwidth\":2},\"yaxis\":{\"backgroundcolor\":\"#E5ECF6\",\"gridcolor\":\"white\",\"linecolor\":\"white\",\"showbackground\":true,\"ticks\":\"\",\"zerolinecolor\":\"white\",\"gridwidth\":2},\"zaxis\":{\"backgroundcolor\":\"#E5ECF6\",\"gridcolor\":\"white\",\"linecolor\":\"white\",\"showbackground\":true,\"ticks\":\"\",\"zerolinecolor\":\"white\",\"gridwidth\":2}},\"shapedefaults\":{\"line\":{\"color\":\"#2a3f5f\"}},\"annotationdefaults\":{\"arrowcolor\":\"#2a3f5f\",\"arrowhead\":0,\"arrowwidth\":1},\"geo\":{\"bgcolor\":\"white\",\"landcolor\":\"#E5ECF6\",\"subunitcolor\":\"white\",\"showland\":true,\"showlakes\":true,\"lakecolor\":\"white\"},\"title\":{\"x\":0.05},\"mapbox\":{\"style\":\"light\"}}},\"xaxis\":{\"anchor\":\"y\",\"domain\":[0.0,0.082],\"title\":{\"text\":\"bagging_fraction\"}},\"yaxis\":{\"anchor\":\"x\",\"domain\":[0.0,1.0],\"title\":{\"text\":\"Objective Value\"}},\"xaxis2\":{\"anchor\":\"y2\",\"domain\":[0.10200000000000001,0.184],\"title\":{\"text\":\"feature_fraction \"}},\"yaxis2\":{\"anchor\":\"x2\",\"domain\":[0.0,1.0],\"matches\":\"y\",\"showticklabels\":false},\"xaxis3\":{\"anchor\":\"y3\",\"domain\":[0.20400000000000001,0.28600000000000003],\"title\":{\"text\":\"lambda_l1 \"}},\"yaxis3\":{\"anchor\":\"x3\",\"domain\":[0.0,1.0],\"matches\":\"y\",\"showticklabels\":false},\"xaxis4\":{\"anchor\":\"y4\",\"domain\":[0.306,0.388],\"title\":{\"text\":\"lambda_l2 \"}},\"yaxis4\":{\"anchor\":\"x4\",\"domain\":[0.0,1.0],\"matches\":\"y\",\"showticklabels\":false},\"xaxis5\":{\"anchor\":\"y5\",\"domain\":[0.40800000000000003,0.49000000000000005],\"title\":{\"text\":\"learning_rate\"}},\"yaxis5\":{\"anchor\":\"x5\",\"domain\":[0.0,1.0],\"matches\":\"y\",\"showticklabels\":false},\"xaxis6\":{\"anchor\":\"y6\",\"domain\":[0.51,0.592],\"title\":{\"text\":\"max_bin\"}},\"yaxis6\":{\"anchor\":\"x6\",\"domain\":[0.0,1.0],\"matches\":\"y\",\"showticklabels\":false},\"xaxis7\":{\"anchor\":\"y7\",\"domain\":[0.6120000000000001,0.6940000000000001],\"title\":{\"text\":\"max_depth\"}},\"yaxis7\":{\"anchor\":\"x7\",\"domain\":[0.0,1.0],\"matches\":\"y\",\"showticklabels\":false},\"xaxis8\":{\"anchor\":\"y8\",\"domain\":[0.7140000000000001,0.796],\"title\":{\"text\":\"n_estimators\"}},\"yaxis8\":{\"anchor\":\"x8\",\"domain\":[0.0,1.0],\"matches\":\"y\",\"showticklabels\":false},\"xaxis9\":{\"anchor\":\"y9\",\"domain\":[0.8160000000000001,0.898],\"title\":{\"text\":\"num_leaves\"}},\"yaxis9\":{\"anchor\":\"x9\",\"domain\":[0.0,1.0],\"matches\":\"y\",\"showticklabels\":false},\"xaxis10\":{\"anchor\":\"y10\",\"domain\":[0.9179999999999999,0.9999999999999999],\"title\":{\"text\":\"random_state\"}},\"yaxis10\":{\"anchor\":\"x10\",\"domain\":[0.0,1.0],\"matches\":\"y\",\"showticklabels\":false},\"title\":{\"text\":\"Slice Plot\"},\"width\":3000},                        {\"responsive\": true}                    ).then(function(){\n",
       "                            \n",
       "var gd = document.getElementById('3289fe2e-f9a0-4407-b2a8-1685c49b6b16');\n",
       "var x = new MutationObserver(function (mutations, observer) {{\n",
       "        var display = window.getComputedStyle(gd).display;\n",
       "        if (!display || display === 'none') {{\n",
       "            console.log([gd, 'removed!']);\n",
       "            Plotly.purge(gd);\n",
       "            observer.disconnect();\n",
       "        }}\n",
       "}});\n",
       "\n",
       "// Listen for the removal of the full notebook cells\n",
       "var notebookContainer = gd.closest('#notebook-container');\n",
       "if (notebookContainer) {{\n",
       "    x.observe(notebookContainer, {childList: true});\n",
       "}}\n",
       "\n",
       "// Listen for the clearing of the current output cell\n",
       "var outputEl = gd.closest('.output');\n",
       "if (outputEl) {{\n",
       "    x.observe(outputEl, {childList: true});\n",
       "}}\n",
       "\n",
       "                        })                };                });            </script>        </div>"
      ]
     },
     "metadata": {},
     "output_type": "display_data"
    }
   ],
   "source": [
    "optuna.visualization.plot_optimization_history(study)"
   ]
  },
  {
   "cell_type": "code",
   "execution_count": 286,
   "id": "RrfURahBjeY8",
   "metadata": {
    "colab": {
     "base_uri": "https://localhost:8080/",
     "height": 562
    },
    "id": "RrfURahBjeY8",
    "outputId": "46413551-79cd-4d56-c397-5a87ec4cac1e"
   },
   "outputs": [
    {
     "data": {
      "application/vnd.plotly.v1+json": {
       "config": {
        "plotlyServerURL": "https://plot.ly"
       },
       "data": [
        {
         "marker": {
          "color": [
           0,
           1,
           2,
           3,
           4,
           5,
           6,
           7,
           8,
           9,
           10,
           11,
           12,
           13,
           14,
           15,
           16,
           17,
           18,
           19,
           20,
           21,
           22,
           23,
           24,
           25,
           26,
           27,
           28,
           29,
           30,
           31,
           32,
           33,
           34,
           35,
           36,
           37,
           38,
           39,
           40,
           41,
           42,
           43,
           44,
           45,
           46,
           47,
           48,
           49,
           50,
           51,
           52,
           53,
           54,
           55,
           56,
           57,
           58,
           59,
           60,
           61,
           62,
           63,
           64,
           65,
           66,
           67,
           68,
           69,
           70,
           71,
           72,
           73,
           74,
           75,
           76,
           77,
           78,
           79,
           80,
           81,
           82,
           83,
           84,
           85,
           86,
           87,
           88,
           89,
           90,
           91,
           92,
           93,
           94,
           95,
           96,
           97,
           98,
           99
          ],
          "colorbar": {
           "title": {
            "text": "Trial"
           },
           "x": 1,
           "xpad": 40
          },
          "colorscale": [
           [
            0,
            "rgb(247,251,255)"
           ],
           [
            0.125,
            "rgb(222,235,247)"
           ],
           [
            0.25,
            "rgb(198,219,239)"
           ],
           [
            0.375,
            "rgb(158,202,225)"
           ],
           [
            0.5,
            "rgb(107,174,214)"
           ],
           [
            0.625,
            "rgb(66,146,198)"
           ],
           [
            0.75,
            "rgb(33,113,181)"
           ],
           [
            0.875,
            "rgb(8,81,156)"
           ],
           [
            1,
            "rgb(8,48,107)"
           ]
          ],
          "line": {
           "color": "Grey",
           "width": 0.5
          },
          "showscale": true
         },
         "mode": "markers",
         "showlegend": false,
         "type": "scatter",
         "x": [
          0.5,
          0.9,
          0.30000000000000004,
          0.5,
          0.2,
          0.2,
          1,
          0.7000000000000001,
          0.6,
          1,
          0.4,
          0.7000000000000001,
          0.7000000000000001,
          0.8,
          0.7000000000000001,
          0.8,
          0.8,
          0.9,
          0.6,
          0.8,
          0.4,
          0.4,
          0.1,
          0.4,
          0.6,
          0.9,
          0.5,
          0.7000000000000001,
          0.30000000000000004,
          0.6,
          0.8,
          0.6,
          0.5,
          0.7000000000000001,
          0.9,
          0.30000000000000004,
          0.4,
          0.5,
          0.6,
          0.8,
          0.2,
          0.30000000000000004,
          0.30000000000000004,
          0.2,
          0.30000000000000004,
          0.4,
          0.5,
          0.1,
          1,
          0.7000000000000001,
          0.6,
          0.6,
          0.7000000000000001,
          0.7000000000000001,
          0.7000000000000001,
          0.6,
          0.8,
          0.7000000000000001,
          0.9,
          0.8,
          0.6,
          0.5,
          0.2,
          0.6,
          0.2,
          0.7000000000000001,
          0.4,
          0.8,
          0.1,
          0.6,
          0.5,
          0.6,
          0.7000000000000001,
          0.6,
          0.7000000000000001,
          0.5,
          0.8,
          0.9,
          1,
          0.9,
          0.9,
          0.6,
          0.8,
          0.8,
          0.8,
          0.7000000000000001,
          0.9,
          1,
          1,
          1,
          1,
          1,
          1,
          1,
          1,
          1,
          1,
          1,
          0.9,
          1
         ],
         "xaxis": "x",
         "y": [
          0.8628034145799468,
          0.8626620811304562,
          0.8617556706477808,
          0.8614508188426966,
          0.8626559982622586,
          0.8620289071884505,
          0.8606343224641227,
          0.8593327619747256,
          0.862046528188684,
          0.8605483170563557,
          0.8603139216665914,
          0.8630741519722227,
          0.8628264382593578,
          0.8615093396962171,
          0.8584555973239493,
          0.8633010888607797,
          0.8621227503683409,
          0.8568691225407015,
          0.8615239356546521,
          0.8622680987169226,
          0.8631053169586307,
          0.8621131126035644,
          0.8615764080029109,
          0.8626817053518548,
          0.8607434618777257,
          0.8624410028259243,
          0.8613527607565328,
          0.8611380902634318,
          0.861976350857533,
          0.8629754235060826,
          0.8606628440037725,
          0.8629334709636783,
          0.8619785597068603,
          0.8627441675011364,
          0.8620923645650149,
          0.8629402665703632,
          0.8623728055288457,
          0.861917258203108,
          0.8617214389503001,
          0.86216020199393,
          0.8609184932512098,
          0.8628575284673176,
          0.8625086139197645,
          0.8623148103150472,
          0.8622768174523412,
          0.8618463587167081,
          0.8613780705594511,
          0.8620921589071363,
          0.856742337031753,
          0.8618203361772393,
          0.8631082519735214,
          0.8623045936863104,
          0.8630034752843789,
          0.8623631539257144,
          0.8619357998661201,
          0.8600665885808485,
          0.8626453930075382,
          0.8620239958793092,
          0.8620096516058225,
          0.8623611373485728,
          0.8601416349617692,
          0.862491796420233,
          0.863115604431977,
          0.8630363234292057,
          0.8625433386652533,
          0.8625367372589027,
          0.8625662724210679,
          0.8616640990446163,
          0.8594591827077682,
          0.861982412765798,
          0.8629346064904364,
          0.8624299914917319,
          0.8627666665925006,
          0.8623149968118543,
          0.862636132771533,
          0.8623664354742552,
          0.8629512498989496,
          0.8631834313573206,
          0.8629128722991641,
          0.8612118194006779,
          0.8597634925681448,
          0.8626165384444183,
          0.863387037438397,
          0.8618404979007812,
          0.8628358432425116,
          0.8631181941704664,
          0.862434863880142,
          0.8634045498526653,
          0.8633276177578578,
          0.8617796770685606,
          0.8626726365103092,
          0.8633981435108508,
          0.863429694704909,
          0.8623307286629798,
          0.8633183512125921,
          0.86314569869994,
          0.8627486297418929,
          0.8627104617364013,
          0.8615383300425755,
          0.8625600141468984
         ],
         "yaxis": "y"
        },
        {
         "marker": {
          "color": [
           0,
           1,
           2,
           3,
           4,
           5,
           6,
           7,
           8,
           9,
           10,
           11,
           12,
           13,
           14,
           15,
           16,
           17,
           18,
           19,
           20,
           21,
           22,
           23,
           24,
           25,
           26,
           27,
           28,
           29,
           30,
           31,
           32,
           33,
           34,
           35,
           36,
           37,
           38,
           39,
           40,
           41,
           42,
           43,
           44,
           45,
           46,
           47,
           48,
           49,
           50,
           51,
           52,
           53,
           54,
           55,
           56,
           57,
           58,
           59,
           60,
           61,
           62,
           63,
           64,
           65,
           66,
           67,
           68,
           69,
           70,
           71,
           72,
           73,
           74,
           75,
           76,
           77,
           78,
           79,
           80,
           81,
           82,
           83,
           84,
           85,
           86,
           87,
           88,
           89,
           90,
           91,
           92,
           93,
           94,
           95,
           96,
           97,
           98,
           99
          ],
          "colorbar": {
           "title": {
            "text": "Trial"
           },
           "x": 1,
           "xpad": 40
          },
          "colorscale": [
           [
            0,
            "rgb(247,251,255)"
           ],
           [
            0.125,
            "rgb(222,235,247)"
           ],
           [
            0.25,
            "rgb(198,219,239)"
           ],
           [
            0.375,
            "rgb(158,202,225)"
           ],
           [
            0.5,
            "rgb(107,174,214)"
           ],
           [
            0.625,
            "rgb(66,146,198)"
           ],
           [
            0.75,
            "rgb(33,113,181)"
           ],
           [
            0.875,
            "rgb(8,81,156)"
           ],
           [
            1,
            "rgb(8,48,107)"
           ]
          ],
          "line": {
           "color": "Grey",
           "width": 0.5
          },
          "showscale": false
         },
         "mode": "markers",
         "showlegend": false,
         "type": "scatter",
         "x": [
          0.30000000000000004,
          0.4,
          0.8,
          0.30000000000000004,
          0.30000000000000004,
          0.30000000000000004,
          0.2,
          0.9,
          0.6,
          1,
          0.1,
          0.5,
          0.6,
          0.6,
          0.7000000000000001,
          0.5,
          0.5,
          0.5,
          0.7000000000000001,
          0.4,
          0.8,
          0.8,
          0.7000000000000001,
          0.5,
          1,
          0.4,
          0.8,
          0.9,
          0.5,
          0.4,
          0.7000000000000001,
          0.4,
          0.2,
          0.4,
          0.6,
          0.5,
          0.30000000000000004,
          0.4,
          0.2,
          0.30000000000000004,
          0.8,
          0.5,
          0.5,
          0.6,
          0.4,
          0.6,
          0.9,
          0.30000000000000004,
          0.5,
          0.6,
          0.7000000000000001,
          0.7000000000000001,
          0.4,
          0.4,
          0.7000000000000001,
          0.9,
          0.8,
          0.2,
          0.1,
          0.6,
          0.4,
          0.5,
          0.5,
          0.5,
          0.5,
          0.6,
          0.5,
          0.8,
          0.6,
          0.7000000000000001,
          0.5,
          0.4,
          0.4,
          0.4,
          0.30000000000000004,
          0.5,
          0.5,
          0.30000000000000004,
          0.30000000000000004,
          0.9,
          1,
          0.4,
          0.30000000000000004,
          0.2,
          0.30000000000000004,
          0.30000000000000004,
          0.2,
          0.30000000000000004,
          0.30000000000000004,
          0.2,
          0.30000000000000004,
          0.30000000000000004,
          0.30000000000000004,
          0.30000000000000004,
          0.30000000000000004,
          0.30000000000000004,
          0.30000000000000004,
          0.30000000000000004,
          0.2,
          0.30000000000000004
         ],
         "xaxis": "x2",
         "y": [
          0.8628034145799468,
          0.8626620811304562,
          0.8617556706477808,
          0.8614508188426966,
          0.8626559982622586,
          0.8620289071884505,
          0.8606343224641227,
          0.8593327619747256,
          0.862046528188684,
          0.8605483170563557,
          0.8603139216665914,
          0.8630741519722227,
          0.8628264382593578,
          0.8615093396962171,
          0.8584555973239493,
          0.8633010888607797,
          0.8621227503683409,
          0.8568691225407015,
          0.8615239356546521,
          0.8622680987169226,
          0.8631053169586307,
          0.8621131126035644,
          0.8615764080029109,
          0.8626817053518548,
          0.8607434618777257,
          0.8624410028259243,
          0.8613527607565328,
          0.8611380902634318,
          0.861976350857533,
          0.8629754235060826,
          0.8606628440037725,
          0.8629334709636783,
          0.8619785597068603,
          0.8627441675011364,
          0.8620923645650149,
          0.8629402665703632,
          0.8623728055288457,
          0.861917258203108,
          0.8617214389503001,
          0.86216020199393,
          0.8609184932512098,
          0.8628575284673176,
          0.8625086139197645,
          0.8623148103150472,
          0.8622768174523412,
          0.8618463587167081,
          0.8613780705594511,
          0.8620921589071363,
          0.856742337031753,
          0.8618203361772393,
          0.8631082519735214,
          0.8623045936863104,
          0.8630034752843789,
          0.8623631539257144,
          0.8619357998661201,
          0.8600665885808485,
          0.8626453930075382,
          0.8620239958793092,
          0.8620096516058225,
          0.8623611373485728,
          0.8601416349617692,
          0.862491796420233,
          0.863115604431977,
          0.8630363234292057,
          0.8625433386652533,
          0.8625367372589027,
          0.8625662724210679,
          0.8616640990446163,
          0.8594591827077682,
          0.861982412765798,
          0.8629346064904364,
          0.8624299914917319,
          0.8627666665925006,
          0.8623149968118543,
          0.862636132771533,
          0.8623664354742552,
          0.8629512498989496,
          0.8631834313573206,
          0.8629128722991641,
          0.8612118194006779,
          0.8597634925681448,
          0.8626165384444183,
          0.863387037438397,
          0.8618404979007812,
          0.8628358432425116,
          0.8631181941704664,
          0.862434863880142,
          0.8634045498526653,
          0.8633276177578578,
          0.8617796770685606,
          0.8626726365103092,
          0.8633981435108508,
          0.863429694704909,
          0.8623307286629798,
          0.8633183512125921,
          0.86314569869994,
          0.8627486297418929,
          0.8627104617364013,
          0.8615383300425755,
          0.8625600141468984
         ],
         "yaxis": "y2"
        },
        {
         "marker": {
          "color": [
           0,
           1,
           2,
           3,
           4,
           5,
           6,
           7,
           8,
           9,
           10,
           11,
           12,
           13,
           14,
           15,
           16,
           17,
           18,
           19,
           20,
           21,
           22,
           23,
           24,
           25,
           26,
           27,
           28,
           29,
           30,
           31,
           32,
           33,
           34,
           35,
           36,
           37,
           38,
           39,
           40,
           41,
           42,
           43,
           44,
           45,
           46,
           47,
           48,
           49,
           50,
           51,
           52,
           53,
           54,
           55,
           56,
           57,
           58,
           59,
           60,
           61,
           62,
           63,
           64,
           65,
           66,
           67,
           68,
           69,
           70,
           71,
           72,
           73,
           74,
           75,
           76,
           77,
           78,
           79,
           80,
           81,
           82,
           83,
           84,
           85,
           86,
           87,
           88,
           89,
           90,
           91,
           92,
           93,
           94,
           95,
           96,
           97,
           98,
           99
          ],
          "colorbar": {
           "title": {
            "text": "Trial"
           },
           "x": 1,
           "xpad": 40
          },
          "colorscale": [
           [
            0,
            "rgb(247,251,255)"
           ],
           [
            0.125,
            "rgb(222,235,247)"
           ],
           [
            0.25,
            "rgb(198,219,239)"
           ],
           [
            0.375,
            "rgb(158,202,225)"
           ],
           [
            0.5,
            "rgb(107,174,214)"
           ],
           [
            0.625,
            "rgb(66,146,198)"
           ],
           [
            0.75,
            "rgb(33,113,181)"
           ],
           [
            0.875,
            "rgb(8,81,156)"
           ],
           [
            1,
            "rgb(8,48,107)"
           ]
          ],
          "line": {
           "color": "Grey",
           "width": 0.5
          },
          "showscale": false
         },
         "mode": "markers",
         "showlegend": false,
         "type": "scatter",
         "x": [
          5.01,
          5.22,
          5.58,
          8.99,
          7.24,
          5.37,
          9.21,
          1.37,
          9.81,
          3.12,
          2.87,
          4.16,
          3.41,
          2.7800000000000002,
          0.41000000000000003,
          4,
          7.08,
          4.0600000000000005,
          1.94,
          7.2,
          4.25,
          3.98,
          5.95,
          4.25,
          6.4,
          2.04,
          4.51,
          3.5300000000000002,
          2.2600000000000002,
          4.72,
          1.27,
          4.74,
          5.08,
          6.0600000000000005,
          5.07,
          3.8200000000000003,
          6.58,
          8.22,
          5.53,
          4.64,
          2.5500000000000003,
          3.7600000000000002,
          3.2800000000000002,
          4.34,
          3.64,
          5.53,
          2.97,
          4.69,
          3.85,
          5.19,
          3.18,
          3.19,
          2.48,
          2.48,
          1.62,
          0.38,
          1.11,
          2.75,
          4.3100000000000005,
          3.2600000000000002,
          4.1,
          4.04,
          3.49,
          3.5300000000000002,
          1.96,
          3.39,
          2.88,
          2.36,
          0.76,
          3.58,
          1.7,
          4.96,
          4.49,
          2.7,
          3.08,
          4.87,
          4.18,
          2.19,
          2.19,
          3.66,
          1.72,
          5.83,
          3.42,
          3.46,
          3.0700000000000003,
          3.85,
          3.9,
          4.48,
          4.46,
          3.88,
          4.48,
          4.3,
          5.32,
          5.3100000000000005,
          4.8,
          4.82,
          5.65,
          6.23,
          4.89,
          5.34
         ],
         "xaxis": "x3",
         "y": [
          0.8628034145799468,
          0.8626620811304562,
          0.8617556706477808,
          0.8614508188426966,
          0.8626559982622586,
          0.8620289071884505,
          0.8606343224641227,
          0.8593327619747256,
          0.862046528188684,
          0.8605483170563557,
          0.8603139216665914,
          0.8630741519722227,
          0.8628264382593578,
          0.8615093396962171,
          0.8584555973239493,
          0.8633010888607797,
          0.8621227503683409,
          0.8568691225407015,
          0.8615239356546521,
          0.8622680987169226,
          0.8631053169586307,
          0.8621131126035644,
          0.8615764080029109,
          0.8626817053518548,
          0.8607434618777257,
          0.8624410028259243,
          0.8613527607565328,
          0.8611380902634318,
          0.861976350857533,
          0.8629754235060826,
          0.8606628440037725,
          0.8629334709636783,
          0.8619785597068603,
          0.8627441675011364,
          0.8620923645650149,
          0.8629402665703632,
          0.8623728055288457,
          0.861917258203108,
          0.8617214389503001,
          0.86216020199393,
          0.8609184932512098,
          0.8628575284673176,
          0.8625086139197645,
          0.8623148103150472,
          0.8622768174523412,
          0.8618463587167081,
          0.8613780705594511,
          0.8620921589071363,
          0.856742337031753,
          0.8618203361772393,
          0.8631082519735214,
          0.8623045936863104,
          0.8630034752843789,
          0.8623631539257144,
          0.8619357998661201,
          0.8600665885808485,
          0.8626453930075382,
          0.8620239958793092,
          0.8620096516058225,
          0.8623611373485728,
          0.8601416349617692,
          0.862491796420233,
          0.863115604431977,
          0.8630363234292057,
          0.8625433386652533,
          0.8625367372589027,
          0.8625662724210679,
          0.8616640990446163,
          0.8594591827077682,
          0.861982412765798,
          0.8629346064904364,
          0.8624299914917319,
          0.8627666665925006,
          0.8623149968118543,
          0.862636132771533,
          0.8623664354742552,
          0.8629512498989496,
          0.8631834313573206,
          0.8629128722991641,
          0.8612118194006779,
          0.8597634925681448,
          0.8626165384444183,
          0.863387037438397,
          0.8618404979007812,
          0.8628358432425116,
          0.8631181941704664,
          0.862434863880142,
          0.8634045498526653,
          0.8633276177578578,
          0.8617796770685606,
          0.8626726365103092,
          0.8633981435108508,
          0.863429694704909,
          0.8623307286629798,
          0.8633183512125921,
          0.86314569869994,
          0.8627486297418929,
          0.8627104617364013,
          0.8615383300425755,
          0.8625600141468984
         ],
         "yaxis": "y3"
        },
        {
         "marker": {
          "color": [
           0,
           1,
           2,
           3,
           4,
           5,
           6,
           7,
           8,
           9,
           10,
           11,
           12,
           13,
           14,
           15,
           16,
           17,
           18,
           19,
           20,
           21,
           22,
           23,
           24,
           25,
           26,
           27,
           28,
           29,
           30,
           31,
           32,
           33,
           34,
           35,
           36,
           37,
           38,
           39,
           40,
           41,
           42,
           43,
           44,
           45,
           46,
           47,
           48,
           49,
           50,
           51,
           52,
           53,
           54,
           55,
           56,
           57,
           58,
           59,
           60,
           61,
           62,
           63,
           64,
           65,
           66,
           67,
           68,
           69,
           70,
           71,
           72,
           73,
           74,
           75,
           76,
           77,
           78,
           79,
           80,
           81,
           82,
           83,
           84,
           85,
           86,
           87,
           88,
           89,
           90,
           91,
           92,
           93,
           94,
           95,
           96,
           97,
           98,
           99
          ],
          "colorbar": {
           "title": {
            "text": "Trial"
           },
           "x": 1,
           "xpad": 40
          },
          "colorscale": [
           [
            0,
            "rgb(247,251,255)"
           ],
           [
            0.125,
            "rgb(222,235,247)"
           ],
           [
            0.25,
            "rgb(198,219,239)"
           ],
           [
            0.375,
            "rgb(158,202,225)"
           ],
           [
            0.5,
            "rgb(107,174,214)"
           ],
           [
            0.625,
            "rgb(66,146,198)"
           ],
           [
            0.75,
            "rgb(33,113,181)"
           ],
           [
            0.875,
            "rgb(8,81,156)"
           ],
           [
            1,
            "rgb(8,48,107)"
           ]
          ],
          "line": {
           "color": "Grey",
           "width": 0.5
          },
          "showscale": false
         },
         "mode": "markers",
         "showlegend": false,
         "type": "scatter",
         "x": [
          1.7,
          4.36,
          8.03,
          4.62,
          1.78,
          5.29,
          2.49,
          4.22,
          0.06,
          1.9000000000000001,
          9.950000000000001,
          6.74,
          7.24,
          6.97,
          7.0600000000000005,
          9.02,
          10,
          8.74,
          6.13,
          8.36,
          9.21,
          8.98,
          9.28,
          7.79,
          6.17,
          5.87,
          7.87,
          9.43,
          3.2800000000000002,
          8.64,
          6.68,
          8.56,
          7.7,
          9.38,
          8.24,
          8.97,
          7.47,
          5.55,
          6.51,
          4.55,
          9.66,
          8.97,
          8.28,
          8.78,
          9.18,
          8.02,
          9.77,
          4.96,
          7.21,
          0.02,
          8.73,
          8.72,
          9.51,
          9.53,
          0.74,
          4,
          9.99,
          7.640000000000001,
          8.42,
          8.040000000000001,
          9.14,
          8.92,
          9.57,
          9.58,
          9.66,
          9.4,
          9.92,
          9.5,
          8.42,
          9.26,
          6.72,
          9.09,
          8.61,
          8.71,
          8.120000000000001,
          7.4,
          9.72,
          9.22,
          9.28,
          9.99,
          8.870000000000001,
          9.58,
          8.5,
          8.44,
          9.14,
          7.96,
          7.8100000000000005,
          7.01,
          6.28,
          7.41,
          6.95,
          6.13,
          6.25,
          6.24,
          5.39,
          5.75,
          5.61,
          5.19,
          5.87,
          6.390000000000001
         ],
         "xaxis": "x4",
         "y": [
          0.8628034145799468,
          0.8626620811304562,
          0.8617556706477808,
          0.8614508188426966,
          0.8626559982622586,
          0.8620289071884505,
          0.8606343224641227,
          0.8593327619747256,
          0.862046528188684,
          0.8605483170563557,
          0.8603139216665914,
          0.8630741519722227,
          0.8628264382593578,
          0.8615093396962171,
          0.8584555973239493,
          0.8633010888607797,
          0.8621227503683409,
          0.8568691225407015,
          0.8615239356546521,
          0.8622680987169226,
          0.8631053169586307,
          0.8621131126035644,
          0.8615764080029109,
          0.8626817053518548,
          0.8607434618777257,
          0.8624410028259243,
          0.8613527607565328,
          0.8611380902634318,
          0.861976350857533,
          0.8629754235060826,
          0.8606628440037725,
          0.8629334709636783,
          0.8619785597068603,
          0.8627441675011364,
          0.8620923645650149,
          0.8629402665703632,
          0.8623728055288457,
          0.861917258203108,
          0.8617214389503001,
          0.86216020199393,
          0.8609184932512098,
          0.8628575284673176,
          0.8625086139197645,
          0.8623148103150472,
          0.8622768174523412,
          0.8618463587167081,
          0.8613780705594511,
          0.8620921589071363,
          0.856742337031753,
          0.8618203361772393,
          0.8631082519735214,
          0.8623045936863104,
          0.8630034752843789,
          0.8623631539257144,
          0.8619357998661201,
          0.8600665885808485,
          0.8626453930075382,
          0.8620239958793092,
          0.8620096516058225,
          0.8623611373485728,
          0.8601416349617692,
          0.862491796420233,
          0.863115604431977,
          0.8630363234292057,
          0.8625433386652533,
          0.8625367372589027,
          0.8625662724210679,
          0.8616640990446163,
          0.8594591827077682,
          0.861982412765798,
          0.8629346064904364,
          0.8624299914917319,
          0.8627666665925006,
          0.8623149968118543,
          0.862636132771533,
          0.8623664354742552,
          0.8629512498989496,
          0.8631834313573206,
          0.8629128722991641,
          0.8612118194006779,
          0.8597634925681448,
          0.8626165384444183,
          0.863387037438397,
          0.8618404979007812,
          0.8628358432425116,
          0.8631181941704664,
          0.862434863880142,
          0.8634045498526653,
          0.8633276177578578,
          0.8617796770685606,
          0.8626726365103092,
          0.8633981435108508,
          0.863429694704909,
          0.8623307286629798,
          0.8633183512125921,
          0.86314569869994,
          0.8627486297418929,
          0.8627104617364013,
          0.8615383300425755,
          0.8625600141468984
         ],
         "yaxis": "y4"
        },
        {
         "marker": {
          "color": [
           0,
           1,
           2,
           3,
           4,
           5,
           6,
           7,
           8,
           9,
           10,
           11,
           12,
           13,
           14,
           15,
           16,
           17,
           18,
           19,
           20,
           21,
           22,
           23,
           24,
           25,
           26,
           27,
           28,
           29,
           30,
           31,
           32,
           33,
           34,
           35,
           36,
           37,
           38,
           39,
           40,
           41,
           42,
           43,
           44,
           45,
           46,
           47,
           48,
           49,
           50,
           51,
           52,
           53,
           54,
           55,
           56,
           57,
           58,
           59,
           60,
           61,
           62,
           63,
           64,
           65,
           66,
           67,
           68,
           69,
           70,
           71,
           72,
           73,
           74,
           75,
           76,
           77,
           78,
           79,
           80,
           81,
           82,
           83,
           84,
           85,
           86,
           87,
           88,
           89,
           90,
           91,
           92,
           93,
           94,
           95,
           96,
           97,
           98,
           99
          ],
          "colorbar": {
           "title": {
            "text": "Trial"
           },
           "x": 1,
           "xpad": 40
          },
          "colorscale": [
           [
            0,
            "rgb(247,251,255)"
           ],
           [
            0.125,
            "rgb(222,235,247)"
           ],
           [
            0.25,
            "rgb(198,219,239)"
           ],
           [
            0.375,
            "rgb(158,202,225)"
           ],
           [
            0.5,
            "rgb(107,174,214)"
           ],
           [
            0.625,
            "rgb(66,146,198)"
           ],
           [
            0.75,
            "rgb(33,113,181)"
           ],
           [
            0.875,
            "rgb(8,81,156)"
           ],
           [
            1,
            "rgb(8,48,107)"
           ]
          ],
          "line": {
           "color": "Grey",
           "width": 0.5
          },
          "showscale": false
         },
         "mode": "markers",
         "showlegend": false,
         "type": "scatter",
         "x": [
          0.046900000000000004,
          0.0345,
          0.0171,
          0.0198,
          0.0434,
          0.0826,
          0.0279,
          0.04,
          0.027700000000000002,
          0.050800000000000005,
          0.07050000000000001,
          0.062400000000000004,
          0.0625,
          0.06480000000000001,
          0.0993,
          0.063,
          0.0823,
          0.0045000000000000005,
          0.057300000000000004,
          0.0767,
          0.0947,
          0.0969,
          0.0883,
          0.0723,
          0.0548,
          0.0896,
          0.0616,
          0.06820000000000001,
          0.0781,
          0.0487,
          0.09390000000000001,
          0.0482,
          0.0364,
          0.0522,
          0.058800000000000005,
          0.045500000000000006,
          0.0302,
          0.020900000000000002,
          0.043000000000000003,
          0.0756,
          0.0659,
          0.0459,
          0.0388,
          0.0495,
          0.0337,
          0.043000000000000003,
          0.055600000000000004,
          0.0599,
          0.004,
          0.08270000000000001,
          0.020100000000000003,
          0.012799999999999999,
          0.0182,
          0.013500000000000002,
          0.0239,
          0.009600000000000001,
          0.023500000000000004,
          0.030100000000000002,
          0.0717,
          0.016,
          0.0073,
          0.052700000000000004,
          0.0463,
          0.0645,
          0.0633,
          0.06810000000000001,
          0.08460000000000001,
          0.07880000000000001,
          0.0751,
          0.0665,
          0.09190000000000001,
          0.055600000000000004,
          0.0188,
          0.1,
          0.060500000000000005,
          0.039400000000000004,
          0.0521,
          0.033800000000000004,
          0.034800000000000005,
          0.0238,
          0.0633,
          0.027200000000000002,
          0.0475,
          0.0415,
          0.0313,
          0.05790000000000001,
          0.0575,
          0.047200000000000006,
          0.0437,
          0.0463,
          0.037500000000000006,
          0.044000000000000004,
          0.049,
          0.044000000000000004,
          0.0483,
          0.0483,
          0.049600000000000005,
          0.053700000000000005,
          0.0507,
          0.048
         ],
         "xaxis": "x5",
         "y": [
          0.8628034145799468,
          0.8626620811304562,
          0.8617556706477808,
          0.8614508188426966,
          0.8626559982622586,
          0.8620289071884505,
          0.8606343224641227,
          0.8593327619747256,
          0.862046528188684,
          0.8605483170563557,
          0.8603139216665914,
          0.8630741519722227,
          0.8628264382593578,
          0.8615093396962171,
          0.8584555973239493,
          0.8633010888607797,
          0.8621227503683409,
          0.8568691225407015,
          0.8615239356546521,
          0.8622680987169226,
          0.8631053169586307,
          0.8621131126035644,
          0.8615764080029109,
          0.8626817053518548,
          0.8607434618777257,
          0.8624410028259243,
          0.8613527607565328,
          0.8611380902634318,
          0.861976350857533,
          0.8629754235060826,
          0.8606628440037725,
          0.8629334709636783,
          0.8619785597068603,
          0.8627441675011364,
          0.8620923645650149,
          0.8629402665703632,
          0.8623728055288457,
          0.861917258203108,
          0.8617214389503001,
          0.86216020199393,
          0.8609184932512098,
          0.8628575284673176,
          0.8625086139197645,
          0.8623148103150472,
          0.8622768174523412,
          0.8618463587167081,
          0.8613780705594511,
          0.8620921589071363,
          0.856742337031753,
          0.8618203361772393,
          0.8631082519735214,
          0.8623045936863104,
          0.8630034752843789,
          0.8623631539257144,
          0.8619357998661201,
          0.8600665885808485,
          0.8626453930075382,
          0.8620239958793092,
          0.8620096516058225,
          0.8623611373485728,
          0.8601416349617692,
          0.862491796420233,
          0.863115604431977,
          0.8630363234292057,
          0.8625433386652533,
          0.8625367372589027,
          0.8625662724210679,
          0.8616640990446163,
          0.8594591827077682,
          0.861982412765798,
          0.8629346064904364,
          0.8624299914917319,
          0.8627666665925006,
          0.8623149968118543,
          0.862636132771533,
          0.8623664354742552,
          0.8629512498989496,
          0.8631834313573206,
          0.8629128722991641,
          0.8612118194006779,
          0.8597634925681448,
          0.8626165384444183,
          0.863387037438397,
          0.8618404979007812,
          0.8628358432425116,
          0.8631181941704664,
          0.862434863880142,
          0.8634045498526653,
          0.8633276177578578,
          0.8617796770685606,
          0.8626726365103092,
          0.8633981435108508,
          0.863429694704909,
          0.8623307286629798,
          0.8633183512125921,
          0.86314569869994,
          0.8627486297418929,
          0.8627104617364013,
          0.8615383300425755,
          0.8625600141468984
         ],
         "yaxis": "y5"
        },
        {
         "marker": {
          "color": [
           0,
           1,
           2,
           3,
           4,
           5,
           6,
           7,
           8,
           9,
           10,
           11,
           12,
           13,
           14,
           15,
           16,
           17,
           18,
           19,
           20,
           21,
           22,
           23,
           24,
           25,
           26,
           27,
           28,
           29,
           30,
           31,
           32,
           33,
           34,
           35,
           36,
           37,
           38,
           39,
           40,
           41,
           42,
           43,
           44,
           45,
           46,
           47,
           48,
           49,
           50,
           51,
           52,
           53,
           54,
           55,
           56,
           57,
           58,
           59,
           60,
           61,
           62,
           63,
           64,
           65,
           66,
           67,
           68,
           69,
           70,
           71,
           72,
           73,
           74,
           75,
           76,
           77,
           78,
           79,
           80,
           81,
           82,
           83,
           84,
           85,
           86,
           87,
           88,
           89,
           90,
           91,
           92,
           93,
           94,
           95,
           96,
           97,
           98,
           99
          ],
          "colorbar": {
           "title": {
            "text": "Trial"
           },
           "x": 1,
           "xpad": 40
          },
          "colorscale": [
           [
            0,
            "rgb(247,251,255)"
           ],
           [
            0.125,
            "rgb(222,235,247)"
           ],
           [
            0.25,
            "rgb(198,219,239)"
           ],
           [
            0.375,
            "rgb(158,202,225)"
           ],
           [
            0.5,
            "rgb(107,174,214)"
           ],
           [
            0.625,
            "rgb(66,146,198)"
           ],
           [
            0.75,
            "rgb(33,113,181)"
           ],
           [
            0.875,
            "rgb(8,81,156)"
           ],
           [
            1,
            "rgb(8,48,107)"
           ]
          ],
          "line": {
           "color": "Grey",
           "width": 0.5
          },
          "showscale": false
         },
         "mode": "markers",
         "showlegend": false,
         "type": "scatter",
         "x": [
          170,
          160,
          180,
          230,
          240,
          200,
          250,
          230,
          170,
          240,
          300,
          160,
          200,
          200,
          200,
          190,
          180,
          270,
          160,
          210,
          180,
          180,
          190,
          160,
          210,
          170,
          220,
          190,
          190,
          170,
          180,
          170,
          160,
          160,
          170,
          180,
          170,
          190,
          210,
          180,
          260,
          160,
          180,
          190,
          170,
          180,
          290,
          200,
          220,
          160,
          180,
          180,
          170,
          170,
          190,
          170,
          160,
          170,
          200,
          160,
          240,
          180,
          190,
          190,
          200,
          190,
          220,
          210,
          200,
          190,
          180,
          170,
          180,
          190,
          170,
          170,
          160,
          180,
          200,
          190,
          210,
          180,
          180,
          180,
          190,
          180,
          180,
          190,
          200,
          200,
          190,
          180,
          180,
          180,
          190,
          200,
          210,
          200,
          190,
          200
         ],
         "xaxis": "x6",
         "y": [
          0.8628034145799468,
          0.8626620811304562,
          0.8617556706477808,
          0.8614508188426966,
          0.8626559982622586,
          0.8620289071884505,
          0.8606343224641227,
          0.8593327619747256,
          0.862046528188684,
          0.8605483170563557,
          0.8603139216665914,
          0.8630741519722227,
          0.8628264382593578,
          0.8615093396962171,
          0.8584555973239493,
          0.8633010888607797,
          0.8621227503683409,
          0.8568691225407015,
          0.8615239356546521,
          0.8622680987169226,
          0.8631053169586307,
          0.8621131126035644,
          0.8615764080029109,
          0.8626817053518548,
          0.8607434618777257,
          0.8624410028259243,
          0.8613527607565328,
          0.8611380902634318,
          0.861976350857533,
          0.8629754235060826,
          0.8606628440037725,
          0.8629334709636783,
          0.8619785597068603,
          0.8627441675011364,
          0.8620923645650149,
          0.8629402665703632,
          0.8623728055288457,
          0.861917258203108,
          0.8617214389503001,
          0.86216020199393,
          0.8609184932512098,
          0.8628575284673176,
          0.8625086139197645,
          0.8623148103150472,
          0.8622768174523412,
          0.8618463587167081,
          0.8613780705594511,
          0.8620921589071363,
          0.856742337031753,
          0.8618203361772393,
          0.8631082519735214,
          0.8623045936863104,
          0.8630034752843789,
          0.8623631539257144,
          0.8619357998661201,
          0.8600665885808485,
          0.8626453930075382,
          0.8620239958793092,
          0.8620096516058225,
          0.8623611373485728,
          0.8601416349617692,
          0.862491796420233,
          0.863115604431977,
          0.8630363234292057,
          0.8625433386652533,
          0.8625367372589027,
          0.8625662724210679,
          0.8616640990446163,
          0.8594591827077682,
          0.861982412765798,
          0.8629346064904364,
          0.8624299914917319,
          0.8627666665925006,
          0.8623149968118543,
          0.862636132771533,
          0.8623664354742552,
          0.8629512498989496,
          0.8631834313573206,
          0.8629128722991641,
          0.8612118194006779,
          0.8597634925681448,
          0.8626165384444183,
          0.863387037438397,
          0.8618404979007812,
          0.8628358432425116,
          0.8631181941704664,
          0.862434863880142,
          0.8634045498526653,
          0.8633276177578578,
          0.8617796770685606,
          0.8626726365103092,
          0.8633981435108508,
          0.863429694704909,
          0.8623307286629798,
          0.8633183512125921,
          0.86314569869994,
          0.8627486297418929,
          0.8627104617364013,
          0.8615383300425755,
          0.8625600141468984
         ],
         "yaxis": "y6"
        },
        {
         "marker": {
          "color": [
           0,
           1,
           2,
           3,
           4,
           5,
           6,
           7,
           8,
           9,
           10,
           11,
           12,
           13,
           14,
           15,
           16,
           17,
           18,
           19,
           20,
           21,
           22,
           23,
           24,
           25,
           26,
           27,
           28,
           29,
           30,
           31,
           32,
           33,
           34,
           35,
           36,
           37,
           38,
           39,
           40,
           41,
           42,
           43,
           44,
           45,
           46,
           47,
           48,
           49,
           50,
           51,
           52,
           53,
           54,
           55,
           56,
           57,
           58,
           59,
           60,
           61,
           62,
           63,
           64,
           65,
           66,
           67,
           68,
           69,
           70,
           71,
           72,
           73,
           74,
           75,
           76,
           77,
           78,
           79,
           80,
           81,
           82,
           83,
           84,
           85,
           86,
           87,
           88,
           89,
           90,
           91,
           92,
           93,
           94,
           95,
           96,
           97,
           98,
           99
          ],
          "colorbar": {
           "title": {
            "text": "Trial"
           },
           "x": 1,
           "xpad": 40
          },
          "colorscale": [
           [
            0,
            "rgb(247,251,255)"
           ],
           [
            0.125,
            "rgb(222,235,247)"
           ],
           [
            0.25,
            "rgb(198,219,239)"
           ],
           [
            0.375,
            "rgb(158,202,225)"
           ],
           [
            0.5,
            "rgb(107,174,214)"
           ],
           [
            0.625,
            "rgb(66,146,198)"
           ],
           [
            0.75,
            "rgb(33,113,181)"
           ],
           [
            0.875,
            "rgb(8,81,156)"
           ],
           [
            1,
            "rgb(8,48,107)"
           ]
          ],
          "line": {
           "color": "Grey",
           "width": 0.5
          },
          "showscale": false
         },
         "mode": "markers",
         "showlegend": false,
         "type": "scatter",
         "x": [
          15,
          21,
          14,
          28,
          15,
          20,
          25,
          20,
          20,
          11,
          5,
          9,
          7,
          5,
          9,
          9,
          11,
          11,
          8,
          17,
          13,
          13,
          9,
          12,
          17,
          7,
          10,
          13,
          7,
          15,
          16,
          14,
          15,
          23,
          13,
          18,
          9,
          15,
          28,
          18,
          12,
          19,
          30,
          22,
          16,
          18,
          14,
          6,
          10,
          19,
          12,
          12,
          10,
          10,
          8,
          11,
          8,
          12,
          9,
          6,
          14,
          16,
          13,
          10,
          11,
          10,
          8,
          9,
          13,
          11,
          7,
          12,
          13,
          10,
          14,
          15,
          13,
          11,
          11,
          10,
          6,
          12,
          15,
          9,
          12,
          10,
          14,
          11,
          11,
          11,
          14,
          9,
          8,
          8,
          9,
          7,
          5,
          7,
          9,
          6
         ],
         "xaxis": "x7",
         "y": [
          0.8628034145799468,
          0.8626620811304562,
          0.8617556706477808,
          0.8614508188426966,
          0.8626559982622586,
          0.8620289071884505,
          0.8606343224641227,
          0.8593327619747256,
          0.862046528188684,
          0.8605483170563557,
          0.8603139216665914,
          0.8630741519722227,
          0.8628264382593578,
          0.8615093396962171,
          0.8584555973239493,
          0.8633010888607797,
          0.8621227503683409,
          0.8568691225407015,
          0.8615239356546521,
          0.8622680987169226,
          0.8631053169586307,
          0.8621131126035644,
          0.8615764080029109,
          0.8626817053518548,
          0.8607434618777257,
          0.8624410028259243,
          0.8613527607565328,
          0.8611380902634318,
          0.861976350857533,
          0.8629754235060826,
          0.8606628440037725,
          0.8629334709636783,
          0.8619785597068603,
          0.8627441675011364,
          0.8620923645650149,
          0.8629402665703632,
          0.8623728055288457,
          0.861917258203108,
          0.8617214389503001,
          0.86216020199393,
          0.8609184932512098,
          0.8628575284673176,
          0.8625086139197645,
          0.8623148103150472,
          0.8622768174523412,
          0.8618463587167081,
          0.8613780705594511,
          0.8620921589071363,
          0.856742337031753,
          0.8618203361772393,
          0.8631082519735214,
          0.8623045936863104,
          0.8630034752843789,
          0.8623631539257144,
          0.8619357998661201,
          0.8600665885808485,
          0.8626453930075382,
          0.8620239958793092,
          0.8620096516058225,
          0.8623611373485728,
          0.8601416349617692,
          0.862491796420233,
          0.863115604431977,
          0.8630363234292057,
          0.8625433386652533,
          0.8625367372589027,
          0.8625662724210679,
          0.8616640990446163,
          0.8594591827077682,
          0.861982412765798,
          0.8629346064904364,
          0.8624299914917319,
          0.8627666665925006,
          0.8623149968118543,
          0.862636132771533,
          0.8623664354742552,
          0.8629512498989496,
          0.8631834313573206,
          0.8629128722991641,
          0.8612118194006779,
          0.8597634925681448,
          0.8626165384444183,
          0.863387037438397,
          0.8618404979007812,
          0.8628358432425116,
          0.8631181941704664,
          0.862434863880142,
          0.8634045498526653,
          0.8633276177578578,
          0.8617796770685606,
          0.8626726365103092,
          0.8633981435108508,
          0.863429694704909,
          0.8623307286629798,
          0.8633183512125921,
          0.86314569869994,
          0.8627486297418929,
          0.8627104617364013,
          0.8615383300425755,
          0.8625600141468984
         ],
         "yaxis": "y7"
        },
        {
         "marker": {
          "color": [
           0,
           1,
           2,
           3,
           4,
           5,
           6,
           7,
           8,
           9,
           10,
           11,
           12,
           13,
           14,
           15,
           16,
           17,
           18,
           19,
           20,
           21,
           22,
           23,
           24,
           25,
           26,
           27,
           28,
           29,
           30,
           31,
           32,
           33,
           34,
           35,
           36,
           37,
           38,
           39,
           40,
           41,
           42,
           43,
           44,
           45,
           46,
           47,
           48,
           49,
           50,
           51,
           52,
           53,
           54,
           55,
           56,
           57,
           58,
           59,
           60,
           61,
           62,
           63,
           64,
           65,
           66,
           67,
           68,
           69,
           70,
           71,
           72,
           73,
           74,
           75,
           76,
           77,
           78,
           79,
           80,
           81,
           82,
           83,
           84,
           85,
           86,
           87,
           88,
           89,
           90,
           91,
           92,
           93,
           94,
           95,
           96,
           97,
           98,
           99
          ],
          "colorbar": {
           "title": {
            "text": "Trial"
           },
           "x": 1,
           "xpad": 40
          },
          "colorscale": [
           [
            0,
            "rgb(247,251,255)"
           ],
           [
            0.125,
            "rgb(222,235,247)"
           ],
           [
            0.25,
            "rgb(198,219,239)"
           ],
           [
            0.375,
            "rgb(158,202,225)"
           ],
           [
            0.5,
            "rgb(107,174,214)"
           ],
           [
            0.625,
            "rgb(66,146,198)"
           ],
           [
            0.75,
            "rgb(33,113,181)"
           ],
           [
            0.875,
            "rgb(8,81,156)"
           ],
           [
            1,
            "rgb(8,48,107)"
           ]
          ],
          "line": {
           "color": "Grey",
           "width": 0.5
          },
          "showscale": false
         },
         "mode": "markers",
         "showlegend": false,
         "type": "scatter",
         "x": [
          649,
          680,
          682,
          671,
          648,
          618,
          691,
          674,
          660,
          617,
          640,
          636,
          635,
          633,
          602,
          627,
          622,
          602,
          661,
          624,
          609,
          610,
          628,
          610,
          640,
          612,
          628,
          643,
          657,
          651,
          631,
          650,
          654,
          637,
          646,
          617,
          623,
          667,
          700,
          653,
          645,
          616,
          604,
          614,
          619,
          606,
          628,
          638,
          608,
          621,
          628,
          633,
          627,
          630,
          626,
          640,
          633,
          600,
          625,
          665,
          644,
          618,
          621,
          613,
          621,
          613,
          610,
          635,
          626,
          614,
          677,
          621,
          630,
          649,
          606,
          623,
          640,
          685,
          615,
          700,
          685,
          693,
          611,
          618,
          610,
          612,
          607,
          612,
          603,
          603,
          600,
          604,
          604,
          605,
          611,
          611,
          602,
          611,
          608,
          603
         ],
         "xaxis": "x8",
         "y": [
          0.8628034145799468,
          0.8626620811304562,
          0.8617556706477808,
          0.8614508188426966,
          0.8626559982622586,
          0.8620289071884505,
          0.8606343224641227,
          0.8593327619747256,
          0.862046528188684,
          0.8605483170563557,
          0.8603139216665914,
          0.8630741519722227,
          0.8628264382593578,
          0.8615093396962171,
          0.8584555973239493,
          0.8633010888607797,
          0.8621227503683409,
          0.8568691225407015,
          0.8615239356546521,
          0.8622680987169226,
          0.8631053169586307,
          0.8621131126035644,
          0.8615764080029109,
          0.8626817053518548,
          0.8607434618777257,
          0.8624410028259243,
          0.8613527607565328,
          0.8611380902634318,
          0.861976350857533,
          0.8629754235060826,
          0.8606628440037725,
          0.8629334709636783,
          0.8619785597068603,
          0.8627441675011364,
          0.8620923645650149,
          0.8629402665703632,
          0.8623728055288457,
          0.861917258203108,
          0.8617214389503001,
          0.86216020199393,
          0.8609184932512098,
          0.8628575284673176,
          0.8625086139197645,
          0.8623148103150472,
          0.8622768174523412,
          0.8618463587167081,
          0.8613780705594511,
          0.8620921589071363,
          0.856742337031753,
          0.8618203361772393,
          0.8631082519735214,
          0.8623045936863104,
          0.8630034752843789,
          0.8623631539257144,
          0.8619357998661201,
          0.8600665885808485,
          0.8626453930075382,
          0.8620239958793092,
          0.8620096516058225,
          0.8623611373485728,
          0.8601416349617692,
          0.862491796420233,
          0.863115604431977,
          0.8630363234292057,
          0.8625433386652533,
          0.8625367372589027,
          0.8625662724210679,
          0.8616640990446163,
          0.8594591827077682,
          0.861982412765798,
          0.8629346064904364,
          0.8624299914917319,
          0.8627666665925006,
          0.8623149968118543,
          0.862636132771533,
          0.8623664354742552,
          0.8629512498989496,
          0.8631834313573206,
          0.8629128722991641,
          0.8612118194006779,
          0.8597634925681448,
          0.8626165384444183,
          0.863387037438397,
          0.8618404979007812,
          0.8628358432425116,
          0.8631181941704664,
          0.862434863880142,
          0.8634045498526653,
          0.8633276177578578,
          0.8617796770685606,
          0.8626726365103092,
          0.8633981435108508,
          0.863429694704909,
          0.8623307286629798,
          0.8633183512125921,
          0.86314569869994,
          0.8627486297418929,
          0.8627104617364013,
          0.8615383300425755,
          0.8625600141468984
         ],
         "yaxis": "y8"
        },
        {
         "marker": {
          "color": [
           0,
           1,
           2,
           3,
           4,
           5,
           6,
           7,
           8,
           9,
           10,
           11,
           12,
           13,
           14,
           15,
           16,
           17,
           18,
           19,
           20,
           21,
           22,
           23,
           24,
           25,
           26,
           27,
           28,
           29,
           30,
           31,
           32,
           33,
           34,
           35,
           36,
           37,
           38,
           39,
           40,
           41,
           42,
           43,
           44,
           45,
           46,
           47,
           48,
           49,
           50,
           51,
           52,
           53,
           54,
           55,
           56,
           57,
           58,
           59,
           60,
           61,
           62,
           63,
           64,
           65,
           66,
           67,
           68,
           69,
           70,
           71,
           72,
           73,
           74,
           75,
           76,
           77,
           78,
           79,
           80,
           81,
           82,
           83,
           84,
           85,
           86,
           87,
           88,
           89,
           90,
           91,
           92,
           93,
           94,
           95,
           96,
           97,
           98,
           99
          ],
          "colorbar": {
           "title": {
            "text": "Trial"
           },
           "x": 1,
           "xpad": 40
          },
          "colorscale": [
           [
            0,
            "rgb(247,251,255)"
           ],
           [
            0.125,
            "rgb(222,235,247)"
           ],
           [
            0.25,
            "rgb(198,219,239)"
           ],
           [
            0.375,
            "rgb(158,202,225)"
           ],
           [
            0.5,
            "rgb(107,174,214)"
           ],
           [
            0.625,
            "rgb(66,146,198)"
           ],
           [
            0.75,
            "rgb(33,113,181)"
           ],
           [
            0.875,
            "rgb(8,81,156)"
           ],
           [
            1,
            "rgb(8,48,107)"
           ]
          ],
          "line": {
           "color": "Grey",
           "width": 0.5
          },
          "showscale": false
         },
         "mode": "markers",
         "showlegend": false,
         "type": "scatter",
         "x": [
          45300,
          49400,
          69400,
          68100,
          62600,
          40600,
          55700,
          59300,
          25300,
          25800,
          13300,
          47700,
          43200,
          33800,
          34100,
          51100,
          53400,
          50600,
          35100,
          61000,
          47000,
          46800,
          38900,
          55700,
          49800,
          39300,
          29600,
          43700,
          54200,
          65000,
          47000,
          65600,
          57300,
          51000,
          63400,
          69700,
          45900,
          66000,
          59300,
          41500,
          52800,
          68200,
          69000,
          65500,
          58900,
          62300,
          69500,
          18500,
          48300,
          36500,
          43600,
          43500,
          51800,
          51800,
          48600,
          44800,
          40900,
          56600,
          37100,
          32000,
          54100,
          48400,
          42000,
          45400,
          41800,
          46300,
          50200,
          38500,
          44800,
          42600,
          47400,
          40100,
          52200,
          54800,
          45000,
          49800,
          46500,
          43500,
          42700,
          38100,
          50900,
          44200,
          39900,
          35400,
          40300,
          47500,
          32300,
          47900,
          47800,
          48600,
          42600,
          47700,
          47300,
          49400,
          47400,
          47700,
          53000,
          47200,
          50700,
          49500
         ],
         "xaxis": "x9",
         "y": [
          0.8628034145799468,
          0.8626620811304562,
          0.8617556706477808,
          0.8614508188426966,
          0.8626559982622586,
          0.8620289071884505,
          0.8606343224641227,
          0.8593327619747256,
          0.862046528188684,
          0.8605483170563557,
          0.8603139216665914,
          0.8630741519722227,
          0.8628264382593578,
          0.8615093396962171,
          0.8584555973239493,
          0.8633010888607797,
          0.8621227503683409,
          0.8568691225407015,
          0.8615239356546521,
          0.8622680987169226,
          0.8631053169586307,
          0.8621131126035644,
          0.8615764080029109,
          0.8626817053518548,
          0.8607434618777257,
          0.8624410028259243,
          0.8613527607565328,
          0.8611380902634318,
          0.861976350857533,
          0.8629754235060826,
          0.8606628440037725,
          0.8629334709636783,
          0.8619785597068603,
          0.8627441675011364,
          0.8620923645650149,
          0.8629402665703632,
          0.8623728055288457,
          0.861917258203108,
          0.8617214389503001,
          0.86216020199393,
          0.8609184932512098,
          0.8628575284673176,
          0.8625086139197645,
          0.8623148103150472,
          0.8622768174523412,
          0.8618463587167081,
          0.8613780705594511,
          0.8620921589071363,
          0.856742337031753,
          0.8618203361772393,
          0.8631082519735214,
          0.8623045936863104,
          0.8630034752843789,
          0.8623631539257144,
          0.8619357998661201,
          0.8600665885808485,
          0.8626453930075382,
          0.8620239958793092,
          0.8620096516058225,
          0.8623611373485728,
          0.8601416349617692,
          0.862491796420233,
          0.863115604431977,
          0.8630363234292057,
          0.8625433386652533,
          0.8625367372589027,
          0.8625662724210679,
          0.8616640990446163,
          0.8594591827077682,
          0.861982412765798,
          0.8629346064904364,
          0.8624299914917319,
          0.8627666665925006,
          0.8623149968118543,
          0.862636132771533,
          0.8623664354742552,
          0.8629512498989496,
          0.8631834313573206,
          0.8629128722991641,
          0.8612118194006779,
          0.8597634925681448,
          0.8626165384444183,
          0.863387037438397,
          0.8618404979007812,
          0.8628358432425116,
          0.8631181941704664,
          0.862434863880142,
          0.8634045498526653,
          0.8633276177578578,
          0.8617796770685606,
          0.8626726365103092,
          0.8633981435108508,
          0.863429694704909,
          0.8623307286629798,
          0.8633183512125921,
          0.86314569869994,
          0.8627486297418929,
          0.8627104617364013,
          0.8615383300425755,
          0.8625600141468984
         ],
         "yaxis": "y9"
        },
        {
         "marker": {
          "color": [
           0,
           1,
           2,
           3,
           4,
           5,
           6,
           7,
           8,
           9,
           10,
           11,
           12,
           13,
           14,
           15,
           16,
           17,
           18,
           19,
           20,
           21,
           22,
           23,
           24,
           25,
           26,
           27,
           28,
           29,
           30,
           31,
           32,
           33,
           34,
           35,
           36,
           37,
           38,
           39,
           40,
           41,
           42,
           43,
           44,
           45,
           46,
           47,
           48,
           49,
           50,
           51,
           52,
           53,
           54,
           55,
           56,
           57,
           58,
           59,
           60,
           61,
           62,
           63,
           64,
           65,
           66,
           67,
           68,
           69,
           70,
           71,
           72,
           73,
           74,
           75,
           76,
           77,
           78,
           79,
           80,
           81,
           82,
           83,
           84,
           85,
           86,
           87,
           88,
           89,
           90,
           91,
           92,
           93,
           94,
           95,
           96,
           97,
           98,
           99
          ],
          "colorbar": {
           "title": {
            "text": "Trial"
           },
           "x": 1,
           "xpad": 40
          },
          "colorscale": [
           [
            0,
            "rgb(247,251,255)"
           ],
           [
            0.125,
            "rgb(222,235,247)"
           ],
           [
            0.25,
            "rgb(198,219,239)"
           ],
           [
            0.375,
            "rgb(158,202,225)"
           ],
           [
            0.5,
            "rgb(107,174,214)"
           ],
           [
            0.625,
            "rgb(66,146,198)"
           ],
           [
            0.75,
            "rgb(33,113,181)"
           ],
           [
            0.875,
            "rgb(8,81,156)"
           ],
           [
            1,
            "rgb(8,48,107)"
           ]
          ],
          "line": {
           "color": "Grey",
           "width": 0.5
          },
          "showscale": false
         },
         "mode": "markers",
         "showlegend": false,
         "type": "scatter",
         "x": [
          100,
          "None",
          25,
          "None",
          25,
          25,
          100,
          "None",
          "None",
          25,
          100,
          0,
          0,
          0,
          0,
          0,
          0,
          0,
          0,
          0,
          0,
          0,
          0,
          0,
          0,
          0,
          0,
          0,
          100,
          100,
          0,
          100,
          100,
          100,
          100,
          "None",
          25,
          100,
          "None",
          25,
          0,
          "None",
          "None",
          "None",
          "None",
          "None",
          25,
          100,
          "None",
          0,
          0,
          0,
          0,
          0,
          0,
          0,
          0,
          0,
          0,
          0,
          0,
          0,
          0,
          0,
          0,
          0,
          0,
          0,
          0,
          0,
          0,
          100,
          0,
          0,
          25,
          100,
          0,
          0,
          0,
          0,
          0,
          0,
          0,
          0,
          0,
          0,
          0,
          0,
          0,
          25,
          0,
          0,
          0,
          0,
          0,
          0,
          0,
          0,
          0,
          0
         ],
         "xaxis": "x10",
         "y": [
          0.8628034145799468,
          0.8626620811304562,
          0.8617556706477808,
          0.8614508188426966,
          0.8626559982622586,
          0.8620289071884505,
          0.8606343224641227,
          0.8593327619747256,
          0.862046528188684,
          0.8605483170563557,
          0.8603139216665914,
          0.8630741519722227,
          0.8628264382593578,
          0.8615093396962171,
          0.8584555973239493,
          0.8633010888607797,
          0.8621227503683409,
          0.8568691225407015,
          0.8615239356546521,
          0.8622680987169226,
          0.8631053169586307,
          0.8621131126035644,
          0.8615764080029109,
          0.8626817053518548,
          0.8607434618777257,
          0.8624410028259243,
          0.8613527607565328,
          0.8611380902634318,
          0.861976350857533,
          0.8629754235060826,
          0.8606628440037725,
          0.8629334709636783,
          0.8619785597068603,
          0.8627441675011364,
          0.8620923645650149,
          0.8629402665703632,
          0.8623728055288457,
          0.861917258203108,
          0.8617214389503001,
          0.86216020199393,
          0.8609184932512098,
          0.8628575284673176,
          0.8625086139197645,
          0.8623148103150472,
          0.8622768174523412,
          0.8618463587167081,
          0.8613780705594511,
          0.8620921589071363,
          0.856742337031753,
          0.8618203361772393,
          0.8631082519735214,
          0.8623045936863104,
          0.8630034752843789,
          0.8623631539257144,
          0.8619357998661201,
          0.8600665885808485,
          0.8626453930075382,
          0.8620239958793092,
          0.8620096516058225,
          0.8623611373485728,
          0.8601416349617692,
          0.862491796420233,
          0.863115604431977,
          0.8630363234292057,
          0.8625433386652533,
          0.8625367372589027,
          0.8625662724210679,
          0.8616640990446163,
          0.8594591827077682,
          0.861982412765798,
          0.8629346064904364,
          0.8624299914917319,
          0.8627666665925006,
          0.8623149968118543,
          0.862636132771533,
          0.8623664354742552,
          0.8629512498989496,
          0.8631834313573206,
          0.8629128722991641,
          0.8612118194006779,
          0.8597634925681448,
          0.8626165384444183,
          0.863387037438397,
          0.8618404979007812,
          0.8628358432425116,
          0.8631181941704664,
          0.862434863880142,
          0.8634045498526653,
          0.8633276177578578,
          0.8617796770685606,
          0.8626726365103092,
          0.8633981435108508,
          0.863429694704909,
          0.8623307286629798,
          0.8633183512125921,
          0.86314569869994,
          0.8627486297418929,
          0.8627104617364013,
          0.8615383300425755,
          0.8625600141468984
         ],
         "yaxis": "y10"
        }
       ],
       "layout": {
        "template": {
         "data": {
          "bar": [
           {
            "error_x": {
             "color": "#2a3f5f"
            },
            "error_y": {
             "color": "#2a3f5f"
            },
            "marker": {
             "line": {
              "color": "#E5ECF6",
              "width": 0.5
             },
             "pattern": {
              "fillmode": "overlay",
              "size": 10,
              "solidity": 0.2
             }
            },
            "type": "bar"
           }
          ],
          "barpolar": [
           {
            "marker": {
             "line": {
              "color": "#E5ECF6",
              "width": 0.5
             },
             "pattern": {
              "fillmode": "overlay",
              "size": 10,
              "solidity": 0.2
             }
            },
            "type": "barpolar"
           }
          ],
          "carpet": [
           {
            "aaxis": {
             "endlinecolor": "#2a3f5f",
             "gridcolor": "white",
             "linecolor": "white",
             "minorgridcolor": "white",
             "startlinecolor": "#2a3f5f"
            },
            "baxis": {
             "endlinecolor": "#2a3f5f",
             "gridcolor": "white",
             "linecolor": "white",
             "minorgridcolor": "white",
             "startlinecolor": "#2a3f5f"
            },
            "type": "carpet"
           }
          ],
          "choropleth": [
           {
            "colorbar": {
             "outlinewidth": 0,
             "ticks": ""
            },
            "type": "choropleth"
           }
          ],
          "contour": [
           {
            "colorbar": {
             "outlinewidth": 0,
             "ticks": ""
            },
            "colorscale": [
             [
              0,
              "#0d0887"
             ],
             [
              0.1111111111111111,
              "#46039f"
             ],
             [
              0.2222222222222222,
              "#7201a8"
             ],
             [
              0.3333333333333333,
              "#9c179e"
             ],
             [
              0.4444444444444444,
              "#bd3786"
             ],
             [
              0.5555555555555556,
              "#d8576b"
             ],
             [
              0.6666666666666666,
              "#ed7953"
             ],
             [
              0.7777777777777778,
              "#fb9f3a"
             ],
             [
              0.8888888888888888,
              "#fdca26"
             ],
             [
              1,
              "#f0f921"
             ]
            ],
            "type": "contour"
           }
          ],
          "contourcarpet": [
           {
            "colorbar": {
             "outlinewidth": 0,
             "ticks": ""
            },
            "type": "contourcarpet"
           }
          ],
          "heatmap": [
           {
            "colorbar": {
             "outlinewidth": 0,
             "ticks": ""
            },
            "colorscale": [
             [
              0,
              "#0d0887"
             ],
             [
              0.1111111111111111,
              "#46039f"
             ],
             [
              0.2222222222222222,
              "#7201a8"
             ],
             [
              0.3333333333333333,
              "#9c179e"
             ],
             [
              0.4444444444444444,
              "#bd3786"
             ],
             [
              0.5555555555555556,
              "#d8576b"
             ],
             [
              0.6666666666666666,
              "#ed7953"
             ],
             [
              0.7777777777777778,
              "#fb9f3a"
             ],
             [
              0.8888888888888888,
              "#fdca26"
             ],
             [
              1,
              "#f0f921"
             ]
            ],
            "type": "heatmap"
           }
          ],
          "heatmapgl": [
           {
            "colorbar": {
             "outlinewidth": 0,
             "ticks": ""
            },
            "colorscale": [
             [
              0,
              "#0d0887"
             ],
             [
              0.1111111111111111,
              "#46039f"
             ],
             [
              0.2222222222222222,
              "#7201a8"
             ],
             [
              0.3333333333333333,
              "#9c179e"
             ],
             [
              0.4444444444444444,
              "#bd3786"
             ],
             [
              0.5555555555555556,
              "#d8576b"
             ],
             [
              0.6666666666666666,
              "#ed7953"
             ],
             [
              0.7777777777777778,
              "#fb9f3a"
             ],
             [
              0.8888888888888888,
              "#fdca26"
             ],
             [
              1,
              "#f0f921"
             ]
            ],
            "type": "heatmapgl"
           }
          ],
          "histogram": [
           {
            "marker": {
             "pattern": {
              "fillmode": "overlay",
              "size": 10,
              "solidity": 0.2
             }
            },
            "type": "histogram"
           }
          ],
          "histogram2d": [
           {
            "colorbar": {
             "outlinewidth": 0,
             "ticks": ""
            },
            "colorscale": [
             [
              0,
              "#0d0887"
             ],
             [
              0.1111111111111111,
              "#46039f"
             ],
             [
              0.2222222222222222,
              "#7201a8"
             ],
             [
              0.3333333333333333,
              "#9c179e"
             ],
             [
              0.4444444444444444,
              "#bd3786"
             ],
             [
              0.5555555555555556,
              "#d8576b"
             ],
             [
              0.6666666666666666,
              "#ed7953"
             ],
             [
              0.7777777777777778,
              "#fb9f3a"
             ],
             [
              0.8888888888888888,
              "#fdca26"
             ],
             [
              1,
              "#f0f921"
             ]
            ],
            "type": "histogram2d"
           }
          ],
          "histogram2dcontour": [
           {
            "colorbar": {
             "outlinewidth": 0,
             "ticks": ""
            },
            "colorscale": [
             [
              0,
              "#0d0887"
             ],
             [
              0.1111111111111111,
              "#46039f"
             ],
             [
              0.2222222222222222,
              "#7201a8"
             ],
             [
              0.3333333333333333,
              "#9c179e"
             ],
             [
              0.4444444444444444,
              "#bd3786"
             ],
             [
              0.5555555555555556,
              "#d8576b"
             ],
             [
              0.6666666666666666,
              "#ed7953"
             ],
             [
              0.7777777777777778,
              "#fb9f3a"
             ],
             [
              0.8888888888888888,
              "#fdca26"
             ],
             [
              1,
              "#f0f921"
             ]
            ],
            "type": "histogram2dcontour"
           }
          ],
          "mesh3d": [
           {
            "colorbar": {
             "outlinewidth": 0,
             "ticks": ""
            },
            "type": "mesh3d"
           }
          ],
          "parcoords": [
           {
            "line": {
             "colorbar": {
              "outlinewidth": 0,
              "ticks": ""
             }
            },
            "type": "parcoords"
           }
          ],
          "pie": [
           {
            "automargin": true,
            "type": "pie"
           }
          ],
          "scatter": [
           {
            "fillpattern": {
             "fillmode": "overlay",
             "size": 10,
             "solidity": 0.2
            },
            "type": "scatter"
           }
          ],
          "scatter3d": [
           {
            "line": {
             "colorbar": {
              "outlinewidth": 0,
              "ticks": ""
             }
            },
            "marker": {
             "colorbar": {
              "outlinewidth": 0,
              "ticks": ""
             }
            },
            "type": "scatter3d"
           }
          ],
          "scattercarpet": [
           {
            "marker": {
             "colorbar": {
              "outlinewidth": 0,
              "ticks": ""
             }
            },
            "type": "scattercarpet"
           }
          ],
          "scattergeo": [
           {
            "marker": {
             "colorbar": {
              "outlinewidth": 0,
              "ticks": ""
             }
            },
            "type": "scattergeo"
           }
          ],
          "scattergl": [
           {
            "marker": {
             "colorbar": {
              "outlinewidth": 0,
              "ticks": ""
             }
            },
            "type": "scattergl"
           }
          ],
          "scattermapbox": [
           {
            "marker": {
             "colorbar": {
              "outlinewidth": 0,
              "ticks": ""
             }
            },
            "type": "scattermapbox"
           }
          ],
          "scatterpolar": [
           {
            "marker": {
             "colorbar": {
              "outlinewidth": 0,
              "ticks": ""
             }
            },
            "type": "scatterpolar"
           }
          ],
          "scatterpolargl": [
           {
            "marker": {
             "colorbar": {
              "outlinewidth": 0,
              "ticks": ""
             }
            },
            "type": "scatterpolargl"
           }
          ],
          "scatterternary": [
           {
            "marker": {
             "colorbar": {
              "outlinewidth": 0,
              "ticks": ""
             }
            },
            "type": "scatterternary"
           }
          ],
          "surface": [
           {
            "colorbar": {
             "outlinewidth": 0,
             "ticks": ""
            },
            "colorscale": [
             [
              0,
              "#0d0887"
             ],
             [
              0.1111111111111111,
              "#46039f"
             ],
             [
              0.2222222222222222,
              "#7201a8"
             ],
             [
              0.3333333333333333,
              "#9c179e"
             ],
             [
              0.4444444444444444,
              "#bd3786"
             ],
             [
              0.5555555555555556,
              "#d8576b"
             ],
             [
              0.6666666666666666,
              "#ed7953"
             ],
             [
              0.7777777777777778,
              "#fb9f3a"
             ],
             [
              0.8888888888888888,
              "#fdca26"
             ],
             [
              1,
              "#f0f921"
             ]
            ],
            "type": "surface"
           }
          ],
          "table": [
           {
            "cells": {
             "fill": {
              "color": "#EBF0F8"
             },
             "line": {
              "color": "white"
             }
            },
            "header": {
             "fill": {
              "color": "#C8D4E3"
             },
             "line": {
              "color": "white"
             }
            },
            "type": "table"
           }
          ]
         },
         "layout": {
          "annotationdefaults": {
           "arrowcolor": "#2a3f5f",
           "arrowhead": 0,
           "arrowwidth": 1
          },
          "autotypenumbers": "strict",
          "coloraxis": {
           "colorbar": {
            "outlinewidth": 0,
            "ticks": ""
           }
          },
          "colorscale": {
           "diverging": [
            [
             0,
             "#8e0152"
            ],
            [
             0.1,
             "#c51b7d"
            ],
            [
             0.2,
             "#de77ae"
            ],
            [
             0.3,
             "#f1b6da"
            ],
            [
             0.4,
             "#fde0ef"
            ],
            [
             0.5,
             "#f7f7f7"
            ],
            [
             0.6,
             "#e6f5d0"
            ],
            [
             0.7,
             "#b8e186"
            ],
            [
             0.8,
             "#7fbc41"
            ],
            [
             0.9,
             "#4d9221"
            ],
            [
             1,
             "#276419"
            ]
           ],
           "sequential": [
            [
             0,
             "#0d0887"
            ],
            [
             0.1111111111111111,
             "#46039f"
            ],
            [
             0.2222222222222222,
             "#7201a8"
            ],
            [
             0.3333333333333333,
             "#9c179e"
            ],
            [
             0.4444444444444444,
             "#bd3786"
            ],
            [
             0.5555555555555556,
             "#d8576b"
            ],
            [
             0.6666666666666666,
             "#ed7953"
            ],
            [
             0.7777777777777778,
             "#fb9f3a"
            ],
            [
             0.8888888888888888,
             "#fdca26"
            ],
            [
             1,
             "#f0f921"
            ]
           ],
           "sequentialminus": [
            [
             0,
             "#0d0887"
            ],
            [
             0.1111111111111111,
             "#46039f"
            ],
            [
             0.2222222222222222,
             "#7201a8"
            ],
            [
             0.3333333333333333,
             "#9c179e"
            ],
            [
             0.4444444444444444,
             "#bd3786"
            ],
            [
             0.5555555555555556,
             "#d8576b"
            ],
            [
             0.6666666666666666,
             "#ed7953"
            ],
            [
             0.7777777777777778,
             "#fb9f3a"
            ],
            [
             0.8888888888888888,
             "#fdca26"
            ],
            [
             1,
             "#f0f921"
            ]
           ]
          },
          "colorway": [
           "#636efa",
           "#EF553B",
           "#00cc96",
           "#ab63fa",
           "#FFA15A",
           "#19d3f3",
           "#FF6692",
           "#B6E880",
           "#FF97FF",
           "#FECB52"
          ],
          "font": {
           "color": "#2a3f5f"
          },
          "geo": {
           "bgcolor": "white",
           "lakecolor": "white",
           "landcolor": "#E5ECF6",
           "showlakes": true,
           "showland": true,
           "subunitcolor": "white"
          },
          "hoverlabel": {
           "align": "left"
          },
          "hovermode": "closest",
          "mapbox": {
           "style": "light"
          },
          "paper_bgcolor": "white",
          "plot_bgcolor": "#E5ECF6",
          "polar": {
           "angularaxis": {
            "gridcolor": "white",
            "linecolor": "white",
            "ticks": ""
           },
           "bgcolor": "#E5ECF6",
           "radialaxis": {
            "gridcolor": "white",
            "linecolor": "white",
            "ticks": ""
           }
          },
          "scene": {
           "xaxis": {
            "backgroundcolor": "#E5ECF6",
            "gridcolor": "white",
            "gridwidth": 2,
            "linecolor": "white",
            "showbackground": true,
            "ticks": "",
            "zerolinecolor": "white"
           },
           "yaxis": {
            "backgroundcolor": "#E5ECF6",
            "gridcolor": "white",
            "gridwidth": 2,
            "linecolor": "white",
            "showbackground": true,
            "ticks": "",
            "zerolinecolor": "white"
           },
           "zaxis": {
            "backgroundcolor": "#E5ECF6",
            "gridcolor": "white",
            "gridwidth": 2,
            "linecolor": "white",
            "showbackground": true,
            "ticks": "",
            "zerolinecolor": "white"
           }
          },
          "shapedefaults": {
           "line": {
            "color": "#2a3f5f"
           }
          },
          "ternary": {
           "aaxis": {
            "gridcolor": "white",
            "linecolor": "white",
            "ticks": ""
           },
           "baxis": {
            "gridcolor": "white",
            "linecolor": "white",
            "ticks": ""
           },
           "bgcolor": "#E5ECF6",
           "caxis": {
            "gridcolor": "white",
            "linecolor": "white",
            "ticks": ""
           }
          },
          "title": {
           "x": 0.05
          },
          "xaxis": {
           "automargin": true,
           "gridcolor": "white",
           "linecolor": "white",
           "ticks": "",
           "title": {
            "standoff": 15
           },
           "zerolinecolor": "white",
           "zerolinewidth": 2
          },
          "yaxis": {
           "automargin": true,
           "gridcolor": "white",
           "linecolor": "white",
           "ticks": "",
           "title": {
            "standoff": 15
           },
           "zerolinecolor": "white",
           "zerolinewidth": 2
          }
         }
        },
        "title": {
         "text": "Slice Plot"
        },
        "width": 3000,
        "xaxis": {
         "anchor": "y",
         "domain": [
          0,
          0.082
         ],
         "title": {
          "text": "bagging_fraction"
         }
        },
        "xaxis10": {
         "anchor": "y10",
         "domain": [
          0.9179999999999999,
          0.9999999999999999
         ],
         "title": {
          "text": "random_state"
         }
        },
        "xaxis2": {
         "anchor": "y2",
         "domain": [
          0.10200000000000001,
          0.184
         ],
         "title": {
          "text": "feature_fraction "
         }
        },
        "xaxis3": {
         "anchor": "y3",
         "domain": [
          0.20400000000000001,
          0.28600000000000003
         ],
         "title": {
          "text": "lambda_l1 "
         }
        },
        "xaxis4": {
         "anchor": "y4",
         "domain": [
          0.306,
          0.388
         ],
         "title": {
          "text": "lambda_l2 "
         }
        },
        "xaxis5": {
         "anchor": "y5",
         "domain": [
          0.40800000000000003,
          0.49000000000000005
         ],
         "title": {
          "text": "learning_rate"
         }
        },
        "xaxis6": {
         "anchor": "y6",
         "domain": [
          0.51,
          0.592
         ],
         "title": {
          "text": "max_bin"
         }
        },
        "xaxis7": {
         "anchor": "y7",
         "domain": [
          0.6120000000000001,
          0.6940000000000001
         ],
         "title": {
          "text": "max_depth"
         }
        },
        "xaxis8": {
         "anchor": "y8",
         "domain": [
          0.7140000000000001,
          0.796
         ],
         "title": {
          "text": "n_estimators"
         }
        },
        "xaxis9": {
         "anchor": "y9",
         "domain": [
          0.8160000000000001,
          0.898
         ],
         "title": {
          "text": "num_leaves"
         }
        },
        "yaxis": {
         "anchor": "x",
         "domain": [
          0,
          1
         ],
         "title": {
          "text": "Objective Value"
         }
        },
        "yaxis10": {
         "anchor": "x10",
         "domain": [
          0,
          1
         ],
         "matches": "y",
         "showticklabels": false
        },
        "yaxis2": {
         "anchor": "x2",
         "domain": [
          0,
          1
         ],
         "matches": "y",
         "showticklabels": false
        },
        "yaxis3": {
         "anchor": "x3",
         "domain": [
          0,
          1
         ],
         "matches": "y",
         "showticklabels": false
        },
        "yaxis4": {
         "anchor": "x4",
         "domain": [
          0,
          1
         ],
         "matches": "y",
         "showticklabels": false
        },
        "yaxis5": {
         "anchor": "x5",
         "domain": [
          0,
          1
         ],
         "matches": "y",
         "showticklabels": false
        },
        "yaxis6": {
         "anchor": "x6",
         "domain": [
          0,
          1
         ],
         "matches": "y",
         "showticklabels": false
        },
        "yaxis7": {
         "anchor": "x7",
         "domain": [
          0,
          1
         ],
         "matches": "y",
         "showticklabels": false
        },
        "yaxis8": {
         "anchor": "x8",
         "domain": [
          0,
          1
         ],
         "matches": "y",
         "showticklabels": false
        },
        "yaxis9": {
         "anchor": "x9",
         "domain": [
          0,
          1
         ],
         "matches": "y",
         "showticklabels": false
        }
       }
      },
      "text/html": [
       "<div>                            <div id=\"76cce177-571d-4b94-a155-6a5689c40e78\" class=\"plotly-graph-div\" style=\"height:525px; width:3000px;\"></div>            <script type=\"text/javascript\">                require([\"plotly\"], function(Plotly) {                    window.PLOTLYENV=window.PLOTLYENV || {};                                    if (document.getElementById(\"76cce177-571d-4b94-a155-6a5689c40e78\")) {                    Plotly.newPlot(                        \"76cce177-571d-4b94-a155-6a5689c40e78\",                        [{\"marker\":{\"color\":[0,1,2,3,4,5,6,7,8,9,10,11,12,13,14,15,16,17,18,19,20,21,22,23,24,25,26,27,28,29,30,31,32,33,34,35,36,37,38,39,40,41,42,43,44,45,46,47,48,49,50,51,52,53,54,55,56,57,58,59,60,61,62,63,64,65,66,67,68,69,70,71,72,73,74,75,76,77,78,79,80,81,82,83,84,85,86,87,88,89,90,91,92,93,94,95,96,97,98,99],\"colorbar\":{\"title\":{\"text\":\"Trial\"},\"x\":1.0,\"xpad\":40},\"colorscale\":[[0.0,\"rgb(247,251,255)\"],[0.125,\"rgb(222,235,247)\"],[0.25,\"rgb(198,219,239)\"],[0.375,\"rgb(158,202,225)\"],[0.5,\"rgb(107,174,214)\"],[0.625,\"rgb(66,146,198)\"],[0.75,\"rgb(33,113,181)\"],[0.875,\"rgb(8,81,156)\"],[1.0,\"rgb(8,48,107)\"]],\"line\":{\"color\":\"Grey\",\"width\":0.5},\"showscale\":true},\"mode\":\"markers\",\"showlegend\":false,\"x\":[0.5,0.9,0.30000000000000004,0.5,0.2,0.2,1.0,0.7000000000000001,0.6,1.0,0.4,0.7000000000000001,0.7000000000000001,0.8,0.7000000000000001,0.8,0.8,0.9,0.6,0.8,0.4,0.4,0.1,0.4,0.6,0.9,0.5,0.7000000000000001,0.30000000000000004,0.6,0.8,0.6,0.5,0.7000000000000001,0.9,0.30000000000000004,0.4,0.5,0.6,0.8,0.2,0.30000000000000004,0.30000000000000004,0.2,0.30000000000000004,0.4,0.5,0.1,1.0,0.7000000000000001,0.6,0.6,0.7000000000000001,0.7000000000000001,0.7000000000000001,0.6,0.8,0.7000000000000001,0.9,0.8,0.6,0.5,0.2,0.6,0.2,0.7000000000000001,0.4,0.8,0.1,0.6,0.5,0.6,0.7000000000000001,0.6,0.7000000000000001,0.5,0.8,0.9,1.0,0.9,0.9,0.6,0.8,0.8,0.8,0.7000000000000001,0.9,1.0,1.0,1.0,1.0,1.0,1.0,1.0,1.0,1.0,1.0,1.0,0.9,1.0],\"y\":[0.8628034145799468,0.8626620811304562,0.8617556706477808,0.8614508188426966,0.8626559982622586,0.8620289071884505,0.8606343224641227,0.8593327619747256,0.862046528188684,0.8605483170563557,0.8603139216665914,0.8630741519722227,0.8628264382593578,0.8615093396962171,0.8584555973239493,0.8633010888607797,0.8621227503683409,0.8568691225407015,0.8615239356546521,0.8622680987169226,0.8631053169586307,0.8621131126035644,0.8615764080029109,0.8626817053518548,0.8607434618777257,0.8624410028259243,0.8613527607565328,0.8611380902634318,0.861976350857533,0.8629754235060826,0.8606628440037725,0.8629334709636783,0.8619785597068603,0.8627441675011364,0.8620923645650149,0.8629402665703632,0.8623728055288457,0.861917258203108,0.8617214389503001,0.86216020199393,0.8609184932512098,0.8628575284673176,0.8625086139197645,0.8623148103150472,0.8622768174523412,0.8618463587167081,0.8613780705594511,0.8620921589071363,0.856742337031753,0.8618203361772393,0.8631082519735214,0.8623045936863104,0.8630034752843789,0.8623631539257144,0.8619357998661201,0.8600665885808485,0.8626453930075382,0.8620239958793092,0.8620096516058225,0.8623611373485728,0.8601416349617692,0.862491796420233,0.863115604431977,0.8630363234292057,0.8625433386652533,0.8625367372589027,0.8625662724210679,0.8616640990446163,0.8594591827077682,0.861982412765798,0.8629346064904364,0.8624299914917319,0.8627666665925006,0.8623149968118543,0.862636132771533,0.8623664354742552,0.8629512498989496,0.8631834313573206,0.8629128722991641,0.8612118194006779,0.8597634925681448,0.8626165384444183,0.863387037438397,0.8618404979007812,0.8628358432425116,0.8631181941704664,0.862434863880142,0.8634045498526653,0.8633276177578578,0.8617796770685606,0.8626726365103092,0.8633981435108508,0.863429694704909,0.8623307286629798,0.8633183512125921,0.86314569869994,0.8627486297418929,0.8627104617364013,0.8615383300425755,0.8625600141468984],\"type\":\"scatter\",\"xaxis\":\"x\",\"yaxis\":\"y\"},{\"marker\":{\"color\":[0,1,2,3,4,5,6,7,8,9,10,11,12,13,14,15,16,17,18,19,20,21,22,23,24,25,26,27,28,29,30,31,32,33,34,35,36,37,38,39,40,41,42,43,44,45,46,47,48,49,50,51,52,53,54,55,56,57,58,59,60,61,62,63,64,65,66,67,68,69,70,71,72,73,74,75,76,77,78,79,80,81,82,83,84,85,86,87,88,89,90,91,92,93,94,95,96,97,98,99],\"colorbar\":{\"title\":{\"text\":\"Trial\"},\"x\":1.0,\"xpad\":40},\"colorscale\":[[0.0,\"rgb(247,251,255)\"],[0.125,\"rgb(222,235,247)\"],[0.25,\"rgb(198,219,239)\"],[0.375,\"rgb(158,202,225)\"],[0.5,\"rgb(107,174,214)\"],[0.625,\"rgb(66,146,198)\"],[0.75,\"rgb(33,113,181)\"],[0.875,\"rgb(8,81,156)\"],[1.0,\"rgb(8,48,107)\"]],\"line\":{\"color\":\"Grey\",\"width\":0.5},\"showscale\":false},\"mode\":\"markers\",\"showlegend\":false,\"x\":[0.30000000000000004,0.4,0.8,0.30000000000000004,0.30000000000000004,0.30000000000000004,0.2,0.9,0.6,1.0,0.1,0.5,0.6,0.6,0.7000000000000001,0.5,0.5,0.5,0.7000000000000001,0.4,0.8,0.8,0.7000000000000001,0.5,1.0,0.4,0.8,0.9,0.5,0.4,0.7000000000000001,0.4,0.2,0.4,0.6,0.5,0.30000000000000004,0.4,0.2,0.30000000000000004,0.8,0.5,0.5,0.6,0.4,0.6,0.9,0.30000000000000004,0.5,0.6,0.7000000000000001,0.7000000000000001,0.4,0.4,0.7000000000000001,0.9,0.8,0.2,0.1,0.6,0.4,0.5,0.5,0.5,0.5,0.6,0.5,0.8,0.6,0.7000000000000001,0.5,0.4,0.4,0.4,0.30000000000000004,0.5,0.5,0.30000000000000004,0.30000000000000004,0.9,1.0,0.4,0.30000000000000004,0.2,0.30000000000000004,0.30000000000000004,0.2,0.30000000000000004,0.30000000000000004,0.2,0.30000000000000004,0.30000000000000004,0.30000000000000004,0.30000000000000004,0.30000000000000004,0.30000000000000004,0.30000000000000004,0.30000000000000004,0.2,0.30000000000000004],\"y\":[0.8628034145799468,0.8626620811304562,0.8617556706477808,0.8614508188426966,0.8626559982622586,0.8620289071884505,0.8606343224641227,0.8593327619747256,0.862046528188684,0.8605483170563557,0.8603139216665914,0.8630741519722227,0.8628264382593578,0.8615093396962171,0.8584555973239493,0.8633010888607797,0.8621227503683409,0.8568691225407015,0.8615239356546521,0.8622680987169226,0.8631053169586307,0.8621131126035644,0.8615764080029109,0.8626817053518548,0.8607434618777257,0.8624410028259243,0.8613527607565328,0.8611380902634318,0.861976350857533,0.8629754235060826,0.8606628440037725,0.8629334709636783,0.8619785597068603,0.8627441675011364,0.8620923645650149,0.8629402665703632,0.8623728055288457,0.861917258203108,0.8617214389503001,0.86216020199393,0.8609184932512098,0.8628575284673176,0.8625086139197645,0.8623148103150472,0.8622768174523412,0.8618463587167081,0.8613780705594511,0.8620921589071363,0.856742337031753,0.8618203361772393,0.8631082519735214,0.8623045936863104,0.8630034752843789,0.8623631539257144,0.8619357998661201,0.8600665885808485,0.8626453930075382,0.8620239958793092,0.8620096516058225,0.8623611373485728,0.8601416349617692,0.862491796420233,0.863115604431977,0.8630363234292057,0.8625433386652533,0.8625367372589027,0.8625662724210679,0.8616640990446163,0.8594591827077682,0.861982412765798,0.8629346064904364,0.8624299914917319,0.8627666665925006,0.8623149968118543,0.862636132771533,0.8623664354742552,0.8629512498989496,0.8631834313573206,0.8629128722991641,0.8612118194006779,0.8597634925681448,0.8626165384444183,0.863387037438397,0.8618404979007812,0.8628358432425116,0.8631181941704664,0.862434863880142,0.8634045498526653,0.8633276177578578,0.8617796770685606,0.8626726365103092,0.8633981435108508,0.863429694704909,0.8623307286629798,0.8633183512125921,0.86314569869994,0.8627486297418929,0.8627104617364013,0.8615383300425755,0.8625600141468984],\"type\":\"scatter\",\"xaxis\":\"x2\",\"yaxis\":\"y2\"},{\"marker\":{\"color\":[0,1,2,3,4,5,6,7,8,9,10,11,12,13,14,15,16,17,18,19,20,21,22,23,24,25,26,27,28,29,30,31,32,33,34,35,36,37,38,39,40,41,42,43,44,45,46,47,48,49,50,51,52,53,54,55,56,57,58,59,60,61,62,63,64,65,66,67,68,69,70,71,72,73,74,75,76,77,78,79,80,81,82,83,84,85,86,87,88,89,90,91,92,93,94,95,96,97,98,99],\"colorbar\":{\"title\":{\"text\":\"Trial\"},\"x\":1.0,\"xpad\":40},\"colorscale\":[[0.0,\"rgb(247,251,255)\"],[0.125,\"rgb(222,235,247)\"],[0.25,\"rgb(198,219,239)\"],[0.375,\"rgb(158,202,225)\"],[0.5,\"rgb(107,174,214)\"],[0.625,\"rgb(66,146,198)\"],[0.75,\"rgb(33,113,181)\"],[0.875,\"rgb(8,81,156)\"],[1.0,\"rgb(8,48,107)\"]],\"line\":{\"color\":\"Grey\",\"width\":0.5},\"showscale\":false},\"mode\":\"markers\",\"showlegend\":false,\"x\":[5.01,5.22,5.58,8.99,7.24,5.37,9.21,1.37,9.81,3.12,2.87,4.16,3.41,2.7800000000000002,0.41000000000000003,4.0,7.08,4.0600000000000005,1.94,7.2,4.25,3.98,5.95,4.25,6.4,2.04,4.51,3.5300000000000002,2.2600000000000002,4.72,1.27,4.74,5.08,6.0600000000000005,5.07,3.8200000000000003,6.58,8.22,5.53,4.64,2.5500000000000003,3.7600000000000002,3.2800000000000002,4.34,3.64,5.53,2.97,4.69,3.85,5.19,3.18,3.19,2.48,2.48,1.62,0.38,1.11,2.75,4.3100000000000005,3.2600000000000002,4.1,4.04,3.49,3.5300000000000002,1.96,3.39,2.88,2.36,0.76,3.58,1.7,4.96,4.49,2.7,3.08,4.87,4.18,2.19,2.19,3.66,1.72,5.83,3.42,3.46,3.0700000000000003,3.85,3.9,4.48,4.46,3.88,4.48,4.3,5.32,5.3100000000000005,4.8,4.82,5.65,6.23,4.89,5.34],\"y\":[0.8628034145799468,0.8626620811304562,0.8617556706477808,0.8614508188426966,0.8626559982622586,0.8620289071884505,0.8606343224641227,0.8593327619747256,0.862046528188684,0.8605483170563557,0.8603139216665914,0.8630741519722227,0.8628264382593578,0.8615093396962171,0.8584555973239493,0.8633010888607797,0.8621227503683409,0.8568691225407015,0.8615239356546521,0.8622680987169226,0.8631053169586307,0.8621131126035644,0.8615764080029109,0.8626817053518548,0.8607434618777257,0.8624410028259243,0.8613527607565328,0.8611380902634318,0.861976350857533,0.8629754235060826,0.8606628440037725,0.8629334709636783,0.8619785597068603,0.8627441675011364,0.8620923645650149,0.8629402665703632,0.8623728055288457,0.861917258203108,0.8617214389503001,0.86216020199393,0.8609184932512098,0.8628575284673176,0.8625086139197645,0.8623148103150472,0.8622768174523412,0.8618463587167081,0.8613780705594511,0.8620921589071363,0.856742337031753,0.8618203361772393,0.8631082519735214,0.8623045936863104,0.8630034752843789,0.8623631539257144,0.8619357998661201,0.8600665885808485,0.8626453930075382,0.8620239958793092,0.8620096516058225,0.8623611373485728,0.8601416349617692,0.862491796420233,0.863115604431977,0.8630363234292057,0.8625433386652533,0.8625367372589027,0.8625662724210679,0.8616640990446163,0.8594591827077682,0.861982412765798,0.8629346064904364,0.8624299914917319,0.8627666665925006,0.8623149968118543,0.862636132771533,0.8623664354742552,0.8629512498989496,0.8631834313573206,0.8629128722991641,0.8612118194006779,0.8597634925681448,0.8626165384444183,0.863387037438397,0.8618404979007812,0.8628358432425116,0.8631181941704664,0.862434863880142,0.8634045498526653,0.8633276177578578,0.8617796770685606,0.8626726365103092,0.8633981435108508,0.863429694704909,0.8623307286629798,0.8633183512125921,0.86314569869994,0.8627486297418929,0.8627104617364013,0.8615383300425755,0.8625600141468984],\"type\":\"scatter\",\"xaxis\":\"x3\",\"yaxis\":\"y3\"},{\"marker\":{\"color\":[0,1,2,3,4,5,6,7,8,9,10,11,12,13,14,15,16,17,18,19,20,21,22,23,24,25,26,27,28,29,30,31,32,33,34,35,36,37,38,39,40,41,42,43,44,45,46,47,48,49,50,51,52,53,54,55,56,57,58,59,60,61,62,63,64,65,66,67,68,69,70,71,72,73,74,75,76,77,78,79,80,81,82,83,84,85,86,87,88,89,90,91,92,93,94,95,96,97,98,99],\"colorbar\":{\"title\":{\"text\":\"Trial\"},\"x\":1.0,\"xpad\":40},\"colorscale\":[[0.0,\"rgb(247,251,255)\"],[0.125,\"rgb(222,235,247)\"],[0.25,\"rgb(198,219,239)\"],[0.375,\"rgb(158,202,225)\"],[0.5,\"rgb(107,174,214)\"],[0.625,\"rgb(66,146,198)\"],[0.75,\"rgb(33,113,181)\"],[0.875,\"rgb(8,81,156)\"],[1.0,\"rgb(8,48,107)\"]],\"line\":{\"color\":\"Grey\",\"width\":0.5},\"showscale\":false},\"mode\":\"markers\",\"showlegend\":false,\"x\":[1.7,4.36,8.03,4.62,1.78,5.29,2.49,4.22,0.06,1.9000000000000001,9.950000000000001,6.74,7.24,6.97,7.0600000000000005,9.02,10.0,8.74,6.13,8.36,9.21,8.98,9.28,7.79,6.17,5.87,7.87,9.43,3.2800000000000002,8.64,6.68,8.56,7.7,9.38,8.24,8.97,7.47,5.55,6.51,4.55,9.66,8.97,8.28,8.78,9.18,8.02,9.77,4.96,7.21,0.02,8.73,8.72,9.51,9.53,0.74,4.0,9.99,7.640000000000001,8.42,8.040000000000001,9.14,8.92,9.57,9.58,9.66,9.4,9.92,9.5,8.42,9.26,6.72,9.09,8.61,8.71,8.120000000000001,7.4,9.72,9.22,9.28,9.99,8.870000000000001,9.58,8.5,8.44,9.14,7.96,7.8100000000000005,7.01,6.28,7.41,6.95,6.13,6.25,6.24,5.39,5.75,5.61,5.19,5.87,6.390000000000001],\"y\":[0.8628034145799468,0.8626620811304562,0.8617556706477808,0.8614508188426966,0.8626559982622586,0.8620289071884505,0.8606343224641227,0.8593327619747256,0.862046528188684,0.8605483170563557,0.8603139216665914,0.8630741519722227,0.8628264382593578,0.8615093396962171,0.8584555973239493,0.8633010888607797,0.8621227503683409,0.8568691225407015,0.8615239356546521,0.8622680987169226,0.8631053169586307,0.8621131126035644,0.8615764080029109,0.8626817053518548,0.8607434618777257,0.8624410028259243,0.8613527607565328,0.8611380902634318,0.861976350857533,0.8629754235060826,0.8606628440037725,0.8629334709636783,0.8619785597068603,0.8627441675011364,0.8620923645650149,0.8629402665703632,0.8623728055288457,0.861917258203108,0.8617214389503001,0.86216020199393,0.8609184932512098,0.8628575284673176,0.8625086139197645,0.8623148103150472,0.8622768174523412,0.8618463587167081,0.8613780705594511,0.8620921589071363,0.856742337031753,0.8618203361772393,0.8631082519735214,0.8623045936863104,0.8630034752843789,0.8623631539257144,0.8619357998661201,0.8600665885808485,0.8626453930075382,0.8620239958793092,0.8620096516058225,0.8623611373485728,0.8601416349617692,0.862491796420233,0.863115604431977,0.8630363234292057,0.8625433386652533,0.8625367372589027,0.8625662724210679,0.8616640990446163,0.8594591827077682,0.861982412765798,0.8629346064904364,0.8624299914917319,0.8627666665925006,0.8623149968118543,0.862636132771533,0.8623664354742552,0.8629512498989496,0.8631834313573206,0.8629128722991641,0.8612118194006779,0.8597634925681448,0.8626165384444183,0.863387037438397,0.8618404979007812,0.8628358432425116,0.8631181941704664,0.862434863880142,0.8634045498526653,0.8633276177578578,0.8617796770685606,0.8626726365103092,0.8633981435108508,0.863429694704909,0.8623307286629798,0.8633183512125921,0.86314569869994,0.8627486297418929,0.8627104617364013,0.8615383300425755,0.8625600141468984],\"type\":\"scatter\",\"xaxis\":\"x4\",\"yaxis\":\"y4\"},{\"marker\":{\"color\":[0,1,2,3,4,5,6,7,8,9,10,11,12,13,14,15,16,17,18,19,20,21,22,23,24,25,26,27,28,29,30,31,32,33,34,35,36,37,38,39,40,41,42,43,44,45,46,47,48,49,50,51,52,53,54,55,56,57,58,59,60,61,62,63,64,65,66,67,68,69,70,71,72,73,74,75,76,77,78,79,80,81,82,83,84,85,86,87,88,89,90,91,92,93,94,95,96,97,98,99],\"colorbar\":{\"title\":{\"text\":\"Trial\"},\"x\":1.0,\"xpad\":40},\"colorscale\":[[0.0,\"rgb(247,251,255)\"],[0.125,\"rgb(222,235,247)\"],[0.25,\"rgb(198,219,239)\"],[0.375,\"rgb(158,202,225)\"],[0.5,\"rgb(107,174,214)\"],[0.625,\"rgb(66,146,198)\"],[0.75,\"rgb(33,113,181)\"],[0.875,\"rgb(8,81,156)\"],[1.0,\"rgb(8,48,107)\"]],\"line\":{\"color\":\"Grey\",\"width\":0.5},\"showscale\":false},\"mode\":\"markers\",\"showlegend\":false,\"x\":[0.046900000000000004,0.0345,0.0171,0.0198,0.0434,0.0826,0.0279,0.04,0.027700000000000002,0.050800000000000005,0.07050000000000001,0.062400000000000004,0.0625,0.06480000000000001,0.0993,0.063,0.0823,0.0045000000000000005,0.057300000000000004,0.0767,0.0947,0.0969,0.0883,0.0723,0.0548,0.0896,0.0616,0.06820000000000001,0.0781,0.0487,0.09390000000000001,0.0482,0.0364,0.0522,0.058800000000000005,0.045500000000000006,0.0302,0.020900000000000002,0.043000000000000003,0.0756,0.0659,0.0459,0.0388,0.0495,0.0337,0.043000000000000003,0.055600000000000004,0.0599,0.004,0.08270000000000001,0.020100000000000003,0.012799999999999999,0.0182,0.013500000000000002,0.0239,0.009600000000000001,0.023500000000000004,0.030100000000000002,0.0717,0.016,0.0073,0.052700000000000004,0.0463,0.0645,0.0633,0.06810000000000001,0.08460000000000001,0.07880000000000001,0.0751,0.0665,0.09190000000000001,0.055600000000000004,0.0188,0.1,0.060500000000000005,0.039400000000000004,0.0521,0.033800000000000004,0.034800000000000005,0.0238,0.0633,0.027200000000000002,0.0475,0.0415,0.0313,0.05790000000000001,0.0575,0.047200000000000006,0.0437,0.0463,0.037500000000000006,0.044000000000000004,0.049,0.044000000000000004,0.0483,0.0483,0.049600000000000005,0.053700000000000005,0.0507,0.048],\"y\":[0.8628034145799468,0.8626620811304562,0.8617556706477808,0.8614508188426966,0.8626559982622586,0.8620289071884505,0.8606343224641227,0.8593327619747256,0.862046528188684,0.8605483170563557,0.8603139216665914,0.8630741519722227,0.8628264382593578,0.8615093396962171,0.8584555973239493,0.8633010888607797,0.8621227503683409,0.8568691225407015,0.8615239356546521,0.8622680987169226,0.8631053169586307,0.8621131126035644,0.8615764080029109,0.8626817053518548,0.8607434618777257,0.8624410028259243,0.8613527607565328,0.8611380902634318,0.861976350857533,0.8629754235060826,0.8606628440037725,0.8629334709636783,0.8619785597068603,0.8627441675011364,0.8620923645650149,0.8629402665703632,0.8623728055288457,0.861917258203108,0.8617214389503001,0.86216020199393,0.8609184932512098,0.8628575284673176,0.8625086139197645,0.8623148103150472,0.8622768174523412,0.8618463587167081,0.8613780705594511,0.8620921589071363,0.856742337031753,0.8618203361772393,0.8631082519735214,0.8623045936863104,0.8630034752843789,0.8623631539257144,0.8619357998661201,0.8600665885808485,0.8626453930075382,0.8620239958793092,0.8620096516058225,0.8623611373485728,0.8601416349617692,0.862491796420233,0.863115604431977,0.8630363234292057,0.8625433386652533,0.8625367372589027,0.8625662724210679,0.8616640990446163,0.8594591827077682,0.861982412765798,0.8629346064904364,0.8624299914917319,0.8627666665925006,0.8623149968118543,0.862636132771533,0.8623664354742552,0.8629512498989496,0.8631834313573206,0.8629128722991641,0.8612118194006779,0.8597634925681448,0.8626165384444183,0.863387037438397,0.8618404979007812,0.8628358432425116,0.8631181941704664,0.862434863880142,0.8634045498526653,0.8633276177578578,0.8617796770685606,0.8626726365103092,0.8633981435108508,0.863429694704909,0.8623307286629798,0.8633183512125921,0.86314569869994,0.8627486297418929,0.8627104617364013,0.8615383300425755,0.8625600141468984],\"type\":\"scatter\",\"xaxis\":\"x5\",\"yaxis\":\"y5\"},{\"marker\":{\"color\":[0,1,2,3,4,5,6,7,8,9,10,11,12,13,14,15,16,17,18,19,20,21,22,23,24,25,26,27,28,29,30,31,32,33,34,35,36,37,38,39,40,41,42,43,44,45,46,47,48,49,50,51,52,53,54,55,56,57,58,59,60,61,62,63,64,65,66,67,68,69,70,71,72,73,74,75,76,77,78,79,80,81,82,83,84,85,86,87,88,89,90,91,92,93,94,95,96,97,98,99],\"colorbar\":{\"title\":{\"text\":\"Trial\"},\"x\":1.0,\"xpad\":40},\"colorscale\":[[0.0,\"rgb(247,251,255)\"],[0.125,\"rgb(222,235,247)\"],[0.25,\"rgb(198,219,239)\"],[0.375,\"rgb(158,202,225)\"],[0.5,\"rgb(107,174,214)\"],[0.625,\"rgb(66,146,198)\"],[0.75,\"rgb(33,113,181)\"],[0.875,\"rgb(8,81,156)\"],[1.0,\"rgb(8,48,107)\"]],\"line\":{\"color\":\"Grey\",\"width\":0.5},\"showscale\":false},\"mode\":\"markers\",\"showlegend\":false,\"x\":[170,160,180,230,240,200,250,230,170,240,300,160,200,200,200,190,180,270,160,210,180,180,190,160,210,170,220,190,190,170,180,170,160,160,170,180,170,190,210,180,260,160,180,190,170,180,290,200,220,160,180,180,170,170,190,170,160,170,200,160,240,180,190,190,200,190,220,210,200,190,180,170,180,190,170,170,160,180,200,190,210,180,180,180,190,180,180,190,200,200,190,180,180,180,190,200,210,200,190,200],\"y\":[0.8628034145799468,0.8626620811304562,0.8617556706477808,0.8614508188426966,0.8626559982622586,0.8620289071884505,0.8606343224641227,0.8593327619747256,0.862046528188684,0.8605483170563557,0.8603139216665914,0.8630741519722227,0.8628264382593578,0.8615093396962171,0.8584555973239493,0.8633010888607797,0.8621227503683409,0.8568691225407015,0.8615239356546521,0.8622680987169226,0.8631053169586307,0.8621131126035644,0.8615764080029109,0.8626817053518548,0.8607434618777257,0.8624410028259243,0.8613527607565328,0.8611380902634318,0.861976350857533,0.8629754235060826,0.8606628440037725,0.8629334709636783,0.8619785597068603,0.8627441675011364,0.8620923645650149,0.8629402665703632,0.8623728055288457,0.861917258203108,0.8617214389503001,0.86216020199393,0.8609184932512098,0.8628575284673176,0.8625086139197645,0.8623148103150472,0.8622768174523412,0.8618463587167081,0.8613780705594511,0.8620921589071363,0.856742337031753,0.8618203361772393,0.8631082519735214,0.8623045936863104,0.8630034752843789,0.8623631539257144,0.8619357998661201,0.8600665885808485,0.8626453930075382,0.8620239958793092,0.8620096516058225,0.8623611373485728,0.8601416349617692,0.862491796420233,0.863115604431977,0.8630363234292057,0.8625433386652533,0.8625367372589027,0.8625662724210679,0.8616640990446163,0.8594591827077682,0.861982412765798,0.8629346064904364,0.8624299914917319,0.8627666665925006,0.8623149968118543,0.862636132771533,0.8623664354742552,0.8629512498989496,0.8631834313573206,0.8629128722991641,0.8612118194006779,0.8597634925681448,0.8626165384444183,0.863387037438397,0.8618404979007812,0.8628358432425116,0.8631181941704664,0.862434863880142,0.8634045498526653,0.8633276177578578,0.8617796770685606,0.8626726365103092,0.8633981435108508,0.863429694704909,0.8623307286629798,0.8633183512125921,0.86314569869994,0.8627486297418929,0.8627104617364013,0.8615383300425755,0.8625600141468984],\"type\":\"scatter\",\"xaxis\":\"x6\",\"yaxis\":\"y6\"},{\"marker\":{\"color\":[0,1,2,3,4,5,6,7,8,9,10,11,12,13,14,15,16,17,18,19,20,21,22,23,24,25,26,27,28,29,30,31,32,33,34,35,36,37,38,39,40,41,42,43,44,45,46,47,48,49,50,51,52,53,54,55,56,57,58,59,60,61,62,63,64,65,66,67,68,69,70,71,72,73,74,75,76,77,78,79,80,81,82,83,84,85,86,87,88,89,90,91,92,93,94,95,96,97,98,99],\"colorbar\":{\"title\":{\"text\":\"Trial\"},\"x\":1.0,\"xpad\":40},\"colorscale\":[[0.0,\"rgb(247,251,255)\"],[0.125,\"rgb(222,235,247)\"],[0.25,\"rgb(198,219,239)\"],[0.375,\"rgb(158,202,225)\"],[0.5,\"rgb(107,174,214)\"],[0.625,\"rgb(66,146,198)\"],[0.75,\"rgb(33,113,181)\"],[0.875,\"rgb(8,81,156)\"],[1.0,\"rgb(8,48,107)\"]],\"line\":{\"color\":\"Grey\",\"width\":0.5},\"showscale\":false},\"mode\":\"markers\",\"showlegend\":false,\"x\":[15,21,14,28,15,20,25,20,20,11,5,9,7,5,9,9,11,11,8,17,13,13,9,12,17,7,10,13,7,15,16,14,15,23,13,18,9,15,28,18,12,19,30,22,16,18,14,6,10,19,12,12,10,10,8,11,8,12,9,6,14,16,13,10,11,10,8,9,13,11,7,12,13,10,14,15,13,11,11,10,6,12,15,9,12,10,14,11,11,11,14,9,8,8,9,7,5,7,9,6],\"y\":[0.8628034145799468,0.8626620811304562,0.8617556706477808,0.8614508188426966,0.8626559982622586,0.8620289071884505,0.8606343224641227,0.8593327619747256,0.862046528188684,0.8605483170563557,0.8603139216665914,0.8630741519722227,0.8628264382593578,0.8615093396962171,0.8584555973239493,0.8633010888607797,0.8621227503683409,0.8568691225407015,0.8615239356546521,0.8622680987169226,0.8631053169586307,0.8621131126035644,0.8615764080029109,0.8626817053518548,0.8607434618777257,0.8624410028259243,0.8613527607565328,0.8611380902634318,0.861976350857533,0.8629754235060826,0.8606628440037725,0.8629334709636783,0.8619785597068603,0.8627441675011364,0.8620923645650149,0.8629402665703632,0.8623728055288457,0.861917258203108,0.8617214389503001,0.86216020199393,0.8609184932512098,0.8628575284673176,0.8625086139197645,0.8623148103150472,0.8622768174523412,0.8618463587167081,0.8613780705594511,0.8620921589071363,0.856742337031753,0.8618203361772393,0.8631082519735214,0.8623045936863104,0.8630034752843789,0.8623631539257144,0.8619357998661201,0.8600665885808485,0.8626453930075382,0.8620239958793092,0.8620096516058225,0.8623611373485728,0.8601416349617692,0.862491796420233,0.863115604431977,0.8630363234292057,0.8625433386652533,0.8625367372589027,0.8625662724210679,0.8616640990446163,0.8594591827077682,0.861982412765798,0.8629346064904364,0.8624299914917319,0.8627666665925006,0.8623149968118543,0.862636132771533,0.8623664354742552,0.8629512498989496,0.8631834313573206,0.8629128722991641,0.8612118194006779,0.8597634925681448,0.8626165384444183,0.863387037438397,0.8618404979007812,0.8628358432425116,0.8631181941704664,0.862434863880142,0.8634045498526653,0.8633276177578578,0.8617796770685606,0.8626726365103092,0.8633981435108508,0.863429694704909,0.8623307286629798,0.8633183512125921,0.86314569869994,0.8627486297418929,0.8627104617364013,0.8615383300425755,0.8625600141468984],\"type\":\"scatter\",\"xaxis\":\"x7\",\"yaxis\":\"y7\"},{\"marker\":{\"color\":[0,1,2,3,4,5,6,7,8,9,10,11,12,13,14,15,16,17,18,19,20,21,22,23,24,25,26,27,28,29,30,31,32,33,34,35,36,37,38,39,40,41,42,43,44,45,46,47,48,49,50,51,52,53,54,55,56,57,58,59,60,61,62,63,64,65,66,67,68,69,70,71,72,73,74,75,76,77,78,79,80,81,82,83,84,85,86,87,88,89,90,91,92,93,94,95,96,97,98,99],\"colorbar\":{\"title\":{\"text\":\"Trial\"},\"x\":1.0,\"xpad\":40},\"colorscale\":[[0.0,\"rgb(247,251,255)\"],[0.125,\"rgb(222,235,247)\"],[0.25,\"rgb(198,219,239)\"],[0.375,\"rgb(158,202,225)\"],[0.5,\"rgb(107,174,214)\"],[0.625,\"rgb(66,146,198)\"],[0.75,\"rgb(33,113,181)\"],[0.875,\"rgb(8,81,156)\"],[1.0,\"rgb(8,48,107)\"]],\"line\":{\"color\":\"Grey\",\"width\":0.5},\"showscale\":false},\"mode\":\"markers\",\"showlegend\":false,\"x\":[649,680,682,671,648,618,691,674,660,617,640,636,635,633,602,627,622,602,661,624,609,610,628,610,640,612,628,643,657,651,631,650,654,637,646,617,623,667,700,653,645,616,604,614,619,606,628,638,608,621,628,633,627,630,626,640,633,600,625,665,644,618,621,613,621,613,610,635,626,614,677,621,630,649,606,623,640,685,615,700,685,693,611,618,610,612,607,612,603,603,600,604,604,605,611,611,602,611,608,603],\"y\":[0.8628034145799468,0.8626620811304562,0.8617556706477808,0.8614508188426966,0.8626559982622586,0.8620289071884505,0.8606343224641227,0.8593327619747256,0.862046528188684,0.8605483170563557,0.8603139216665914,0.8630741519722227,0.8628264382593578,0.8615093396962171,0.8584555973239493,0.8633010888607797,0.8621227503683409,0.8568691225407015,0.8615239356546521,0.8622680987169226,0.8631053169586307,0.8621131126035644,0.8615764080029109,0.8626817053518548,0.8607434618777257,0.8624410028259243,0.8613527607565328,0.8611380902634318,0.861976350857533,0.8629754235060826,0.8606628440037725,0.8629334709636783,0.8619785597068603,0.8627441675011364,0.8620923645650149,0.8629402665703632,0.8623728055288457,0.861917258203108,0.8617214389503001,0.86216020199393,0.8609184932512098,0.8628575284673176,0.8625086139197645,0.8623148103150472,0.8622768174523412,0.8618463587167081,0.8613780705594511,0.8620921589071363,0.856742337031753,0.8618203361772393,0.8631082519735214,0.8623045936863104,0.8630034752843789,0.8623631539257144,0.8619357998661201,0.8600665885808485,0.8626453930075382,0.8620239958793092,0.8620096516058225,0.8623611373485728,0.8601416349617692,0.862491796420233,0.863115604431977,0.8630363234292057,0.8625433386652533,0.8625367372589027,0.8625662724210679,0.8616640990446163,0.8594591827077682,0.861982412765798,0.8629346064904364,0.8624299914917319,0.8627666665925006,0.8623149968118543,0.862636132771533,0.8623664354742552,0.8629512498989496,0.8631834313573206,0.8629128722991641,0.8612118194006779,0.8597634925681448,0.8626165384444183,0.863387037438397,0.8618404979007812,0.8628358432425116,0.8631181941704664,0.862434863880142,0.8634045498526653,0.8633276177578578,0.8617796770685606,0.8626726365103092,0.8633981435108508,0.863429694704909,0.8623307286629798,0.8633183512125921,0.86314569869994,0.8627486297418929,0.8627104617364013,0.8615383300425755,0.8625600141468984],\"type\":\"scatter\",\"xaxis\":\"x8\",\"yaxis\":\"y8\"},{\"marker\":{\"color\":[0,1,2,3,4,5,6,7,8,9,10,11,12,13,14,15,16,17,18,19,20,21,22,23,24,25,26,27,28,29,30,31,32,33,34,35,36,37,38,39,40,41,42,43,44,45,46,47,48,49,50,51,52,53,54,55,56,57,58,59,60,61,62,63,64,65,66,67,68,69,70,71,72,73,74,75,76,77,78,79,80,81,82,83,84,85,86,87,88,89,90,91,92,93,94,95,96,97,98,99],\"colorbar\":{\"title\":{\"text\":\"Trial\"},\"x\":1.0,\"xpad\":40},\"colorscale\":[[0.0,\"rgb(247,251,255)\"],[0.125,\"rgb(222,235,247)\"],[0.25,\"rgb(198,219,239)\"],[0.375,\"rgb(158,202,225)\"],[0.5,\"rgb(107,174,214)\"],[0.625,\"rgb(66,146,198)\"],[0.75,\"rgb(33,113,181)\"],[0.875,\"rgb(8,81,156)\"],[1.0,\"rgb(8,48,107)\"]],\"line\":{\"color\":\"Grey\",\"width\":0.5},\"showscale\":false},\"mode\":\"markers\",\"showlegend\":false,\"x\":[45300,49400,69400,68100,62600,40600,55700,59300,25300,25800,13300,47700,43200,33800,34100,51100,53400,50600,35100,61000,47000,46800,38900,55700,49800,39300,29600,43700,54200,65000,47000,65600,57300,51000,63400,69700,45900,66000,59300,41500,52800,68200,69000,65500,58900,62300,69500,18500,48300,36500,43600,43500,51800,51800,48600,44800,40900,56600,37100,32000,54100,48400,42000,45400,41800,46300,50200,38500,44800,42600,47400,40100,52200,54800,45000,49800,46500,43500,42700,38100,50900,44200,39900,35400,40300,47500,32300,47900,47800,48600,42600,47700,47300,49400,47400,47700,53000,47200,50700,49500],\"y\":[0.8628034145799468,0.8626620811304562,0.8617556706477808,0.8614508188426966,0.8626559982622586,0.8620289071884505,0.8606343224641227,0.8593327619747256,0.862046528188684,0.8605483170563557,0.8603139216665914,0.8630741519722227,0.8628264382593578,0.8615093396962171,0.8584555973239493,0.8633010888607797,0.8621227503683409,0.8568691225407015,0.8615239356546521,0.8622680987169226,0.8631053169586307,0.8621131126035644,0.8615764080029109,0.8626817053518548,0.8607434618777257,0.8624410028259243,0.8613527607565328,0.8611380902634318,0.861976350857533,0.8629754235060826,0.8606628440037725,0.8629334709636783,0.8619785597068603,0.8627441675011364,0.8620923645650149,0.8629402665703632,0.8623728055288457,0.861917258203108,0.8617214389503001,0.86216020199393,0.8609184932512098,0.8628575284673176,0.8625086139197645,0.8623148103150472,0.8622768174523412,0.8618463587167081,0.8613780705594511,0.8620921589071363,0.856742337031753,0.8618203361772393,0.8631082519735214,0.8623045936863104,0.8630034752843789,0.8623631539257144,0.8619357998661201,0.8600665885808485,0.8626453930075382,0.8620239958793092,0.8620096516058225,0.8623611373485728,0.8601416349617692,0.862491796420233,0.863115604431977,0.8630363234292057,0.8625433386652533,0.8625367372589027,0.8625662724210679,0.8616640990446163,0.8594591827077682,0.861982412765798,0.8629346064904364,0.8624299914917319,0.8627666665925006,0.8623149968118543,0.862636132771533,0.8623664354742552,0.8629512498989496,0.8631834313573206,0.8629128722991641,0.8612118194006779,0.8597634925681448,0.8626165384444183,0.863387037438397,0.8618404979007812,0.8628358432425116,0.8631181941704664,0.862434863880142,0.8634045498526653,0.8633276177578578,0.8617796770685606,0.8626726365103092,0.8633981435108508,0.863429694704909,0.8623307286629798,0.8633183512125921,0.86314569869994,0.8627486297418929,0.8627104617364013,0.8615383300425755,0.8625600141468984],\"type\":\"scatter\",\"xaxis\":\"x9\",\"yaxis\":\"y9\"},{\"marker\":{\"color\":[0,1,2,3,4,5,6,7,8,9,10,11,12,13,14,15,16,17,18,19,20,21,22,23,24,25,26,27,28,29,30,31,32,33,34,35,36,37,38,39,40,41,42,43,44,45,46,47,48,49,50,51,52,53,54,55,56,57,58,59,60,61,62,63,64,65,66,67,68,69,70,71,72,73,74,75,76,77,78,79,80,81,82,83,84,85,86,87,88,89,90,91,92,93,94,95,96,97,98,99],\"colorbar\":{\"title\":{\"text\":\"Trial\"},\"x\":1.0,\"xpad\":40},\"colorscale\":[[0.0,\"rgb(247,251,255)\"],[0.125,\"rgb(222,235,247)\"],[0.25,\"rgb(198,219,239)\"],[0.375,\"rgb(158,202,225)\"],[0.5,\"rgb(107,174,214)\"],[0.625,\"rgb(66,146,198)\"],[0.75,\"rgb(33,113,181)\"],[0.875,\"rgb(8,81,156)\"],[1.0,\"rgb(8,48,107)\"]],\"line\":{\"color\":\"Grey\",\"width\":0.5},\"showscale\":false},\"mode\":\"markers\",\"showlegend\":false,\"x\":[100,\"None\",25,\"None\",25,25,100,\"None\",\"None\",25,100,0,0,0,0,0,0,0,0,0,0,0,0,0,0,0,0,0,100,100,0,100,100,100,100,\"None\",25,100,\"None\",25,0,\"None\",\"None\",\"None\",\"None\",\"None\",25,100,\"None\",0,0,0,0,0,0,0,0,0,0,0,0,0,0,0,0,0,0,0,0,0,0,100,0,0,25,100,0,0,0,0,0,0,0,0,0,0,0,0,0,25,0,0,0,0,0,0,0,0,0,0],\"y\":[0.8628034145799468,0.8626620811304562,0.8617556706477808,0.8614508188426966,0.8626559982622586,0.8620289071884505,0.8606343224641227,0.8593327619747256,0.862046528188684,0.8605483170563557,0.8603139216665914,0.8630741519722227,0.8628264382593578,0.8615093396962171,0.8584555973239493,0.8633010888607797,0.8621227503683409,0.8568691225407015,0.8615239356546521,0.8622680987169226,0.8631053169586307,0.8621131126035644,0.8615764080029109,0.8626817053518548,0.8607434618777257,0.8624410028259243,0.8613527607565328,0.8611380902634318,0.861976350857533,0.8629754235060826,0.8606628440037725,0.8629334709636783,0.8619785597068603,0.8627441675011364,0.8620923645650149,0.8629402665703632,0.8623728055288457,0.861917258203108,0.8617214389503001,0.86216020199393,0.8609184932512098,0.8628575284673176,0.8625086139197645,0.8623148103150472,0.8622768174523412,0.8618463587167081,0.8613780705594511,0.8620921589071363,0.856742337031753,0.8618203361772393,0.8631082519735214,0.8623045936863104,0.8630034752843789,0.8623631539257144,0.8619357998661201,0.8600665885808485,0.8626453930075382,0.8620239958793092,0.8620096516058225,0.8623611373485728,0.8601416349617692,0.862491796420233,0.863115604431977,0.8630363234292057,0.8625433386652533,0.8625367372589027,0.8625662724210679,0.8616640990446163,0.8594591827077682,0.861982412765798,0.8629346064904364,0.8624299914917319,0.8627666665925006,0.8623149968118543,0.862636132771533,0.8623664354742552,0.8629512498989496,0.8631834313573206,0.8629128722991641,0.8612118194006779,0.8597634925681448,0.8626165384444183,0.863387037438397,0.8618404979007812,0.8628358432425116,0.8631181941704664,0.862434863880142,0.8634045498526653,0.8633276177578578,0.8617796770685606,0.8626726365103092,0.8633981435108508,0.863429694704909,0.8623307286629798,0.8633183512125921,0.86314569869994,0.8627486297418929,0.8627104617364013,0.8615383300425755,0.8625600141468984],\"type\":\"scatter\",\"xaxis\":\"x10\",\"yaxis\":\"y10\"}],                        {\"template\":{\"data\":{\"histogram2dcontour\":[{\"type\":\"histogram2dcontour\",\"colorbar\":{\"outlinewidth\":0,\"ticks\":\"\"},\"colorscale\":[[0.0,\"#0d0887\"],[0.1111111111111111,\"#46039f\"],[0.2222222222222222,\"#7201a8\"],[0.3333333333333333,\"#9c179e\"],[0.4444444444444444,\"#bd3786\"],[0.5555555555555556,\"#d8576b\"],[0.6666666666666666,\"#ed7953\"],[0.7777777777777778,\"#fb9f3a\"],[0.8888888888888888,\"#fdca26\"],[1.0,\"#f0f921\"]]}],\"choropleth\":[{\"type\":\"choropleth\",\"colorbar\":{\"outlinewidth\":0,\"ticks\":\"\"}}],\"histogram2d\":[{\"type\":\"histogram2d\",\"colorbar\":{\"outlinewidth\":0,\"ticks\":\"\"},\"colorscale\":[[0.0,\"#0d0887\"],[0.1111111111111111,\"#46039f\"],[0.2222222222222222,\"#7201a8\"],[0.3333333333333333,\"#9c179e\"],[0.4444444444444444,\"#bd3786\"],[0.5555555555555556,\"#d8576b\"],[0.6666666666666666,\"#ed7953\"],[0.7777777777777778,\"#fb9f3a\"],[0.8888888888888888,\"#fdca26\"],[1.0,\"#f0f921\"]]}],\"heatmap\":[{\"type\":\"heatmap\",\"colorbar\":{\"outlinewidth\":0,\"ticks\":\"\"},\"colorscale\":[[0.0,\"#0d0887\"],[0.1111111111111111,\"#46039f\"],[0.2222222222222222,\"#7201a8\"],[0.3333333333333333,\"#9c179e\"],[0.4444444444444444,\"#bd3786\"],[0.5555555555555556,\"#d8576b\"],[0.6666666666666666,\"#ed7953\"],[0.7777777777777778,\"#fb9f3a\"],[0.8888888888888888,\"#fdca26\"],[1.0,\"#f0f921\"]]}],\"heatmapgl\":[{\"type\":\"heatmapgl\",\"colorbar\":{\"outlinewidth\":0,\"ticks\":\"\"},\"colorscale\":[[0.0,\"#0d0887\"],[0.1111111111111111,\"#46039f\"],[0.2222222222222222,\"#7201a8\"],[0.3333333333333333,\"#9c179e\"],[0.4444444444444444,\"#bd3786\"],[0.5555555555555556,\"#d8576b\"],[0.6666666666666666,\"#ed7953\"],[0.7777777777777778,\"#fb9f3a\"],[0.8888888888888888,\"#fdca26\"],[1.0,\"#f0f921\"]]}],\"contourcarpet\":[{\"type\":\"contourcarpet\",\"colorbar\":{\"outlinewidth\":0,\"ticks\":\"\"}}],\"contour\":[{\"type\":\"contour\",\"colorbar\":{\"outlinewidth\":0,\"ticks\":\"\"},\"colorscale\":[[0.0,\"#0d0887\"],[0.1111111111111111,\"#46039f\"],[0.2222222222222222,\"#7201a8\"],[0.3333333333333333,\"#9c179e\"],[0.4444444444444444,\"#bd3786\"],[0.5555555555555556,\"#d8576b\"],[0.6666666666666666,\"#ed7953\"],[0.7777777777777778,\"#fb9f3a\"],[0.8888888888888888,\"#fdca26\"],[1.0,\"#f0f921\"]]}],\"surface\":[{\"type\":\"surface\",\"colorbar\":{\"outlinewidth\":0,\"ticks\":\"\"},\"colorscale\":[[0.0,\"#0d0887\"],[0.1111111111111111,\"#46039f\"],[0.2222222222222222,\"#7201a8\"],[0.3333333333333333,\"#9c179e\"],[0.4444444444444444,\"#bd3786\"],[0.5555555555555556,\"#d8576b\"],[0.6666666666666666,\"#ed7953\"],[0.7777777777777778,\"#fb9f3a\"],[0.8888888888888888,\"#fdca26\"],[1.0,\"#f0f921\"]]}],\"mesh3d\":[{\"type\":\"mesh3d\",\"colorbar\":{\"outlinewidth\":0,\"ticks\":\"\"}}],\"scatter\":[{\"fillpattern\":{\"fillmode\":\"overlay\",\"size\":10,\"solidity\":0.2},\"type\":\"scatter\"}],\"parcoords\":[{\"type\":\"parcoords\",\"line\":{\"colorbar\":{\"outlinewidth\":0,\"ticks\":\"\"}}}],\"scatterpolargl\":[{\"type\":\"scatterpolargl\",\"marker\":{\"colorbar\":{\"outlinewidth\":0,\"ticks\":\"\"}}}],\"bar\":[{\"error_x\":{\"color\":\"#2a3f5f\"},\"error_y\":{\"color\":\"#2a3f5f\"},\"marker\":{\"line\":{\"color\":\"#E5ECF6\",\"width\":0.5},\"pattern\":{\"fillmode\":\"overlay\",\"size\":10,\"solidity\":0.2}},\"type\":\"bar\"}],\"scattergeo\":[{\"type\":\"scattergeo\",\"marker\":{\"colorbar\":{\"outlinewidth\":0,\"ticks\":\"\"}}}],\"scatterpolar\":[{\"type\":\"scatterpolar\",\"marker\":{\"colorbar\":{\"outlinewidth\":0,\"ticks\":\"\"}}}],\"histogram\":[{\"marker\":{\"pattern\":{\"fillmode\":\"overlay\",\"size\":10,\"solidity\":0.2}},\"type\":\"histogram\"}],\"scattergl\":[{\"type\":\"scattergl\",\"marker\":{\"colorbar\":{\"outlinewidth\":0,\"ticks\":\"\"}}}],\"scatter3d\":[{\"type\":\"scatter3d\",\"line\":{\"colorbar\":{\"outlinewidth\":0,\"ticks\":\"\"}},\"marker\":{\"colorbar\":{\"outlinewidth\":0,\"ticks\":\"\"}}}],\"scattermapbox\":[{\"type\":\"scattermapbox\",\"marker\":{\"colorbar\":{\"outlinewidth\":0,\"ticks\":\"\"}}}],\"scatterternary\":[{\"type\":\"scatterternary\",\"marker\":{\"colorbar\":{\"outlinewidth\":0,\"ticks\":\"\"}}}],\"scattercarpet\":[{\"type\":\"scattercarpet\",\"marker\":{\"colorbar\":{\"outlinewidth\":0,\"ticks\":\"\"}}}],\"carpet\":[{\"aaxis\":{\"endlinecolor\":\"#2a3f5f\",\"gridcolor\":\"white\",\"linecolor\":\"white\",\"minorgridcolor\":\"white\",\"startlinecolor\":\"#2a3f5f\"},\"baxis\":{\"endlinecolor\":\"#2a3f5f\",\"gridcolor\":\"white\",\"linecolor\":\"white\",\"minorgridcolor\":\"white\",\"startlinecolor\":\"#2a3f5f\"},\"type\":\"carpet\"}],\"table\":[{\"cells\":{\"fill\":{\"color\":\"#EBF0F8\"},\"line\":{\"color\":\"white\"}},\"header\":{\"fill\":{\"color\":\"#C8D4E3\"},\"line\":{\"color\":\"white\"}},\"type\":\"table\"}],\"barpolar\":[{\"marker\":{\"line\":{\"color\":\"#E5ECF6\",\"width\":0.5},\"pattern\":{\"fillmode\":\"overlay\",\"size\":10,\"solidity\":0.2}},\"type\":\"barpolar\"}],\"pie\":[{\"automargin\":true,\"type\":\"pie\"}]},\"layout\":{\"autotypenumbers\":\"strict\",\"colorway\":[\"#636efa\",\"#EF553B\",\"#00cc96\",\"#ab63fa\",\"#FFA15A\",\"#19d3f3\",\"#FF6692\",\"#B6E880\",\"#FF97FF\",\"#FECB52\"],\"font\":{\"color\":\"#2a3f5f\"},\"hovermode\":\"closest\",\"hoverlabel\":{\"align\":\"left\"},\"paper_bgcolor\":\"white\",\"plot_bgcolor\":\"#E5ECF6\",\"polar\":{\"bgcolor\":\"#E5ECF6\",\"angularaxis\":{\"gridcolor\":\"white\",\"linecolor\":\"white\",\"ticks\":\"\"},\"radialaxis\":{\"gridcolor\":\"white\",\"linecolor\":\"white\",\"ticks\":\"\"}},\"ternary\":{\"bgcolor\":\"#E5ECF6\",\"aaxis\":{\"gridcolor\":\"white\",\"linecolor\":\"white\",\"ticks\":\"\"},\"baxis\":{\"gridcolor\":\"white\",\"linecolor\":\"white\",\"ticks\":\"\"},\"caxis\":{\"gridcolor\":\"white\",\"linecolor\":\"white\",\"ticks\":\"\"}},\"coloraxis\":{\"colorbar\":{\"outlinewidth\":0,\"ticks\":\"\"}},\"colorscale\":{\"sequential\":[[0.0,\"#0d0887\"],[0.1111111111111111,\"#46039f\"],[0.2222222222222222,\"#7201a8\"],[0.3333333333333333,\"#9c179e\"],[0.4444444444444444,\"#bd3786\"],[0.5555555555555556,\"#d8576b\"],[0.6666666666666666,\"#ed7953\"],[0.7777777777777778,\"#fb9f3a\"],[0.8888888888888888,\"#fdca26\"],[1.0,\"#f0f921\"]],\"sequentialminus\":[[0.0,\"#0d0887\"],[0.1111111111111111,\"#46039f\"],[0.2222222222222222,\"#7201a8\"],[0.3333333333333333,\"#9c179e\"],[0.4444444444444444,\"#bd3786\"],[0.5555555555555556,\"#d8576b\"],[0.6666666666666666,\"#ed7953\"],[0.7777777777777778,\"#fb9f3a\"],[0.8888888888888888,\"#fdca26\"],[1.0,\"#f0f921\"]],\"diverging\":[[0,\"#8e0152\"],[0.1,\"#c51b7d\"],[0.2,\"#de77ae\"],[0.3,\"#f1b6da\"],[0.4,\"#fde0ef\"],[0.5,\"#f7f7f7\"],[0.6,\"#e6f5d0\"],[0.7,\"#b8e186\"],[0.8,\"#7fbc41\"],[0.9,\"#4d9221\"],[1,\"#276419\"]]},\"xaxis\":{\"gridcolor\":\"white\",\"linecolor\":\"white\",\"ticks\":\"\",\"title\":{\"standoff\":15},\"zerolinecolor\":\"white\",\"automargin\":true,\"zerolinewidth\":2},\"yaxis\":{\"gridcolor\":\"white\",\"linecolor\":\"white\",\"ticks\":\"\",\"title\":{\"standoff\":15},\"zerolinecolor\":\"white\",\"automargin\":true,\"zerolinewidth\":2},\"scene\":{\"xaxis\":{\"backgroundcolor\":\"#E5ECF6\",\"gridcolor\":\"white\",\"linecolor\":\"white\",\"showbackground\":true,\"ticks\":\"\",\"zerolinecolor\":\"white\",\"gridwidth\":2},\"yaxis\":{\"backgroundcolor\":\"#E5ECF6\",\"gridcolor\":\"white\",\"linecolor\":\"white\",\"showbackground\":true,\"ticks\":\"\",\"zerolinecolor\":\"white\",\"gridwidth\":2},\"zaxis\":{\"backgroundcolor\":\"#E5ECF6\",\"gridcolor\":\"white\",\"linecolor\":\"white\",\"showbackground\":true,\"ticks\":\"\",\"zerolinecolor\":\"white\",\"gridwidth\":2}},\"shapedefaults\":{\"line\":{\"color\":\"#2a3f5f\"}},\"annotationdefaults\":{\"arrowcolor\":\"#2a3f5f\",\"arrowhead\":0,\"arrowwidth\":1},\"geo\":{\"bgcolor\":\"white\",\"landcolor\":\"#E5ECF6\",\"subunitcolor\":\"white\",\"showland\":true,\"showlakes\":true,\"lakecolor\":\"white\"},\"title\":{\"x\":0.05},\"mapbox\":{\"style\":\"light\"}}},\"xaxis\":{\"anchor\":\"y\",\"domain\":[0.0,0.082],\"title\":{\"text\":\"bagging_fraction\"}},\"yaxis\":{\"anchor\":\"x\",\"domain\":[0.0,1.0],\"title\":{\"text\":\"Objective Value\"}},\"xaxis2\":{\"anchor\":\"y2\",\"domain\":[0.10200000000000001,0.184],\"title\":{\"text\":\"feature_fraction \"}},\"yaxis2\":{\"anchor\":\"x2\",\"domain\":[0.0,1.0],\"matches\":\"y\",\"showticklabels\":false},\"xaxis3\":{\"anchor\":\"y3\",\"domain\":[0.20400000000000001,0.28600000000000003],\"title\":{\"text\":\"lambda_l1 \"}},\"yaxis3\":{\"anchor\":\"x3\",\"domain\":[0.0,1.0],\"matches\":\"y\",\"showticklabels\":false},\"xaxis4\":{\"anchor\":\"y4\",\"domain\":[0.306,0.388],\"title\":{\"text\":\"lambda_l2 \"}},\"yaxis4\":{\"anchor\":\"x4\",\"domain\":[0.0,1.0],\"matches\":\"y\",\"showticklabels\":false},\"xaxis5\":{\"anchor\":\"y5\",\"domain\":[0.40800000000000003,0.49000000000000005],\"title\":{\"text\":\"learning_rate\"}},\"yaxis5\":{\"anchor\":\"x5\",\"domain\":[0.0,1.0],\"matches\":\"y\",\"showticklabels\":false},\"xaxis6\":{\"anchor\":\"y6\",\"domain\":[0.51,0.592],\"title\":{\"text\":\"max_bin\"}},\"yaxis6\":{\"anchor\":\"x6\",\"domain\":[0.0,1.0],\"matches\":\"y\",\"showticklabels\":false},\"xaxis7\":{\"anchor\":\"y7\",\"domain\":[0.6120000000000001,0.6940000000000001],\"title\":{\"text\":\"max_depth\"}},\"yaxis7\":{\"anchor\":\"x7\",\"domain\":[0.0,1.0],\"matches\":\"y\",\"showticklabels\":false},\"xaxis8\":{\"anchor\":\"y8\",\"domain\":[0.7140000000000001,0.796],\"title\":{\"text\":\"n_estimators\"}},\"yaxis8\":{\"anchor\":\"x8\",\"domain\":[0.0,1.0],\"matches\":\"y\",\"showticklabels\":false},\"xaxis9\":{\"anchor\":\"y9\",\"domain\":[0.8160000000000001,0.898],\"title\":{\"text\":\"num_leaves\"}},\"yaxis9\":{\"anchor\":\"x9\",\"domain\":[0.0,1.0],\"matches\":\"y\",\"showticklabels\":false},\"xaxis10\":{\"anchor\":\"y10\",\"domain\":[0.9179999999999999,0.9999999999999999],\"title\":{\"text\":\"random_state\"}},\"yaxis10\":{\"anchor\":\"x10\",\"domain\":[0.0,1.0],\"matches\":\"y\",\"showticklabels\":false},\"title\":{\"text\":\"Slice Plot\"},\"width\":3000},                        {\"responsive\": true}                    ).then(function(){\n",
       "                            \n",
       "var gd = document.getElementById('76cce177-571d-4b94-a155-6a5689c40e78');\n",
       "var x = new MutationObserver(function (mutations, observer) {{\n",
       "        var display = window.getComputedStyle(gd).display;\n",
       "        if (!display || display === 'none') {{\n",
       "            console.log([gd, 'removed!']);\n",
       "            Plotly.purge(gd);\n",
       "            observer.disconnect();\n",
       "        }}\n",
       "}});\n",
       "\n",
       "// Listen for the removal of the full notebook cells\n",
       "var notebookContainer = gd.closest('#notebook-container');\n",
       "if (notebookContainer) {{\n",
       "    x.observe(notebookContainer, {childList: true});\n",
       "}}\n",
       "\n",
       "// Listen for the clearing of the current output cell\n",
       "var outputEl = gd.closest('.output');\n",
       "if (outputEl) {{\n",
       "    x.observe(outputEl, {childList: true});\n",
       "}}\n",
       "\n",
       "                        })                };                });            </script>        </div>"
      ]
     },
     "metadata": {},
     "output_type": "display_data"
    }
   ],
   "source": [
    "optuna.visualization.plot_slice(study)"
   ]
  },
  {
   "cell_type": "code",
   "execution_count": 287,
   "id": "48e66c38",
   "metadata": {},
   "outputs": [],
   "source": [
    "# Split train_data\n",
    "from sklearn.model_selection import train_test_split\n",
    "\n",
    "X_Train, X_Val, y_Train, y_val = train_test_split(processed_train, y_train, stratify = y_train,\n",
    "                                                  test_size = 0.1, random_state=0)"
   ]
  },
  {
   "cell_type": "code",
   "execution_count": 300,
   "id": "856a66d0",
   "metadata": {},
   "outputs": [
    {
     "name": "stdout",
     "output_type": "stream",
     "text": [
      "Mean Absolute Error: 0.09817254568635785\n",
      "Mean Squared Error: 0.06672333191670209\n",
      "Predicted Class: 0\n",
      "[[1985   37]\n",
      " [ 194  137]]\n",
      "              precision    recall  f1-score   support\n",
      "\n",
      "           0       0.91      0.98      0.95      2022\n",
      "           1       0.79      0.41      0.54       331\n",
      "\n",
      "    accuracy                           0.90      2353\n",
      "   macro avg       0.85      0.70      0.74      2353\n",
      "weighted avg       0.89      0.90      0.89      2353\n",
      "\n"
     ]
    }
   ],
   "source": [
    "from sklearn.ensemble import BaggingClassifier\n",
    "# calculate accuracy\n",
    "from sklearn import metrics\n",
    "\n",
    "# Define the base model with best hyperparameters\n",
    "final_model = LGBMClassifier(\n",
    "    seed=0,\n",
    "    objective=\"binary\",\n",
    "    random_state=0,\n",
    "    learning_rate='0.0164',\n",
    "    max_depth=14,\n",
    "    #min_child_samples=100, #24\n",
    "    n_estimators=670,\n",
    "    num_leaves=43507,\n",
    "    lambda_l1=8.08,\n",
    "    lambda_l2=7.13,\n",
    "    max_bin=260,\n",
    "    bagging_fraction=0.1,\n",
    "    feature_fraction=0.7000000000000001\n",
    ")\n",
    "\n",
    "# Create a bagging ensemble of LGBMClassifier\n",
    "bagging_model = BaggingClassifier(\n",
    "    base_estimator=final_model,\n",
    "    n_estimators=10,\n",
    "    random_state=0,\n",
    "    n_jobs=-1\n",
    ")\n",
    "\n",
    "# Fit the ensemble model on the whole dataset\n",
    "#ensemble_model.fit(processed_train, y_train)\n",
    "bagging_model.fit(processed_train, y_train)\n",
    "\n",
    "# Predictions\n",
    "#y_pred = ensemble_model.predict(X_Val)\n",
    "y_pred = bagging_model.predict(X_Val)\n",
    "\n",
    "# Calculate Mean Absolute Error\n",
    "mae = np.mean(np.abs(y_val - y_pred))\n",
    "print(\"Mean Absolute Error:\", mae)\n",
    "mse = np.mean((y_val - y_pred))\n",
    "print(\"Mean Squared Error:\", mse)\n",
    "print('Predicted Class: %d' % y_pred[0])\n",
    "\n",
    "from sklearn.metrics import confusion_matrix\n",
    "\n",
    "# Confusion matrix\n",
    "print(metrics.confusion_matrix(y_val, y_pred))\n",
    "\n",
    "from sklearn.metrics import classification_report\n",
    "print(classification_report(y_val, bagging_model.predict(X_Val)))"
   ]
  },
  {
   "cell_type": "code",
   "execution_count": 301,
   "id": "ac4b9cd5",
   "metadata": {},
   "outputs": [
    {
     "data": {
      "image/png": "[encoded data removed]",
      "text/plain": [
       "<Figure size 640x480 with 1 Axes>"
      ]
     },
     "metadata": {},
     "output_type": "display_data"
    }
   ],
   "source": [
    "#Display only the top 10 important features based on the model's feature importance\n",
    "import lightgbm as lgb\n",
    "import matplotlib.pyplot as plt\n",
    "\n",
    "final_model.fit(processed_train, y_train)\n",
    "lgb.plot_importance(final_model, max_num_features=25)\n",
    "\n",
    "plt.show()"
   ]
  },
  {
   "cell_type": "code",
   "execution_count": null,
   "id": "fd13b9b9",
   "metadata": {},
   "outputs": [],
   "source": []
  },
  {
   "cell_type": "code",
   "execution_count": 302,
   "id": "7b61bde0",
   "metadata": {},
   "outputs": [
    {
     "data": {
      "image/png": "[encoded data removed]",
      "text/plain": [
       "<Figure size 640x480 with 1 Axes>"
      ]
     },
     "metadata": {},
     "output_type": "display_data"
    }
   ],
   "source": [
    "fpr, tpr, thresholds = metrics.roc_curve(y_val, y_pred)\n",
    "\n",
    "plt.plot(fpr, tpr)\n",
    "plt.xlim([0.0, 1.0])\n",
    "plt.ylim([0.0, 1.0])\n",
    "plt.rcParams['font.size'] = 12\n",
    "plt.title('ROC curve for Bank account classifier')\n",
    "plt.xlabel('False Positive Rate (1 - Specificity)')\n",
    "plt.ylabel('True Positive Rate (Sensitivity)')\n",
    "plt.grid(True)"
   ]
  },
  {
   "cell_type": "code",
   "execution_count": 204,
   "id": "1a362769",
   "metadata": {},
   "outputs": [],
   "source": [
    "# define a function that accepts a threshold and prints sensitivity and specificity\n",
    "def evaluate_threshold(threshold):\n",
    "    print('Sensitivity:', tpr[thresholds > threshold][-1])\n",
    "    print('Specificity:', 1 - fpr[thresholds > threshold][-1])"
   ]
  },
  {
   "cell_type": "code",
   "execution_count": 205,
   "id": "5169566e",
   "metadata": {},
   "outputs": [
    {
     "name": "stdout",
     "output_type": "stream",
     "text": [
      "Sensitivity: 0.4471299093655589\n",
      "Specificity: 0.9821958456973294\n"
     ]
    }
   ],
   "source": [
    "evaluate_threshold(0.5)"
   ]
  },
  {
   "cell_type": "code",
   "execution_count": 206,
   "id": "1e6fd7db",
   "metadata": {},
   "outputs": [
    {
     "name": "stdout",
     "output_type": "stream",
     "text": [
      "Sensitivity: 0.4471299093655589\n",
      "Specificity: 0.9821958456973294\n"
     ]
    }
   ],
   "source": [
    "evaluate_threshold(0.3)"
   ]
  },
  {
   "cell_type": "code",
   "execution_count": 207,
   "id": "fadf1efe",
   "metadata": {},
   "outputs": [
    {
     "name": "stdout",
     "output_type": "stream",
     "text": [
      "0.7146628775314442\n"
     ]
    }
   ],
   "source": [
    "# IMPORTANT: first argument is true values, second argument is predicted probabilities\n",
    "print(metrics.roc_auc_score(y_val, y_pred))"
   ]
  },
  {
   "cell_type": "code",
   "execution_count": 208,
   "id": "0fedc200",
   "metadata": {},
   "outputs": [
    {
     "ename": "ModuleNotFoundError",
     "evalue": "No module named 'sklearn.cross_validation'",
     "output_type": "error",
     "traceback": [
      "\u001b[1;31m---------------------------------------------------------------------------\u001b[0m",
      "\u001b[1;31mModuleNotFoundError\u001b[0m                       Traceback (most recent call last)",
      "\u001b[1;32m~\\AppData\\Local\\Temp\\ipykernel_1112\\1009404759.py\u001b[0m in \u001b[0;36m<module>\u001b[1;34m\u001b[0m\n\u001b[0;32m      1\u001b[0m \u001b[1;31m# calculate cross-validated AUC\u001b[0m\u001b[1;33m\u001b[0m\u001b[1;33m\u001b[0m\u001b[0m\n\u001b[1;32m----> 2\u001b[1;33m \u001b[1;32mfrom\u001b[0m \u001b[0msklearn\u001b[0m\u001b[1;33m.\u001b[0m\u001b[0mcross_validation\u001b[0m \u001b[1;32mimport\u001b[0m \u001b[0mcross_val_score\u001b[0m\u001b[1;33m\u001b[0m\u001b[1;33m\u001b[0m\u001b[0m\n\u001b[0m\u001b[0;32m      3\u001b[0m \u001b[0mcross_val_score\u001b[0m\u001b[1;33m(\u001b[0m\u001b[0mlogreg\u001b[0m\u001b[1;33m,\u001b[0m \u001b[0mX\u001b[0m\u001b[1;33m,\u001b[0m \u001b[0my\u001b[0m\u001b[1;33m,\u001b[0m \u001b[0mcv\u001b[0m\u001b[1;33m=\u001b[0m\u001b[1;36m10\u001b[0m\u001b[1;33m,\u001b[0m \u001b[0mscoring\u001b[0m\u001b[1;33m=\u001b[0m\u001b[1;34m'roc_auc'\u001b[0m\u001b[1;33m)\u001b[0m\u001b[1;33m.\u001b[0m\u001b[0mmean\u001b[0m\u001b[1;33m(\u001b[0m\u001b[1;33m)\u001b[0m\u001b[1;33m\u001b[0m\u001b[1;33m\u001b[0m\u001b[0m\n",
      "\u001b[1;31mModuleNotFoundError\u001b[0m: No module named 'sklearn.cross_validation'"
     ]
    }
   ],
   "source": [
    "# calculate cross-validated AUC\n",
    "from sklearn.cross_validation import cross_val_score\n",
    "cross_val_score(logreg, X, y, cv=10, scoring='roc_auc').mean()"
   ]
  },
  {
   "cell_type": "code",
   "execution_count": null,
   "id": "c6784d0b",
   "metadata": {},
   "outputs": [],
   "source": []
  },
  {
   "cell_type": "code",
   "execution_count": null,
   "id": "d34dde4e",
   "metadata": {},
   "outputs": [],
   "source": []
  },
  {
   "cell_type": "code",
   "execution_count": 293,
   "id": "8c29e915",
   "metadata": {
    "id": "8c29e915"
   },
   "outputs": [],
   "source": [
    "test.bank_account = bagging_model.predict(processed_test)\n",
    "\n",
    "# Create submission DataFrame\n",
    "submission = pd.DataFrame({\"uniqueid\": test[\"uniqueid\"] + \" x \" + test[\"country\"],\n",
    "                           \"bank_account\": test.bank_account})"
   ]
  },
  {
   "cell_type": "code",
   "execution_count": 294,
   "id": "045a4935",
   "metadata": {
    "colab": {
     "base_uri": "https://localhost:8080/",
     "height": 206
    },
    "id": "045a4935",
    "outputId": "867d9510-a1d6-4213-c857-45c44332cf26"
   },
   "outputs": [
    {
     "data": {
      "text/html": [
       "<div>\n",
       "<style scoped>\n",
       "    .dataframe tbody tr th:only-of-type {\n",
       "        vertical-align: middle;\n",
       "    }\n",
       "\n",
       "    .dataframe tbody tr th {\n",
       "        vertical-align: top;\n",
       "    }\n",
       "\n",
       "    .dataframe thead th {\n",
       "        text-align: right;\n",
       "    }\n",
       "</style>\n",
       "<table border=\"1\" class=\"dataframe\">\n",
       "  <thead>\n",
       "    <tr style=\"text-align: right;\">\n",
       "      <th></th>\n",
       "      <th>uniqueid</th>\n",
       "      <th>bank_account</th>\n",
       "    </tr>\n",
       "  </thead>\n",
       "  <tbody>\n",
       "    <tr>\n",
       "      <th>5971</th>\n",
       "      <td>uniqueid_12106 x Rwanda</td>\n",
       "      <td>0</td>\n",
       "    </tr>\n",
       "    <tr>\n",
       "      <th>9728</th>\n",
       "      <td>uniqueid_2645 x Uganda</td>\n",
       "      <td>0</td>\n",
       "    </tr>\n",
       "    <tr>\n",
       "      <th>6069</th>\n",
       "      <td>uniqueid_12204 x Rwanda</td>\n",
       "      <td>1</td>\n",
       "    </tr>\n",
       "    <tr>\n",
       "      <th>2258</th>\n",
       "      <td>uniqueid_8327 x Kenya</td>\n",
       "      <td>0</td>\n",
       "    </tr>\n",
       "    <tr>\n",
       "      <th>6627</th>\n",
       "      <td>uniqueid_6902 x Tanzania</td>\n",
       "      <td>0</td>\n",
       "    </tr>\n",
       "  </tbody>\n",
       "</table>\n",
       "</div>"
      ],
      "text/plain": [
       "                      uniqueid  bank_account\n",
       "5971   uniqueid_12106 x Rwanda             0\n",
       "9728    uniqueid_2645 x Uganda             0\n",
       "6069   uniqueid_12204 x Rwanda             1\n",
       "2258     uniqueid_8327 x Kenya             0\n",
       "6627  uniqueid_6902 x Tanzania             0"
      ]
     },
     "execution_count": 294,
     "metadata": {},
     "output_type": "execute_result"
    }
   ],
   "source": [
    "#show the five sample\n",
    "submission.sample(5)\n",
    "submission.to_csv('first_submission.csv', index=False)"
   ]
  },
  {
   "cell_type": "markdown",
   "id": "0b3146cf",
   "metadata": {
    "id": "0b3146cf"
   },
   "source": [
    "Save results in the CSV file."
   ]
  }
 ],
 "metadata": {
  "colab": {
   "provenance": []
  },
  "kernelspec": {
   "display_name": "Python 3 (ipykernel)",
   "language": "python",
   "name": "python3"
  },
  "language_info": {
   "codemirror_mode": {
    "name": "ipython",
    "version": 3
   },
   "file_extension": ".py",
   "mimetype": "text/x-python",
   "name": "python",
   "nbconvert_exporter": "python",
   "pygments_lexer": "ipython3",
   "version": "3.9.13"
  }
 },
 "nbformat": 4,
 "nbformat_minor": 5
}
