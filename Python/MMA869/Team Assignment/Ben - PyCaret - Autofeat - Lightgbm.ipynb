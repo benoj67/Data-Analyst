{
 "cells": [
  {
   "cell_type": "markdown",
   "metadata": {
    "id": "HdPjBTFdkI7t"
   },
   "source": [
    "### Importing libraries"
   ]
  },
  {
   "cell_type": "code",
   "execution_count": 76,
   "metadata": {},
   "outputs": [
    {
     "name": "stdout",
     "output_type": "stream",
     "text": [
      "Requirement already satisfied: pycaret[models] in c:\\users\\benoj\\.pyenv\\pyenv-win\\versions\\3.10.0\\lib\\site-packages (3.0.4)\n",
      "Requirement already satisfied: shap in c:\\users\\benoj\\.pyenv\\pyenv-win\\versions\\3.10.0\\lib\\site-packages (0.42.1)\n",
      "Requirement already satisfied: autofeat in c:\\users\\benoj\\.pyenv\\pyenv-win\\versions\\3.10.0\\lib\\site-packages (2.1.1)\n",
      "Requirement already satisfied: preprocessing in c:\\users\\benoj\\.pyenv\\pyenv-win\\versions\\3.10.0\\lib\\site-packages (0.1.13)\n",
      "Requirement already satisfied: optuna in c:\\users\\benoj\\.pyenv\\pyenv-win\\versions\\3.10.0\\lib\\site-packages (3.2.0)\n",
      "Requirement already satisfied: deprecation>=2.1.0 in c:\\users\\benoj\\.pyenv\\pyenv-win\\versions\\3.10.0\\lib\\site-packages (from pycaret[models]) (2.1.0)\n",
      "Requirement already satisfied: scikit-plot>=0.3.7 in c:\\users\\benoj\\.pyenv\\pyenv-win\\versions\\3.10.0\\lib\\site-packages (from pycaret[models]) (0.3.7)\n",
      "Requirement already satisfied: pmdarima!=1.8.1,<3.0.0,>=1.8.0 in c:\\users\\benoj\\.pyenv\\pyenv-win\\versions\\3.10.0\\lib\\site-packages (from pycaret[models]) (2.0.3)\n",
      "Requirement already satisfied: plotly>=5.0.0 in c:\\users\\benoj\\.pyenv\\pyenv-win\\versions\\3.10.0\\lib\\site-packages (from pycaret[models]) (5.15.0)\n",
      "Requirement already satisfied: sktime!=0.17.1,!=0.17.2,!=0.18.0,>=0.16.1 in c:\\users\\benoj\\.pyenv\\pyenv-win\\versions\\3.10.0\\lib\\site-packages (from pycaret[models]) (0.20.1)\n",
      "Requirement already satisfied: imbalanced-learn>=0.8.1 in c:\\users\\benoj\\.pyenv\\pyenv-win\\versions\\3.10.0\\lib\\site-packages (from pycaret[models]) (0.11.0)\n",
      "Requirement already satisfied: yellowbrick>=1.4 in c:\\users\\benoj\\.pyenv\\pyenv-win\\versions\\3.10.0\\lib\\site-packages (from pycaret[models]) (1.5)\n",
      "Requirement already satisfied: jinja2>=1.2 in c:\\users\\benoj\\.pyenv\\pyenv-win\\versions\\3.10.0\\lib\\site-packages (from pycaret[models]) (3.1.2)\n",
      "Requirement already satisfied: numpy<1.24,>=1.21 in c:\\users\\benoj\\.pyenv\\pyenv-win\\versions\\3.10.0\\lib\\site-packages (from pycaret[models]) (1.23.5)\n",
      "Requirement already satisfied: kaleido>=0.2.1 in c:\\users\\benoj\\.pyenv\\pyenv-win\\versions\\3.10.0\\lib\\site-packages (from pycaret[models]) (0.2.1)\n",
      "Requirement already satisfied: requests>=2.27.1 in c:\\users\\benoj\\.pyenv\\pyenv-win\\versions\\3.10.0\\lib\\site-packages (from pycaret[models]) (2.31.0)\n",
      "Requirement already satisfied: lightgbm>=3.0.0 in c:\\users\\benoj\\.pyenv\\pyenv-win\\versions\\3.10.0\\lib\\site-packages (from pycaret[models]) (4.0.0)\n",
      "Requirement already satisfied: psutil>=5.9.0 in c:\\users\\benoj\\.pyenv\\pyenv-win\\versions\\3.10.0\\lib\\site-packages (from pycaret[models]) (5.9.5)\n",
      "Requirement already satisfied: statsmodels>=0.12.1 in c:\\users\\benoj\\.pyenv\\pyenv-win\\versions\\3.10.0\\lib\\site-packages (from pycaret[models]) (0.14.0)\n",
      "Requirement already satisfied: pyod>=1.0.8 in c:\\users\\benoj\\.pyenv\\pyenv-win\\versions\\3.10.0\\lib\\site-packages (from pycaret[models]) (1.1.0)\n",
      "Requirement already satisfied: numba>=0.55.0 in c:\\users\\benoj\\.pyenv\\pyenv-win\\versions\\3.10.0\\lib\\site-packages (from pycaret[models]) (0.57.1)\n",
      "Requirement already satisfied: nbformat>=4.2.0 in c:\\users\\benoj\\.pyenv\\pyenv-win\\versions\\3.10.0\\lib\\site-packages (from pycaret[models]) (5.9.1)\n",
      "Requirement already satisfied: markupsafe>=2.0.1 in c:\\users\\benoj\\.pyenv\\pyenv-win\\versions\\3.10.0\\lib\\site-packages (from pycaret[models]) (2.1.3)\n",
      "Requirement already satisfied: scikit-learn<1.3.0,>=1.0 in c:\\users\\benoj\\.pyenv\\pyenv-win\\versions\\3.10.0\\lib\\site-packages (from pycaret[models]) (1.2.2)\n",
      "Requirement already satisfied: importlib-metadata>=4.12.0 in c:\\users\\benoj\\.pyenv\\pyenv-win\\versions\\3.10.0\\lib\\site-packages (from pycaret[models]) (6.8.0)\n",
      "Requirement already satisfied: cloudpickle in c:\\users\\benoj\\.pyenv\\pyenv-win\\versions\\3.10.0\\lib\\site-packages (from pycaret[models]) (2.2.1)\n",
      "Requirement already satisfied: ipywidgets>=7.6.5 in c:\\users\\benoj\\.pyenv\\pyenv-win\\versions\\3.10.0\\lib\\site-packages (from pycaret[models]) (8.0.7)\n",
      "Requirement already satisfied: pandas<2.0.0,>=1.3.0 in c:\\users\\benoj\\.pyenv\\pyenv-win\\versions\\3.10.0\\lib\\site-packages (from pycaret[models]) (1.5.3)\n",
      "Requirement already satisfied: xxhash in c:\\users\\benoj\\.pyenv\\pyenv-win\\versions\\3.10.0\\lib\\site-packages (from pycaret[models]) (3.2.0)\n",
      "Requirement already satisfied: schemdraw==0.15 in c:\\users\\benoj\\.pyenv\\pyenv-win\\versions\\3.10.0\\lib\\site-packages (from pycaret[models]) (0.15)\n",
      "Requirement already satisfied: ipython>=5.5.0 in c:\\users\\benoj\\.pyenv\\pyenv-win\\versions\\3.10.0\\lib\\site-packages (from pycaret[models]) (8.14.0)\n",
      "Requirement already satisfied: joblib>=1.2.0 in c:\\users\\benoj\\.pyenv\\pyenv-win\\versions\\3.10.0\\lib\\site-packages (from pycaret[models]) (1.3.1)\n",
      "Requirement already satisfied: scipy<2.0.0 in c:\\users\\benoj\\.pyenv\\pyenv-win\\versions\\3.10.0\\lib\\site-packages (from pycaret[models]) (1.11.1)\n",
      "Requirement already satisfied: plotly-resampler>=0.8.3.1 in c:\\users\\benoj\\.pyenv\\pyenv-win\\versions\\3.10.0\\lib\\site-packages (from pycaret[models]) (0.9.1)\n",
      "Requirement already satisfied: category-encoders>=2.4.0 in c:\\users\\benoj\\.pyenv\\pyenv-win\\versions\\3.10.0\\lib\\site-packages (from pycaret[models]) (2.6.1)\n",
      "Requirement already satisfied: matplotlib>=3.3.0 in c:\\users\\benoj\\.pyenv\\pyenv-win\\versions\\3.10.0\\lib\\site-packages (from pycaret[models]) (3.7.2)\n",
      "Requirement already satisfied: tbats>=1.1.3 in c:\\users\\benoj\\.pyenv\\pyenv-win\\versions\\3.10.0\\lib\\site-packages (from pycaret[models]) (1.1.3)\n",
      "Requirement already satisfied: tqdm>=4.62.0 in c:\\users\\benoj\\.pyenv\\pyenv-win\\versions\\3.10.0\\lib\\site-packages (from pycaret[models]) (4.65.0)\n",
      "Requirement already satisfied: statsforecast>=0.5.5 in c:\\users\\benoj\\.pyenv\\pyenv-win\\versions\\3.10.0\\lib\\site-packages (from pycaret[models]) (1.5.0)\n",
      "Requirement already satisfied: xgboost>=1.1.0 in c:\\users\\benoj\\.pyenv\\pyenv-win\\versions\\3.10.0\\lib\\site-packages (from pycaret[models]) (1.7.6)\n",
      "Requirement already satisfied: catboost>=0.23.2 in c:\\users\\benoj\\.pyenv\\pyenv-win\\versions\\3.10.0\\lib\\site-packages (from pycaret[models]) (1.2)\n",
      "Requirement already satisfied: scikit-learn-intelex>=2023.0.1 in c:\\users\\benoj\\.pyenv\\pyenv-win\\versions\\3.10.0\\lib\\site-packages (from pycaret[models]) (2023.2.1)\n",
      "Requirement already satisfied: kmodes>=0.11.1 in c:\\users\\benoj\\.pyenv\\pyenv-win\\versions\\3.10.0\\lib\\site-packages (from pycaret[models]) (0.12.2)\n",
      "Requirement already satisfied: mlxtend>=0.19.0 in c:\\users\\benoj\\.pyenv\\pyenv-win\\versions\\3.10.0\\lib\\site-packages (from pycaret[models]) (0.22.0)\n",
      "Requirement already satisfied: slicer==0.0.7 in c:\\users\\benoj\\.pyenv\\pyenv-win\\versions\\3.10.0\\lib\\site-packages (from shap) (0.0.7)\n",
      "Requirement already satisfied: packaging>20.9 in c:\\users\\benoj\\.pyenv\\pyenv-win\\versions\\3.10.0\\lib\\site-packages (from shap) (23.1)\n",
      "Requirement already satisfied: pint in c:\\users\\benoj\\.pyenv\\pyenv-win\\versions\\3.10.0\\lib\\site-packages (from autofeat) (0.22)\n",
      "Requirement already satisfied: sympy>=1.7.1 in c:\\users\\benoj\\.pyenv\\pyenv-win\\versions\\3.10.0\\lib\\site-packages (from autofeat) (1.12)\n",
      "Requirement already satisfied: sphinx-rtd-theme==0.2.4 in c:\\users\\benoj\\.pyenv\\pyenv-win\\versions\\3.10.0\\lib\\site-packages (from preprocessing) (0.2.4)\n",
      "Requirement already satisfied: nltk==3.2.4 in c:\\users\\benoj\\.pyenv\\pyenv-win\\versions\\3.10.0\\lib\\site-packages (from preprocessing) (3.2.4)\n",
      "Requirement already satisfied: six in c:\\users\\benoj\\.pyenv\\pyenv-win\\versions\\3.10.0\\lib\\site-packages (from nltk==3.2.4->preprocessing) (1.16.0)\n",
      "Requirement already satisfied: colorlog in c:\\users\\benoj\\.pyenv\\pyenv-win\\versions\\3.10.0\\lib\\site-packages (from optuna) (6.7.0)\n",
      "Requirement already satisfied: PyYAML in c:\\users\\benoj\\.pyenv\\pyenv-win\\versions\\3.10.0\\lib\\site-packages (from optuna) (6.0.1)\n",
      "Requirement already satisfied: cmaes>=0.9.1 in c:\\users\\benoj\\.pyenv\\pyenv-win\\versions\\3.10.0\\lib\\site-packages (from optuna) (0.10.0)\n",
      "Requirement already satisfied: sqlalchemy>=1.3.0 in c:\\users\\benoj\\.pyenv\\pyenv-win\\versions\\3.10.0\\lib\\site-packages (from optuna) (2.0.19)\n",
      "Requirement already satisfied: alembic>=1.5.0 in c:\\users\\benoj\\.pyenv\\pyenv-win\\versions\\3.10.0\\lib\\site-packages (from optuna) (1.11.1)\n",
      "Requirement already satisfied: Mako in c:\\users\\benoj\\.pyenv\\pyenv-win\\versions\\3.10.0\\lib\\site-packages (from alembic>=1.5.0->optuna) (1.2.4)\n",
      "Requirement already satisfied: typing-extensions>=4 in c:\\users\\benoj\\.pyenv\\pyenv-win\\versions\\3.10.0\\lib\\site-packages (from alembic>=1.5.0->optuna) (4.7.1)\n",
      "Requirement already satisfied: graphviz in c:\\users\\benoj\\.pyenv\\pyenv-win\\versions\\3.10.0\\lib\\site-packages (from catboost>=0.23.2->pycaret[models]) (0.20.1)\n",
      "Requirement already satisfied: patsy>=0.5.1 in c:\\users\\benoj\\.pyenv\\pyenv-win\\versions\\3.10.0\\lib\\site-packages (from category-encoders>=2.4.0->pycaret[models]) (0.5.3)\n",
      "Requirement already satisfied: threadpoolctl>=2.0.0 in c:\\users\\benoj\\.pyenv\\pyenv-win\\versions\\3.10.0\\lib\\site-packages (from imbalanced-learn>=0.8.1->pycaret[models]) (3.2.0)\n",
      "Requirement already satisfied: zipp>=0.5 in c:\\users\\benoj\\.pyenv\\pyenv-win\\versions\\3.10.0\\lib\\site-packages (from importlib-metadata>=4.12.0->pycaret[models]) (3.16.2)\n",
      "Requirement already satisfied: pickleshare in c:\\users\\benoj\\.pyenv\\pyenv-win\\versions\\3.10.0\\lib\\site-packages (from ipython>=5.5.0->pycaret[models]) (0.7.5)\n",
      "Requirement already satisfied: traitlets>=5 in c:\\users\\benoj\\.pyenv\\pyenv-win\\versions\\3.10.0\\lib\\site-packages (from ipython>=5.5.0->pycaret[models]) (5.9.0)\n",
      "Requirement already satisfied: pygments>=2.4.0 in c:\\users\\benoj\\.pyenv\\pyenv-win\\versions\\3.10.0\\lib\\site-packages (from ipython>=5.5.0->pycaret[models]) (2.15.1)\n",
      "Requirement already satisfied: backcall in c:\\users\\benoj\\.pyenv\\pyenv-win\\versions\\3.10.0\\lib\\site-packages (from ipython>=5.5.0->pycaret[models]) (0.2.0)\n",
      "Requirement already satisfied: decorator in c:\\users\\benoj\\.pyenv\\pyenv-win\\versions\\3.10.0\\lib\\site-packages (from ipython>=5.5.0->pycaret[models]) (5.1.1)\n",
      "Requirement already satisfied: stack-data in c:\\users\\benoj\\.pyenv\\pyenv-win\\versions\\3.10.0\\lib\\site-packages (from ipython>=5.5.0->pycaret[models]) (0.6.2)\n",
      "Requirement already satisfied: prompt-toolkit!=3.0.37,<3.1.0,>=3.0.30 in c:\\users\\benoj\\.pyenv\\pyenv-win\\versions\\3.10.0\\lib\\site-packages (from ipython>=5.5.0->pycaret[models]) (3.0.39)\n",
      "Requirement already satisfied: jedi>=0.16 in c:\\users\\benoj\\.pyenv\\pyenv-win\\versions\\3.10.0\\lib\\site-packages (from ipython>=5.5.0->pycaret[models]) (0.18.2)\n",
      "Requirement already satisfied: colorama in c:\\users\\benoj\\.pyenv\\pyenv-win\\versions\\3.10.0\\lib\\site-packages (from ipython>=5.5.0->pycaret[models]) (0.4.6)\n",
      "Requirement already satisfied: matplotlib-inline in c:\\users\\benoj\\.pyenv\\pyenv-win\\versions\\3.10.0\\lib\\site-packages (from ipython>=5.5.0->pycaret[models]) (0.1.6)\n",
      "Requirement already satisfied: ipykernel>=4.5.1 in c:\\users\\benoj\\.pyenv\\pyenv-win\\versions\\3.10.0\\lib\\site-packages (from ipywidgets>=7.6.5->pycaret[models]) (6.24.0)\n",
      "Requirement already satisfied: jupyterlab-widgets~=3.0.7 in c:\\users\\benoj\\.pyenv\\pyenv-win\\versions\\3.10.0\\lib\\site-packages (from ipywidgets>=7.6.5->pycaret[models]) (3.0.8)\n",
      "Requirement already satisfied: widgetsnbextension~=4.0.7 in c:\\users\\benoj\\.pyenv\\pyenv-win\\versions\\3.10.0\\lib\\site-packages (from ipywidgets>=7.6.5->pycaret[models]) (4.0.8)\n",
      "Requirement already satisfied: jupyter-client>=6.1.12 in c:\\users\\benoj\\.pyenv\\pyenv-win\\versions\\3.10.0\\lib\\site-packages (from ipykernel>=4.5.1->ipywidgets>=7.6.5->pycaret[models]) (8.3.0)\n",
      "Requirement already satisfied: comm>=0.1.1 in c:\\users\\benoj\\.pyenv\\pyenv-win\\versions\\3.10.0\\lib\\site-packages (from ipykernel>=4.5.1->ipywidgets>=7.6.5->pycaret[models]) (0.1.3)\n",
      "Requirement already satisfied: tornado>=6.1 in c:\\users\\benoj\\.pyenv\\pyenv-win\\versions\\3.10.0\\lib\\site-packages (from ipykernel>=4.5.1->ipywidgets>=7.6.5->pycaret[models]) (6.3.2)\n",
      "Requirement already satisfied: debugpy>=1.6.5 in c:\\users\\benoj\\.pyenv\\pyenv-win\\versions\\3.10.0\\lib\\site-packages (from ipykernel>=4.5.1->ipywidgets>=7.6.5->pycaret[models]) (1.6.7)\n",
      "Requirement already satisfied: nest-asyncio in c:\\users\\benoj\\.pyenv\\pyenv-win\\versions\\3.10.0\\lib\\site-packages (from ipykernel>=4.5.1->ipywidgets>=7.6.5->pycaret[models]) (1.5.6)\n",
      "Requirement already satisfied: jupyter-core!=5.0.*,>=4.12 in c:\\users\\benoj\\.pyenv\\pyenv-win\\versions\\3.10.0\\lib\\site-packages (from ipykernel>=4.5.1->ipywidgets>=7.6.5->pycaret[models]) (5.3.1)\n",
      "Requirement already satisfied: pyzmq>=20 in c:\\users\\benoj\\.pyenv\\pyenv-win\\versions\\3.10.0\\lib\\site-packages (from ipykernel>=4.5.1->ipywidgets>=7.6.5->pycaret[models]) (25.1.0)\n",
      "Requirement already satisfied: parso<0.9.0,>=0.8.0 in c:\\users\\benoj\\.pyenv\\pyenv-win\\versions\\3.10.0\\lib\\site-packages (from jedi>=0.16->ipython>=5.5.0->pycaret[models]) (0.8.3)\n",
      "Requirement already satisfied: python-dateutil>=2.8.2 in c:\\users\\benoj\\.pyenv\\pyenv-win\\versions\\3.10.0\\lib\\site-packages (from jupyter-client>=6.1.12->ipykernel>=4.5.1->ipywidgets>=7.6.5->pycaret[models]) (2.8.2)\n",
      "Requirement already satisfied: platformdirs>=2.5 in c:\\users\\benoj\\.pyenv\\pyenv-win\\versions\\3.10.0\\lib\\site-packages (from jupyter-core!=5.0.*,>=4.12->ipykernel>=4.5.1->ipywidgets>=7.6.5->pycaret[models]) (3.9.1)\n",
      "Requirement already satisfied: pywin32>=300 in c:\\users\\benoj\\.pyenv\\pyenv-win\\versions\\3.10.0\\lib\\site-packages (from jupyter-core!=5.0.*,>=4.12->ipykernel>=4.5.1->ipywidgets>=7.6.5->pycaret[models]) (306)\n",
      "Requirement already satisfied: kiwisolver>=1.0.1 in c:\\users\\benoj\\.pyenv\\pyenv-win\\versions\\3.10.0\\lib\\site-packages (from matplotlib>=3.3.0->pycaret[models]) (1.4.4)\n",
      "Requirement already satisfied: pillow>=6.2.0 in c:\\users\\benoj\\.pyenv\\pyenv-win\\versions\\3.10.0\\lib\\site-packages (from matplotlib>=3.3.0->pycaret[models]) (10.0.0)\n",
      "Requirement already satisfied: contourpy>=1.0.1 in c:\\users\\benoj\\.pyenv\\pyenv-win\\versions\\3.10.0\\lib\\site-packages (from matplotlib>=3.3.0->pycaret[models]) (1.1.0)\n",
      "Requirement already satisfied: pyparsing<3.1,>=2.3.1 in c:\\users\\benoj\\.pyenv\\pyenv-win\\versions\\3.10.0\\lib\\site-packages (from matplotlib>=3.3.0->pycaret[models]) (3.0.9)\n",
      "Requirement already satisfied: cycler>=0.10 in c:\\users\\benoj\\.pyenv\\pyenv-win\\versions\\3.10.0\\lib\\site-packages (from matplotlib>=3.3.0->pycaret[models]) (0.11.0)\n",
      "Requirement already satisfied: fonttools>=4.22.0 in c:\\users\\benoj\\.pyenv\\pyenv-win\\versions\\3.10.0\\lib\\site-packages (from matplotlib>=3.3.0->pycaret[models]) (4.41.0)\n",
      "Requirement already satisfied: setuptools in c:\\users\\benoj\\.pyenv\\pyenv-win\\versions\\3.10.0\\lib\\site-packages (from mlxtend>=0.19.0->pycaret[models]) (57.4.0)\n",
      "Requirement already satisfied: jsonschema>=2.6 in c:\\users\\benoj\\.pyenv\\pyenv-win\\versions\\3.10.0\\lib\\site-packages (from nbformat>=4.2.0->pycaret[models]) (4.18.4)\n",
      "Requirement already satisfied: fastjsonschema in c:\\users\\benoj\\.pyenv\\pyenv-win\\versions\\3.10.0\\lib\\site-packages (from nbformat>=4.2.0->pycaret[models]) (2.17.1)\n",
      "Requirement already satisfied: referencing>=0.28.4 in c:\\users\\benoj\\.pyenv\\pyenv-win\\versions\\3.10.0\\lib\\site-packages (from jsonschema>=2.6->nbformat>=4.2.0->pycaret[models]) (0.30.0)\n",
      "Requirement already satisfied: attrs>=22.2.0 in c:\\users\\benoj\\.pyenv\\pyenv-win\\versions\\3.10.0\\lib\\site-packages (from jsonschema>=2.6->nbformat>=4.2.0->pycaret[models]) (23.1.0)\n",
      "Requirement already satisfied: rpds-py>=0.7.1 in c:\\users\\benoj\\.pyenv\\pyenv-win\\versions\\3.10.0\\lib\\site-packages (from jsonschema>=2.6->nbformat>=4.2.0->pycaret[models]) (0.9.2)\n",
      "Requirement already satisfied: jsonschema-specifications>=2023.03.6 in c:\\users\\benoj\\.pyenv\\pyenv-win\\versions\\3.10.0\\lib\\site-packages (from jsonschema>=2.6->nbformat>=4.2.0->pycaret[models]) (2023.7.1)\n",
      "Requirement already satisfied: llvmlite<0.41,>=0.40.0dev0 in c:\\users\\benoj\\.pyenv\\pyenv-win\\versions\\3.10.0\\lib\\site-packages (from numba>=0.55.0->pycaret[models]) (0.40.1)\n",
      "Requirement already satisfied: pytz>=2020.1 in c:\\users\\benoj\\.pyenv\\pyenv-win\\versions\\3.10.0\\lib\\site-packages (from pandas<2.0.0,>=1.3.0->pycaret[models]) (2023.3)\n",
      "Requirement already satisfied: tenacity>=6.2.0 in c:\\users\\benoj\\.pyenv\\pyenv-win\\versions\\3.10.0\\lib\\site-packages (from plotly>=5.0.0->pycaret[models]) (8.2.2)\n",
      "Requirement already satisfied: orjson<4.0.0,>=3.8.0 in c:\\users\\benoj\\.pyenv\\pyenv-win\\versions\\3.10.0\\lib\\site-packages (from plotly-resampler>=0.8.3.1->pycaret[models]) (3.9.2)\n",
      "Requirement already satisfied: dash<3.0.0,>=2.11.0 in c:\\users\\benoj\\.pyenv\\pyenv-win\\versions\\3.10.0\\lib\\site-packages (from plotly-resampler>=0.8.3.1->pycaret[models]) (2.11.1)\n",
      "Requirement already satisfied: trace-updater>=0.0.8 in c:\\users\\benoj\\.pyenv\\pyenv-win\\versions\\3.10.0\\lib\\site-packages (from plotly-resampler>=0.8.3.1->pycaret[models]) (0.0.9.1)\n",
      "Requirement already satisfied: tsdownsample==0.1.2 in c:\\users\\benoj\\.pyenv\\pyenv-win\\versions\\3.10.0\\lib\\site-packages (from plotly-resampler>=0.8.3.1->pycaret[models]) (0.1.2)\n",
      "Requirement already satisfied: Werkzeug<2.3.0 in c:\\users\\benoj\\.pyenv\\pyenv-win\\versions\\3.10.0\\lib\\site-packages (from dash<3.0.0,>=2.11.0->plotly-resampler>=0.8.3.1->pycaret[models]) (2.2.3)\n",
      "Requirement already satisfied: dash-table==5.0.0 in c:\\users\\benoj\\.pyenv\\pyenv-win\\versions\\3.10.0\\lib\\site-packages (from dash<3.0.0,>=2.11.0->plotly-resampler>=0.8.3.1->pycaret[models]) (5.0.0)\n",
      "Requirement already satisfied: dash-html-components==2.0.0 in c:\\users\\benoj\\.pyenv\\pyenv-win\\versions\\3.10.0\\lib\\site-packages (from dash<3.0.0,>=2.11.0->plotly-resampler>=0.8.3.1->pycaret[models]) (2.0.0)\n",
      "Requirement already satisfied: retrying in c:\\users\\benoj\\.pyenv\\pyenv-win\\versions\\3.10.0\\lib\\site-packages (from dash<3.0.0,>=2.11.0->plotly-resampler>=0.8.3.1->pycaret[models]) (1.3.4)\n",
      "Requirement already satisfied: dash-core-components==2.0.0 in c:\\users\\benoj\\.pyenv\\pyenv-win\\versions\\3.10.0\\lib\\site-packages (from dash<3.0.0,>=2.11.0->plotly-resampler>=0.8.3.1->pycaret[models]) (2.0.0)\n",
      "Requirement already satisfied: ansi2html in c:\\users\\benoj\\.pyenv\\pyenv-win\\versions\\3.10.0\\lib\\site-packages (from dash<3.0.0,>=2.11.0->plotly-resampler>=0.8.3.1->pycaret[models]) (1.8.0)\n",
      "Requirement already satisfied: Flask<2.3.0,>=1.0.4 in c:\\users\\benoj\\.pyenv\\pyenv-win\\versions\\3.10.0\\lib\\site-packages (from dash<3.0.0,>=2.11.0->plotly-resampler>=0.8.3.1->pycaret[models]) (2.2.5)\n",
      "Requirement already satisfied: click>=8.0 in c:\\users\\benoj\\.pyenv\\pyenv-win\\versions\\3.10.0\\lib\\site-packages (from Flask<2.3.0,>=1.0.4->dash<3.0.0,>=2.11.0->plotly-resampler>=0.8.3.1->pycaret[models]) (8.1.6)\n",
      "Requirement already satisfied: itsdangerous>=2.0 in c:\\users\\benoj\\.pyenv\\pyenv-win\\versions\\3.10.0\\lib\\site-packages (from Flask<2.3.0,>=1.0.4->dash<3.0.0,>=2.11.0->plotly-resampler>=0.8.3.1->pycaret[models]) (2.1.2)\n",
      "Requirement already satisfied: urllib3 in c:\\users\\benoj\\.pyenv\\pyenv-win\\versions\\3.10.0\\lib\\site-packages (from pmdarima!=1.8.1,<3.0.0,>=1.8.0->pycaret[models]) (2.0.3)\n",
      "Requirement already satisfied: Cython!=0.29.18,!=0.29.31,>=0.29 in c:\\users\\benoj\\.pyenv\\pyenv-win\\versions\\3.10.0\\lib\\site-packages (from pmdarima!=1.8.1,<3.0.0,>=1.8.0->pycaret[models]) (3.0.0)\n",
      "Requirement already satisfied: wcwidth in c:\\users\\benoj\\.pyenv\\pyenv-win\\versions\\3.10.0\\lib\\site-packages (from prompt-toolkit!=3.0.37,<3.1.0,>=3.0.30->ipython>=5.5.0->pycaret[models]) (0.2.6)\n",
      "Requirement already satisfied: certifi>=2017.4.17 in c:\\users\\benoj\\.pyenv\\pyenv-win\\versions\\3.10.0\\lib\\site-packages (from requests>=2.27.1->pycaret[models]) (2023.5.7)\n",
      "Requirement already satisfied: charset-normalizer<4,>=2 in c:\\users\\benoj\\.pyenv\\pyenv-win\\versions\\3.10.0\\lib\\site-packages (from requests>=2.27.1->pycaret[models]) (3.2.0)\n",
      "Requirement already satisfied: idna<4,>=2.5 in c:\\users\\benoj\\.pyenv\\pyenv-win\\versions\\3.10.0\\lib\\site-packages (from requests>=2.27.1->pycaret[models]) (3.4)\n",
      "Requirement already satisfied: daal4py==2023.2.1 in c:\\users\\benoj\\.pyenv\\pyenv-win\\versions\\3.10.0\\lib\\site-packages (from scikit-learn-intelex>=2023.0.1->pycaret[models]) (2023.2.1)\n",
      "Requirement already satisfied: daal==2023.2.1 in c:\\users\\benoj\\.pyenv\\pyenv-win\\versions\\3.10.0\\lib\\site-packages (from daal4py==2023.2.1->scikit-learn-intelex>=2023.0.1->pycaret[models]) (2023.2.1)\n",
      "Requirement already satisfied: tbb==2021.* in c:\\users\\benoj\\.pyenv\\pyenv-win\\versions\\3.10.0\\lib\\site-packages (from daal==2023.2.1->daal4py==2023.2.1->scikit-learn-intelex>=2023.0.1->pycaret[models]) (2021.10.0)\n",
      "Requirement already satisfied: deprecated>=1.2.13 in c:\\users\\benoj\\.pyenv\\pyenv-win\\versions\\3.10.0\\lib\\site-packages (from sktime!=0.17.1,!=0.17.2,!=0.18.0,>=0.16.1->pycaret[models]) (1.2.14)\n",
      "Requirement already satisfied: scikit-base<0.6.0 in c:\\users\\benoj\\.pyenv\\pyenv-win\\versions\\3.10.0\\lib\\site-packages (from sktime!=0.17.1,!=0.17.2,!=0.18.0,>=0.16.1->pycaret[models]) (0.5.0)\n",
      "Requirement already satisfied: wrapt<2,>=1.10 in c:\\users\\benoj\\.pyenv\\pyenv-win\\versions\\3.10.0\\lib\\site-packages (from deprecated>=1.2.13->sktime!=0.17.1,!=0.17.2,!=0.18.0,>=0.16.1->pycaret[models]) (1.15.0)\n",
      "Requirement already satisfied: greenlet!=0.4.17 in c:\\users\\benoj\\.pyenv\\pyenv-win\\versions\\3.10.0\\lib\\site-packages (from sqlalchemy>=1.3.0->optuna) (2.0.2)\n",
      "Requirement already satisfied: fugue>=0.8.1 in c:\\users\\benoj\\.pyenv\\pyenv-win\\versions\\3.10.0\\lib\\site-packages (from statsforecast>=0.5.5->pycaret[models]) (0.8.5)\n",
      "Requirement already satisfied: sqlglot in c:\\users\\benoj\\.pyenv\\pyenv-win\\versions\\3.10.0\\lib\\site-packages (from fugue>=0.8.1->statsforecast>=0.5.5->pycaret[models]) (17.6.1)\n",
      "Requirement already satisfied: pyarrow>=0.15.1 in c:\\users\\benoj\\.pyenv\\pyenv-win\\versions\\3.10.0\\lib\\site-packages (from fugue>=0.8.1->statsforecast>=0.5.5->pycaret[models]) (12.0.1)\n",
      "Requirement already satisfied: triad>=0.9.0 in c:\\users\\benoj\\.pyenv\\pyenv-win\\versions\\3.10.0\\lib\\site-packages (from fugue>=0.8.1->statsforecast>=0.5.5->pycaret[models]) (0.9.1)\n",
      "Requirement already satisfied: fugue-sql-antlr>=0.1.6 in c:\\users\\benoj\\.pyenv\\pyenv-win\\versions\\3.10.0\\lib\\site-packages (from fugue>=0.8.1->statsforecast>=0.5.5->pycaret[models]) (0.1.6)\n",
      "Requirement already satisfied: adagio>=0.2.4 in c:\\users\\benoj\\.pyenv\\pyenv-win\\versions\\3.10.0\\lib\\site-packages (from fugue>=0.8.1->statsforecast>=0.5.5->pycaret[models]) (0.2.4)\n",
      "Requirement already satisfied: qpd>=0.4.3 in c:\\users\\benoj\\.pyenv\\pyenv-win\\versions\\3.10.0\\lib\\site-packages (from fugue>=0.8.1->statsforecast>=0.5.5->pycaret[models]) (0.4.4)\n",
      "Requirement already satisfied: antlr4-python3-runtime<4.12,>=4.11.1 in c:\\users\\benoj\\.pyenv\\pyenv-win\\versions\\3.10.0\\lib\\site-packages (from fugue-sql-antlr>=0.1.6->fugue>=0.8.1->statsforecast>=0.5.5->pycaret[models]) (4.11.1)\n",
      "Requirement already satisfied: mpmath>=0.19 in c:\\users\\benoj\\.pyenv\\pyenv-win\\versions\\3.10.0\\lib\\site-packages (from sympy>=1.7.1->autofeat) (1.3.0)\n",
      "Requirement already satisfied: fs in c:\\users\\benoj\\.pyenv\\pyenv-win\\versions\\3.10.0\\lib\\site-packages (from triad>=0.9.0->fugue>=0.8.1->statsforecast>=0.5.5->pycaret[models]) (2.4.16)\n",
      "Requirement already satisfied: fsspec in c:\\users\\benoj\\.pyenv\\pyenv-win\\versions\\3.10.0\\lib\\site-packages (from triad>=0.9.0->fugue>=0.8.1->statsforecast>=0.5.5->pycaret[models]) (2023.6.0)\n",
      "Requirement already satisfied: appdirs~=1.4.3 in c:\\users\\benoj\\.pyenv\\pyenv-win\\versions\\3.10.0\\lib\\site-packages (from fs->triad>=0.9.0->fugue>=0.8.1->statsforecast>=0.5.5->pycaret[models]) (1.4.4)\n",
      "Requirement already satisfied: executing>=1.2.0 in c:\\users\\benoj\\.pyenv\\pyenv-win\\versions\\3.10.0\\lib\\site-packages (from stack-data->ipython>=5.5.0->pycaret[models]) (1.2.0)\n",
      "Requirement already satisfied: pure-eval in c:\\users\\benoj\\.pyenv\\pyenv-win\\versions\\3.10.0\\lib\\site-packages (from stack-data->ipython>=5.5.0->pycaret[models]) (0.2.2)\n",
      "Requirement already satisfied: asttokens>=2.1.0 in c:\\users\\benoj\\.pyenv\\pyenv-win\\versions\\3.10.0\\lib\\site-packages (from stack-data->ipython>=5.5.0->pycaret[models]) (2.2.1)\n",
      "Note: you may need to restart the kernel to use updated packages.\n"
     ]
    },
    {
     "name": "stderr",
     "output_type": "stream",
     "text": [
      "WARNING: You are using pip version 21.2.3; however, version 23.2 is available.\n",
      "You should consider upgrading via the 'c:\\Users\\Benoj\\.pyenv\\pyenv-win\\versions\\3.10.0\\python.exe -m pip install --upgrade pip' command.\n"
     ]
    }
   ],
   "source": [
    "%pip install pycaret[models] shap autofeat preprocessing optuna"
   ]
  },
  {
   "cell_type": "code",
   "execution_count": 77,
   "metadata": {
    "id": "8IWFJK2h22yc"
   },
   "outputs": [],
   "source": [
    "\n",
    "# dataframe and plotting\n",
    "import pandas as pd\n",
    "import numpy as np\n",
    "import seaborn as sns\n",
    "import matplotlib.pyplot as plt\n",
    "from pycaret.classification import *\n",
    "from pycaret.regression import *\n",
    "\n",
    "# machine learning\n",
    "import optuna\n",
    "import sklearn.datasets\n",
    "from lightgbm import LGBMClassifier\n",
    "from sklearn.model_selection import train_test_split\n",
    "from sklearn.metrics import accuracy_score\n",
    "from sklearn.metrics import classification_report\n",
    "\n",
    "# Split train_data\n",
    "import sklearn.model_selection\n",
    "from sklearn.model_selection import train_test_split\n",
    "\n",
    "##from google.colab import files\n",
    "import warnings\n",
    "warnings.filterwarnings('ignore')\n",
    "\n",
    "import preprocessing \n",
    "from sklearn.preprocessing import LabelEncoder\n",
    "from sklearn.preprocessing import MinMaxScaler\n",
    "\n",
    "from sklearn.model_selection import cross_validate\n",
    "\n"
   ]
  },
  {
   "cell_type": "markdown",
   "metadata": {
    "id": "9SyQadB9iY8R"
   },
   "source": [
    "### 1. Load the dataset"
   ]
  },
  {
   "cell_type": "code",
   "execution_count": 78,
   "metadata": {
    "id": "MQCvC_XjDzyH"
   },
   "outputs": [],
   "source": [
    "# Load files into a pandas dataframe\n",
    "train = pd.read_csv('Train.csv')\n",
    "comp_pred = pd.read_csv('Test.csv')\n",
    "ss = pd.read_csv('SampleSubmission.csv')\n",
    "variables = pd.read_csv('VariableDefinitions.csv')"
   ]
  },
  {
   "cell_type": "code",
   "execution_count": 79,
   "metadata": {
    "colab": {
     "base_uri": "https://localhost:8080/"
    },
    "id": "O6xUUoJMaRrc",
    "outputId": "37fa6d78-0297-4468-85e2-68e658ab6d7b"
   },
   "outputs": [
    {
     "name": "stdout",
     "output_type": "stream",
     "text": [
      "train data shape : (23524, 13)\n",
      "test data shape : (10086, 12)\n"
     ]
    }
   ],
   "source": [
    "# Let’s observe the shape of our datasets.\n",
    "print('train data shape :', train.shape)\n",
    "print('test data shape :', comp_pred.shape)"
   ]
  },
  {
   "cell_type": "code",
   "execution_count": 80,
   "metadata": {
    "colab": {
     "base_uri": "https://localhost:8080/",
     "height": 330
    },
    "id": "0p3FUgRYasI-",
    "outputId": "74d606e0-a4d3-47a7-c1f2-249bff16639e"
   },
   "outputs": [
    {
     "data": {
      "text/html": [
       "<div>\n",
       "<style scoped>\n",
       "    .dataframe tbody tr th:only-of-type {\n",
       "        vertical-align: middle;\n",
       "    }\n",
       "\n",
       "    .dataframe tbody tr th {\n",
       "        vertical-align: top;\n",
       "    }\n",
       "\n",
       "    .dataframe thead th {\n",
       "        text-align: right;\n",
       "    }\n",
       "</style>\n",
       "<table border=\"1\" class=\"dataframe\">\n",
       "  <thead>\n",
       "    <tr style=\"text-align: right;\">\n",
       "      <th></th>\n",
       "      <th>country</th>\n",
       "      <th>year</th>\n",
       "      <th>uniqueid</th>\n",
       "      <th>bank_account</th>\n",
       "      <th>location_type</th>\n",
       "      <th>cellphone_access</th>\n",
       "      <th>household_size</th>\n",
       "      <th>age_of_respondent</th>\n",
       "      <th>gender_of_respondent</th>\n",
       "      <th>relationship_with_head</th>\n",
       "      <th>marital_status</th>\n",
       "      <th>education_level</th>\n",
       "      <th>job_type</th>\n",
       "    </tr>\n",
       "  </thead>\n",
       "  <tbody>\n",
       "    <tr>\n",
       "      <th>0</th>\n",
       "      <td>Kenya</td>\n",
       "      <td>2018</td>\n",
       "      <td>uniqueid_1</td>\n",
       "      <td>Yes</td>\n",
       "      <td>Rural</td>\n",
       "      <td>Yes</td>\n",
       "      <td>3</td>\n",
       "      <td>24</td>\n",
       "      <td>Female</td>\n",
       "      <td>Spouse</td>\n",
       "      <td>Married/Living together</td>\n",
       "      <td>Secondary education</td>\n",
       "      <td>Self employed</td>\n",
       "    </tr>\n",
       "    <tr>\n",
       "      <th>1</th>\n",
       "      <td>Kenya</td>\n",
       "      <td>2018</td>\n",
       "      <td>uniqueid_2</td>\n",
       "      <td>No</td>\n",
       "      <td>Rural</td>\n",
       "      <td>No</td>\n",
       "      <td>5</td>\n",
       "      <td>70</td>\n",
       "      <td>Female</td>\n",
       "      <td>Head of Household</td>\n",
       "      <td>Widowed</td>\n",
       "      <td>No formal education</td>\n",
       "      <td>Government Dependent</td>\n",
       "    </tr>\n",
       "    <tr>\n",
       "      <th>2</th>\n",
       "      <td>Kenya</td>\n",
       "      <td>2018</td>\n",
       "      <td>uniqueid_3</td>\n",
       "      <td>Yes</td>\n",
       "      <td>Urban</td>\n",
       "      <td>Yes</td>\n",
       "      <td>5</td>\n",
       "      <td>26</td>\n",
       "      <td>Male</td>\n",
       "      <td>Other relative</td>\n",
       "      <td>Single/Never Married</td>\n",
       "      <td>Vocational/Specialised training</td>\n",
       "      <td>Self employed</td>\n",
       "    </tr>\n",
       "    <tr>\n",
       "      <th>3</th>\n",
       "      <td>Kenya</td>\n",
       "      <td>2018</td>\n",
       "      <td>uniqueid_4</td>\n",
       "      <td>No</td>\n",
       "      <td>Rural</td>\n",
       "      <td>Yes</td>\n",
       "      <td>5</td>\n",
       "      <td>34</td>\n",
       "      <td>Female</td>\n",
       "      <td>Head of Household</td>\n",
       "      <td>Married/Living together</td>\n",
       "      <td>Primary education</td>\n",
       "      <td>Formally employed Private</td>\n",
       "    </tr>\n",
       "    <tr>\n",
       "      <th>4</th>\n",
       "      <td>Kenya</td>\n",
       "      <td>2018</td>\n",
       "      <td>uniqueid_5</td>\n",
       "      <td>No</td>\n",
       "      <td>Urban</td>\n",
       "      <td>No</td>\n",
       "      <td>8</td>\n",
       "      <td>26</td>\n",
       "      <td>Male</td>\n",
       "      <td>Child</td>\n",
       "      <td>Single/Never Married</td>\n",
       "      <td>Primary education</td>\n",
       "      <td>Informally employed</td>\n",
       "    </tr>\n",
       "  </tbody>\n",
       "</table>\n",
       "</div>"
      ],
      "text/plain": [
       "  country  year    uniqueid bank_account location_type cellphone_access  \\\n",
       "0   Kenya  2018  uniqueid_1          Yes         Rural              Yes   \n",
       "1   Kenya  2018  uniqueid_2           No         Rural               No   \n",
       "2   Kenya  2018  uniqueid_3          Yes         Urban              Yes   \n",
       "3   Kenya  2018  uniqueid_4           No         Rural              Yes   \n",
       "4   Kenya  2018  uniqueid_5           No         Urban               No   \n",
       "\n",
       "   household_size  age_of_respondent gender_of_respondent  \\\n",
       "0               3                 24               Female   \n",
       "1               5                 70               Female   \n",
       "2               5                 26                 Male   \n",
       "3               5                 34               Female   \n",
       "4               8                 26                 Male   \n",
       "\n",
       "  relationship_with_head           marital_status  \\\n",
       "0                 Spouse  Married/Living together   \n",
       "1      Head of Household                  Widowed   \n",
       "2         Other relative     Single/Never Married   \n",
       "3      Head of Household  Married/Living together   \n",
       "4                  Child     Single/Never Married   \n",
       "\n",
       "                   education_level                   job_type  \n",
       "0              Secondary education              Self employed  \n",
       "1              No formal education       Government Dependent  \n",
       "2  Vocational/Specialised training              Self employed  \n",
       "3                Primary education  Formally employed Private  \n",
       "4                Primary education        Informally employed  "
      ]
     },
     "execution_count": 80,
     "metadata": {},
     "output_type": "execute_result"
    }
   ],
   "source": [
    "# inspect train data\n",
    "train.head()"
   ]
  },
  {
   "cell_type": "code",
   "execution_count": 81,
   "metadata": {
    "colab": {
     "base_uri": "https://localhost:8080/"
    },
    "id": "R1T_QbjNj0Dq",
    "outputId": "4f65aae1-c7d4-4546-ce33-15d40dd45585"
   },
   "outputs": [
    {
     "name": "stdout",
     "output_type": "stream",
     "text": [
      "missing values: country                   0\n",
      "year                      0\n",
      "uniqueid                  0\n",
      "bank_account              0\n",
      "location_type             0\n",
      "cellphone_access          0\n",
      "household_size            0\n",
      "age_of_respondent         0\n",
      "gender_of_respondent      0\n",
      "relationship_with_head    0\n",
      "marital_status            0\n",
      "education_level           0\n",
      "job_type                  0\n",
      "dtype: int64\n"
     ]
    }
   ],
   "source": [
    "# Check for missing values\n",
    "print('missing values:', train.isnull().sum())"
   ]
  },
  {
   "cell_type": "code",
   "execution_count": 82,
   "metadata": {
    "colab": {
     "base_uri": "https://localhost:8080/",
     "height": 386
    },
    "id": "QW4mlprHj-Ir",
    "outputId": "6089fa03-6eb3-4117-f694-b4b901bd57c0"
   },
   "outputs": [
    {
     "data": {
      "text/plain": [
       "<seaborn.axisgrid.FacetGrid at 0x170ffb700d0>"
      ]
     },
     "execution_count": 82,
     "metadata": {},
     "output_type": "execute_result"
    },
    {
     "data": {
      "image/png": "[encoded data removed]",
      "text/plain": [
       "<Figure size 500x500 with 1 Axes>"
      ]
     },
     "metadata": {},
     "output_type": "display_data"
    }
   ],
   "source": [
    "# Explore Target distribution \n",
    "sns.catplot(x=\"bank_account\", kind=\"count\", data=train)"
   ]
  },
  {
   "cell_type": "code",
   "execution_count": 83,
   "metadata": {
    "colab": {
     "base_uri": "https://localhost:8080/",
     "height": 206
    },
    "id": "dPjsaC0_a0qY",
    "outputId": "999100c2-5e84-42df-a3d9-4bbf99a9dd4a"
   },
   "outputs": [
    {
     "data": {
      "text/html": [
       "<div>\n",
       "<style scoped>\n",
       "    .dataframe tbody tr th:only-of-type {\n",
       "        vertical-align: middle;\n",
       "    }\n",
       "\n",
       "    .dataframe tbody tr th {\n",
       "        vertical-align: top;\n",
       "    }\n",
       "\n",
       "    .dataframe thead th {\n",
       "        text-align: right;\n",
       "    }\n",
       "</style>\n",
       "<table border=\"1\" class=\"dataframe\">\n",
       "  <thead>\n",
       "    <tr style=\"text-align: right;\">\n",
       "      <th></th>\n",
       "      <th>unique_id</th>\n",
       "      <th>bank_account</th>\n",
       "    </tr>\n",
       "  </thead>\n",
       "  <tbody>\n",
       "    <tr>\n",
       "      <th>0</th>\n",
       "      <td>uniqueid_1 x Kenya</td>\n",
       "      <td>0</td>\n",
       "    </tr>\n",
       "    <tr>\n",
       "      <th>1</th>\n",
       "      <td>uniqueid_2 x Kenya</td>\n",
       "      <td>0</td>\n",
       "    </tr>\n",
       "    <tr>\n",
       "      <th>2</th>\n",
       "      <td>uniqueid_3 x Kenya</td>\n",
       "      <td>0</td>\n",
       "    </tr>\n",
       "    <tr>\n",
       "      <th>3</th>\n",
       "      <td>uniqueid_4 x Kenya</td>\n",
       "      <td>0</td>\n",
       "    </tr>\n",
       "    <tr>\n",
       "      <th>4</th>\n",
       "      <td>uniqueid_5 x Kenya</td>\n",
       "      <td>0</td>\n",
       "    </tr>\n",
       "  </tbody>\n",
       "</table>\n",
       "</div>"
      ],
      "text/plain": [
       "            unique_id  bank_account\n",
       "0  uniqueid_1 x Kenya             0\n",
       "1  uniqueid_2 x Kenya             0\n",
       "2  uniqueid_3 x Kenya             0\n",
       "3  uniqueid_4 x Kenya             0\n",
       "4  uniqueid_5 x Kenya             0"
      ]
     },
     "execution_count": 83,
     "metadata": {},
     "output_type": "execute_result"
    }
   ],
   "source": [
    "# view the submission file\n",
    "ss.head()"
   ]
  },
  {
   "cell_type": "code",
   "execution_count": 84,
   "metadata": {
    "colab": {
     "base_uri": "https://localhost:8080/"
    },
    "id": "1otwZnE8bGns",
    "outputId": "d1761519-086f-4ffc-9f2e-e968611fe91c"
   },
   "outputs": [
    {
     "name": "stdout",
     "output_type": "stream",
     "text": [
      "<class 'pandas.core.frame.DataFrame'>\n",
      "RangeIndex: 23524 entries, 0 to 23523\n",
      "Data columns (total 13 columns):\n",
      " #   Column                  Non-Null Count  Dtype \n",
      "---  ------                  --------------  ----- \n",
      " 0   country                 23524 non-null  object\n",
      " 1   year                    23524 non-null  int64 \n",
      " 2   uniqueid                23524 non-null  object\n",
      " 3   bank_account            23524 non-null  object\n",
      " 4   location_type           23524 non-null  object\n",
      " 5   cellphone_access        23524 non-null  object\n",
      " 6   household_size          23524 non-null  int64 \n",
      " 7   age_of_respondent       23524 non-null  int64 \n",
      " 8   gender_of_respondent    23524 non-null  object\n",
      " 9   relationship_with_head  23524 non-null  object\n",
      " 10  marital_status          23524 non-null  object\n",
      " 11  education_level         23524 non-null  object\n",
      " 12  job_type                23524 non-null  object\n",
      "dtypes: int64(3), object(10)\n",
      "memory usage: 2.3+ MB\n",
      "None\n"
     ]
    }
   ],
   "source": [
    " #show some information about the dataset\n",
    "print(train.info())"
   ]
  },
  {
   "cell_type": "code",
   "execution_count": 85,
   "metadata": {
    "colab": {
     "base_uri": "https://localhost:8080/",
     "height": 426
    },
    "id": "8D-b3rTKAbmq",
    "outputId": "67891a87-702a-419a-8fd5-0f74fed96c36"
   },
   "outputs": [
    {
     "data": {
      "text/html": [
       "<div>\n",
       "<style scoped>\n",
       "    .dataframe tbody tr th:only-of-type {\n",
       "        vertical-align: middle;\n",
       "    }\n",
       "\n",
       "    .dataframe tbody tr th {\n",
       "        vertical-align: top;\n",
       "    }\n",
       "\n",
       "    .dataframe thead th {\n",
       "        text-align: right;\n",
       "    }\n",
       "</style>\n",
       "<table border=\"1\" class=\"dataframe\">\n",
       "  <thead>\n",
       "    <tr style=\"text-align: right;\">\n",
       "      <th></th>\n",
       "      <th>Variable Definitions</th>\n",
       "      <th>Unnamed: 1</th>\n",
       "    </tr>\n",
       "  </thead>\n",
       "  <tbody>\n",
       "    <tr>\n",
       "      <th>0</th>\n",
       "      <td>country</td>\n",
       "      <td>Country interviewee is in.</td>\n",
       "    </tr>\n",
       "    <tr>\n",
       "      <th>1</th>\n",
       "      <td>year</td>\n",
       "      <td>Year survey was done in.</td>\n",
       "    </tr>\n",
       "    <tr>\n",
       "      <th>2</th>\n",
       "      <td>uniqueid</td>\n",
       "      <td>Unique identifier for each interviewee</td>\n",
       "    </tr>\n",
       "    <tr>\n",
       "      <th>3</th>\n",
       "      <td>location_type</td>\n",
       "      <td>Type of location: Rural, Urban</td>\n",
       "    </tr>\n",
       "    <tr>\n",
       "      <th>4</th>\n",
       "      <td>cellphone_access</td>\n",
       "      <td>If interviewee has access to a cellphone: Yes, No</td>\n",
       "    </tr>\n",
       "    <tr>\n",
       "      <th>5</th>\n",
       "      <td>household_size</td>\n",
       "      <td>Number of people living in one house</td>\n",
       "    </tr>\n",
       "    <tr>\n",
       "      <th>6</th>\n",
       "      <td>age_of_respondent</td>\n",
       "      <td>The age of the interviewee</td>\n",
       "    </tr>\n",
       "    <tr>\n",
       "      <th>7</th>\n",
       "      <td>gender_of_respondent</td>\n",
       "      <td>Gender of interviewee: Male, Female</td>\n",
       "    </tr>\n",
       "    <tr>\n",
       "      <th>8</th>\n",
       "      <td>relationship_with_head</td>\n",
       "      <td>The interviewee’s relationship with the head o...</td>\n",
       "    </tr>\n",
       "    <tr>\n",
       "      <th>9</th>\n",
       "      <td>marital_status</td>\n",
       "      <td>The martial status of the interviewee: Married...</td>\n",
       "    </tr>\n",
       "    <tr>\n",
       "      <th>10</th>\n",
       "      <td>education_level</td>\n",
       "      <td>Highest level of education: No formal educatio...</td>\n",
       "    </tr>\n",
       "    <tr>\n",
       "      <th>11</th>\n",
       "      <td>job_type</td>\n",
       "      <td>Type of job interviewee has: Farming and Fishi...</td>\n",
       "    </tr>\n",
       "  </tbody>\n",
       "</table>\n",
       "</div>"
      ],
      "text/plain": [
       "      Variable Definitions                                         Unnamed: 1\n",
       "0                  country                         Country interviewee is in.\n",
       "1                     year                           Year survey was done in.\n",
       "2                 uniqueid             Unique identifier for each interviewee\n",
       "3            location_type                     Type of location: Rural, Urban\n",
       "4         cellphone_access  If interviewee has access to a cellphone: Yes, No\n",
       "5           household_size               Number of people living in one house\n",
       "6        age_of_respondent                         The age of the interviewee\n",
       "7     gender_of_respondent                Gender of interviewee: Male, Female\n",
       "8   relationship_with_head  The interviewee’s relationship with the head o...\n",
       "9           marital_status  The martial status of the interviewee: Married...\n",
       "10         education_level  Highest level of education: No formal educatio...\n",
       "11                job_type  Type of job interviewee has: Farming and Fishi..."
      ]
     },
     "execution_count": 85,
     "metadata": {},
     "output_type": "execute_result"
    }
   ],
   "source": [
    "# Let's view the variables\n",
    "variables"
   ]
  },
  {
   "cell_type": "code",
   "execution_count": 86,
   "metadata": {
    "colab": {
     "base_uri": "https://localhost:8080/"
    },
    "id": "KDu51_TBceft",
    "outputId": "bc1a4302-34e9-4107-8a69-00d59e1f77d4"
   },
   "outputs": [
    {
     "name": "stdout",
     "output_type": "stream",
     "text": [
      "0        1\n",
      "1        0\n",
      "2        1\n",
      "3        0\n",
      "4        0\n",
      "        ..\n",
      "23519    0\n",
      "23520    0\n",
      "23521    0\n",
      "23522    0\n",
      "23523    0\n",
      "Name: bank_account, Length: 23524, dtype: int32\n"
     ]
    }
   ],
   "source": [
    "#import preprocessing module\n",
    "from sklearn.preprocessing import LabelEncoder\n",
    "from sklearn.preprocessing import MinMaxScaler\n",
    "\n",
    "# Cobvert target label to numerical Data\n",
    "le = LabelEncoder()\n",
    "train['bank_account'] = le.fit_transform(train['bank_account'])\n",
    "\n",
    "#Separate training features from target\n",
    "X_train = train.drop(['bank_account'], axis=1)\n",
    "y_train = train['bank_account']\n",
    "\n",
    "print(y_train)"
   ]
  },
  {
   "cell_type": "code",
   "execution_count": 87,
   "metadata": {
    "id": "5nLXAW5hdYOk"
   },
   "outputs": [],
   "source": [
    "# function to preprocess our data from train models\n",
    "def preprocessing_data(data):\n",
    "\n",
    "    # Convert the following numerical labels from interger to float\n",
    "    float_array = data[[\"household_size\", \"age_of_respondent\", \"year\"]].values.astype(float)\n",
    "    \n",
    "    # categorical features to be onverted to One Hot Encoding\n",
    "    categ = [\"relationship_with_head\",\n",
    "             \"marital_status\",\n",
    "             \"education_level\",\n",
    "             \"job_type\",\n",
    "             \"country\"]\n",
    "    \n",
    "    # One Hot Encoding conversion\n",
    "    data = pd.get_dummies(data, prefix_sep=\"_\", columns=categ)\n",
    "    \n",
    "    # Label Encoder conversion\n",
    "    data[\"location_type\"] = le.fit_transform(data[\"location_type\"])\n",
    "    data[\"cellphone_access\"] = le.fit_transform(data[\"cellphone_access\"])\n",
    "    data[\"gender_of_respondent\"] = le.fit_transform(data[\"gender_of_respondent\"])\n",
    "    \n",
    "    # drop uniquid column\n",
    "    data = data.drop([\"uniqueid\"], axis=1)\n",
    "    \n",
    "    # scale our data into range of 0 and 1\n",
    "    scaler = MinMaxScaler(feature_range=(0, 1))\n",
    "    data = scaler.fit_transform(data)\n",
    "    \n",
    "    return data                  "
   ]
  },
  {
   "cell_type": "code",
   "execution_count": 88,
   "metadata": {
    "id": "eNdoBGhgdYdQ"
   },
   "outputs": [],
   "source": [
    "# preprocess the train data \n",
    "processed_train = preprocessing_data(X_train)\n",
    "processed_test = preprocessing_data(comp_pred)"
   ]
  },
  {
   "cell_type": "code",
   "execution_count": 89,
   "metadata": {
    "colab": {
     "base_uri": "https://localhost:8080/"
    },
    "id": "oZxvcf4DdYld",
    "outputId": "a9d357ef-a139-4a83-a081-60c21e912bc6"
   },
   "outputs": [
    {
     "name": "stdout",
     "output_type": "stream",
     "text": [
      "[[1.        0.        1.        0.1       0.0952381 0.        0.\n",
      "  0.        0.        0.        0.        1.        0.        0.\n",
      "  1.        0.        0.        0.        0.        0.        1.\n",
      "  0.        0.        0.        0.        0.        0.        0.\n",
      "  0.        0.        0.        0.        1.        1.        0.\n",
      "  0.        0.       ]]\n"
     ]
    }
   ],
   "source": [
    "# the first train row\n",
    "print(processed_train[:1])"
   ]
  },
  {
   "cell_type": "code",
   "execution_count": 90,
   "metadata": {
    "colab": {
     "base_uri": "https://localhost:8080/"
    },
    "id": "hwZVZ4cGdmTP",
    "outputId": "15e18896-281a-4dcc-9b07-b85da0757322"
   },
   "outputs": [
    {
     "name": "stdout",
     "output_type": "stream",
     "text": [
      "(23524, 37)\n",
      "[[1. 0. 1. ... 0. 0. 0.]\n",
      " [1. 0. 0. ... 0. 0. 0.]\n",
      " [1. 1. 1. ... 0. 0. 0.]\n",
      " ...\n",
      " [1. 0. 1. ... 0. 0. 1.]\n",
      " [1. 1. 1. ... 0. 0. 1.]\n",
      " [1. 0. 1. ... 0. 0. 1.]]\n"
     ]
    }
   ],
   "source": [
    "# shape of the processed train set\n",
    "print(processed_train.shape)\n",
    "print(processed_train)"
   ]
  },
  {
   "cell_type": "code",
   "execution_count": 91,
   "metadata": {
    "id": "2MSEu48clFhH"
   },
   "outputs": [],
   "source": [
    "import sklearn.model_selection"
   ]
  },
  {
   "cell_type": "code",
   "execution_count": 92,
   "metadata": {
    "id": "6HXDwTMtlB8-"
   },
   "outputs": [],
   "source": [
    "# Split train_data\n",
    "from sklearn.model_selection import train_test_split\n",
    "\n",
    "X_Train, X_Val, y_Train, y_val = train_test_split(processed_train, y_train, stratify = y_train, \n",
    "                                                  test_size = 0.1, random_state=42)"
   ]
  },
  {
   "cell_type": "code",
   "execution_count": 93,
   "metadata": {},
   "outputs": [
    {
     "data": {
      "text/html": [
       "<style type=\"text/css\">\n",
       "#T_e7874_row10_col1 {\n",
       "  background-color: lightgreen;\n",
       "}\n",
       "</style>\n",
       "<table id=\"T_e7874\">\n",
       "  <thead>\n",
       "    <tr>\n",
       "      <th class=\"blank level0\" >&nbsp;</th>\n",
       "      <th id=\"T_e7874_level0_col0\" class=\"col_heading level0 col0\" >Description</th>\n",
       "      <th id=\"T_e7874_level0_col1\" class=\"col_heading level0 col1\" >Value</th>\n",
       "    </tr>\n",
       "  </thead>\n",
       "  <tbody>\n",
       "    <tr>\n",
       "      <th id=\"T_e7874_level0_row0\" class=\"row_heading level0 row0\" >0</th>\n",
       "      <td id=\"T_e7874_row0_col0\" class=\"data row0 col0\" >Session id</td>\n",
       "      <td id=\"T_e7874_row0_col1\" class=\"data row0 col1\" >123</td>\n",
       "    </tr>\n",
       "    <tr>\n",
       "      <th id=\"T_e7874_level0_row1\" class=\"row_heading level0 row1\" >1</th>\n",
       "      <td id=\"T_e7874_row1_col0\" class=\"data row1 col0\" >Target</td>\n",
       "      <td id=\"T_e7874_row1_col1\" class=\"data row1 col1\" >bank_account</td>\n",
       "    </tr>\n",
       "    <tr>\n",
       "      <th id=\"T_e7874_level0_row2\" class=\"row_heading level0 row2\" >2</th>\n",
       "      <td id=\"T_e7874_row2_col0\" class=\"data row2 col0\" >Target type</td>\n",
       "      <td id=\"T_e7874_row2_col1\" class=\"data row2 col1\" >Regression</td>\n",
       "    </tr>\n",
       "    <tr>\n",
       "      <th id=\"T_e7874_level0_row3\" class=\"row_heading level0 row3\" >3</th>\n",
       "      <td id=\"T_e7874_row3_col0\" class=\"data row3 col0\" >Original data shape</td>\n",
       "      <td id=\"T_e7874_row3_col1\" class=\"data row3 col1\" >(23524, 13)</td>\n",
       "    </tr>\n",
       "    <tr>\n",
       "      <th id=\"T_e7874_level0_row4\" class=\"row_heading level0 row4\" >4</th>\n",
       "      <td id=\"T_e7874_row4_col0\" class=\"data row4 col0\" >Transformed data shape</td>\n",
       "      <td id=\"T_e7874_row4_col1\" class=\"data row4 col1\" >(23524, 39)</td>\n",
       "    </tr>\n",
       "    <tr>\n",
       "      <th id=\"T_e7874_level0_row5\" class=\"row_heading level0 row5\" >5</th>\n",
       "      <td id=\"T_e7874_row5_col0\" class=\"data row5 col0\" >Transformed train set shape</td>\n",
       "      <td id=\"T_e7874_row5_col1\" class=\"data row5 col1\" >(16466, 39)</td>\n",
       "    </tr>\n",
       "    <tr>\n",
       "      <th id=\"T_e7874_level0_row6\" class=\"row_heading level0 row6\" >6</th>\n",
       "      <td id=\"T_e7874_row6_col0\" class=\"data row6 col0\" >Transformed test set shape</td>\n",
       "      <td id=\"T_e7874_row6_col1\" class=\"data row6 col1\" >(7058, 39)</td>\n",
       "    </tr>\n",
       "    <tr>\n",
       "      <th id=\"T_e7874_level0_row7\" class=\"row_heading level0 row7\" >7</th>\n",
       "      <td id=\"T_e7874_row7_col0\" class=\"data row7 col0\" >Ordinal features</td>\n",
       "      <td id=\"T_e7874_row7_col1\" class=\"data row7 col1\" >3</td>\n",
       "    </tr>\n",
       "    <tr>\n",
       "      <th id=\"T_e7874_level0_row8\" class=\"row_heading level0 row8\" >8</th>\n",
       "      <td id=\"T_e7874_row8_col0\" class=\"data row8 col0\" >Numeric features</td>\n",
       "      <td id=\"T_e7874_row8_col1\" class=\"data row8 col1\" >3</td>\n",
       "    </tr>\n",
       "    <tr>\n",
       "      <th id=\"T_e7874_level0_row9\" class=\"row_heading level0 row9\" >9</th>\n",
       "      <td id=\"T_e7874_row9_col0\" class=\"data row9 col0\" >Categorical features</td>\n",
       "      <td id=\"T_e7874_row9_col1\" class=\"data row9 col1\" >9</td>\n",
       "    </tr>\n",
       "    <tr>\n",
       "      <th id=\"T_e7874_level0_row10\" class=\"row_heading level0 row10\" >10</th>\n",
       "      <td id=\"T_e7874_row10_col0\" class=\"data row10 col0\" >Preprocess</td>\n",
       "      <td id=\"T_e7874_row10_col1\" class=\"data row10 col1\" >True</td>\n",
       "    </tr>\n",
       "    <tr>\n",
       "      <th id=\"T_e7874_level0_row11\" class=\"row_heading level0 row11\" >11</th>\n",
       "      <td id=\"T_e7874_row11_col0\" class=\"data row11 col0\" >Imputation type</td>\n",
       "      <td id=\"T_e7874_row11_col1\" class=\"data row11 col1\" >simple</td>\n",
       "    </tr>\n",
       "    <tr>\n",
       "      <th id=\"T_e7874_level0_row12\" class=\"row_heading level0 row12\" >12</th>\n",
       "      <td id=\"T_e7874_row12_col0\" class=\"data row12 col0\" >Numeric imputation</td>\n",
       "      <td id=\"T_e7874_row12_col1\" class=\"data row12 col1\" >mean</td>\n",
       "    </tr>\n",
       "    <tr>\n",
       "      <th id=\"T_e7874_level0_row13\" class=\"row_heading level0 row13\" >13</th>\n",
       "      <td id=\"T_e7874_row13_col0\" class=\"data row13 col0\" >Categorical imputation</td>\n",
       "      <td id=\"T_e7874_row13_col1\" class=\"data row13 col1\" >mode</td>\n",
       "    </tr>\n",
       "    <tr>\n",
       "      <th id=\"T_e7874_level0_row14\" class=\"row_heading level0 row14\" >14</th>\n",
       "      <td id=\"T_e7874_row14_col0\" class=\"data row14 col0\" >Maximum one-hot encoding</td>\n",
       "      <td id=\"T_e7874_row14_col1\" class=\"data row14 col1\" >25</td>\n",
       "    </tr>\n",
       "    <tr>\n",
       "      <th id=\"T_e7874_level0_row15\" class=\"row_heading level0 row15\" >15</th>\n",
       "      <td id=\"T_e7874_row15_col0\" class=\"data row15 col0\" >Encoding method</td>\n",
       "      <td id=\"T_e7874_row15_col1\" class=\"data row15 col1\" >None</td>\n",
       "    </tr>\n",
       "    <tr>\n",
       "      <th id=\"T_e7874_level0_row16\" class=\"row_heading level0 row16\" >16</th>\n",
       "      <td id=\"T_e7874_row16_col0\" class=\"data row16 col0\" >Fold Generator</td>\n",
       "      <td id=\"T_e7874_row16_col1\" class=\"data row16 col1\" >KFold</td>\n",
       "    </tr>\n",
       "    <tr>\n",
       "      <th id=\"T_e7874_level0_row17\" class=\"row_heading level0 row17\" >17</th>\n",
       "      <td id=\"T_e7874_row17_col0\" class=\"data row17 col0\" >Fold Number</td>\n",
       "      <td id=\"T_e7874_row17_col1\" class=\"data row17 col1\" >10</td>\n",
       "    </tr>\n",
       "    <tr>\n",
       "      <th id=\"T_e7874_level0_row18\" class=\"row_heading level0 row18\" >18</th>\n",
       "      <td id=\"T_e7874_row18_col0\" class=\"data row18 col0\" >CPU Jobs</td>\n",
       "      <td id=\"T_e7874_row18_col1\" class=\"data row18 col1\" >-1</td>\n",
       "    </tr>\n",
       "    <tr>\n",
       "      <th id=\"T_e7874_level0_row19\" class=\"row_heading level0 row19\" >19</th>\n",
       "      <td id=\"T_e7874_row19_col0\" class=\"data row19 col0\" >Use GPU</td>\n",
       "      <td id=\"T_e7874_row19_col1\" class=\"data row19 col1\" >False</td>\n",
       "    </tr>\n",
       "    <tr>\n",
       "      <th id=\"T_e7874_level0_row20\" class=\"row_heading level0 row20\" >20</th>\n",
       "      <td id=\"T_e7874_row20_col0\" class=\"data row20 col0\" >Log Experiment</td>\n",
       "      <td id=\"T_e7874_row20_col1\" class=\"data row20 col1\" >False</td>\n",
       "    </tr>\n",
       "    <tr>\n",
       "      <th id=\"T_e7874_level0_row21\" class=\"row_heading level0 row21\" >21</th>\n",
       "      <td id=\"T_e7874_row21_col0\" class=\"data row21 col0\" >Experiment Name</td>\n",
       "      <td id=\"T_e7874_row21_col1\" class=\"data row21 col1\" >reg-default-name</td>\n",
       "    </tr>\n",
       "    <tr>\n",
       "      <th id=\"T_e7874_level0_row22\" class=\"row_heading level0 row22\" >22</th>\n",
       "      <td id=\"T_e7874_row22_col0\" class=\"data row22 col0\" >USI</td>\n",
       "      <td id=\"T_e7874_row22_col1\" class=\"data row22 col1\" >80e1</td>\n",
       "    </tr>\n",
       "  </tbody>\n",
       "</table>\n"
      ],
      "text/plain": [
       "<pandas.io.formats.style.Styler at 0x1708724b9d0>"
      ]
     },
     "metadata": {},
     "output_type": "display_data"
    }
   ],
   "source": [
    "cat_features = [\"relationship_with_head\",\n",
    "             \"marital_status\",\n",
    "             \"education_level\",\n",
    "             \"job_type\",\n",
    "             \"country\"]\n",
    "experiment = setup(train, target=\"bank_account\",session_id= 123)\n"
   ]
  },
  {
   "cell_type": "code",
   "execution_count": 94,
   "metadata": {},
   "outputs": [
    {
     "data": {
      "text/html": [],
      "text/plain": [
       "<IPython.core.display.HTML object>"
      ]
     },
     "metadata": {},
     "output_type": "display_data"
    },
    {
     "data": {
      "text/html": [
       "<style type=\"text/css\">\n",
       "#T_6b150 th {\n",
       "  text-align: left;\n",
       "}\n",
       "#T_6b150_row0_col0, #T_6b150_row0_col1, #T_6b150_row1_col0, #T_6b150_row1_col1, #T_6b150_row1_col2, #T_6b150_row1_col3, #T_6b150_row1_col4, #T_6b150_row1_col5, #T_6b150_row1_col6, #T_6b150_row2_col0, #T_6b150_row2_col1, #T_6b150_row2_col2, #T_6b150_row2_col3, #T_6b150_row2_col4, #T_6b150_row2_col5, #T_6b150_row2_col6, #T_6b150_row3_col0, #T_6b150_row3_col1, #T_6b150_row3_col2, #T_6b150_row3_col3, #T_6b150_row3_col4, #T_6b150_row3_col5, #T_6b150_row3_col6, #T_6b150_row4_col0, #T_6b150_row4_col1, #T_6b150_row4_col2, #T_6b150_row4_col3, #T_6b150_row4_col4, #T_6b150_row4_col5, #T_6b150_row4_col6, #T_6b150_row5_col0, #T_6b150_row5_col1, #T_6b150_row5_col2, #T_6b150_row5_col3, #T_6b150_row5_col4, #T_6b150_row5_col5, #T_6b150_row5_col6, #T_6b150_row6_col0, #T_6b150_row6_col1, #T_6b150_row6_col2, #T_6b150_row6_col3, #T_6b150_row6_col4, #T_6b150_row6_col5, #T_6b150_row6_col6, #T_6b150_row7_col0, #T_6b150_row7_col1, #T_6b150_row7_col2, #T_6b150_row7_col3, #T_6b150_row7_col4, #T_6b150_row7_col5, #T_6b150_row7_col6, #T_6b150_row8_col0, #T_6b150_row8_col1, #T_6b150_row8_col2, #T_6b150_row8_col3, #T_6b150_row8_col4, #T_6b150_row8_col5, #T_6b150_row8_col6, #T_6b150_row9_col0, #T_6b150_row9_col1, #T_6b150_row9_col2, #T_6b150_row9_col3, #T_6b150_row9_col4, #T_6b150_row9_col5, #T_6b150_row9_col6, #T_6b150_row10_col0, #T_6b150_row10_col2, #T_6b150_row10_col3, #T_6b150_row10_col4, #T_6b150_row10_col5, #T_6b150_row10_col6, #T_6b150_row11_col0, #T_6b150_row11_col1, #T_6b150_row11_col2, #T_6b150_row11_col3, #T_6b150_row11_col4, #T_6b150_row11_col5, #T_6b150_row11_col6, #T_6b150_row12_col0, #T_6b150_row12_col1, #T_6b150_row12_col2, #T_6b150_row12_col3, #T_6b150_row12_col4, #T_6b150_row12_col5, #T_6b150_row12_col6, #T_6b150_row13_col0, #T_6b150_row13_col1, #T_6b150_row13_col2, #T_6b150_row13_col3, #T_6b150_row13_col4, #T_6b150_row13_col5, #T_6b150_row13_col6, #T_6b150_row14_col0, #T_6b150_row14_col1, #T_6b150_row14_col2, #T_6b150_row14_col3, #T_6b150_row14_col4, #T_6b150_row14_col5, #T_6b150_row14_col6, #T_6b150_row15_col0, #T_6b150_row15_col1, #T_6b150_row15_col2, #T_6b150_row15_col3, #T_6b150_row15_col4, #T_6b150_row15_col5, #T_6b150_row15_col6, #T_6b150_row16_col0, #T_6b150_row16_col1, #T_6b150_row16_col2, #T_6b150_row16_col3, #T_6b150_row16_col4, #T_6b150_row16_col5, #T_6b150_row16_col6, #T_6b150_row17_col0, #T_6b150_row17_col1, #T_6b150_row17_col2, #T_6b150_row17_col3, #T_6b150_row17_col4, #T_6b150_row17_col5, #T_6b150_row17_col6, #T_6b150_row18_col0, #T_6b150_row18_col1, #T_6b150_row18_col2, #T_6b150_row18_col3, #T_6b150_row18_col4, #T_6b150_row18_col5, #T_6b150_row18_col6 {\n",
       "  text-align: left;\n",
       "}\n",
       "#T_6b150_row0_col2, #T_6b150_row0_col3, #T_6b150_row0_col4, #T_6b150_row0_col5, #T_6b150_row0_col6, #T_6b150_row10_col1 {\n",
       "  text-align: left;\n",
       "  background-color: yellow;\n",
       "}\n",
       "#T_6b150_row0_col7, #T_6b150_row1_col7, #T_6b150_row2_col7, #T_6b150_row3_col7, #T_6b150_row4_col7, #T_6b150_row5_col7, #T_6b150_row8_col7, #T_6b150_row9_col7, #T_6b150_row10_col7, #T_6b150_row11_col7, #T_6b150_row12_col7, #T_6b150_row13_col7, #T_6b150_row14_col7, #T_6b150_row15_col7, #T_6b150_row16_col7, #T_6b150_row17_col7 {\n",
       "  text-align: left;\n",
       "  background-color: lightgrey;\n",
       "}\n",
       "#T_6b150_row6_col7, #T_6b150_row7_col7, #T_6b150_row18_col7 {\n",
       "  text-align: left;\n",
       "  background-color: yellow;\n",
       "  background-color: lightgrey;\n",
       "}\n",
       "</style>\n",
       "<table id=\"T_6b150\">\n",
       "  <thead>\n",
       "    <tr>\n",
       "      <th class=\"blank level0\" >&nbsp;</th>\n",
       "      <th id=\"T_6b150_level0_col0\" class=\"col_heading level0 col0\" >Model</th>\n",
       "      <th id=\"T_6b150_level0_col1\" class=\"col_heading level0 col1\" >MAE</th>\n",
       "      <th id=\"T_6b150_level0_col2\" class=\"col_heading level0 col2\" >MSE</th>\n",
       "      <th id=\"T_6b150_level0_col3\" class=\"col_heading level0 col3\" >RMSE</th>\n",
       "      <th id=\"T_6b150_level0_col4\" class=\"col_heading level0 col4\" >R2</th>\n",
       "      <th id=\"T_6b150_level0_col5\" class=\"col_heading level0 col5\" >RMSLE</th>\n",
       "      <th id=\"T_6b150_level0_col6\" class=\"col_heading level0 col6\" >MAPE</th>\n",
       "      <th id=\"T_6b150_level0_col7\" class=\"col_heading level0 col7\" >TT (Sec)</th>\n",
       "    </tr>\n",
       "  </thead>\n",
       "  <tbody>\n",
       "    <tr>\n",
       "      <th id=\"T_6b150_level0_row0\" class=\"row_heading level0 row0\" >knn</th>\n",
       "      <td id=\"T_6b150_row0_col0\" class=\"data row0 col0\" >K Neighbors Regressor</td>\n",
       "      <td id=\"T_6b150_row0_col1\" class=\"data row0 col1\" >0.1653</td>\n",
       "      <td id=\"T_6b150_row0_col2\" class=\"data row0 col2\" >0.1059</td>\n",
       "      <td id=\"T_6b150_row0_col3\" class=\"data row0 col3\" >0.3253</td>\n",
       "      <td id=\"T_6b150_row0_col4\" class=\"data row0 col4\" >0.1307</td>\n",
       "      <td id=\"T_6b150_row0_col5\" class=\"data row0 col5\" >0.2284</td>\n",
       "      <td id=\"T_6b150_row0_col6\" class=\"data row0 col6\" >0.7100</td>\n",
       "      <td id=\"T_6b150_row0_col7\" class=\"data row0 col7\" >0.1100</td>\n",
       "    </tr>\n",
       "    <tr>\n",
       "      <th id=\"T_6b150_level0_row1\" class=\"row_heading level0 row1\" >omp</th>\n",
       "      <td id=\"T_6b150_row1_col0\" class=\"data row1 col0\" >Orthogonal Matching Pursuit</td>\n",
       "      <td id=\"T_6b150_row1_col1\" class=\"data row1 col1\" >0.2333</td>\n",
       "      <td id=\"T_6b150_row1_col2\" class=\"data row1 col2\" >0.1141</td>\n",
       "      <td id=\"T_6b150_row1_col3\" class=\"data row1 col3\" >0.3378</td>\n",
       "      <td id=\"T_6b150_row1_col4\" class=\"data row1 col4\" >0.0631</td>\n",
       "      <td id=\"T_6b150_row1_col5\" class=\"data row1 col5\" >0.2370</td>\n",
       "      <td id=\"T_6b150_row1_col6\" class=\"data row1 col6\" >0.8032</td>\n",
       "      <td id=\"T_6b150_row1_col7\" class=\"data row1 col7\" >0.0970</td>\n",
       "    </tr>\n",
       "    <tr>\n",
       "      <th id=\"T_6b150_level0_row2\" class=\"row_heading level0 row2\" >llar</th>\n",
       "      <td id=\"T_6b150_row2_col0\" class=\"data row2 col0\" >Lasso Least Angle Regression</td>\n",
       "      <td id=\"T_6b150_row2_col1\" class=\"data row2 col1\" >0.2438</td>\n",
       "      <td id=\"T_6b150_row2_col2\" class=\"data row2 col2\" >0.1219</td>\n",
       "      <td id=\"T_6b150_row2_col3\" class=\"data row2 col3\" >0.3491</td>\n",
       "      <td id=\"T_6b150_row2_col4\" class=\"data row2 col4\" >-0.0004</td>\n",
       "      <td id=\"T_6b150_row2_col5\" class=\"data row2 col5\" >0.2445</td>\n",
       "      <td id=\"T_6b150_row2_col6\" class=\"data row2 col6\" >0.8579</td>\n",
       "      <td id=\"T_6b150_row2_col7\" class=\"data row2 col7\" >0.0970</td>\n",
       "    </tr>\n",
       "    <tr>\n",
       "      <th id=\"T_6b150_level0_row3\" class=\"row_heading level0 row3\" >dummy</th>\n",
       "      <td id=\"T_6b150_row3_col0\" class=\"data row3 col0\" >Dummy Regressor</td>\n",
       "      <td id=\"T_6b150_row3_col1\" class=\"data row3 col1\" >0.2438</td>\n",
       "      <td id=\"T_6b150_row3_col2\" class=\"data row3 col2\" >0.1219</td>\n",
       "      <td id=\"T_6b150_row3_col3\" class=\"data row3 col3\" >0.3491</td>\n",
       "      <td id=\"T_6b150_row3_col4\" class=\"data row3 col4\" >-0.0004</td>\n",
       "      <td id=\"T_6b150_row3_col5\" class=\"data row3 col5\" >0.2445</td>\n",
       "      <td id=\"T_6b150_row3_col6\" class=\"data row3 col6\" >0.8579</td>\n",
       "      <td id=\"T_6b150_row3_col7\" class=\"data row3 col7\" >0.1060</td>\n",
       "    </tr>\n",
       "    <tr>\n",
       "      <th id=\"T_6b150_level0_row4\" class=\"row_heading level0 row4\" >en</th>\n",
       "      <td id=\"T_6b150_row4_col0\" class=\"data row4 col0\" >Elastic Net</td>\n",
       "      <td id=\"T_6b150_row4_col1\" class=\"data row4 col1\" >0.2438</td>\n",
       "      <td id=\"T_6b150_row4_col2\" class=\"data row4 col2\" >0.1219</td>\n",
       "      <td id=\"T_6b150_row4_col3\" class=\"data row4 col3\" >0.3491</td>\n",
       "      <td id=\"T_6b150_row4_col4\" class=\"data row4 col4\" >-0.0004</td>\n",
       "      <td id=\"T_6b150_row4_col5\" class=\"data row4 col5\" >0.2445</td>\n",
       "      <td id=\"T_6b150_row4_col6\" class=\"data row4 col6\" >0.8579</td>\n",
       "      <td id=\"T_6b150_row4_col7\" class=\"data row4 col7\" >0.0980</td>\n",
       "    </tr>\n",
       "    <tr>\n",
       "      <th id=\"T_6b150_level0_row5\" class=\"row_heading level0 row5\" >lasso</th>\n",
       "      <td id=\"T_6b150_row5_col0\" class=\"data row5 col0\" >Lasso Regression</td>\n",
       "      <td id=\"T_6b150_row5_col1\" class=\"data row5 col1\" >0.2438</td>\n",
       "      <td id=\"T_6b150_row5_col2\" class=\"data row5 col2\" >0.1219</td>\n",
       "      <td id=\"T_6b150_row5_col3\" class=\"data row5 col3\" >0.3491</td>\n",
       "      <td id=\"T_6b150_row5_col4\" class=\"data row5 col4\" >-0.0004</td>\n",
       "      <td id=\"T_6b150_row5_col5\" class=\"data row5 col5\" >0.2445</td>\n",
       "      <td id=\"T_6b150_row5_col6\" class=\"data row5 col6\" >0.8579</td>\n",
       "      <td id=\"T_6b150_row5_col7\" class=\"data row5 col7\" >0.2380</td>\n",
       "    </tr>\n",
       "    <tr>\n",
       "      <th id=\"T_6b150_level0_row6\" class=\"row_heading level0 row6\" >par</th>\n",
       "      <td id=\"T_6b150_row6_col0\" class=\"data row6 col0\" >Passive Aggressive Regressor</td>\n",
       "      <td id=\"T_6b150_row6_col1\" class=\"data row6 col1\" >0.1984</td>\n",
       "      <td id=\"T_6b150_row6_col2\" class=\"data row6 col2\" >0.1260</td>\n",
       "      <td id=\"T_6b150_row6_col3\" class=\"data row6 col3\" >0.3548</td>\n",
       "      <td id=\"T_6b150_row6_col4\" class=\"data row6 col4\" >-0.0333</td>\n",
       "      <td id=\"T_6b150_row6_col5\" class=\"data row6 col5\" >0.2434</td>\n",
       "      <td id=\"T_6b150_row6_col6\" class=\"data row6 col6\" >0.9197</td>\n",
       "      <td id=\"T_6b150_row6_col7\" class=\"data row6 col7\" >0.0960</td>\n",
       "    </tr>\n",
       "    <tr>\n",
       "      <th id=\"T_6b150_level0_row7\" class=\"row_heading level0 row7\" >ridge</th>\n",
       "      <td id=\"T_6b150_row7_col0\" class=\"data row7 col0\" >Ridge Regression</td>\n",
       "      <td id=\"T_6b150_row7_col1\" class=\"data row7 col1\" >0.2333</td>\n",
       "      <td id=\"T_6b150_row7_col2\" class=\"data row7 col2\" >0.1329</td>\n",
       "      <td id=\"T_6b150_row7_col3\" class=\"data row7 col3\" >0.3645</td>\n",
       "      <td id=\"T_6b150_row7_col4\" class=\"data row7 col4\" >-0.0913</td>\n",
       "      <td id=\"T_6b150_row7_col5\" class=\"data row7 col5\" >0.2586</td>\n",
       "      <td id=\"T_6b150_row7_col6\" class=\"data row7 col6\" >0.7179</td>\n",
       "      <td id=\"T_6b150_row7_col7\" class=\"data row7 col7\" >0.0960</td>\n",
       "    </tr>\n",
       "    <tr>\n",
       "      <th id=\"T_6b150_level0_row8\" class=\"row_heading level0 row8\" >br</th>\n",
       "      <td id=\"T_6b150_row8_col0\" class=\"data row8 col0\" >Bayesian Ridge</td>\n",
       "      <td id=\"T_6b150_row8_col1\" class=\"data row8 col1\" >0.2373</td>\n",
       "      <td id=\"T_6b150_row8_col2\" class=\"data row8 col2\" >0.1383</td>\n",
       "      <td id=\"T_6b150_row8_col3\" class=\"data row8 col3\" >0.3719</td>\n",
       "      <td id=\"T_6b150_row8_col4\" class=\"data row8 col4\" >-0.1361</td>\n",
       "      <td id=\"T_6b150_row8_col5\" class=\"data row8 col5\" >0.2634</td>\n",
       "      <td id=\"T_6b150_row8_col6\" class=\"data row8 col6\" >0.7242</td>\n",
       "      <td id=\"T_6b150_row8_col7\" class=\"data row8 col7\" >0.0990</td>\n",
       "    </tr>\n",
       "    <tr>\n",
       "      <th id=\"T_6b150_level0_row9\" class=\"row_heading level0 row9\" >lr</th>\n",
       "      <td id=\"T_6b150_row9_col0\" class=\"data row9 col0\" >Linear Regression</td>\n",
       "      <td id=\"T_6b150_row9_col1\" class=\"data row9 col1\" >0.2376</td>\n",
       "      <td id=\"T_6b150_row9_col2\" class=\"data row9 col2\" >0.1386</td>\n",
       "      <td id=\"T_6b150_row9_col3\" class=\"data row9 col3\" >0.3723</td>\n",
       "      <td id=\"T_6b150_row9_col4\" class=\"data row9 col4\" >-0.1387</td>\n",
       "      <td id=\"T_6b150_row9_col5\" class=\"data row9 col5\" >0.2637</td>\n",
       "      <td id=\"T_6b150_row9_col6\" class=\"data row9 col6\" >0.7248</td>\n",
       "      <td id=\"T_6b150_row9_col7\" class=\"data row9 col7\" >0.2800</td>\n",
       "    </tr>\n",
       "    <tr>\n",
       "      <th id=\"T_6b150_level0_row10\" class=\"row_heading level0 row10\" >huber</th>\n",
       "      <td id=\"T_6b150_row10_col0\" class=\"data row10 col0\" >Huber Regressor</td>\n",
       "      <td id=\"T_6b150_row10_col1\" class=\"data row10 col1\" >0.1426</td>\n",
       "      <td id=\"T_6b150_row10_col2\" class=\"data row10 col2\" >0.1403</td>\n",
       "      <td id=\"T_6b150_row10_col3\" class=\"data row10 col3\" >0.3745</td>\n",
       "      <td id=\"T_6b150_row10_col4\" class=\"data row10 col4\" >-0.1515</td>\n",
       "      <td id=\"T_6b150_row10_col5\" class=\"data row10 col5\" >0.2590</td>\n",
       "      <td id=\"T_6b150_row10_col6\" class=\"data row10 col6\" >0.9935</td>\n",
       "      <td id=\"T_6b150_row10_col7\" class=\"data row10 col7\" >0.2280</td>\n",
       "    </tr>\n",
       "    <tr>\n",
       "      <th id=\"T_6b150_level0_row11\" class=\"row_heading level0 row11\" >gbr</th>\n",
       "      <td id=\"T_6b150_row11_col0\" class=\"data row11 col0\" >Gradient Boosting Regressor</td>\n",
       "      <td id=\"T_6b150_row11_col1\" class=\"data row11 col1\" >0.2219</td>\n",
       "      <td id=\"T_6b150_row11_col2\" class=\"data row11 col2\" >0.1655</td>\n",
       "      <td id=\"T_6b150_row11_col3\" class=\"data row11 col3\" >0.4068</td>\n",
       "      <td id=\"T_6b150_row11_col4\" class=\"data row11 col4\" >-0.3594</td>\n",
       "      <td id=\"T_6b150_row11_col5\" class=\"data row11 col5\" >0.2881</td>\n",
       "      <td id=\"T_6b150_row11_col6\" class=\"data row11 col6\" >0.7924</td>\n",
       "      <td id=\"T_6b150_row11_col7\" class=\"data row11 col7\" >0.2210</td>\n",
       "    </tr>\n",
       "    <tr>\n",
       "      <th id=\"T_6b150_level0_row12\" class=\"row_heading level0 row12\" >lightgbm</th>\n",
       "      <td id=\"T_6b150_row12_col0\" class=\"data row12 col0\" >Light Gradient Boosting Machine</td>\n",
       "      <td id=\"T_6b150_row12_col1\" class=\"data row12 col1\" >0.2135</td>\n",
       "      <td id=\"T_6b150_row12_col2\" class=\"data row12 col2\" >0.1685</td>\n",
       "      <td id=\"T_6b150_row12_col3\" class=\"data row12 col3\" >0.4104</td>\n",
       "      <td id=\"T_6b150_row12_col4\" class=\"data row12 col4\" >-0.3842</td>\n",
       "      <td id=\"T_6b150_row12_col5\" class=\"data row12 col5\" >0.2896</td>\n",
       "      <td id=\"T_6b150_row12_col6\" class=\"data row12 col6\" >0.7929</td>\n",
       "      <td id=\"T_6b150_row12_col7\" class=\"data row12 col7\" >0.1910</td>\n",
       "    </tr>\n",
       "    <tr>\n",
       "      <th id=\"T_6b150_level0_row13\" class=\"row_heading level0 row13\" >xgboost</th>\n",
       "      <td id=\"T_6b150_row13_col0\" class=\"data row13 col0\" >Extreme Gradient Boosting</td>\n",
       "      <td id=\"T_6b150_row13_col1\" class=\"data row13 col1\" >0.2242</td>\n",
       "      <td id=\"T_6b150_row13_col2\" class=\"data row13 col2\" >0.1806</td>\n",
       "      <td id=\"T_6b150_row13_col3\" class=\"data row13 col3\" >0.4249</td>\n",
       "      <td id=\"T_6b150_row13_col4\" class=\"data row13 col4\" >-0.4830</td>\n",
       "      <td id=\"T_6b150_row13_col5\" class=\"data row13 col5\" >0.2964</td>\n",
       "      <td id=\"T_6b150_row13_col6\" class=\"data row13 col6\" >0.7972</td>\n",
       "      <td id=\"T_6b150_row13_col7\" class=\"data row13 col7\" >0.2540</td>\n",
       "    </tr>\n",
       "    <tr>\n",
       "      <th id=\"T_6b150_level0_row14\" class=\"row_heading level0 row14\" >rf</th>\n",
       "      <td id=\"T_6b150_row14_col0\" class=\"data row14 col0\" >Random Forest Regressor</td>\n",
       "      <td id=\"T_6b150_row14_col1\" class=\"data row14 col1\" >0.2198</td>\n",
       "      <td id=\"T_6b150_row14_col2\" class=\"data row14 col2\" >0.1830</td>\n",
       "      <td id=\"T_6b150_row14_col3\" class=\"data row14 col3\" >0.4278</td>\n",
       "      <td id=\"T_6b150_row14_col4\" class=\"data row14 col4\" >-0.5035</td>\n",
       "      <td id=\"T_6b150_row14_col5\" class=\"data row14 col5\" >0.3014</td>\n",
       "      <td id=\"T_6b150_row14_col6\" class=\"data row14 col6\" >0.7868</td>\n",
       "      <td id=\"T_6b150_row14_col7\" class=\"data row14 col7\" >0.1960</td>\n",
       "    </tr>\n",
       "    <tr>\n",
       "      <th id=\"T_6b150_level0_row15\" class=\"row_heading level0 row15\" >et</th>\n",
       "      <td id=\"T_6b150_row15_col0\" class=\"data row15 col0\" >Extra Trees Regressor</td>\n",
       "      <td id=\"T_6b150_row15_col1\" class=\"data row15 col1\" >0.2086</td>\n",
       "      <td id=\"T_6b150_row15_col2\" class=\"data row15 col2\" >0.1834</td>\n",
       "      <td id=\"T_6b150_row15_col3\" class=\"data row15 col3\" >0.4282</td>\n",
       "      <td id=\"T_6b150_row15_col4\" class=\"data row15 col4\" >-0.5065</td>\n",
       "      <td id=\"T_6b150_row15_col5\" class=\"data row15 col5\" >0.2996</td>\n",
       "      <td id=\"T_6b150_row15_col6\" class=\"data row15 col6\" >0.8240</td>\n",
       "      <td id=\"T_6b150_row15_col7\" class=\"data row15 col7\" >0.2130</td>\n",
       "    </tr>\n",
       "    <tr>\n",
       "      <th id=\"T_6b150_level0_row16\" class=\"row_heading level0 row16\" >ada</th>\n",
       "      <td id=\"T_6b150_row16_col0\" class=\"data row16 col0\" >AdaBoost Regressor</td>\n",
       "      <td id=\"T_6b150_row16_col1\" class=\"data row16 col1\" >0.2726</td>\n",
       "      <td id=\"T_6b150_row16_col2\" class=\"data row16 col2\" >0.1933</td>\n",
       "      <td id=\"T_6b150_row16_col3\" class=\"data row16 col3\" >0.4397</td>\n",
       "      <td id=\"T_6b150_row16_col4\" class=\"data row16 col4\" >-0.5887</td>\n",
       "      <td id=\"T_6b150_row16_col5\" class=\"data row16 col5\" >0.3193</td>\n",
       "      <td id=\"T_6b150_row16_col6\" class=\"data row16 col6\" >0.8137</td>\n",
       "      <td id=\"T_6b150_row16_col7\" class=\"data row16 col7\" >0.1190</td>\n",
       "    </tr>\n",
       "    <tr>\n",
       "      <th id=\"T_6b150_level0_row17\" class=\"row_heading level0 row17\" >dt</th>\n",
       "      <td id=\"T_6b150_row17_col0\" class=\"data row17 col0\" >Decision Tree Regressor</td>\n",
       "      <td id=\"T_6b150_row17_col1\" class=\"data row17 col1\" >0.2173</td>\n",
       "      <td id=\"T_6b150_row17_col2\" class=\"data row17 col2\" >0.2168</td>\n",
       "      <td id=\"T_6b150_row17_col3\" class=\"data row17 col3\" >0.4655</td>\n",
       "      <td id=\"T_6b150_row17_col4\" class=\"data row17 col4\" >-0.7811</td>\n",
       "      <td id=\"T_6b150_row17_col5\" class=\"data row17 col5\" >0.3228</td>\n",
       "      <td id=\"T_6b150_row17_col6\" class=\"data row17 col6\" >0.7832</td>\n",
       "      <td id=\"T_6b150_row17_col7\" class=\"data row17 col7\" >0.0970</td>\n",
       "    </tr>\n",
       "    <tr>\n",
       "      <th id=\"T_6b150_level0_row18\" class=\"row_heading level0 row18\" >lar</th>\n",
       "      <td id=\"T_6b150_row18_col0\" class=\"data row18 col0\" >Least Angle Regression</td>\n",
       "      <td id=\"T_6b150_row18_col1\" class=\"data row18 col1\" >302351.8243</td>\n",
       "      <td id=\"T_6b150_row18_col2\" class=\"data row18 col2\" >1025507255488.3226</td>\n",
       "      <td id=\"T_6b150_row18_col3\" class=\"data row18 col3\" >321537.3276</td>\n",
       "      <td id=\"T_6b150_row18_col4\" class=\"data row18 col4\" >-8788914936315.1299</td>\n",
       "      <td id=\"T_6b150_row18_col5\" class=\"data row18 col5\" >4.9498</td>\n",
       "      <td id=\"T_6b150_row18_col6\" class=\"data row18 col6\" >277884.7998</td>\n",
       "      <td id=\"T_6b150_row18_col7\" class=\"data row18 col7\" >0.0960</td>\n",
       "    </tr>\n",
       "  </tbody>\n",
       "</table>\n"
      ],
      "text/plain": [
       "<pandas.io.formats.style.Styler at 0x17085e9ea10>"
      ]
     },
     "metadata": {},
     "output_type": "display_data"
    },
    {
     "data": {
      "text/html": [],
      "text/plain": [
       "<IPython.core.display.HTML object>"
      ]
     },
     "metadata": {},
     "output_type": "display_data"
    }
   ],
   "source": [
    "best_model = compare_models()"
   ]
  },
  {
   "cell_type": "code",
   "execution_count": 95,
   "metadata": {},
   "outputs": [],
   "source": [
    "results = pull()"
   ]
  },
  {
   "cell_type": "code",
   "execution_count": 96,
   "metadata": {},
   "outputs": [
    {
     "name": "stdout",
     "output_type": "stream",
     "text": [
      "                                    Model          MAE           MSE  \\\n",
      "knn                 K Neighbors Regressor       0.1653  1.059000e-01   \n",
      "omp           Orthogonal Matching Pursuit       0.2333  1.141000e-01   \n",
      "llar         Lasso Least Angle Regression       0.2438  1.219000e-01   \n",
      "dummy                     Dummy Regressor       0.2438  1.219000e-01   \n",
      "en                            Elastic Net       0.2438  1.219000e-01   \n",
      "lasso                    Lasso Regression       0.2438  1.219000e-01   \n",
      "par          Passive Aggressive Regressor       0.1984  1.260000e-01   \n",
      "ridge                    Ridge Regression       0.2333  1.329000e-01   \n",
      "br                         Bayesian Ridge       0.2373  1.383000e-01   \n",
      "lr                      Linear Regression       0.2376  1.386000e-01   \n",
      "huber                     Huber Regressor       0.1426  1.403000e-01   \n",
      "gbr           Gradient Boosting Regressor       0.2219  1.655000e-01   \n",
      "lightgbm  Light Gradient Boosting Machine       0.2135  1.685000e-01   \n",
      "xgboost         Extreme Gradient Boosting       0.2242  1.806000e-01   \n",
      "rf                Random Forest Regressor       0.2198  1.830000e-01   \n",
      "et                  Extra Trees Regressor       0.2086  1.834000e-01   \n",
      "ada                    AdaBoost Regressor       0.2726  1.933000e-01   \n",
      "dt                Decision Tree Regressor       0.2173  2.168000e-01   \n",
      "lar                Least Angle Regression  302351.8243  1.025507e+12   \n",
      "\n",
      "                 RMSE            R2   RMSLE         MAPE  TT (Sec)  \n",
      "knn            0.3253  1.307000e-01  0.2284       0.7100     0.110  \n",
      "omp            0.3378  6.310000e-02  0.2370       0.8032     0.097  \n",
      "llar           0.3491 -4.000000e-04  0.2445       0.8579     0.097  \n",
      "dummy          0.3491 -4.000000e-04  0.2445       0.8579     0.106  \n",
      "en             0.3491 -4.000000e-04  0.2445       0.8579     0.098  \n",
      "lasso          0.3491 -4.000000e-04  0.2445       0.8579     0.238  \n",
      "par            0.3548 -3.330000e-02  0.2434       0.9197     0.096  \n",
      "ridge          0.3645 -9.130000e-02  0.2586       0.7179     0.096  \n",
      "br             0.3719 -1.361000e-01  0.2634       0.7242     0.099  \n",
      "lr             0.3723 -1.387000e-01  0.2637       0.7248     0.280  \n",
      "huber          0.3745 -1.515000e-01  0.2590       0.9935     0.228  \n",
      "gbr            0.4068 -3.594000e-01  0.2881       0.7924     0.221  \n",
      "lightgbm       0.4104 -3.842000e-01  0.2896       0.7929     0.191  \n",
      "xgboost        0.4249 -4.830000e-01  0.2964       0.7972     0.254  \n",
      "rf             0.4278 -5.035000e-01  0.3014       0.7868     0.196  \n",
      "et             0.4282 -5.065000e-01  0.2996       0.8240     0.213  \n",
      "ada            0.4397 -5.887000e-01  0.3193       0.8137     0.119  \n",
      "dt             0.4655 -7.811000e-01  0.3228       0.7832     0.097  \n",
      "lar       321537.3276 -8.788915e+12  4.9498  277884.7998     0.096  \n"
     ]
    }
   ],
   "source": [
    "print(results)"
   ]
  },
  {
   "cell_type": "code",
   "execution_count": 97,
   "metadata": {},
   "outputs": [
    {
     "data": {
      "text/html": [],
      "text/plain": [
       "<IPython.core.display.HTML object>"
      ]
     },
     "metadata": {},
     "output_type": "display_data"
    },
    {
     "data": {
      "text/html": [
       "<div>\n",
       "<style scoped>\n",
       "    .dataframe tbody tr th:only-of-type {\n",
       "        vertical-align: middle;\n",
       "    }\n",
       "\n",
       "    .dataframe tbody tr th {\n",
       "        vertical-align: top;\n",
       "    }\n",
       "\n",
       "    .dataframe thead th {\n",
       "        text-align: right;\n",
       "    }\n",
       "</style>\n",
       "<table border=\"1\" class=\"dataframe\">\n",
       "  <thead>\n",
       "    <tr style=\"text-align: right;\">\n",
       "      <th></th>\n",
       "      <th>country</th>\n",
       "      <th>year</th>\n",
       "      <th>uniqueid</th>\n",
       "      <th>location_type</th>\n",
       "      <th>cellphone_access</th>\n",
       "      <th>household_size</th>\n",
       "      <th>age_of_respondent</th>\n",
       "      <th>gender_of_respondent</th>\n",
       "      <th>relationship_with_head</th>\n",
       "      <th>marital_status</th>\n",
       "      <th>education_level</th>\n",
       "      <th>job_type</th>\n",
       "      <th>bank_account</th>\n",
       "      <th>prediction_label</th>\n",
       "    </tr>\n",
       "  </thead>\n",
       "  <tbody>\n",
       "    <tr>\n",
       "      <th>23519</th>\n",
       "      <td>Uganda</td>\n",
       "      <td>2018</td>\n",
       "      <td>uniqueid_2113</td>\n",
       "      <td>Rural</td>\n",
       "      <td>Yes</td>\n",
       "      <td>4</td>\n",
       "      <td>48</td>\n",
       "      <td>Female</td>\n",
       "      <td>Head of Household</td>\n",
       "      <td>Divorced/Seperated</td>\n",
       "      <td>No formal education</td>\n",
       "      <td>Other Income</td>\n",
       "      <td>0</td>\n",
       "      <td>0.0</td>\n",
       "    </tr>\n",
       "    <tr>\n",
       "      <th>23520</th>\n",
       "      <td>Uganda</td>\n",
       "      <td>2018</td>\n",
       "      <td>uniqueid_2114</td>\n",
       "      <td>Rural</td>\n",
       "      <td>Yes</td>\n",
       "      <td>2</td>\n",
       "      <td>27</td>\n",
       "      <td>Female</td>\n",
       "      <td>Head of Household</td>\n",
       "      <td>Single/Never Married</td>\n",
       "      <td>Secondary education</td>\n",
       "      <td>Other Income</td>\n",
       "      <td>0</td>\n",
       "      <td>0.2</td>\n",
       "    </tr>\n",
       "    <tr>\n",
       "      <th>23521</th>\n",
       "      <td>Uganda</td>\n",
       "      <td>2018</td>\n",
       "      <td>uniqueid_2115</td>\n",
       "      <td>Rural</td>\n",
       "      <td>Yes</td>\n",
       "      <td>5</td>\n",
       "      <td>27</td>\n",
       "      <td>Female</td>\n",
       "      <td>Parent</td>\n",
       "      <td>Widowed</td>\n",
       "      <td>Primary education</td>\n",
       "      <td>Other Income</td>\n",
       "      <td>0</td>\n",
       "      <td>0.0</td>\n",
       "    </tr>\n",
       "    <tr>\n",
       "      <th>23522</th>\n",
       "      <td>Uganda</td>\n",
       "      <td>2018</td>\n",
       "      <td>uniqueid_2116</td>\n",
       "      <td>Urban</td>\n",
       "      <td>Yes</td>\n",
       "      <td>7</td>\n",
       "      <td>30</td>\n",
       "      <td>Female</td>\n",
       "      <td>Parent</td>\n",
       "      <td>Divorced/Seperated</td>\n",
       "      <td>Secondary education</td>\n",
       "      <td>Self employed</td>\n",
       "      <td>0</td>\n",
       "      <td>0.0</td>\n",
       "    </tr>\n",
       "    <tr>\n",
       "      <th>23523</th>\n",
       "      <td>Uganda</td>\n",
       "      <td>2018</td>\n",
       "      <td>uniqueid_2117</td>\n",
       "      <td>Rural</td>\n",
       "      <td>Yes</td>\n",
       "      <td>10</td>\n",
       "      <td>20</td>\n",
       "      <td>Male</td>\n",
       "      <td>Child</td>\n",
       "      <td>Single/Never Married</td>\n",
       "      <td>Secondary education</td>\n",
       "      <td>No Income</td>\n",
       "      <td>0</td>\n",
       "      <td>0.0</td>\n",
       "    </tr>\n",
       "  </tbody>\n",
       "</table>\n",
       "</div>"
      ],
      "text/plain": [
       "      country  year       uniqueid location_type cellphone_access  \\\n",
       "23519  Uganda  2018  uniqueid_2113         Rural              Yes   \n",
       "23520  Uganda  2018  uniqueid_2114         Rural              Yes   \n",
       "23521  Uganda  2018  uniqueid_2115         Rural              Yes   \n",
       "23522  Uganda  2018  uniqueid_2116         Urban              Yes   \n",
       "23523  Uganda  2018  uniqueid_2117         Rural              Yes   \n",
       "\n",
       "       household_size  age_of_respondent gender_of_respondent  \\\n",
       "23519               4                 48               Female   \n",
       "23520               2                 27               Female   \n",
       "23521               5                 27               Female   \n",
       "23522               7                 30               Female   \n",
       "23523              10                 20                 Male   \n",
       "\n",
       "      relationship_with_head        marital_status      education_level  \\\n",
       "23519      Head of Household    Divorced/Seperated  No formal education   \n",
       "23520      Head of Household  Single/Never Married  Secondary education   \n",
       "23521                 Parent               Widowed    Primary education   \n",
       "23522                 Parent    Divorced/Seperated  Secondary education   \n",
       "23523                  Child  Single/Never Married  Secondary education   \n",
       "\n",
       "            job_type  bank_account  prediction_label  \n",
       "23519   Other Income             0               0.0  \n",
       "23520   Other Income             0               0.2  \n",
       "23521   Other Income             0               0.0  \n",
       "23522  Self employed             0               0.0  \n",
       "23523      No Income             0               0.0  "
      ]
     },
     "execution_count": 97,
     "metadata": {},
     "output_type": "execute_result"
    }
   ],
   "source": [
    "predict_model(best_model,train.tail())"
   ]
  },
  {
   "cell_type": "code",
   "execution_count": 98,
   "metadata": {},
   "outputs": [],
   "source": [
    "from autofeat import AutoFeatClassifier, FeatureSelector"
   ]
  },
  {
   "cell_type": "code",
   "execution_count": 99,
   "metadata": {},
   "outputs": [],
   "source": [
    "afc = AutoFeatClassifier(verbose=1,n_jobs=-1)"
   ]
  },
  {
   "cell_type": "code",
   "execution_count": 100,
   "metadata": {},
   "outputs": [
    {
     "name": "stdout",
     "output_type": "stream",
     "text": [
      "[AutoFeat] The 2 step feature engineering process could generate up to 33670 features.\n",
      "[AutoFeat] With 21171 data points this new feature matrix would use about 2.85 gb of space.\n",
      "[feateng] Step 1: transformation of original features\n",
      "[feateng] Generated 12 transformed features from 37 original features - done.\n",
      "[feateng] Step 2: first combination of features\n",
      "[feateng] Generated 1030 feature combinations from 1176 original feature tuples - done.\n",
      "[feateng] Generated altogether 1188 new features in 2 steps\n",
      "[feateng] Removing correlated features, as well as additions at the highest level\n",
      "[feateng] Generated a total of 910 additional features\n",
      "[featsel] Scaling data...done.\n",
      "[Parallel(n_jobs=-1)]: Using backend LokyBackend with 20 concurrent workers.\n",
      "[Parallel(n_jobs=-1)]: Done   1 tasks      | elapsed: 21.2min\n",
      "[Parallel(n_jobs=-1)]: Done   2 out of   5 | elapsed: 21.4min remaining: 32.0min\n",
      "[Parallel(n_jobs=-1)]: Done   3 out of   5 | elapsed: 21.8min remaining: 14.5min\n",
      "[Parallel(n_jobs=-1)]: Done   5 out of   5 | elapsed: 22.1min finished\n",
      "[featsel] 62 features after 5 feature selection runs\n",
      "[featsel] 60 features after correlation filtering\n",
      "[featsel] 18 features after noise filtering\n",
      "[AutoFeat] Computing 13 new features.\n",
      "[AutoFeat]    13/   13 new features ...done.\n",
      "[AutoFeat] Final dataframe with 50 feature columns (13 new).\n",
      "[AutoFeat] Training final classification model.\n",
      "[AutoFeat] Trained model: largest coefficients:\n",
      "[-2.52407491]\n",
      "2.578664 * x004*x021\n",
      "1.972547 * x022\n",
      "1.873802 * x025\n",
      "1.630948 * x021\n",
      "1.310163 * x002*sqrt(x004)\n",
      "1.220165 * sqrt(x004)*x020\n",
      "1.128813 * x026\n",
      "1.068186 * x001*x034\n",
      "0.920050 * sqrt(x004)*x033\n",
      "0.914231 * x002\n",
      "0.812823 * x001*x035\n",
      "0.725235 * x032*x033\n",
      "0.573739 * x007*x026\n",
      "0.534225 * x002*x005\n",
      "0.389847 * x014*x020\n",
      "0.322342 * x001*x033\n",
      "0.232772 * x007*x020\n",
      "0.160808 * x001*x014\n",
      "[AutoFeat] Final score: 0.7934\n"
     ]
    }
   ],
   "source": [
    "X_train_feat = afc.fit_transform(X_Train,y_Train)"
   ]
  },
  {
   "cell_type": "code",
   "execution_count": 101,
   "metadata": {},
   "outputs": [
    {
     "name": "stdout",
     "output_type": "stream",
     "text": [
      "[AutoFeat] Computing 13 new features.\n",
      "[AutoFeat]    13/   13 new features ...done.\n"
     ]
    }
   ],
   "source": [
    "X_Val_feat = afc.transform(X_Val)"
   ]
  },
  {
   "cell_type": "code",
   "execution_count": 102,
   "metadata": {},
   "outputs": [],
   "source": [
    "lgbm = LGBMClassifier()"
   ]
  },
  {
   "cell_type": "code",
   "execution_count": 103,
   "metadata": {},
   "outputs": [
    {
     "name": "stdout",
     "output_type": "stream",
     "text": [
      "[LightGBM] [Info] Number of positive: 2981, number of negative: 18190\n",
      "[LightGBM] [Warning] Auto-choosing row-wise multi-threading, the overhead of testing was 0.000994 seconds.\n",
      "You can set `force_row_wise=true` to remove the overhead.\n",
      "And if memory is not enough, you can set `force_col_wise=true`.\n",
      "[LightGBM] [Info] Total Bins 462\n",
      "[LightGBM] [Info] Number of data points in the train set: 21171, number of used features: 49\n",
      "[LightGBM] [Info] [binary:BoostFromScore]: pavg=0.140806 -> initscore=-1.808613\n",
      "[LightGBM] [Info] Start training from score -1.808613\n"
     ]
    },
    {
     "data": {
      "text/html": [
       "<style>#sk-container-id-1 {color: black;background-color: white;}#sk-container-id-1 pre{padding: 0;}#sk-container-id-1 div.sk-toggleable {background-color: white;}#sk-container-id-1 label.sk-toggleable__label {cursor: pointer;display: block;width: 100%;margin-bottom: 0;padding: 0.3em;box-sizing: border-box;text-align: center;}#sk-container-id-1 label.sk-toggleable__label-arrow:before {content: \"▸\";float: left;margin-right: 0.25em;color: #696969;}#sk-container-id-1 label.sk-toggleable__label-arrow:hover:before {color: black;}#sk-container-id-1 div.sk-estimator:hover label.sk-toggleable__label-arrow:before {color: black;}#sk-container-id-1 div.sk-toggleable__content {max-height: 0;max-width: 0;overflow: hidden;text-align: left;background-color: #f0f8ff;}#sk-container-id-1 div.sk-toggleable__content pre {margin: 0.2em;color: black;border-radius: 0.25em;background-color: #f0f8ff;}#sk-container-id-1 input.sk-toggleable__control:checked~div.sk-toggleable__content {max-height: 200px;max-width: 100%;overflow: auto;}#sk-container-id-1 input.sk-toggleable__control:checked~label.sk-toggleable__label-arrow:before {content: \"▾\";}#sk-container-id-1 div.sk-estimator input.sk-toggleable__control:checked~label.sk-toggleable__label {background-color: #d4ebff;}#sk-container-id-1 div.sk-label input.sk-toggleable__control:checked~label.sk-toggleable__label {background-color: #d4ebff;}#sk-container-id-1 input.sk-hidden--visually {border: 0;clip: rect(1px 1px 1px 1px);clip: rect(1px, 1px, 1px, 1px);height: 1px;margin: -1px;overflow: hidden;padding: 0;position: absolute;width: 1px;}#sk-container-id-1 div.sk-estimator {font-family: monospace;background-color: #f0f8ff;border: 1px dotted black;border-radius: 0.25em;box-sizing: border-box;margin-bottom: 0.5em;}#sk-container-id-1 div.sk-estimator:hover {background-color: #d4ebff;}#sk-container-id-1 div.sk-parallel-item::after {content: \"\";width: 100%;border-bottom: 1px solid gray;flex-grow: 1;}#sk-container-id-1 div.sk-label:hover label.sk-toggleable__label {background-color: #d4ebff;}#sk-container-id-1 div.sk-serial::before {content: \"\";position: absolute;border-left: 1px solid gray;box-sizing: border-box;top: 0;bottom: 0;left: 50%;z-index: 0;}#sk-container-id-1 div.sk-serial {display: flex;flex-direction: column;align-items: center;background-color: white;padding-right: 0.2em;padding-left: 0.2em;position: relative;}#sk-container-id-1 div.sk-item {position: relative;z-index: 1;}#sk-container-id-1 div.sk-parallel {display: flex;align-items: stretch;justify-content: center;background-color: white;position: relative;}#sk-container-id-1 div.sk-item::before, #sk-container-id-1 div.sk-parallel-item::before {content: \"\";position: absolute;border-left: 1px solid gray;box-sizing: border-box;top: 0;bottom: 0;left: 50%;z-index: -1;}#sk-container-id-1 div.sk-parallel-item {display: flex;flex-direction: column;z-index: 1;position: relative;background-color: white;}#sk-container-id-1 div.sk-parallel-item:first-child::after {align-self: flex-end;width: 50%;}#sk-container-id-1 div.sk-parallel-item:last-child::after {align-self: flex-start;width: 50%;}#sk-container-id-1 div.sk-parallel-item:only-child::after {width: 0;}#sk-container-id-1 div.sk-dashed-wrapped {border: 1px dashed gray;margin: 0 0.4em 0.5em 0.4em;box-sizing: border-box;padding-bottom: 0.4em;background-color: white;}#sk-container-id-1 div.sk-label label {font-family: monospace;font-weight: bold;display: inline-block;line-height: 1.2em;}#sk-container-id-1 div.sk-label-container {text-align: center;}#sk-container-id-1 div.sk-container {/* jupyter's `normalize.less` sets `[hidden] { display: none; }` but bootstrap.min.css set `[hidden] { display: none !important; }` so we also need the `!important` here to be able to override the default hidden behavior on the sphinx rendered scikit-learn.org. See: https://github.com/scikit-learn/scikit-learn/issues/21755 */display: inline-block !important;position: relative;}#sk-container-id-1 div.sk-text-repr-fallback {display: none;}</style><div id=\"sk-container-id-1\" class=\"sk-top-container\"><div class=\"sk-text-repr-fallback\"><pre>LGBMClassifier(boosting_type=&#x27;gbdt&#x27;, class_weight=None, colsample_bytree=1.0,\n",
       "               importance_type=&#x27;split&#x27;, learning_rate=0.1, max_depth=-1,\n",
       "               min_child_samples=20, min_child_weight=0.001, min_split_gain=0.0,\n",
       "               n_estimators=100, n_jobs=None, num_leaves=31, objective=None,\n",
       "               random_state=None, reg_alpha=0.0, reg_lambda=0.0, subsample=1.0,\n",
       "               subsample_for_bin=200000, subsample_freq=0)</pre><b>In a Jupyter environment, please rerun this cell to show the HTML representation or trust the notebook. <br />On GitHub, the HTML representation is unable to render, please try loading this page with nbviewer.org.</b></div><div class=\"sk-container\" hidden><div class=\"sk-item\"><div class=\"sk-estimator sk-toggleable\"><input class=\"sk-toggleable__control sk-hidden--visually\" id=\"sk-estimator-id-1\" type=\"checkbox\" checked><label for=\"sk-estimator-id-1\" class=\"sk-toggleable__label sk-toggleable__label-arrow\">LGBMClassifier</label><div class=\"sk-toggleable__content\"><pre>LGBMClassifier(boosting_type=&#x27;gbdt&#x27;, class_weight=None, colsample_bytree=1.0,\n",
       "               importance_type=&#x27;split&#x27;, learning_rate=0.1, max_depth=-1,\n",
       "               min_child_samples=20, min_child_weight=0.001, min_split_gain=0.0,\n",
       "               n_estimators=100, n_jobs=None, num_leaves=31, objective=None,\n",
       "               random_state=None, reg_alpha=0.0, reg_lambda=0.0, subsample=1.0,\n",
       "               subsample_for_bin=200000, subsample_freq=0)</pre></div></div></div></div></div>"
      ],
      "text/plain": [
       "LGBMClassifier(boosting_type='gbdt', class_weight=None, colsample_bytree=1.0,\n",
       "               importance_type='split', learning_rate=0.1, max_depth=-1,\n",
       "               min_child_samples=20, min_child_weight=0.001, min_split_gain=0.0,\n",
       "               n_estimators=100, n_jobs=None, num_leaves=31, objective=None,\n",
       "               random_state=None, reg_alpha=0.0, reg_lambda=0.0, subsample=1.0,\n",
       "               subsample_for_bin=200000, subsample_freq=0)"
      ]
     },
     "execution_count": 103,
     "metadata": {},
     "output_type": "execute_result"
    }
   ],
   "source": [
    "lgbm.fit(X_train_feat, y_Train)"
   ]
  },
  {
   "cell_type": "code",
   "execution_count": 104,
   "metadata": {},
   "outputs": [],
   "source": [
    "y_pred_lgbm = lgbm.predict(X_Val_feat)"
   ]
  },
  {
   "cell_type": "code",
   "execution_count": 105,
   "metadata": {},
   "outputs": [
    {
     "name": "stdout",
     "output_type": "stream",
     "text": [
      "[LightGBM] [Info] Number of positive: 2981, number of negative: 18190\n",
      "[LightGBM] [Warning] Auto-choosing row-wise multi-threading, the overhead of testing was 0.000921 seconds.\n",
      "You can set `force_row_wise=true` to remove the overhead.\n",
      "And if memory is not enough, you can set `force_col_wise=true`.\n",
      "[LightGBM] [Info] Total Bins 462\n",
      "[LightGBM] [Info] Number of data points in the train set: 21171, number of used features: 49\n",
      "[LightGBM] [Info] [binary:BoostFromScore]: pavg=0.140806 -> initscore=-1.808613\n",
      "[LightGBM] [Info] Start training from score -1.808613\n"
     ]
    },
    {
     "data": {
      "text/html": [
       "<style>#sk-container-id-2 {color: black;background-color: white;}#sk-container-id-2 pre{padding: 0;}#sk-container-id-2 div.sk-toggleable {background-color: white;}#sk-container-id-2 label.sk-toggleable__label {cursor: pointer;display: block;width: 100%;margin-bottom: 0;padding: 0.3em;box-sizing: border-box;text-align: center;}#sk-container-id-2 label.sk-toggleable__label-arrow:before {content: \"▸\";float: left;margin-right: 0.25em;color: #696969;}#sk-container-id-2 label.sk-toggleable__label-arrow:hover:before {color: black;}#sk-container-id-2 div.sk-estimator:hover label.sk-toggleable__label-arrow:before {color: black;}#sk-container-id-2 div.sk-toggleable__content {max-height: 0;max-width: 0;overflow: hidden;text-align: left;background-color: #f0f8ff;}#sk-container-id-2 div.sk-toggleable__content pre {margin: 0.2em;color: black;border-radius: 0.25em;background-color: #f0f8ff;}#sk-container-id-2 input.sk-toggleable__control:checked~div.sk-toggleable__content {max-height: 200px;max-width: 100%;overflow: auto;}#sk-container-id-2 input.sk-toggleable__control:checked~label.sk-toggleable__label-arrow:before {content: \"▾\";}#sk-container-id-2 div.sk-estimator input.sk-toggleable__control:checked~label.sk-toggleable__label {background-color: #d4ebff;}#sk-container-id-2 div.sk-label input.sk-toggleable__control:checked~label.sk-toggleable__label {background-color: #d4ebff;}#sk-container-id-2 input.sk-hidden--visually {border: 0;clip: rect(1px 1px 1px 1px);clip: rect(1px, 1px, 1px, 1px);height: 1px;margin: -1px;overflow: hidden;padding: 0;position: absolute;width: 1px;}#sk-container-id-2 div.sk-estimator {font-family: monospace;background-color: #f0f8ff;border: 1px dotted black;border-radius: 0.25em;box-sizing: border-box;margin-bottom: 0.5em;}#sk-container-id-2 div.sk-estimator:hover {background-color: #d4ebff;}#sk-container-id-2 div.sk-parallel-item::after {content: \"\";width: 100%;border-bottom: 1px solid gray;flex-grow: 1;}#sk-container-id-2 div.sk-label:hover label.sk-toggleable__label {background-color: #d4ebff;}#sk-container-id-2 div.sk-serial::before {content: \"\";position: absolute;border-left: 1px solid gray;box-sizing: border-box;top: 0;bottom: 0;left: 50%;z-index: 0;}#sk-container-id-2 div.sk-serial {display: flex;flex-direction: column;align-items: center;background-color: white;padding-right: 0.2em;padding-left: 0.2em;position: relative;}#sk-container-id-2 div.sk-item {position: relative;z-index: 1;}#sk-container-id-2 div.sk-parallel {display: flex;align-items: stretch;justify-content: center;background-color: white;position: relative;}#sk-container-id-2 div.sk-item::before, #sk-container-id-2 div.sk-parallel-item::before {content: \"\";position: absolute;border-left: 1px solid gray;box-sizing: border-box;top: 0;bottom: 0;left: 50%;z-index: -1;}#sk-container-id-2 div.sk-parallel-item {display: flex;flex-direction: column;z-index: 1;position: relative;background-color: white;}#sk-container-id-2 div.sk-parallel-item:first-child::after {align-self: flex-end;width: 50%;}#sk-container-id-2 div.sk-parallel-item:last-child::after {align-self: flex-start;width: 50%;}#sk-container-id-2 div.sk-parallel-item:only-child::after {width: 0;}#sk-container-id-2 div.sk-dashed-wrapped {border: 1px dashed gray;margin: 0 0.4em 0.5em 0.4em;box-sizing: border-box;padding-bottom: 0.4em;background-color: white;}#sk-container-id-2 div.sk-label label {font-family: monospace;font-weight: bold;display: inline-block;line-height: 1.2em;}#sk-container-id-2 div.sk-label-container {text-align: center;}#sk-container-id-2 div.sk-container {/* jupyter's `normalize.less` sets `[hidden] { display: none; }` but bootstrap.min.css set `[hidden] { display: none !important; }` so we also need the `!important` here to be able to override the default hidden behavior on the sphinx rendered scikit-learn.org. See: https://github.com/scikit-learn/scikit-learn/issues/21755 */display: inline-block !important;position: relative;}#sk-container-id-2 div.sk-text-repr-fallback {display: none;}</style><div id=\"sk-container-id-2\" class=\"sk-top-container\"><div class=\"sk-text-repr-fallback\"><pre>LGBMClassifier(boosting_type=&#x27;gbdt&#x27;, class_weight=None, colsample_bytree=1.0,\n",
       "               importance_type=&#x27;split&#x27;, learning_rate=0.1, max_depth=-1,\n",
       "               min_child_samples=20, min_child_weight=0.001, min_split_gain=0.0,\n",
       "               n_estimators=100, n_jobs=None, num_leaves=31, objective=None,\n",
       "               random_state=None, reg_alpha=0.0, reg_lambda=0.0, subsample=1.0,\n",
       "               subsample_for_bin=200000, subsample_freq=0)</pre><b>In a Jupyter environment, please rerun this cell to show the HTML representation or trust the notebook. <br />On GitHub, the HTML representation is unable to render, please try loading this page with nbviewer.org.</b></div><div class=\"sk-container\" hidden><div class=\"sk-item\"><div class=\"sk-estimator sk-toggleable\"><input class=\"sk-toggleable__control sk-hidden--visually\" id=\"sk-estimator-id-2\" type=\"checkbox\" checked><label for=\"sk-estimator-id-2\" class=\"sk-toggleable__label sk-toggleable__label-arrow\">LGBMClassifier</label><div class=\"sk-toggleable__content\"><pre>LGBMClassifier(boosting_type=&#x27;gbdt&#x27;, class_weight=None, colsample_bytree=1.0,\n",
       "               importance_type=&#x27;split&#x27;, learning_rate=0.1, max_depth=-1,\n",
       "               min_child_samples=20, min_child_weight=0.001, min_split_gain=0.0,\n",
       "               n_estimators=100, n_jobs=None, num_leaves=31, objective=None,\n",
       "               random_state=None, reg_alpha=0.0, reg_lambda=0.0, subsample=1.0,\n",
       "               subsample_for_bin=200000, subsample_freq=0)</pre></div></div></div></div></div>"
      ],
      "text/plain": [
       "LGBMClassifier(boosting_type='gbdt', class_weight=None, colsample_bytree=1.0,\n",
       "               importance_type='split', learning_rate=0.1, max_depth=-1,\n",
       "               min_child_samples=20, min_child_weight=0.001, min_split_gain=0.0,\n",
       "               n_estimators=100, n_jobs=None, num_leaves=31, objective=None,\n",
       "               random_state=None, reg_alpha=0.0, reg_lambda=0.0, subsample=1.0,\n",
       "               subsample_for_bin=200000, subsample_freq=0)"
      ]
     },
     "execution_count": 105,
     "metadata": {},
     "output_type": "execute_result"
    }
   ],
   "source": [
    "lgbm.fit(X_train_feat, y_Train)"
   ]
  },
  {
   "cell_type": "code",
   "execution_count": 106,
   "metadata": {},
   "outputs": [
    {
     "name": "stdout",
     "output_type": "stream",
     "text": [
      "[AutoFeat] Computing 13 new features.\n",
      "[AutoFeat]    13/   13 new features ...done.\n"
     ]
    }
   ],
   "source": [
    "comp_feat = afc.transform(processed_test)"
   ]
  },
  {
   "cell_type": "code",
   "execution_count": 107,
   "metadata": {},
   "outputs": [],
   "source": [
    "submission_pred = lgbm.predict(comp_feat)"
   ]
  },
  {
   "cell_type": "code",
   "execution_count": 108,
   "metadata": {},
   "outputs": [],
   "source": [
    "# Create submission DataFrame\n",
    "submission = pd.DataFrame({\"uniqueid\": comp_pred[\"uniqueid\"] + \" x \" + comp_pred[\"country\"],\n",
    "                           \"bank_account\": submission_pred})"
   ]
  },
  {
   "cell_type": "code",
   "execution_count": 109,
   "metadata": {},
   "outputs": [
    {
     "data": {
      "text/html": [
       "<div>\n",
       "<style scoped>\n",
       "    .dataframe tbody tr th:only-of-type {\n",
       "        vertical-align: middle;\n",
       "    }\n",
       "\n",
       "    .dataframe tbody tr th {\n",
       "        vertical-align: top;\n",
       "    }\n",
       "\n",
       "    .dataframe thead th {\n",
       "        text-align: right;\n",
       "    }\n",
       "</style>\n",
       "<table border=\"1\" class=\"dataframe\">\n",
       "  <thead>\n",
       "    <tr style=\"text-align: right;\">\n",
       "      <th></th>\n",
       "      <th>uniqueid</th>\n",
       "      <th>bank_account</th>\n",
       "    </tr>\n",
       "  </thead>\n",
       "  <tbody>\n",
       "    <tr>\n",
       "      <th>2086</th>\n",
       "      <td>uniqueid_8155 x Kenya</td>\n",
       "      <td>0</td>\n",
       "    </tr>\n",
       "    <tr>\n",
       "      <th>6075</th>\n",
       "      <td>uniqueid_12210 x Rwanda</td>\n",
       "      <td>0</td>\n",
       "    </tr>\n",
       "    <tr>\n",
       "      <th>5412</th>\n",
       "      <td>uniqueid_11547 x Rwanda</td>\n",
       "      <td>0</td>\n",
       "    </tr>\n",
       "    <tr>\n",
       "      <th>2126</th>\n",
       "      <td>uniqueid_8195 x Kenya</td>\n",
       "      <td>0</td>\n",
       "    </tr>\n",
       "    <tr>\n",
       "      <th>5656</th>\n",
       "      <td>uniqueid_11791 x Rwanda</td>\n",
       "      <td>0</td>\n",
       "    </tr>\n",
       "  </tbody>\n",
       "</table>\n",
       "</div>"
      ],
      "text/plain": [
       "                     uniqueid  bank_account\n",
       "2086    uniqueid_8155 x Kenya             0\n",
       "6075  uniqueid_12210 x Rwanda             0\n",
       "5412  uniqueid_11547 x Rwanda             0\n",
       "2126    uniqueid_8195 x Kenya             0\n",
       "5656  uniqueid_11791 x Rwanda             0"
      ]
     },
     "execution_count": 109,
     "metadata": {},
     "output_type": "execute_result"
    }
   ],
   "source": [
    "submission.sample(5)"
   ]
  },
  {
   "cell_type": "code",
   "execution_count": 110,
   "metadata": {},
   "outputs": [],
   "source": [
    "submission.to_csv('Ben_submission.csv', index = False)"
   ]
  }
 ],
 "metadata": {
  "colab": {
   "collapsed_sections": [],
   "name": "StarterNotebook.ipynb",
   "provenance": [],
   "toc_visible": true
  },
  "kernelspec": {
   "display_name": "Python 3 (ipykernel)",
   "language": "python",
   "name": "python3"
  },
  "language_info": {
   "codemirror_mode": {
    "name": "ipython",
    "version": 3
   },
   "file_extension": ".py",
   "mimetype": "text/x-python",
   "name": "python",
   "nbconvert_exporter": "python",
   "pygments_lexer": "ipython3",
   "version": "3.10.0"
  }
 },
 "nbformat": 4,
 "nbformat_minor": 1
}
